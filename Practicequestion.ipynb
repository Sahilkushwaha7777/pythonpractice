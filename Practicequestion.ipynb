{
  "cells": [
    {
      "cell_type": "markdown",
      "metadata": {
        "id": "view-in-github",
        "colab_type": "text"
      },
      "source": [
        "<a href=\"https://colab.research.google.com/github/Sahilkushwaha7777/pythonpractice/blob/main/Practicequestion.ipynb\" target=\"_parent\"><img src=\"https://colab.research.google.com/assets/colab-badge.svg\" alt=\"Open In Colab\"/></a>"
      ]
    },
    {
      "cell_type": "markdown",
      "metadata": {
        "id": "TUAl6OukKsHo"
      },
      "source": [
        "Question 1:\n",
        "\n",
        "Imagine you are working on a customer management system, and you have first name and last name of a customer storedas separate variable, you are developing a customer management system for a retail store, In your database, you have the first name and last name of a customer stored as seperate variable: first_name=\"john\" and last_name=\"Doe\". how would you concatenate these strings to form the full name \"john Doe\" for the customer's profile"
      ]
    },
    {
      "cell_type": "code",
      "execution_count": null,
      "metadata": {
        "colab": {
          "base_uri": "https://localhost:8080/"
        },
        "id": "zP-ERAuLKPuw",
        "outputId": "72375207-e4ce-4f3d-f605-40be2acbea30"
      },
      "outputs": [
        {
          "name": "stdout",
          "output_type": "stream",
          "text": [
            "john Doe\n"
          ]
        }
      ],
      "source": [
        "first_name= \"john\"\n",
        "last_name= \"Doe\"\n",
        "\n",
        "full_name= first_name+ \" \"+ last_name\n",
        "print(full_name)"
      ]
    },
    {
      "cell_type": "markdown",
      "metadata": {
        "id": "OCTAiqb1NYMc"
      },
      "source": [
        "Question 2:\n",
        "\n",
        "you have a variable with X with the value 5. How would you reassign X to have the value 10?"
      ]
    },
    {
      "cell_type": "code",
      "execution_count": null,
      "metadata": {
        "colab": {
          "base_uri": "https://localhost:8080/"
        },
        "id": "xDsvebVxNsNg",
        "outputId": "3e563110-14ce-4019-b37a-45a58415c5da"
      },
      "outputs": [
        {
          "name": "stdout",
          "output_type": "stream",
          "text": [
            "before reassign = 5\n",
            "after reassign = 10\n"
          ]
        }
      ],
      "source": [
        "x=5\n",
        "print(\"before reassign =\", x)\n",
        "\n",
        "x=10\n",
        "print(\"after reassign =\", x)\n"
      ]
    },
    {
      "cell_type": "markdown",
      "metadata": {
        "id": "3iUacHE6U5I4"
      },
      "source": [
        "Question 3:\n",
        "\n",
        "You have a data containing two record: \"quantity\" and \"price per unit\". how would you use arithmetic operator to calculate the total cost for each item , also calculate the total cost? product_1, quantity-5, price_per_unit-rs250, product_2, quantity - 25, price per unit -rs 656, product_3, quantity - 34, price_per_unit - rs274"
      ]
    },
    {
      "cell_type": "code",
      "execution_count": null,
      "metadata": {
        "colab": {
          "base_uri": "https://localhost:8080/"
        },
        "id": "QISCrfamWEXD",
        "outputId": "bc09d9d4-a0c2-493e-8bfb-7c1345117c70"
      },
      "outputs": [
        {
          "name": "stdout",
          "output_type": "stream",
          "text": [
            "total cost for product 1st : 1250 rs\n",
            "total cost for product 1st : 16400 rs\n",
            "total cost for product 1st : 9316 rs\n",
            "total cost custumer pay : 26966 rs\n"
          ]
        }
      ],
      "source": [
        "#product_1\n",
        "quantity = 5\n",
        "price_per_unit = 250\n",
        "product_1 = quantity * price_per_unit\n",
        "print(\"total cost for product 1st :\",product_1 ,\"rs\")\n",
        "\n",
        "#product_2\n",
        "quantity = 25\n",
        "price_per_unit = 656\n",
        "product_2 = quantity * price_per_unit\n",
        "print(\"total cost for product 1st :\",product_2 ,\"rs\")\n",
        "\n",
        "#product_3\n",
        "quantity = 34\n",
        "price_per_unit = 274\n",
        "product_3 = quantity * price_per_unit\n",
        "print(\"total cost for product 1st :\",product_3 ,\"rs\")\n",
        "\n",
        "\n",
        "print(\"total cost custumer pay :\", product_1 + product_2 + product_3 ,\"rs\")"
      ]
    },
    {
      "cell_type": "markdown",
      "metadata": {
        "id": "oPxP6vVVYDQc"
      },
      "source": [
        "Queation 4:\n",
        "\n",
        "In a finance based organisation, the task is to calculate the simple interest given the principal amount, interest rate, and time priod. the interst rate is 8%, the principal amount is Rs 15,00,000, and the time period is 3 years. Calculate the simple interest. also, the threshold amount is Rs 1,20,000. please check if the calculated interest is greater  or less than the threshold amount."
      ]
    },
    {
      "cell_type": "code",
      "execution_count": null,
      "metadata": {
        "colab": {
          "base_uri": "https://localhost:8080/"
        },
        "id": "FO8zEfNsZG0p",
        "outputId": "39a653ae-c183-4ef2-cbbb-aef1e48e9cc1"
      },
      "outputs": [
        {
          "name": "stdout",
          "output_type": "stream",
          "text": [
            "simple interest:  360000.0\n",
            "threshold amount less is True\n"
          ]
        }
      ],
      "source": [
        "interest_rate = 8\n",
        "principal_amount = 1500000\n",
        "time_period =3\n",
        "\n",
        "simple_interest = (interest_rate * principal_amount * time_period)/100\n",
        "\n",
        "print(\"simple interest: \", simple_interest)\n",
        "\n",
        "threshold_amount = 120000\n",
        "comparison = threshold_amount < simple_interest\n",
        "print(\"threshold amount less is\", comparison)"
      ]
    },
    {
      "cell_type": "markdown",
      "metadata": {
        "id": "xd6xfzncbu2_"
      },
      "source": [
        "Question 5:\n",
        "\n",
        "Write a python program to calculate the area of circle with a radius of 12cm"
      ]
    },
    {
      "cell_type": "code",
      "execution_count": null,
      "metadata": {
        "colab": {
          "base_uri": "https://localhost:8080/"
        },
        "id": "Du9UyZU0cFt4",
        "outputId": "f7814316-626c-4996-bb4d-6318b74cf2ca"
      },
      "outputs": [
        {
          "name": "stdout",
          "output_type": "stream",
          "text": [
            "area of circle :  452.15999999999997\n"
          ]
        }
      ],
      "source": [
        "pi = 3.14\n",
        "rad = 12\n",
        "print(\"area of circle : \", pi * rad * rad)"
      ]
    },
    {
      "cell_type": "markdown",
      "metadata": {
        "id": "LhU2c6aAIQ70"
      },
      "source": [
        "Question 6:\n",
        "\n",
        "In a game application , the player score is stored as afloating point number. however, for leaderboard display, you need to convert the score to an integer, How would you use the int() function to convert the player 's score from floating-point to integer format? pls solve this with code, player score = 1234.455"
      ]
    },
    {
      "cell_type": "code",
      "execution_count": null,
      "metadata": {
        "colab": {
          "base_uri": "https://localhost:8080/"
        },
        "id": "P19hdrNNJHIz",
        "outputId": "2a51a292-783c-48f6-e27b-c6d81858a5cb"
      },
      "outputs": [
        {
          "name": "stdout",
          "output_type": "stream",
          "text": [
            "the player score is 1234\n"
          ]
        }
      ],
      "source": [
        "player_score = 1234.455\n",
        "print(\"the player score is\", int(player_score))"
      ]
    },
    {
      "cell_type": "markdown",
      "metadata": {
        "id": "rSTDKgyvJn60"
      },
      "source": [
        "Question 7:\n",
        "\n",
        "In a customer relationship management (CRM) system for a retail company, you have a database containing customer record. How would you  use the len() function to find the total number of customers in the database, allowing the company to track its customer base?\n",
        "\n",
        "\n",
        "customer_database = [\n",
        "    (1, 'john', 'john@example.com'),\n",
        "    (2, 'ram', 'ram@example.com'),\n",
        "    (3, 'shyam', 'shyam@example.com')\n",
        "                ]"
      ]
    },
    {
      "cell_type": "code",
      "execution_count": null,
      "metadata": {
        "colab": {
          "base_uri": "https://localhost:8080/"
        },
        "id": "MNvn_85gLlR7",
        "outputId": "9c35f7d9-1417-440a-99df-57afc579536f"
      },
      "outputs": [
        {
          "name": "stdout",
          "output_type": "stream",
          "text": [
            "total number of customer is 3\n"
          ]
        }
      ],
      "source": [
        "customer_database = [\n",
        "    (1, 'john', 'john@example.com'),\n",
        "    (2, 'ram', 'ram@example.com'),\n",
        "    (3, 'shyam', 'shyam@example.com')\n",
        "     ]\n",
        "print(\"total number of customer is\",len(customer_database))"
      ]
    },
    {
      "cell_type": "markdown",
      "metadata": {
        "id": "gjhvGc2wMMzG"
      },
      "source": [
        "Question 8:\n",
        "\n",
        "In a finance based organisation, the task is to calculate the simple interest given the principal amount, interest rate, and time priod. the interst rate is 9.43567%, the principal amount is Rs 250,000, and the time period is 3 years. Calculate the simple interest. the final value should be an integer."
      ]
    },
    {
      "cell_type": "code",
      "execution_count": null,
      "metadata": {
        "colab": {
          "base_uri": "https://localhost:8080/"
        },
        "id": "yjtAQkAFMb1x",
        "outputId": "210c3fe7-6d9a-4bc5-8aef-f9f1fcdd3c0f"
      },
      "outputs": [
        {
          "name": "stdout",
          "output_type": "stream",
          "text": [
            "the simple interest is 70767\n"
          ]
        }
      ],
      "source": [
        "p_amount = 250000\n",
        "i_rate = 9.43567\n",
        "t_period = 3\n",
        "\n",
        "simple_interest = (p_amount * i_rate * t_period)/100\n",
        "print(\"the simple interest is\", int(simple_interest))"
      ]
    },
    {
      "cell_type": "markdown",
      "metadata": {
        "id": "Cqo67_FabMCk"
      },
      "source": [
        "Question 9:\n",
        "\n",
        "As part of your role in a data-driven project, you need to take input from the user for their age, weight, and height. However, there's an issue: the user has entered their age as a negative number. You need to correct the age of the user, and after correcting the age, calculate their Basal Metabolic Rate (BMR) using the Harris-Benedict equation for men. Ensure that the final answer of BMR is an integer.\n",
        "\n",
        "Basal Metabolic Rate (BMR):\n",
        "\n",
        "Formula (Harris-Benedict equation for men):\n",
        "\n",
        "BMR = 88.362 + (13.397 * weight in kg) + (4.799* height in cm) - (5.677 * age in years)"
      ]
    },
    {
      "cell_type": "code",
      "execution_count": null,
      "metadata": {
        "colab": {
          "base_uri": "https://localhost:8080/"
        },
        "id": "2a7gEV7HbTwi",
        "outputId": "078bdc2c-1b74-4226-b84a-63f602354b1d"
      },
      "outputs": [
        {
          "name": "stdout",
          "output_type": "stream",
          "text": [
            "enter your age in year : -20\n",
            "enter your weight in kg : 54\n",
            "enter your height in cm : 179\n",
            "BMR 1784\n"
          ]
        }
      ],
      "source": [
        "age=int(input(\"enter your age in year : \"))\n",
        "weight= int(input(\"enter your weight in kg : \"))\n",
        "height= int(input(\"enter your height in cm : \"))\n",
        "correct_age=abs(age)\n",
        "BMR = 88.362 + (13.397 * weight) + (4.799 * height) - (5.677 * age )\n",
        "print(\"BMR\",int(BMR))"
      ]
    },
    {
      "cell_type": "markdown",
      "metadata": {
        "id": "Sy9gN9PPflOX"
      },
      "source": [
        "Question 10:\n",
        "\n",
        "write a python code for hostel students, ask them to mention their course name and age. for 5 students and their avg age."
      ]
    },
    {
      "cell_type": "code",
      "execution_count": null,
      "metadata": {
        "colab": {
          "base_uri": "https://localhost:8080/"
        },
        "id": "zeqk4EbJf-vL",
        "outputId": "940931f6-c749-43ae-bd6a-bcd84bb0d09e"
      },
      "outputs": [
        {
          "name": "stdout",
          "output_type": "stream",
          "text": [
            "enter your name : sahil\n",
            "enter course name : sahil\n",
            "enter your age in year : 23\n",
            "enter your name : dshai\n",
            "enter course name : sdfgd\n",
            "enter your age in year :34\n",
            "enter your name : wddfs\n",
            "enter course name : sfd\n",
            "enter your age in year : 34\n",
            "enter your name : fdvds\n",
            "enter course name : fdvvds\n",
            "enter your age in year : 11\n",
            "enter your name : dscds\n",
            "enter course name : sd c\n",
            "enter your age in year : 30\n",
            "average age of 5 studen:  26.4\n"
          ]
        }
      ],
      "source": [
        "name1 = input(\"enter your name : \")\n",
        "course1 = input(\"enter course name : \")\n",
        "age1 = int(input(\"enter your age in year : \"))\n",
        "\n",
        "name2 = input(\"enter your name : \")\n",
        "course2 = input(\"enter course name : \")\n",
        "age2 = int(input(\"enter your age in year :\"))\n",
        "\n",
        "name3 = input(\"enter your name : \")\n",
        "course3 = input(\"enter course name : \")\n",
        "age3 = int(input(\"enter your age in year : \"))\n",
        "name4 = input(\"enter your name : \")\n",
        "course4 = input(\"enter course name : \")\n",
        "age4 = int(input(\"enter your age in year : \"))\n",
        "\n",
        "name5 = input(\"enter your name : \")\n",
        "course5 = input(\"enter course name : \")\n",
        "age5 = int(input(\"enter your age in year : \"))\n",
        "\n",
        "avg_age = (age1 + age2 + age3 + age4 +age5)/5\n",
        "print(\"average age of 5 studen: \", avg_age)"
      ]
    },
    {
      "cell_type": "markdown",
      "metadata": {
        "id": "8054DBKNtjmA"
      },
      "source": [
        "Question 11:\n",
        "\n",
        "You are developing a program for a math competition where participants need to solve mathematical expressions and provide the result.\n",
        "You want to use Python to automate the evaluation process.\n",
        "Here's how you could approach it:\n",
        "\n",
        "1) Take input from the participant to enter a mathematical expression\n",
        "\n",
        "2) evaluate the expression entered by the participant and obtain the result.\n",
        "\n",
        "3) Display the result to the participant."
      ]
    },
    {
      "cell_type": "code",
      "execution_count": null,
      "metadata": {
        "colab": {
          "base_uri": "https://localhost:8080/"
        },
        "id": "8ekEj2T6trf5",
        "outputId": "40a6d483-9dbf-44be-eee2-565f322f65aa"
      },
      "outputs": [
        {
          "name": "stdout",
          "output_type": "stream",
          "text": [
            "enter your mathematical expression : 2 * 7 + 10\n",
            "the result of expression is :  24\n",
            "partcipate END\n"
          ]
        }
      ],
      "source": [
        "math_expression = input(\"enter your mathematical expression : \")\n",
        "solve =  eval(math_expression)\n",
        "print(\"the result of expression is : \",solve)\n",
        "print(\"partcipate END\")"
      ]
    },
    {
      "cell_type": "markdown",
      "metadata": {
        "id": "KHpCX-hrvpSC"
      },
      "source": [
        "Question 12:\n",
        "\n",
        "Suppose you're analyzing a dataset containing information about house prices in a city. Each record includes details such as the house size (inquare feet), number of bedrooms, and price. You want to perform various calculations and manipulations on this dataset using Python.\n",
        "\n",
        "Answer the following questions:\n",
        "\n",
        "1) Ask the user 1 & 2 to enter house size, number of rooms they want and Check the data type user has entered\n",
        "\n",
        "2) Calculate the price of house, if per sq feet is Rs 5000.\n",
        "\n",
        "3) Threshold price is 75 lakh Rs, which user is paying the price above threshold price."
      ]
    },
    {
      "cell_type": "code",
      "execution_count": null,
      "metadata": {
        "colab": {
          "base_uri": "https://localhost:8080/"
        },
        "id": "zCyhB7exwA7r",
        "outputId": "64153952-5ca5-48aa-fe3b-7b1a996fd682"
      },
      "outputs": [
        {
          "name": "stdout",
          "output_type": "stream",
          "text": [
            "enter house size user_1 in sq_feet : 5000\n",
            "enter no. of room user_1 : 34\n",
            "housesize data type : <class 'float'>\n",
            "calculate price is 25000000.0\n",
            "the price is above the threshold price :  True\n",
            "enter house size user_2 in sq_feet : 300\n",
            "enter no. of room user_2 : 34\n",
            "no.of room data type : <class 'int'>\n",
            "calculate price is 1500000.0\n",
            "the price is above the threshold price :  False\n"
          ]
        }
      ],
      "source": [
        "#user_1\n",
        "\n",
        "house_size = float(input(\"enter house size user_1 in sq_feet : \"))\n",
        "no_of_room = int(input(\"enter no. of room user_1 : \"))\n",
        "print(\"housesize data type :\",type(house_size))\n",
        "calculate_price = house_size * 5000\n",
        "print(\"calculate price is\",calculate_price)\n",
        "threshold = 7500000\n",
        "check = calculate_price > threshold\n",
        "print(\"the price is above the threshold price : \",check)\n",
        "\n",
        "#user_2\n",
        "house_size_2 = float(input(\"enter house size user_2 in sq_feet : \"))\n",
        "no_of_room_2 = int(input(\"enter no. of room user_2 : \"))\n",
        "print(\"no.of room data type :\",type(no_of_room_2))\n",
        "calculate_price = house_size_2 * 5000\n",
        "print(\"calculate price is\",calculate_price)\n",
        "check = calculate_price > threshold\n",
        "print(\"the price is above the threshold price : \",check)"
      ]
    },
    {
      "cell_type": "markdown",
      "metadata": {
        "id": "0UhLSaQOo4AV"
      },
      "source": [
        "Question 13:\n",
        "\n",
        "You are working on a project to analyze stock market data. Create variables to store the stock symbol, current price, and percentage change in price. Then, calculate the new price after a 10% increase using arithmetic operators. Finally, prompt the user to enter their budget using the input() function, convert it to a float using the float() function, and compare it with the new price."
      ]
    },
    {
      "cell_type": "code",
      "execution_count": null,
      "metadata": {
        "colab": {
          "base_uri": "https://localhost:8080/"
        },
        "id": "eSvFU3MIp5Bo",
        "outputId": "3636d338-62bd-43c7-e24c-487c55f5cb86"
      },
      "outputs": [
        {
          "name": "stdout",
          "output_type": "stream",
          "text": [
            "current price is 100\n",
            "new price after :  110.00000000000001\n",
            "enter your budget : 344\n",
            "new price above the user budget :  False\n"
          ]
        }
      ],
      "source": [
        "stock_symbol = \"nifty\"\n",
        "current_price = 100\n",
        "chng_percentage = 10\n",
        "print(\"current price is\",current_price)\n",
        "\n",
        "new_price = (10/100+1)*current_price\n",
        "print(\"new price after : \",new_price)\n",
        "\n",
        "user_budget = input(\"enter your budget : \")\n",
        "abudget = float(user_budget)\n",
        "print(\"new price above the user budget : \",new_price >abudget)"
      ]
    },
    {
      "cell_type": "markdown",
      "metadata": {
        "id": "lIcTCruFsZo8"
      },
      "source": [
        "Question 14:\n",
        "\n",
        "You are working on a project to analyze weather data.\n",
        "\n",
        "Create variables to store the current temperature,\n",
        "the minimum temperature recorded, and the maximum temperature recorded.\n",
        "\n",
        "Determine whether the current temperature is within the range of the minimum and maximum temperatures\n",
        "recorded using logical operators"
      ]
    },
    {
      "cell_type": "code",
      "execution_count": null,
      "metadata": {
        "colab": {
          "base_uri": "https://localhost:8080/"
        },
        "id": "BnWKj6ewsoJ9",
        "outputId": "20a13d68-d6da-4635-da7d-6f1ee337ac9a"
      },
      "outputs": [
        {
          "name": "stdout",
          "output_type": "stream",
          "text": [
            "enter the current temperature is : 23\n",
            "the temperature in our range :  True\n"
          ]
        }
      ],
      "source": [
        "current_temp = int(input(\"enter the current temperature is : \"))\n",
        "minimum_temp = 15\n",
        "maximum_temp = 110\n",
        "\n",
        "check = minimum_temp < current_temp < maximum_temp\n",
        "\n",
        "print('the temperature in our range : ',check)"
      ]
    },
    {
      "cell_type": "markdown",
      "metadata": {
        "id": "fw18B9yvuWjd"
      },
      "source": [
        "Question 15:\n",
        "\n",
        "Develop a temperature converter in Python for a cold storage that converts temperatures between Celsius and Fahrenheit scales.\n",
        "\n",
        "The program should take a temperature value and a unit (C or F) as input. If the temperature is less than 15 degrees Celsius, inform the user\n",
        "\n",
        "that the temperature is not convenient. If the temperature is between 24 to 28 degrees Celsius, inform the user that the temperature is convenient."
      ]
    },
    {
      "cell_type": "code",
      "execution_count": null,
      "metadata": {
        "colab": {
          "base_uri": "https://localhost:8080/"
        },
        "id": "BcN8vcej7wEd",
        "outputId": "5e794977-c740-4716-dc1c-1c7c53492e55"
      },
      "outputs": [
        {
          "name": "stdout",
          "output_type": "stream",
          "text": [
            "enter the temperature : 12\n",
            "the temperature is not convenient\n"
          ]
        }
      ],
      "source": [
        "temp = float(input(\"enter the temperature : \"))\n",
        "if temp<15:\n",
        "  print(\"the temperature is not convenient\")\n",
        "if 24<=temp<=28:\n",
        "  print(\"the temperature is convenient\")"
      ]
    },
    {
      "cell_type": "markdown",
      "metadata": {
        "id": "Gl4qSk249Pg1"
      },
      "source": [
        "Question 15 :\n",
        "\n",
        "Write a program to check whether a person is eligible for voting or not"
      ]
    },
    {
      "cell_type": "code",
      "execution_count": null,
      "metadata": {
        "colab": {
          "base_uri": "https://localhost:8080/"
        },
        "id": "66enuqGF9XIY",
        "outputId": "4b22d9cf-b766-4ab8-8381-bbcb0cbf3877"
      },
      "outputs": [
        {
          "name": "stdout",
          "output_type": "stream",
          "text": [
            "enter your age : 12\n",
            "you are not eligible for vote\n"
          ]
        }
      ],
      "source": [
        "age = int(input(\"enter your age : \"))\n",
        "if age<18:\n",
        "  print(\"you are not eligible for vote\")\n",
        "else:\n",
        "  print(\"you are eligible for vote\")"
      ]
    },
    {
      "cell_type": "markdown",
      "metadata": {
        "id": "yMh-gwG-97qY"
      },
      "source": [
        "Question 16:\n",
        "\n",
        "You are tasked with developing a Python program to manage employee salaries for a company. Your program should calculate the net salary of each employee based on their base salary, deductions, and bonuses. Additionally, employees who have been with the company for more than 5 years are eligible for an additional loyalty bonus, 8% of salary. Deductions of tax will be 12%\n",
        "\n",
        "Write a Python script that prompts the user to input the following information for each employee:\n",
        "\n",
        "Base salary\n",
        "\n",
        "Years of service\n",
        "\n",
        "After calculating the net salary, the program should print a summary for each employee including their base salary, deductions, bonuses, loyalty bonus (if applicable), and net salary."
      ]
    },
    {
      "cell_type": "code",
      "execution_count": null,
      "metadata": {
        "colab": {
          "base_uri": "https://localhost:8080/"
        },
        "id": "NZyQP6Ku-D4r",
        "outputId": "871ef4bc-6ab9-4b56-c958-2499c4555a4a"
      },
      "outputs": [
        {
          "name": "stdout",
          "output_type": "stream",
          "text": [
            "enter the employe name :sahil kushwaha\n",
            "enter the base salary : 500000\n",
            "enter how many years to work this company :3\n",
            "employe name is  sahil kushwaha\n",
            "its base salary is  500000\n",
            " and loyalty bonus  0\n",
            "tax which applied on the salary 60000.0\n",
            "final in hand salary is  440000.0\n"
          ]
        }
      ],
      "source": [
        "employe = input(\"enter the employe name :\")\n",
        "base_salary = int(input(\"enter the base salary : \"))\n",
        "year = int(input(\"enter how many years to work this company :\"))\n",
        "if year > 5:\n",
        "  loyalty_bonus = (base_salary/100)*8\n",
        "  total_salary = base_salary + loyalty_bonus\n",
        "  tax = (total_salary/100)*12\n",
        "  net_salary = total_salary - tax\n",
        "else:\n",
        "  loyalty_bonus = 0\n",
        "  total_salary = base_salary + loyalty_bonus\n",
        "  tax = (total_salary/100)*12\n",
        "  net_salary = total_salary - tax\n",
        "print(\"employe name is \", employe)\n",
        "print(\"its base salary is \",base_salary)\n",
        "print(\" and loyalty bonus \",loyalty_bonus)\n",
        "print(\"tax which applied on the salary\" ,tax)\n",
        "print(\"final in hand salary is \", net_salary)"
      ]
    },
    {
      "cell_type": "markdown",
      "metadata": {
        "id": "9CYOBGm2-Wlg"
      },
      "source": [
        "Question 17:\n",
        "\n",
        "Write a Python program that prompts the user to input a city and displays the famous monument of that city.\n",
        "\n",
        "Mumbai: Gateway of India\n",
        "\n",
        "Kolkata: Victoria Memorial\n",
        "\n",
        "Chennai: Marina Beach\n",
        "\n",
        "Bangalore: Botanical Garden\n",
        "\n",
        "Pune: Shaniwar Wada\n",
        "\n",
        "Write a Python script to implement this functionality."
      ]
    },
    {
      "cell_type": "code",
      "execution_count": null,
      "metadata": {
        "colab": {
          "base_uri": "https://localhost:8080/"
        },
        "id": "63CX9dbn-dDF",
        "outputId": "caa913f0-351a-44a1-b452-312fbd5956e3"
      },
      "outputs": [
        {
          "name": "stdout",
          "output_type": "stream",
          "text": [
            "enter the no. which city you want to visit\n",
            "1 FOR Mumbai:\n",
            "2 FOR Kolkata:\n",
            "3 FOR Chennai:\n",
            "4 FOR Bangalore:\n",
            "5 FOR Pune: : 4\n",
            "-------------------------\n",
            "Bangalore: Botanical Garden\n"
          ]
        }
      ],
      "source": [
        "a = int(input(\"\"\"enter the no. which city you want to visit\n",
        "1 FOR Mumbai:\n",
        "2 FOR Kolkata:\n",
        "3 FOR Chennai:\n",
        "4 FOR Bangalore:\n",
        "5 FOR Pune: : \"\"\"))\n",
        "print(\"-------------------------\")\n",
        "if a == 1:\n",
        "  print(\"Mumbai: Gateway of India\")\n",
        "elif a==2:\n",
        "  print(\"Kolkata: Victoria Memorial\")\n",
        "elif a==3:\n",
        "  print(\"Chennai: Marina Beach\")\n",
        "elif a==4:\n",
        "  print(\"Bangalore: Botanical Garden\")\n",
        "elif a==5:\n",
        "  print(\"Pune: Shaniwar Wada\")\n",
        "else:\n",
        "  print(\"invalid entry\")"
      ]
    },
    {
      "cell_type": "markdown",
      "metadata": {
        "id": "TSkcXZsg-d5K"
      },
      "source": [
        "Question 18:\n",
        "\n",
        "Write a Python program to print all the even numbers between 1 and 50 using a while loop"
      ]
    },
    {
      "cell_type": "code",
      "execution_count": null,
      "metadata": {
        "colab": {
          "base_uri": "https://localhost:8080/"
        },
        "id": "8zKHBCmJ-jWi",
        "outputId": "450ef64b-9066-4625-dc64-fe1a93ea25fa"
      },
      "outputs": [
        {
          "name": "stdout",
          "output_type": "stream",
          "text": [
            "2\n",
            "4\n",
            "6\n",
            "8\n",
            "10\n",
            "12\n",
            "14\n",
            "16\n",
            "18\n",
            "20\n",
            "22\n",
            "24\n",
            "26\n",
            "28\n",
            "30\n",
            "32\n",
            "34\n",
            "36\n",
            "38\n",
            "40\n",
            "42\n",
            "44\n",
            "46\n",
            "48\n",
            "50\n"
          ]
        }
      ],
      "source": [
        "for i in range(1,51):\n",
        "  if(i%2==0):\n",
        "     print(i)"
      ]
    },
    {
      "cell_type": "markdown",
      "metadata": {
        "id": "xIXL_CBB-kAc"
      },
      "source": [
        "Question 19:\n",
        "\n",
        "You are tasked with validating user input for email addresses. Write a Python program that prompts the user to enter an email address. Use a while loop to iterate through the input and check if the email address contains an \"@\" symbol and a \".\" symbol. If the email address does not meet these criteria, print \"Invalid email address format. Please try again.\" Otherwise, print \"Email address validation passed"
      ]
    },
    {
      "cell_type": "code",
      "execution_count": null,
      "metadata": {
        "colab": {
          "base_uri": "https://localhost:8080/"
        },
        "id": "zwCfyGz3-q5K",
        "outputId": "4b394522-a554-47b6-d76c-01a527309319"
      },
      "outputs": [
        {
          "name": "stdout",
          "output_type": "stream",
          "text": [
            "enter your valid mailsahil@gamail.com\n",
            "email is valid\n"
          ]
        }
      ],
      "source": [
        "email = input(\"enter your valid mail\")\n",
        "if \"@\" in email and \".\" in email:\n",
        "  print(\"email is valid\")\n",
        "else:\n",
        "  print(\"email is not valid\")"
      ]
    },
    {
      "cell_type": "markdown",
      "metadata": {
        "id": "ebMpoKHm-rg1"
      },
      "source": [
        "Question 20:\n",
        "\n",
        "write a python program for print a table 1 to 10."
      ]
    },
    {
      "cell_type": "code",
      "execution_count": null,
      "metadata": {
        "colab": {
          "base_uri": "https://localhost:8080/"
        },
        "id": "uhqVmKbWN7Sm",
        "outputId": "58aad676-fb5f-4beb-f39b-5b49984a08d0"
      },
      "outputs": [
        {
          "name": "stdout",
          "output_type": "stream",
          "text": [
            "0 * 1 = 0\n",
            "0 * 2 = 0\n",
            "0 * 3 = 0\n",
            "0 * 4 = 0\n",
            "0 * 5 = 0\n",
            "0 * 6 = 0\n",
            "0 * 7 = 0\n",
            "0 * 8 = 0\n",
            "0 * 9 = 0\n",
            "0 * 10 = 0\n",
            "_________________\n",
            "1 * 1 = 1\n",
            "1 * 2 = 2\n",
            "1 * 3 = 3\n",
            "1 * 4 = 4\n",
            "1 * 5 = 5\n",
            "1 * 6 = 6\n",
            "1 * 7 = 7\n",
            "1 * 8 = 8\n",
            "1 * 9 = 9\n",
            "1 * 10 = 10\n",
            "_________________\n",
            "2 * 1 = 2\n",
            "2 * 2 = 4\n",
            "2 * 3 = 6\n",
            "2 * 4 = 8\n",
            "2 * 5 = 10\n",
            "2 * 6 = 12\n",
            "2 * 7 = 14\n",
            "2 * 8 = 16\n",
            "2 * 9 = 18\n",
            "2 * 10 = 20\n",
            "_________________\n",
            "3 * 1 = 3\n",
            "3 * 2 = 6\n",
            "3 * 3 = 9\n",
            "3 * 4 = 12\n",
            "3 * 5 = 15\n",
            "3 * 6 = 18\n",
            "3 * 7 = 21\n",
            "3 * 8 = 24\n",
            "3 * 9 = 27\n",
            "3 * 10 = 30\n",
            "_________________\n",
            "4 * 1 = 4\n",
            "4 * 2 = 8\n",
            "4 * 3 = 12\n",
            "4 * 4 = 16\n",
            "4 * 5 = 20\n",
            "4 * 6 = 24\n",
            "4 * 7 = 28\n",
            "4 * 8 = 32\n",
            "4 * 9 = 36\n",
            "4 * 10 = 40\n",
            "_________________\n",
            "5 * 1 = 5\n",
            "5 * 2 = 10\n",
            "5 * 3 = 15\n",
            "5 * 4 = 20\n",
            "5 * 5 = 25\n",
            "5 * 6 = 30\n",
            "5 * 7 = 35\n",
            "5 * 8 = 40\n",
            "5 * 9 = 45\n",
            "5 * 10 = 50\n",
            "_________________\n",
            "6 * 1 = 6\n",
            "6 * 2 = 12\n",
            "6 * 3 = 18\n",
            "6 * 4 = 24\n",
            "6 * 5 = 30\n",
            "6 * 6 = 36\n",
            "6 * 7 = 42\n",
            "6 * 8 = 48\n",
            "6 * 9 = 54\n",
            "6 * 10 = 60\n",
            "_________________\n",
            "7 * 1 = 7\n",
            "7 * 2 = 14\n",
            "7 * 3 = 21\n",
            "7 * 4 = 28\n",
            "7 * 5 = 35\n",
            "7 * 6 = 42\n",
            "7 * 7 = 49\n",
            "7 * 8 = 56\n",
            "7 * 9 = 63\n",
            "7 * 10 = 70\n",
            "_________________\n",
            "8 * 1 = 8\n",
            "8 * 2 = 16\n",
            "8 * 3 = 24\n",
            "8 * 4 = 32\n",
            "8 * 5 = 40\n",
            "8 * 6 = 48\n",
            "8 * 7 = 56\n",
            "8 * 8 = 64\n",
            "8 * 9 = 72\n",
            "8 * 10 = 80\n",
            "_________________\n",
            "9 * 1 = 9\n",
            "9 * 2 = 18\n",
            "9 * 3 = 27\n",
            "9 * 4 = 36\n",
            "9 * 5 = 45\n",
            "9 * 6 = 54\n",
            "9 * 7 = 63\n",
            "9 * 8 = 72\n",
            "9 * 9 = 81\n",
            "9 * 10 = 90\n",
            "_________________\n",
            "10 * 1 = 10\n",
            "10 * 2 = 20\n",
            "10 * 3 = 30\n",
            "10 * 4 = 40\n",
            "10 * 5 = 50\n",
            "10 * 6 = 60\n",
            "10 * 7 = 70\n",
            "10 * 8 = 80\n",
            "10 * 9 = 90\n",
            "10 * 10 = 100\n",
            "_________________\n"
          ]
        }
      ],
      "source": [
        "for i in range(11):\n",
        "  for j in range(1,11):\n",
        "    print(i,\"*\",j ,\"=\" ,i*j)\n",
        "  print(\"_________________\")"
      ]
    },
    {
      "cell_type": "markdown",
      "metadata": {
        "id": "EXhmBaapPI8c"
      },
      "source": [
        "Question 21:\n",
        "\n",
        "You are tasked with creating a program to assist shoppers in calculating their total bill at a grocery store. The store offers discounts based on the total purchase amount. Your task is to implement a Python program that takes the price of each item purchased and calculates the total bill, including any applicable discounts.\n",
        "\n",
        "The store offers the following discount rates based on the total purchase amount:\n",
        "\n",
        "If the total purchase amount is $100 or more, the customer receives a 10% discount.\n",
        "\n",
        "If the total purchase amount is between $50 and $99.99, the customer receives a 5% discount.\n",
        "If the total purchase amount is less than $50, no discount is applied.\n",
        "\n",
        "Write a Python program to prompt the user to enter the prices of the items they purchased. Use a for loop to iterate through the prices entered and calculate the subtotal. Apply the appropriate discount based on the total purchase amount using if-else statements. Finally, print out the subtotal, discount amount (if any), and the total bill after applying the discount."
      ]
    },
    {
      "cell_type": "code",
      "execution_count": null,
      "metadata": {
        "colab": {
          "base_uri": "https://localhost:8080/"
        },
        "id": "U78ez1J1Qe7e",
        "outputId": "d4d13702-600d-491e-8741-a1059ef30c70"
      },
      "outputs": [
        {
          "name": "stdout",
          "output_type": "stream",
          "text": [
            "enter the no. of item : 5\n",
            "enter the price of item : 123\n",
            "enter the price of item : 23\n",
            "enter the price of item : 2\n",
            "enter the price of item : 3\n",
            "enter the price of item : 3\n",
            "the total bill is : 154.0\n",
            "discount amount applied in your bill : 15.4\n",
            "final amount which you paid : 138.6\n"
          ]
        }
      ],
      "source": [
        "item = int(input(\"enter the no. of item : \"))\n",
        "total_bill = 0\n",
        "for i in range(item):\n",
        "  price = float(input(\"enter the price of item : \"))\n",
        "  total_bill = total_bill + price\n",
        "print(\"the total bill is :\", total_bill)\n",
        "if total_bill > 100:\n",
        "      discount = (total_bill/100)*10\n",
        "      total_bill -= discount\n",
        "      print(\"discount amount applied in your bill :\",discount)\n",
        "      print(\"final amount which you paid :\",total_bill)\n",
        "elif 50 <= total_bill and total_bill <= 99.99:\n",
        "      discount = (total_bill/100)*5\n",
        "      total_bill -= discount\n",
        "      print(\"discount amount applied in your bill :\",discount)\n",
        "      print(\"final amount which you paid :\",total_bill)\n",
        "else:\n",
        "  print(\"you are not applicable for discount\")\n",
        "  print(\"final amount which you paid :\",total_bill)"
      ]
    },
    {
      "cell_type": "markdown",
      "metadata": {
        "id": "wmBxSPUP3Wk6"
      },
      "source": [
        "Question 22:\n",
        "\n",
        "Write a user-defined function to process the exam scores and calculate the following statistics:\n",
        "\n",
        "The average exam score.\n",
        "The highest exam score.\n",
        "The lowest exam score.\n",
        "The number of students who passed the exam (assuming a passing score is 80 or above).\n",
        "The number of students who failed the exam.\n",
        "\n",
        "exam_scores = [85, 92, 78, 90, 88, 95, 82, 79, 87, 91]"
      ]
    },
    {
      "cell_type": "code",
      "execution_count": null,
      "metadata": {
        "id": "cZz-oOCV3fKH"
      },
      "outputs": [],
      "source": [
        "def exam(exam_score):\n",
        "  average = sum(exam_score)/len(exam_score)\n",
        "  highest = max(exam_score)\n",
        "  lowest = min(exam_score)\n",
        "  len_exam = len(exam_score)\n",
        "  passed = 0\n",
        "  for i in range(len_exam):\n",
        "    if exam_score[i]>=80:\n",
        "      passed = passed + 1\n",
        "  failed = len(exam_score) - passed\n",
        "  return average, highest, lowest, passed, failed"
      ]
    },
    {
      "cell_type": "code",
      "execution_count": null,
      "metadata": {
        "colab": {
          "base_uri": "https://localhost:8080/"
        },
        "id": "oysP37rq6nrs",
        "outputId": "326ba323-9987-489f-ac5c-22b9f7ea85f6"
      },
      "outputs": [
        {
          "name": "stdout",
          "output_type": "stream",
          "text": [
            "average score :  86.7\n",
            "highest score :  95\n",
            "lowest score :  78\n",
            "no. of student passed :  8\n",
            "no. of student failed :  2\n"
          ]
        }
      ],
      "source": [
        "\n",
        "exam_scores = [85, 92, 78, 90, 88, 95, 82, 79, 87, 91]\n",
        "average, highest, lowest, passed, failed = exam(exam_scores)\n",
        "print(\"average score : \",average)\n",
        "print(\"highest score : \",highest)\n",
        "print(\"lowest score : \",lowest)\n",
        "print(\"no. of student passed : \",passed)\n",
        "print(\"no. of student failed : \",failed)"
      ]
    },
    {
      "cell_type": "markdown",
      "metadata": {
        "id": "HYE8ei4RSTNF"
      },
      "source": [
        "Question 23:\n",
        "\n",
        "You are given a dataset of student grades and need to determine the grade distribution.\n",
        "\n",
        "Question: Write a Python function\n",
        "\n",
        "grade_distribution (grades) that takes a list of integers representing student grades (0-100). Use a loop to count the number of grades in each grade category:\n",
        "\n",
        "'Α' (90-100), 'B' (80-89), 'C' (70-79), 'D' (60-69), and 'F' (below 60).\n",
        "\n",
        "Use if-elif-else statements within the loop to categorize the grades.\n",
        "\n",
        "Return a dictionary with the counts of each grade category."
      ]
    },
    {
      "cell_type": "code",
      "execution_count": null,
      "metadata": {
        "id": "o0AqYR4balp7"
      },
      "outputs": [],
      "source": [
        "def grade_distribution(grades):\n",
        "  for grade in grades:\n",
        "    if grade >= 90 and grade <=100:\n",
        "      print(\"its student grade is : A\",grade)\n",
        "    elif grade >= 80 and grade <=89:\n",
        "      print(\"its student grade is : B\",grade)\n",
        "    elif grade >= 70 and grade <=79:\n",
        "      print(\"its student grade is : C\",grade)\n",
        "    elif grade >= 60 and grade <=69:\n",
        "      print(\"its student grade is : D\",grade)\n",
        "    elif grade < 60:\n",
        "      print(\"its student grade is : E\",grade)\n",
        "    else:\n",
        "      print(\"invalid entry\",grade)\n",
        "  return"
      ]
    },
    {
      "cell_type": "code",
      "execution_count": null,
      "metadata": {
        "colab": {
          "base_uri": "https://localhost:8080/"
        },
        "id": "s1TL1J1udd20",
        "outputId": "bf03e575-647b-4983-e466-b1eb56a97f1c"
      },
      "outputs": [
        {
          "name": "stdout",
          "output_type": "stream",
          "text": [
            "its student grade is : B 89\n",
            "its student grade is : E 34\n",
            "its student grade is : A 98\n",
            "its student grade is : E 43\n",
            "its student grade is : C 78\n",
            "its student grade is : A 98\n",
            "its student grade is : E 50\n",
            "its student grade is : A 90\n",
            "invalid entry 400\n"
          ]
        }
      ],
      "source": [
        "grades = [89,34,98,43,78,98,50,90,400]\n",
        "grade_distribution(grades)"
      ]
    },
    {
      "cell_type": "markdown",
      "metadata": {
        "id": "m0dkDMsvetDh"
      },
      "source": [
        "Question 24:\n",
        "\n",
        "You're creating a number guessing game where the computer generates a random number between 1 and 100, and the player has to guess it.\n",
        "\n",
        "Write Python code to generate a random number between 1 and 100. Use control flow statements and loops to allow the player to guess the number and provide feedback (too high, too low, or correct). Define a user-defined function to encapsulate the game logic and call this function to play the game."
      ]
    },
    {
      "cell_type": "code",
      "execution_count": null,
      "metadata": {
        "id": "fPACdHYYfyEx"
      },
      "outputs": [],
      "source": [
        "import random\n",
        "def game():\n",
        "  comp_no = random.randint(1, 100)\n",
        "  print(\"computer generated numbers : \",comp_no)\n",
        "  no__of_attempt = 0\n",
        "  user_no = None\n",
        "  while user_no != comp_no:\n",
        "\n",
        "    no__of_attempt +=1\n",
        "    user_no = int(input(\"enter the no. between 1 to 100 : \"))\n",
        "    if comp_no < user_no:\n",
        "         print(\"user no. is greater than computer number try again because you are selcted older girlfriend\")\n",
        "    elif comp_no > user_no:\n",
        "         print(\"user no. is less than computer number try again, because you have not a girlfriend\")\n",
        "    else:\n",
        "      print(\"congatulation you select right girlfriend party bro\")"
      ]
    },
    {
      "cell_type": "code",
      "execution_count": null,
      "metadata": {
        "colab": {
          "background_save": true,
          "base_uri": "https://localhost:8080/"
        },
        "id": "5uztGUHfpXKV",
        "outputId": "e48f6a69-5181-4ab7-aed1-ea44114acdd1"
      },
      "outputs": [
        {
          "name": "stdout",
          "output_type": "stream",
          "text": [
            "computer generated numbers :  2\n",
            "user no. is greater than computer number try again because you are selcted older girlfriend\n",
            "user no. is greater than computer number try again because you are selcted older girlfriend\n",
            "congatulation you select right girlfriend party bro\n"
          ]
        }
      ],
      "source": [
        "game()"
      ]
    },
    {
      "cell_type": "markdown",
      "metadata": {
        "id": "A7VVTkhgpBQZ"
      },
      "source": [
        "Question 25:\n",
        "\n",
        "You're tasked with creating a program\n",
        "to calculate the sum of squares of the first n natural numbers, where n is entered by the user.\n",
        "\n",
        "Write Python code to prompt the user to enter a positive integer n. Use a loop to calculate the sum of squares of the first n natural numbers. Define a user-defined function to encapsulate the sum of squares calculation logic and call this function with the user's input."
      ]
    },
    {
      "cell_type": "code",
      "execution_count": null,
      "metadata": {
        "id": "nfT2688tpG6k"
      },
      "outputs": [],
      "source": [
        "def sum_of_squares(n):\n",
        "  total = 0\n",
        "  for i in range(1,n+1):\n",
        "    square = i**2\n",
        "    total = total + square\n",
        "  print(\"the sum of squares of the first\",n, \"natural number is\",total)\n",
        "  return\n"
      ]
    },
    {
      "cell_type": "code",
      "execution_count": null,
      "metadata": {
        "colab": {
          "base_uri": "https://localhost:8080/"
        },
        "id": "0pywnIB7pzjg",
        "outputId": "867a55be-9ed2-4d7f-86d6-c47e1df26b0a"
      },
      "outputs": [
        {
          "name": "stdout",
          "output_type": "stream",
          "text": [
            "the sum of squares of the first 4 natural number is 30\n"
          ]
        }
      ],
      "source": [
        "sum_of_squares(4)"
      ]
    },
    {
      "cell_type": "markdown",
      "metadata": {
        "id": "F5UAov3dGs_2"
      },
      "source": [
        "Question 26:\n",
        "\n",
        "Write a Python function that takes a date string in the format \"YYYY-MM-DD\" and returns a tuple containing the year, month, and day as integers.\n",
        "\n",
        "Example Input: \"2024-05-28\"\n",
        "\n",
        "Expected Output: (2024, 5, 28)"
      ]
    },
    {
      "cell_type": "code",
      "execution_count": null,
      "metadata": {
        "colab": {
          "background_save": true
        },
        "id": "l6taU60lGwO2"
      },
      "outputs": [],
      "source": [
        "def date_s(date):\n",
        "  year = date[0:5]\n",
        "  month= date[6:8]\n",
        "  day = date[9:11]\n",
        "  print(year, month, day)\n",
        "  return year,month,day"
      ]
    },
    {
      "cell_type": "code",
      "execution_count": null,
      "metadata": {
        "id": "p9K12TiDHn49"
      },
      "outputs": [],
      "source": [
        "date = \"2025-12-20\"\n",
        "date_s(s)"
      ]
    },
    {
      "cell_type": "markdown",
      "metadata": {
        "id": "se293R2z-FsL"
      },
      "source": [
        "Question 27:\n",
        "\n",
        "Given the list scores = [55, 89, 76, 65, 93, 50, 72], write a Python expression to create a new list that contains only the scores that are above 70."
      ]
    },
    {
      "cell_type": "code",
      "execution_count": null,
      "metadata": {
        "colab": {
          "base_uri": "https://localhost:8080/"
        },
        "id": "t2gnQNQg-OBL",
        "outputId": "0eadc8ce-2f4f-47ad-9970-cc851f3445b7"
      },
      "outputs": [
        {
          "name": "stdout",
          "output_type": "stream",
          "text": [
            "[89, 76, 93, 72]\n"
          ]
        }
      ],
      "source": [
        "scores = [55, 89, 76, 65, 93, 50, 72]\n",
        "new_score = []\n",
        "for score in scores:\n",
        "  if score > 70:\n",
        "    new_score.append(score)\n",
        "  else:\n",
        "    pass\n",
        "print(new_score)"
      ]
    },
    {
      "cell_type": "markdown",
      "metadata": {
        "id": "SEx8ETwy_lvb"
      },
      "source": [
        "Question 28:\n",
        "\n",
        "Given the list data = [1, 2, 3, 4, 5, 6, 7, 8, 9, 10], write a Python expression to get the sum of the first five elements and another expression to reverse the entire list."
      ]
    },
    {
      "cell_type": "code",
      "execution_count": null,
      "metadata": {
        "colab": {
          "base_uri": "https://localhost:8080/"
        },
        "id": "XhdITpgO_r_Y",
        "outputId": "f5ae4319-0a56-49e1-b087-b25869bbeca9"
      },
      "outputs": [
        {
          "name": "stdout",
          "output_type": "stream",
          "text": [
            "sum of five starting element 15\n",
            "reverse of list [10, 9, 8, 7, 6, 5, 4, 3, 2, 1]\n"
          ]
        }
      ],
      "source": [
        "data = [1, 2, 3, 4, 5, 6, 7, 8, 9, 10]\n",
        "sum_of_five = sum(data[:5])\n",
        "data.reverse()\n",
        "print(\"sum of five starting element\",sum_of_five)\n",
        "print(\"reverse of list\",data)"
      ]
    },
    {
      "cell_type": "markdown",
      "metadata": {
        "id": "2kopldUK_rOK"
      },
      "source": [
        "Question 29:\n",
        "\n",
        "Given the list numbers = [1, 2, 3, 4, 5, 6, 7, 8, 9, 10],\n",
        "\n",
        "write Python expressions to:\n",
        "\n",
        "Create a new list with the first half and the second half swapped.\n",
        "Print the sum of the last three elements.\n",
        "\n",
        "input -numbers = [1, 2, 3, 4, 5, 6, 7, 8, 9, 10]\n",
        "\n",
        "output -\n",
        "\n",
        "[6, 7, 8, 9, 10, 1, 2, 3, 4, 5]\n",
        "\n",
        "27"
      ]
    },
    {
      "cell_type": "code",
      "execution_count": null,
      "metadata": {
        "colab": {
          "base_uri": "https://localhost:8080/"
        },
        "id": "5fwu4-CXA-BH",
        "outputId": "b47b4302-0264-44d5-a11e-3ecc58478745"
      },
      "outputs": [
        {
          "name": "stdout",
          "output_type": "stream",
          "text": [
            "[6, 7, 8, 9, 10, 1, 2, 3, 4, 5]\n",
            "[10, 9, 8, 7, 6]\n"
          ]
        }
      ],
      "source": [
        "numbers = [1, 2, 3, 4, 5, 6, 7, 8, 9, 10]\n",
        "half = int((len(numbers))/2)\n",
        "list1 = numbers[:half]\n",
        "list2 = numbers[half:]\n",
        "print(list2 + list1)\n",
        "list2.reverse()\n",
        "print(list2)"
      ]
    },
    {
      "cell_type": "markdown",
      "metadata": {
        "id": "KFzgSkuCDPpr"
      },
      "source": [
        "Question 30:\n",
        "\n",
        "Task: Data Cleaning\n",
        "\n",
        "You have a list responses containing responses\n",
        "\n",
        "from a survey. However, some responses are recorded\n",
        "\n",
        "as empty strings due to data entry errors.\n",
        "\n",
        "Your task is to remove these empty responses from the list.\n",
        "\n",
        "Write Python code to remove all\n",
        "\n",
        "empty responses from the responses list\n",
        "\n",
        "responses = [\"Yes\", \"\", \"No\", \"\", \"Maybe\", \"\", \"\", \"Yes\", \"No\",\"\"]"
      ]
    },
    {
      "cell_type": "code",
      "execution_count": null,
      "metadata": {
        "colab": {
          "base_uri": "https://localhost:8080/"
        },
        "id": "HE5slHdEDUy2",
        "outputId": "31709126-cf1d-473d-89c5-f5022f6a5b0d"
      },
      "outputs": [
        {
          "name": "stdout",
          "output_type": "stream",
          "text": [
            "clean :  ['Yes', 'No', 'Maybe', 'Yes', 'No']\n"
          ]
        }
      ],
      "source": [
        "responses = [\"Yes\", \"\", \"No\", \"\", \"Maybe\", \"\", \"\", \"Yes\", \"No\", \"\"]\n",
        "clean = []\n",
        "for response in responses:\n",
        "  if response != \"\":\n",
        "    clean.append(response)\n",
        "  else:\n",
        "    pass\n",
        "\n",
        "print(\"clean : \",clean)"
      ]
    },
    {
      "cell_type": "markdown",
      "metadata": {
        "id": "6ddipcpzELMg"
      },
      "source": [
        "Question 31:\n",
        "\n",
        "Data Analysis Scenario:\n",
        "\n",
        "You have two lists containing exam scores of students from two different classes.\n",
        "\n",
        "The lists are class1_scores and class2_scores.\n",
        "\n",
        "You need to analyze the performance\n",
        "\n",
        "of the classes by calculating the average score for each class.\n",
        "\n",
        "Write Python code to calculate the average score for each class.\n",
        "\n",
        "class1_scores = [85, 90, 88, 92, 78]\n",
        "\n",
        "class2_scores = [75, 82, 80, 85, 79]"
      ]
    },
    {
      "cell_type": "code",
      "execution_count": null,
      "metadata": {
        "colab": {
          "base_uri": "https://localhost:8080/"
        },
        "id": "s1N-5WUEEUyh",
        "outputId": "54aab0df-16d8-4c6c-eea9-32084dcf0968"
      },
      "outputs": [
        {
          "name": "stdout",
          "output_type": "stream",
          "text": [
            "average score of first class 86.6\n",
            "average score of first class 80.2\n"
          ]
        }
      ],
      "source": [
        "class1_scores = [85, 90, 88, 92, 78]\n",
        "\n",
        "class2_scores = [75, 82, 80, 85, 79]\n",
        "\n",
        "average1 = (sum(class1_scores))/len(class1_scores)\n",
        "average2 = (sum(class2_scores))/len(class2_scores)\n",
        "\n",
        "print(\"average score of first class\",average1)\n",
        "print(\"average score of first class\",average2)"
      ]
    },
    {
      "cell_type": "markdown",
      "metadata": {
        "id": "grD9XiIzFHfV"
      },
      "source": [
        "Question 32:\n",
        "\n",
        "Given two lists\n",
        "\n",
        "list1= [[1, 2], [3, 4], [5, 6]) and list2 = [[7, 8], [9, 10]],\n",
        "\n",
        "concatenate them into a single list of lists."
      ]
    },
    {
      "cell_type": "code",
      "execution_count": null,
      "metadata": {
        "colab": {
          "base_uri": "https://localhost:8080/"
        },
        "id": "5yCChLZNFNBm",
        "outputId": "0458cc5c-82aa-4046-c8bc-13a7632d4d46"
      },
      "outputs": [
        {
          "name": "stdout",
          "output_type": "stream",
          "text": [
            "[[1, 2], [3, 4], [5, 6], [7, 8], [9, 10]]\n"
          ]
        }
      ],
      "source": [
        "list1= [[1, 2], [3, 4], [5, 6]]\n",
        "list2 = [[7, 8], [9, 10]]\n",
        "print(list1 + list2)"
      ]
    },
    {
      "cell_type": "markdown",
      "metadata": {
        "id": "blNCYbcpFN9P"
      },
      "source": [
        "Question 33:\n",
        "\n",
        "Given a list of sentences sentences = [\"Hello, world!\", \"Python is awesome!\", \"I love coding!\"],\n",
        "\n",
        "join the sentences into a single string separated by newline characters.\n",
        "\n",
        "output\n",
        "\n",
        "Joined string with newline characters:\n",
        "\n",
        "Hello, world!\n",
        "\n",
        "Python is awesome!\n",
        "\n",
        "I love coding!"
      ]
    },
    {
      "cell_type": "code",
      "execution_count": null,
      "metadata": {
        "colab": {
          "base_uri": "https://localhost:8080/"
        },
        "id": "2oTLDuHQFXAH",
        "outputId": "30d03331-4c73-4d12-f790-aa40e8b7a534"
      },
      "outputs": [
        {
          "name": "stdout",
          "output_type": "stream",
          "text": [
            "Hello, world!\n",
            "Python is awesome!\n",
            "I love coding!\n"
          ]
        }
      ],
      "source": [
        "sentences = [\"Hello, world!\", \"Python is awesome!\", \"I love coding!\"]\n",
        "for i in sentences:\n",
        "  print(i)"
      ]
    },
    {
      "cell_type": "markdown",
      "metadata": {
        "id": "IUpBZ-0M_WPn"
      },
      "source": [
        "Question 34:\n",
        "\n",
        "a. Create a list named data_points containing integers\n",
        "\n",
        "representing data values: [10, 20, 30, 40, 50].\n",
        "\n",
        "b. Add the value 60 to the end of the list.\n",
        "\n",
        "c. Insert the value 5 at the beginning of the list.\n",
        "\n",
        "d. Remove the value 30 from the list.\n",
        "\n",
        "e. Print the modified list."
      ]
    },
    {
      "cell_type": "code",
      "execution_count": null,
      "metadata": {
        "colab": {
          "base_uri": "https://localhost:8080/"
        },
        "id": "jYD_eH03A6zZ",
        "outputId": "d16c5adf-60a7-4d36-badb-a841fe9621df"
      },
      "outputs": [
        {
          "name": "stdout",
          "output_type": "stream",
          "text": [
            "[5, 10, 20, 40, 50, 60]\n"
          ]
        }
      ],
      "source": [
        "data_points = [10, 20, 30, 40, 50]\n",
        "data_points.append(60)\n",
        "data_points.insert(0,5)\n",
        "data_points.remove(30)\n",
        "print(data_points)"
      ]
    },
    {
      "cell_type": "markdown",
      "metadata": {
        "id": "QE_GSy-D_enf"
      },
      "source": [
        "Question 35:\n",
        "\n",
        "Student Enrollment Status\n",
        "\n",
        "You are managing student enrollments for a course\n",
        "\n",
        "and want to determine their enrollment\n",
        "\n",
        "status based on their course credits. Create a program that:\n",
        "\n",
        "1) Asks the user to input the number of students.\n",
        "\n",
        "2 ) Asks the user to input the course credits for each student, storing them in a list.\n",
        "\n",
        "3) Determines the enrollment status for each student:\n",
        "\n",
        "\"Full-time\" if course credits are greater than or equal to 12.\n",
        "\n",
        "\"Part-time\" if course credits are less than 12.\n",
        "\n",
        "4) Prints out the enrollment status for each student."
      ]
    },
    {
      "cell_type": "code",
      "execution_count": null,
      "metadata": {
        "colab": {
          "base_uri": "https://localhost:8080/"
        },
        "id": "IdyznihyNf-i",
        "outputId": "a552af75-9201-46d7-d020-c815c93e73c3"
      },
      "outputs": [
        {
          "name": "stdout",
          "output_type": "stream",
          "text": [
            "enter no. of students : 5\n",
            "enter the credit score of student 23\n",
            "enter the credit score of student 11\n",
            "enter the credit score of student 7\n",
            "enter the credit score of student 34\n",
            "enter the credit score of student 65\n",
            "[23, 11, 7, 34, 65]\n",
            "full time :  [23, 34, 65]\n",
            "part time :  [11, 7]\n",
            "student 1 that _is23\n",
            "student 2 that _is11\n",
            "student 3 that _is7\n",
            "student 4 that _is34\n",
            "student 5 that _is65\n"
          ]
        }
      ],
      "source": [
        "no_of_student = int(input(\"enter no. of students : \"))\n",
        "student_credit = []\n",
        "for i in range(no_of_student):\n",
        "  credita = int(input(\"enter the credit score of student \"))\n",
        "  student_credit.append(credita)\n",
        "print(student_credit)\n",
        "full_time = []\n",
        "part_time = []\n",
        "for j in range(no_of_student):\n",
        "  if student_credit[j] >= 12:\n",
        "    full_time.append(student_credit[j])\n",
        "  else:\n",
        "    part_time.append(student_credit[j])\n",
        "print(\"full time : \",full_time)\n",
        "print(\"part time : \",part_time)\n",
        "for k in range(no_of_student):\n",
        "  print(f\"student {k+1} that _is{student_credit[k]}\")\n"
      ]
    },
    {
      "cell_type": "markdown",
      "metadata": {
        "id": "awS-WR9e_lFx"
      },
      "source": [
        "Question 36:\n",
        "\n",
        "Age Group Classification\n",
        "\n",
        "You are analyzing demographic data and want to classify people into different age groups. Create a program that:\n",
        "\n",
        "Asks the user to input the number of people.\n",
        "\n",
        "Asks the user to input the ages of each person, storing them in a list.\n",
        "\n",
        "Classifies each person into one of the following\n",
        "\n",
        "age groups: \"Child\" (age < 18), \"Adult\" (18 <= age < 65), or \"Senior\" (age >= 65).\n",
        "\n",
        "Prints out the number of people in each age group."
      ]
    },
    {
      "cell_type": "code",
      "execution_count": null,
      "metadata": {
        "colab": {
          "base_uri": "https://localhost:8080/"
        },
        "id": "XwWSHCGNo_lC",
        "outputId": "3e8a01cc-bd95-4660-db3d-bb7ef5288d60"
      },
      "outputs": [
        {
          "name": "stdout",
          "output_type": "stream",
          "text": [
            "enter the no. of people : 8\n",
            "enter the age of this person : 4\n",
            "enter the age of this person : 76\n",
            "enter the age of this person : 98\n",
            "enter the age of this person : 65\n",
            "enter the age of this person : 44\n",
            "enter the age of this person : 43\n",
            "enter the age of this person : 20\n",
            "enter the age of this person : 76\n",
            "age list [4, 76, 98, 65, 44, 43, 20, 76]\n",
            "child : 1\n",
            "adult : 3\n",
            "senior : 4\n"
          ]
        }
      ],
      "source": [
        "no_of_people = int(input(\"enter the no. of people : \"))\n",
        "age = []\n",
        "for i in range(no_of_people):\n",
        "  age_of_person = int(input(\"enter the age of this person : \"))\n",
        "  age.append(age_of_person)\n",
        "print(\"age list\",age)\n",
        "child = []\n",
        "adult = []\n",
        "senior = []\n",
        "for j in age:\n",
        "  if j < 18:\n",
        "    child.append(j)\n",
        "  elif 18<=j<65:\n",
        "    adult.append(j)\n",
        "  else:\n",
        "    senior.append(j)\n",
        "print(\"child :\",len(child))\n",
        "print(\"adult :\",len(adult))\n",
        "print(\"senior :\",len(senior))"
      ]
    },
    {
      "cell_type": "markdown",
      "metadata": {
        "id": "mYI9YtI1_q3k"
      },
      "source": [
        "Question 37:\n",
        "\n",
        "String Methods:\n",
        "\n",
        "a. Create a string variable sentence with any sentence of your choice.\n",
        "\n",
        "b. Convert the sentence to uppercase.\n",
        "\n",
        "c. Split the sentence into a list of words.\n",
        "\n",
        "d. Join the words in the list using a space as the separator.\n",
        "\n",
        "e. Print the modified sentence."
      ]
    },
    {
      "cell_type": "code",
      "execution_count": null,
      "metadata": {
        "colab": {
          "base_uri": "https://localhost:8080/"
        },
        "id": "rhLnUSe9sITQ",
        "outputId": "ceb81689-edd6-4ac4-ae08-ba9b4e4f8722"
      },
      "outputs": [
        {
          "name": "stdout",
          "output_type": "stream",
          "text": [
            "enter the words : sahil\n",
            "upper SAHIL\n",
            "['S', 'A', 'H', 'I', 'L']\n",
            "S_A_H_I_L\n"
          ]
        }
      ],
      "source": [
        "letter = input(\"enter the words : \")\n",
        "upper = letter.upper()\n",
        "print(\"upper\",upper)\n",
        "lst = []\n",
        "for i in upper:\n",
        "  lst.append(i)\n",
        "print(lst)\n",
        "join = \"_\".join(lst)\n",
        "print(join)"
      ]
    },
    {
      "cell_type": "markdown",
      "metadata": {
        "id": "X7_QdGhq_wUL"
      },
      "source": [
        "Question 38:\n",
        "\n",
        "List Sorting:\n",
        "\n",
        "a. Create a list named ages containing integers representing ages of individuals.\n",
        "\n",
        "b. Sort the list in ascending order.\n",
        "\n",
        "c. Sort the list in descending order.\n",
        "\n",
        "d. Print the sorted lists."
      ]
    },
    {
      "cell_type": "code",
      "execution_count": null,
      "metadata": {
        "colab": {
          "base_uri": "https://localhost:8080/"
        },
        "id": "-PKjo63gub9h",
        "outputId": "d75cc6cf-fbed-4eeb-edd8-0607657ef8cf"
      },
      "outputs": [
        {
          "name": "stdout",
          "output_type": "stream",
          "text": [
            "the list in ascending order :  [1, 3, 6, 12, 32, 34, 54, 87]\n",
            "the list in descending order :  [87, 54, 34, 32, 12, 6, 3, 1]\n"
          ]
        }
      ],
      "source": [
        "ages = [12,3,54,32,6,87,34,1]\n",
        "ages.sort()\n",
        "print(\"the list in ascending order : \",ages)\n",
        "ages.sort(reverse=True)\n",
        "print(\"the list in descending order : \",ages)\n"
      ]
    },
    {
      "cell_type": "markdown",
      "metadata": {
        "id": "phPKhqYeKgxf"
      },
      "source": [
        "Question 39:\n",
        "\n",
        "Define two sets students_passed_math and students_passed_science containing student IDs who passed Math and Science respectively. Write Python code to:\n",
        "\n",
        "1) Print the number of students who passed both Math and Science.\n",
        "\n",
        "2) Print the student IDs who passed only Math\n",
        "\n",
        "3) Print the student IDs who passed only Science\n",
        "\n",
        "4) Determine if students_passed_math is a subset of students_passed_science.\n",
        "\n",
        "5) Determine if students_passed_science is a superset of students_passed_math."
      ]
    },
    {
      "cell_type": "code",
      "execution_count": null,
      "metadata": {
        "colab": {
          "base_uri": "https://localhost:8080/"
        },
        "id": "1PiBwoXDKk6L",
        "outputId": "3fdcf3b5-64bc-4f4d-849f-13ce9b0c1355"
      },
      "outputs": [
        {
          "name": "stdout",
          "output_type": "stream",
          "text": [
            "the student IDs who passed only Math :  {101, 102, 103}\n",
            "the student IDs who passed only Science :  {106, 107, 108}\n",
            "False\n",
            "False\n"
          ]
        }
      ],
      "source": [
        "students_passed_math = {101,102,103,104,105}\n",
        "students_passed_science = {104,105,106,107,108}\n",
        "math= students_passed_math.difference(students_passed_science)\n",
        "print(\"the student IDs who passed only Math : \",math)\n",
        "science = students_passed_science.difference(students_passed_math)\n",
        "print(\"the student IDs who passed only Science : \", science)\n",
        "print(students_passed_math.issubset(students_passed_science))\n",
        "print(students_passed_science.issubset(students_passed_math))"
      ]
    },
    {
      "cell_type": "markdown",
      "metadata": {
        "id": "q3vjkyzIY9iR"
      },
      "source": [
        "Question 40:\n",
        "\n",
        "Imagine you are managing an inventory of products in a store.\n",
        "\n",
        "Create a Python program that initializes a dictionary\n",
        "\n",
        "to store the following information about products:\n",
        "\n",
        "\n",
        "Product ID as the key (an integer).\n",
        "\n",
        "Product name as the value (a string).\n",
        "\n",
        "Your program should:\n",
        "\n",
        "Create an empty dictionary.\n",
        "\n",
        "Prompt the user to enter details for at least 3 products.\n",
        "\n",
        "Populate the dictionary with the entered product IDs and names.\n",
        "\n",
        "Display the final dictionary containing all product IDs and names."
      ]
    },
    {
      "cell_type": "code",
      "execution_count": null,
      "metadata": {
        "colab": {
          "base_uri": "https://localhost:8080/"
        },
        "id": "tiURKaXGZDlq",
        "outputId": "391b3091-135d-45d2-b68d-b5b597a4eee9"
      },
      "outputs": [
        {
          "name": "stdout",
          "output_type": "stream",
          "text": [
            "enter the product ID : 1\n",
            "enter the product name : saag\n",
            "enter the product ID : 2\n",
            "enter the product name : pyasa\n",
            "enter the product ID : 3\n",
            "enter the product name : puja\n",
            "{1: 'saag', 2: 'pyasa', 3: 'puja'}\n"
          ]
        }
      ],
      "source": [
        "empty = { }\n",
        "for i in  range(3):\n",
        "  Product_ID = int(input(\"enter the product ID : \"))\n",
        "  Product_name = input(\"enter the product name : \")\n",
        "  empty[Product_ID] = Product_name\n",
        "print(empty)"
      ]
    },
    {
      "cell_type": "markdown",
      "metadata": {
        "id": "HRol8xFHORdu"
      },
      "source": [
        "Question 41:\n",
        "\n",
        "Create a dictionary book_ratings with the following initial data:\n",
        "\n",
        "'Python Programming': 4.5\n",
        "\n",
        "'Data Science Handbook': 4.8\n",
        "\n",
        "'Machine Learning Basics': 4.2\n",
        "\n",
        "Check if 'Python Programming' is in book_ratings.\n",
        "\n",
        "Print \"Found\" if it exists, otherwise print \"Not Found\".\n",
        "\n",
        "Use a method to get all keys from book_ratings and\n",
        "\n",
        "store them in a list titles.\n",
        "\n",
        "Print the list titles."
      ]
    },
    {
      "cell_type": "code",
      "execution_count": null,
      "metadata": {
        "colab": {
          "background_save": true
        },
        "id": "S3_QQyvMOi1g",
        "outputId": "aaa7e78e-f392-4263-e501-16c38c1900e6"
      },
      "outputs": [
        {
          "name": "stdout",
          "output_type": "stream",
          "text": [
            "found\n",
            "dict_keys(['Python Programming', 'Data Science Handbook', 'Machine Learning Basics'])\n"
          ]
        }
      ],
      "source": [
        "book_ratings = {\"Python Programming\": 4.5, \"Data Science Handbook\": 4.8, \"Machine Learning Basics\": 4.2}\n",
        "if  \"Python Programming\" in book_ratings:\n",
        "  print(\"found\")\n",
        "else:\n",
        "  print(\"not found\")\n",
        "\n"
      ]
    },
    {
      "cell_type": "markdown",
      "source": [
        "Question 42:\n",
        "\n",
        "Create a dictionary fruit_stock with the following items:\n",
        "\n",
        "'apple': 10\n",
        "\n",
        "'banana': 15\n",
        "\n",
        "'orange': 8\n",
        "\n",
        "'grape': 20\n",
        "\n",
        "Print each fruit along with its stock count\n",
        "\n",
        "in the format \"Fruit: Stock\" using a loop.\n",
        "\n",
        "OUTPUT\n",
        "\n",
        "Fruit: apple, Stock: 10\n",
        "\n",
        "Fruit: banana, Stock: 15\n",
        "\n",
        "Fruit: orange, Stock: 8\n",
        "\n",
        "Fruit: grape, Stock: 20"
      ],
      "metadata": {
        "id": "QsjFI3x2feeK"
      }
    },
    {
      "cell_type": "code",
      "source": [
        "fruit_stock = {\"apple\": 10, \"banana\": 15, \"orange\": 8, \"grape\": 20}\n",
        "for i in fruit_stock:\n",
        "  print(\"fruit\", i ,\"stock\",fruit_stock[i])"
      ],
      "metadata": {
        "colab": {
          "base_uri": "https://localhost:8080/"
        },
        "id": "Z6qB03wwff9p",
        "outputId": "9097c313-537e-42bc-88ed-286a4f4553ea"
      },
      "execution_count": null,
      "outputs": [
        {
          "output_type": "stream",
          "name": "stdout",
          "text": [
            "fruit apple stock 10\n",
            "fruit banana stock 15\n",
            "fruit orange stock 8\n",
            "fruit grape stock 20\n"
          ]
        }
      ]
    },
    {
      "cell_type": "markdown",
      "source": [
        "Question 43:\n",
        "\n",
        "Write a Python script to concatenate the following dictionaries to create a now one"
      ],
      "metadata": {
        "id": "S4pwEoaOfump"
      }
    },
    {
      "cell_type": "code",
      "source": [
        "my_dict1 = {101: \"sahil\", 102:\"arpit\"}\n",
        "my_dict2 = {103: \"rahil\", 104:\"narpit\"}\n",
        "my_dict1.update(my_dict2)\n",
        "print(my_dict1)"
      ],
      "metadata": {
        "colab": {
          "base_uri": "https://localhost:8080/"
        },
        "id": "a0tAMWYpf1Wr",
        "outputId": "28d54c53-51d7-42c4-f722-bd51e31575fc"
      },
      "execution_count": null,
      "outputs": [
        {
          "output_type": "stream",
          "name": "stdout",
          "text": [
            "{101: 'sahil', 102: 'arpit', 103: 'rahil', 104: 'narpit'}\n"
          ]
        }
      ]
    },
    {
      "cell_type": "markdown",
      "source": [
        "Question 44:\n",
        "\n",
        "Print a dictionary where the keys are numbers between 1 and 150 and the values are square of keys"
      ],
      "metadata": {
        "id": "P-P2dWsxf6Vr"
      }
    },
    {
      "cell_type": "code",
      "source": [
        "mydict = {}\n",
        "for i in range(1,151):\n",
        "  mydict[i] = i**2\n",
        "print(mydict)"
      ],
      "metadata": {
        "id": "d7YXA_BhgBPj",
        "colab": {
          "base_uri": "https://localhost:8080/"
        },
        "outputId": "872aa7fc-3733-45ec-a2dc-1eb7a0fcf480"
      },
      "execution_count": null,
      "outputs": [
        {
          "output_type": "stream",
          "name": "stdout",
          "text": [
            "{1: 1, 2: 4, 3: 9, 4: 16, 5: 25, 6: 36, 7: 49, 8: 64, 9: 81, 10: 100, 11: 121, 12: 144, 13: 169, 14: 196, 15: 225, 16: 256, 17: 289, 18: 324, 19: 361, 20: 400, 21: 441, 22: 484, 23: 529, 24: 576, 25: 625, 26: 676, 27: 729, 28: 784, 29: 841, 30: 900, 31: 961, 32: 1024, 33: 1089, 34: 1156, 35: 1225, 36: 1296, 37: 1369, 38: 1444, 39: 1521, 40: 1600, 41: 1681, 42: 1764, 43: 1849, 44: 1936, 45: 2025, 46: 2116, 47: 2209, 48: 2304, 49: 2401, 50: 2500, 51: 2601, 52: 2704, 53: 2809, 54: 2916, 55: 3025, 56: 3136, 57: 3249, 58: 3364, 59: 3481, 60: 3600, 61: 3721, 62: 3844, 63: 3969, 64: 4096, 65: 4225, 66: 4356, 67: 4489, 68: 4624, 69: 4761, 70: 4900, 71: 5041, 72: 5184, 73: 5329, 74: 5476, 75: 5625, 76: 5776, 77: 5929, 78: 6084, 79: 6241, 80: 6400, 81: 6561, 82: 6724, 83: 6889, 84: 7056, 85: 7225, 86: 7396, 87: 7569, 88: 7744, 89: 7921, 90: 8100, 91: 8281, 92: 8464, 93: 8649, 94: 8836, 95: 9025, 96: 9216, 97: 9409, 98: 9604, 99: 9801, 100: 10000, 101: 10201, 102: 10404, 103: 10609, 104: 10816, 105: 11025, 106: 11236, 107: 11449, 108: 11664, 109: 11881, 110: 12100, 111: 12321, 112: 12544, 113: 12769, 114: 12996, 115: 13225, 116: 13456, 117: 13689, 118: 13924, 119: 14161, 120: 14400, 121: 14641, 122: 14884, 123: 15129, 124: 15376, 125: 15625, 126: 15876, 127: 16129, 128: 16384, 129: 16641, 130: 16900, 131: 17161, 132: 17424, 133: 17689, 134: 17956, 135: 18225, 136: 18496, 137: 18769, 138: 19044, 139: 19321, 140: 19600, 141: 19881, 142: 20164, 143: 20449, 144: 20736, 145: 21025, 146: 21316, 147: 21609, 148: 21904, 149: 22201, 150: 22500}\n"
          ]
        }
      ]
    },
    {
      "cell_type": "markdown",
      "source": [
        "Question 45:\n",
        "\n",
        "Check whether a given key already exists in a dictionary."
      ],
      "metadata": {
        "id": "Xp0E1W1AgAKA"
      }
    },
    {
      "cell_type": "code",
      "source": [
        "my_dict1 = {101: \"sahil\", 102:\"arpit\"}\n",
        "print(101 in my_dict1)\n",
        "print(102 in my_dict1)\n",
        "print(103 in my_dict1)"
      ],
      "metadata": {
        "id": "UY0FjxT0gF3p",
        "colab": {
          "base_uri": "https://localhost:8080/"
        },
        "outputId": "2f46b285-98b7-4ef0-df22-59fa89818a2c"
      },
      "execution_count": null,
      "outputs": [
        {
          "output_type": "stream",
          "name": "stdout",
          "text": [
            "True\n",
            "True\n",
            "False\n"
          ]
        }
      ]
    },
    {
      "cell_type": "markdown",
      "source": [
        "# **oops**"
      ],
      "metadata": {
        "id": "bbMiXxPFzwIm"
      }
    },
    {
      "cell_type": "code",
      "source": [
        "class calculator:\n",
        "  def sum(self, a, b):\n",
        "      print(a+b)\n",
        "  def diff(self, a, b):\n",
        "      print(a-b)\n",
        "  def mult(self, a, b):\n",
        "      print(a*b)"
      ],
      "metadata": {
        "id": "GjoBkMq4z5Hx"
      },
      "execution_count": null,
      "outputs": []
    },
    {
      "cell_type": "code",
      "source": [
        "calc = calculator()"
      ],
      "metadata": {
        "id": "eXuI-7AJ0_lR"
      },
      "execution_count": null,
      "outputs": []
    },
    {
      "cell_type": "code",
      "source": [
        "calc.sum(11,12)\n",
        "calc.diff(12,11)\n",
        "calc.mult(11,11)"
      ],
      "metadata": {
        "colab": {
          "base_uri": "https://localhost:8080/"
        },
        "id": "ZChNeJbG1F4v",
        "outputId": "66960684-b2b9-4213-8c7e-4ee44eef9075"
      },
      "execution_count": null,
      "outputs": [
        {
          "output_type": "stream",
          "name": "stdout",
          "text": [
            "23\n",
            "1\n",
            "121\n"
          ]
        }
      ]
    },
    {
      "cell_type": "markdown",
      "source": [
        "oop is a way to organize  and structure code by using classes and object to represent real world entities\n",
        "\n",
        "class :- class is a blue print or template which define property(attrbute) of object\n",
        "\n",
        "object :- object is instance of class"
      ],
      "metadata": {
        "id": "vsE6elvk100d"
      }
    },
    {
      "cell_type": "code",
      "source": [
        "class car:\n",
        "  def start(self):\n",
        "    print(f\"the {self.color} {self.model} car is start\")\n",
        "\n",
        "#object creation and attribute set karna\n",
        "car1 = car()\n",
        "car1.model = \"honda\"\n",
        "car1.color = \"white\"\n",
        "\n",
        "car2 = car()\n",
        "car2.model = \"maruti\"\n",
        "car2.color = \"red\"\n",
        "\n",
        "# method call karna\n",
        "car1.start()\n",
        "car2.start()"
      ],
      "metadata": {
        "colab": {
          "base_uri": "https://localhost:8080/"
        },
        "id": "giZWbA-p2K1c",
        "outputId": "58f68547-8126-41e5-a2e2-5a87567ece81"
      },
      "execution_count": null,
      "outputs": [
        {
          "output_type": "stream",
          "name": "stdout",
          "text": [
            "the white honda car is start\n",
            "the red maruti car is start\n"
          ]
        }
      ]
    },
    {
      "cell_type": "markdown",
      "source": [
        "# **init function**"
      ],
      "metadata": {
        "id": "dU8Z72JZ3bSA"
      }
    },
    {
      "cell_type": "markdown",
      "source": [
        "init function ekspecial method hai jo class ka object create hone par automatic call hota hai is function ka kaam hai object ki initial property ko set karna aur is function ko construction bhi kehte hai."
      ],
      "metadata": {
        "id": "pYkkeY2B490H"
      }
    },
    {
      "cell_type": "code",
      "source": [
        "class car:\n",
        "  def __init__(self, model, color):\n",
        "    self.model = model\n",
        "    self.color = color\n",
        "\n",
        "  def start(self):\n",
        "    print(f\"The {self.color} {self.model} car is starting\")"
      ],
      "metadata": {
        "id": "lOYvLgoB5mk-"
      },
      "execution_count": null,
      "outputs": []
    },
    {
      "cell_type": "code",
      "source": [
        "car1 = car(\"BMW\",\"Black\")"
      ],
      "metadata": {
        "id": "HwZ8Sw904o-f"
      },
      "execution_count": null,
      "outputs": []
    },
    {
      "cell_type": "code",
      "source": [
        "car1.start()"
      ],
      "metadata": {
        "colab": {
          "base_uri": "https://localhost:8080/"
        },
        "id": "_iwlH9aq6ibD",
        "outputId": "748ad267-3516-409c-b1ba-544ec7ff6f87"
      },
      "execution_count": null,
      "outputs": [
        {
          "output_type": "stream",
          "name": "stdout",
          "text": [
            "The Black BMW car is starting\n"
          ]
        }
      ]
    },
    {
      "cell_type": "markdown",
      "source": [
        "# **Polymorphism** *means many forms*"
      ],
      "metadata": {
        "id": "DxvwiC_x7ewV"
      }
    },
    {
      "cell_type": "markdown",
      "source": [
        "polymorphism :-  1.compile time polymorphism,\n",
        "\n",
        " ----> function overloading\n",
        "\n",
        "  ---->operator overloading\n",
        "\n",
        "2.Run time polymorphism\n",
        "\n",
        "---->method overriding\n",
        "\n"
      ],
      "metadata": {
        "id": "VTd6daIP8Cbz"
      }
    },
    {
      "cell_type": "markdown",
      "source": [
        "#polymorphism with function"
      ],
      "metadata": {
        "id": "TO0T2Iaj-Am9"
      }
    },
    {
      "cell_type": "code",
      "source": [
        "class bird:\n",
        "  def fly(self):\n",
        "    print(\"bird is fly\")\n",
        "\n",
        "class airplane:\n",
        "  def fly(self):\n",
        "    print(\"airplane is fly\")"
      ],
      "metadata": {
        "id": "UyIlt19t7xh3"
      },
      "execution_count": null,
      "outputs": []
    },
    {
      "cell_type": "code",
      "source": [
        "Bird = bird()\n",
        "Airplane = airplane()"
      ],
      "metadata": {
        "id": "I_u-vmpT9kKn"
      },
      "execution_count": null,
      "outputs": []
    },
    {
      "cell_type": "code",
      "source": [
        "Bird.fly()\n",
        "Airplane.fly()"
      ],
      "metadata": {
        "colab": {
          "base_uri": "https://localhost:8080/"
        },
        "id": "4zezTNEN9tZH",
        "outputId": "a2d076e5-c607-4615-beff-ec43b6c9fb08"
      },
      "execution_count": null,
      "outputs": [
        {
          "output_type": "stream",
          "name": "stdout",
          "text": [
            "bird is fly\n",
            "airplane is fly\n"
          ]
        }
      ]
    },
    {
      "cell_type": "markdown",
      "source": [
        "#run time polymorphism - method over riding"
      ],
      "metadata": {
        "id": "J26tHDUU-GsK"
      }
    },
    {
      "cell_type": "markdown",
      "source": [
        "method overiding jab hota hai jab child class apne parent class ka method ko redefine karti hai.\n",
        "yeh ensure karta hai ki child classs ka method call ho jab object child class ka ho"
      ],
      "metadata": {
        "id": "Q6NyAoEl-THv"
      }
    },
    {
      "cell_type": "code",
      "source": [
        "#parent class\n",
        "class animal:\n",
        "  def make_sound(self):\n",
        "    print(\"animal make a sound\")\n",
        "\n",
        "#child class\n",
        "class dog(animal):\n",
        "  def make_sound(self):\n",
        "    print(\"dog bark\")\n",
        "\n",
        "#child class\n",
        "class cat(animal):\n",
        "  def make_sound(self):\n",
        "    print(\"cat meww\")"
      ],
      "metadata": {
        "id": "zgNBtWsL-2DC"
      },
      "execution_count": null,
      "outputs": []
    },
    {
      "cell_type": "code",
      "source": [
        "#object creation\n",
        "\n",
        "Animal = animal()\n",
        "Dog = dog()\n",
        "Cat = cat()"
      ],
      "metadata": {
        "id": "D2els4RnABUl"
      },
      "execution_count": null,
      "outputs": []
    },
    {
      "cell_type": "code",
      "source": [
        "Animal.make_sound()\n",
        "Dog.make_sound()\n",
        "Cat.make_sound()"
      ],
      "metadata": {
        "colab": {
          "base_uri": "https://localhost:8080/"
        },
        "id": "qTkHL8A2AURz",
        "outputId": "9f70f83a-cf32-43c7-bf62-07b816005a29"
      },
      "execution_count": null,
      "outputs": [
        {
          "output_type": "stream",
          "name": "stdout",
          "text": [
            "animal make a sound\n",
            "dog bark\n",
            "cat meww\n"
          ]
        }
      ]
    },
    {
      "cell_type": "markdown",
      "source": [
        "#compile time polymorphism - method overloading"
      ],
      "metadata": {
        "id": "6SJofVsK-1g1"
      }
    },
    {
      "cell_type": "markdown",
      "source": [
        "python mae method overloading dirct support nahi karta, lekin hum default argument ka use karke ek method ko  multiple tarike sae use kar sakte hai."
      ],
      "metadata": {
        "id": "U0TvvxpWAv1r"
      }
    },
    {
      "cell_type": "code",
      "source": [
        "class calculator:\n",
        "  def add(self, a,b, c=0):\n",
        "    print(a+b+c)"
      ],
      "metadata": {
        "id": "5VCBXEPbAuCT"
      },
      "execution_count": null,
      "outputs": []
    },
    {
      "cell_type": "code",
      "source": [
        "calc = calculator()"
      ],
      "metadata": {
        "id": "hNuTmeC4BUfJ"
      },
      "execution_count": null,
      "outputs": []
    },
    {
      "cell_type": "code",
      "source": [
        "calc.add(2,3)"
      ],
      "metadata": {
        "colab": {
          "base_uri": "https://localhost:8080/"
        },
        "id": "heU-8hyzBbCA",
        "outputId": "17e4dcf5-e0c7-40fd-d907-01b434944905"
      },
      "execution_count": null,
      "outputs": [
        {
          "output_type": "stream",
          "name": "stdout",
          "text": [
            "5\n"
          ]
        }
      ]
    },
    {
      "cell_type": "code",
      "source": [
        "calc.add(3,3,5)"
      ],
      "metadata": {
        "colab": {
          "base_uri": "https://localhost:8080/"
        },
        "id": "hCUeAqqcBqrA",
        "outputId": "5ca4fa58-476a-44aa-fcf4-52f8bf0284d6"
      },
      "execution_count": null,
      "outputs": [
        {
          "output_type": "stream",
          "name": "stdout",
          "text": [
            "11\n"
          ]
        }
      ]
    },
    {
      "cell_type": "markdown",
      "source": [
        "************"
      ],
      "metadata": {
        "id": "kCfyXMB1B3e2"
      }
    },
    {
      "cell_type": "markdown",
      "source": [
        "**Imagine** kariye ek software application jo different types of media files ko play karta hai jaise audio files aur video files. Hum ek MediaPlayer class create kar sakte hain jo play method ko define karega, aur phir AudioPlayer aur VideoPlayer classes inherit karengi MediaPlayer class ko aur play method ko override karengi apne specific behavior ke liye."
      ],
      "metadata": {
        "id": "2Kji9pjyCP-W"
      }
    },
    {
      "cell_type": "code",
      "source": [
        "class media_player:\n",
        "  def play(self):\n",
        "    print(\"playing media player\")\n",
        "\n",
        "class Audioplayer(media_player):\n",
        "  def play(self):\n",
        "    print(\"play the music\")\n",
        "\n",
        "class Videoplayer(media_player):\n",
        "  def play(self):\n",
        "    print(\"play the movie\")"
      ],
      "metadata": {
        "id": "AtJuP-IJB7PK"
      },
      "execution_count": null,
      "outputs": []
    },
    {
      "cell_type": "code",
      "source": [
        "media_player1 = media_player()\n",
        "audio = Audioplayer()\n",
        "vedio = Videoplayer()"
      ],
      "metadata": {
        "id": "hwLwJAT9DPZB"
      },
      "execution_count": null,
      "outputs": []
    },
    {
      "cell_type": "code",
      "source": [
        "media_player1.play()\n",
        "audio.play()\n",
        "vedio.play()"
      ],
      "metadata": {
        "colab": {
          "base_uri": "https://localhost:8080/"
        },
        "id": "xuq1YIa-DfuC",
        "outputId": "4c98701e-df9e-435c-9a75-4f3742852194"
      },
      "execution_count": null,
      "outputs": [
        {
          "output_type": "stream",
          "name": "stdout",
          "text": [
            "playing media player\n",
            "play the music\n",
            "play the movie\n"
          ]
        }
      ]
    },
    {
      "cell_type": "markdown",
      "source": [
        "#inheritance"
      ],
      "metadata": {
        "id": "_VBg49x5EGxt"
      }
    },
    {
      "cell_type": "code",
      "source": [
        "#single inheritance\n",
        "\n",
        "\n",
        "class parent:\n",
        "  def show(self):\n",
        "    print(\"this is parent class\")\n",
        "\n",
        "class child(parent):\n",
        "  def display(self):\n",
        "    print(\"this is child class\")"
      ],
      "metadata": {
        "id": "6m9uAVAGEKr7"
      },
      "execution_count": null,
      "outputs": []
    },
    {
      "cell_type": "code",
      "source": [
        "Child = child()"
      ],
      "metadata": {
        "id": "OQp2_0nO9_0B"
      },
      "execution_count": null,
      "outputs": []
    },
    {
      "cell_type": "code",
      "source": [
        "Child.show()\n",
        "Child.display()"
      ],
      "metadata": {
        "colab": {
          "base_uri": "https://localhost:8080/"
        },
        "id": "RRXqHHm1-Gbc",
        "outputId": "cb361417-0abe-44e3-942a-5d78c0ef204d"
      },
      "execution_count": null,
      "outputs": [
        {
          "output_type": "stream",
          "name": "stdout",
          "text": [
            "this is parent class\n",
            "this is child class\n"
          ]
        }
      ]
    },
    {
      "cell_type": "code",
      "source": [
        "#multiple inhritane\n",
        "\n",
        "class mother:\n",
        "  def show_mother(self):\n",
        "    print(\"this is mother class\")\n",
        "\n",
        "class father:\n",
        "  def show_father(self):\n",
        "    print(\"this is father class\")\n",
        "\n",
        "class Child(mother, father):\n",
        "  def show_child(self):\n",
        "    print(\"this is child class\")"
      ],
      "metadata": {
        "id": "l0uo-g7X-TyL"
      },
      "execution_count": null,
      "outputs": []
    },
    {
      "cell_type": "code",
      "source": [
        "child = Child()\n",
        "child.show_mother()\n",
        "child.show_father()\n",
        "child.show_child()"
      ],
      "metadata": {
        "colab": {
          "base_uri": "https://localhost:8080/"
        },
        "id": "nUFY1NdV-5dU",
        "outputId": "91c2f0c3-3886-4b0e-86da-2349fe7a1e66"
      },
      "execution_count": null,
      "outputs": [
        {
          "output_type": "stream",
          "name": "stdout",
          "text": [
            "this is mother class\n",
            "this is father class\n",
            "this is child class\n"
          ]
        }
      ]
    },
    {
      "cell_type": "code",
      "source": [
        "#multilevel inheritance\n",
        "\n",
        "class grandfather:\n",
        "  def show_gfather(self):\n",
        "    print(\"this is grand father class\")\n",
        "\n",
        "class parent(grandfather):\n",
        "  def show_parent(self):\n",
        "    print(\"this is parent class\")\n",
        "\n",
        "class Child(parent):\n",
        "  def show_child(self):\n",
        "    print(\"this is child class\")"
      ],
      "metadata": {
        "id": "F7JNv6CG_WGR"
      },
      "execution_count": null,
      "outputs": []
    },
    {
      "cell_type": "code",
      "source": [
        "child = Child()"
      ],
      "metadata": {
        "id": "b5LwR9_MAElw"
      },
      "execution_count": null,
      "outputs": []
    },
    {
      "cell_type": "code",
      "source": [
        "child.show_gfather()\n",
        "child.show_parent()\n",
        "child.show_child()"
      ],
      "metadata": {
        "colab": {
          "base_uri": "https://localhost:8080/"
        },
        "id": "GK50S20bALzM",
        "outputId": "d5e539c6-b178-4516-f86a-b378c85a27b0"
      },
      "execution_count": null,
      "outputs": [
        {
          "output_type": "stream",
          "name": "stdout",
          "text": [
            "this is grand father class\n",
            "this is parent class\n",
            "this is child class\n"
          ]
        }
      ]
    },
    {
      "cell_type": "code",
      "source": [
        "parent1 = parent()"
      ],
      "metadata": {
        "id": "f3wxiOxeAxED"
      },
      "execution_count": null,
      "outputs": []
    },
    {
      "cell_type": "code",
      "source": [
        "parent1.show_gfather()"
      ],
      "metadata": {
        "colab": {
          "base_uri": "https://localhost:8080/"
        },
        "id": "aUXq8x7xA1jg",
        "outputId": "e6b09805-1626-46ae-b781-786c5975f55d"
      },
      "execution_count": null,
      "outputs": [
        {
          "output_type": "stream",
          "name": "stdout",
          "text": [
            "this is grand father class\n"
          ]
        }
      ]
    },
    {
      "cell_type": "code",
      "source": [
        "#hierarichal inheritance\n",
        "\n",
        "class parent:\n",
        "  def show_parent(self):\n",
        "    print(\"this is parent\")\n",
        "\n",
        "class boy(parent):\n",
        "  def show_boy():\n",
        "    print(\"i am boy\")\n",
        "\n",
        "class girl(parent):\n",
        "  def show_girl():\n",
        "    print(\"i am girl\")"
      ],
      "metadata": {
        "id": "_JgaLe4oA-ir"
      },
      "execution_count": null,
      "outputs": []
    },
    {
      "cell_type": "code",
      "source": [
        "childb = boy()\n",
        "childg = girl()"
      ],
      "metadata": {
        "id": "Q-JUkb13Btb4"
      },
      "execution_count": null,
      "outputs": []
    },
    {
      "cell_type": "code",
      "source": [
        "childb.show_parent()\n",
        "childg.show_parent()"
      ],
      "metadata": {
        "colab": {
          "base_uri": "https://localhost:8080/"
        },
        "id": "bbQhQdJrB_lF",
        "outputId": "f73054af-4b52-4ab6-ef45-ca75685b880f"
      },
      "execution_count": null,
      "outputs": [
        {
          "output_type": "stream",
          "name": "stdout",
          "text": [
            "this is parent\n",
            "this is parent\n"
          ]
        }
      ]
    },
    {
      "cell_type": "markdown",
      "source": [
        "#Numpy"
      ],
      "metadata": {
        "id": "6AftCB9n1sFG"
      }
    },
    {
      "cell_type": "code",
      "source": [
        "import numpy as np"
      ],
      "metadata": {
        "id": "EzheDjHZ1v78"
      },
      "execution_count": null,
      "outputs": []
    },
    {
      "cell_type": "code",
      "source": [
        "arr = np.array([1, 2, 3, 4, 5])\n",
        "print(arr)\n",
        "print(type(arr))\n",
        "print(arr.ndim)  #check dimension of the array"
      ],
      "metadata": {
        "colab": {
          "base_uri": "https://localhost:8080/"
        },
        "id": "E-qbQy7q17O8",
        "outputId": "055e625e-538e-404f-a564-927481072ea4"
      },
      "execution_count": null,
      "outputs": [
        {
          "output_type": "stream",
          "name": "stdout",
          "text": [
            "[1 2 3 4 5]\n",
            "<class 'numpy.ndarray'>\n",
            "1\n"
          ]
        }
      ]
    },
    {
      "cell_type": "code",
      "source": [
        "arr = np.array((1, 2, 3, 4, 5))\n",
        "print(arr)\n",
        "print(type(arr))\n",
        "print(arr.ndim)"
      ],
      "metadata": {
        "colab": {
          "base_uri": "https://localhost:8080/"
        },
        "id": "UcZcsNRw2XxI",
        "outputId": "e244c1ac-160e-41f7-82bf-7c186b3bd179"
      },
      "execution_count": null,
      "outputs": [
        {
          "output_type": "stream",
          "name": "stdout",
          "text": [
            "[1 2 3 4 5]\n",
            "<class 'numpy.ndarray'>\n",
            "1\n"
          ]
        }
      ]
    },
    {
      "cell_type": "code",
      "source": [
        "#different dimensional array create\n",
        "\n",
        "#0 d array\n",
        "arr1 = np.array(23)\n",
        "print(arr1)\n",
        "print(arr1.ndim)"
      ],
      "metadata": {
        "colab": {
          "base_uri": "https://localhost:8080/"
        },
        "id": "56WEhKEh2dj7",
        "outputId": "d030af33-6438-4087-dc17-43fdd25506d2"
      },
      "execution_count": null,
      "outputs": [
        {
          "output_type": "stream",
          "name": "stdout",
          "text": [
            "23\n",
            "0\n"
          ]
        }
      ]
    },
    {
      "cell_type": "code",
      "source": [
        "#1d array\n",
        "arr2 = np.array([1,2,3,4,5,6])\n",
        "print(arr2)\n",
        "print(arr2.ndim)"
      ],
      "metadata": {
        "colab": {
          "base_uri": "https://localhost:8080/"
        },
        "id": "TkM-lEqx4nRF",
        "outputId": "12f5cbc7-0919-49da-9bf5-ffd5fca5ae87"
      },
      "execution_count": null,
      "outputs": [
        {
          "output_type": "stream",
          "name": "stdout",
          "text": [
            "[1 2 3 4 5 6]\n",
            "1\n"
          ]
        }
      ]
    },
    {
      "cell_type": "code",
      "source": [
        "#2d array\n",
        "arr3 = np.array([[1,2,3,4],[1.1,2.2,3.5,4.5]])\n",
        "print(arr3)\n",
        "print(arr3.ndim)"
      ],
      "metadata": {
        "colab": {
          "base_uri": "https://localhost:8080/"
        },
        "id": "uOBabEFh4qWN",
        "outputId": "a65f56a0-9bc2-4ea2-8f6f-9ea365b44660"
      },
      "execution_count": null,
      "outputs": [
        {
          "output_type": "stream",
          "name": "stdout",
          "text": [
            "[[1.  2.  3.  4. ]\n",
            " [1.1 2.2 3.5 4.5]]\n",
            "2\n"
          ]
        }
      ]
    },
    {
      "cell_type": "code",
      "source": [
        "#3d array\n",
        "arr4 = np.array([[[1,2,3,4],[8,7,6,5]],[[4,6,4,3],[8,6,4,5]]])\n",
        "print(arr4)\n",
        "print(arr4.ndim)"
      ],
      "metadata": {
        "colab": {
          "base_uri": "https://localhost:8080/"
        },
        "id": "MiX554oQ4vB6",
        "outputId": "611c0060-bfa1-41df-f60c-8660d54c332f"
      },
      "execution_count": null,
      "outputs": [
        {
          "output_type": "stream",
          "name": "stdout",
          "text": [
            "[[[1 2 3 4]\n",
            "  [8 7 6 5]]\n",
            "\n",
            " [[4 6 4 3]\n",
            "  [8 6 4 5]]]\n",
            "3\n"
          ]
        }
      ]
    },
    {
      "cell_type": "markdown",
      "source": [
        "------------\n",
        "create an array with 5 dimension and verify that it has 5 dimension:"
      ],
      "metadata": {
        "id": "95NV0nEn5mR_"
      }
    },
    {
      "cell_type": "code",
      "source": [
        "import numpy as np\n",
        "arr = np.array([1, 6, 75, 7], ndmin=5) #define the no. of dimension is 5(ndmin is an optional argument used when creating an array with numpy.array(). It specifies the minimum number of dimensions (axes) the resulting NumPy array should have)\n",
        "print(arr)\n",
        "print(\"number of dimension : \",arr.ndim)"
      ],
      "metadata": {
        "colab": {
          "base_uri": "https://localhost:8080/"
        },
        "id": "v-qUSfqp51r0",
        "outputId": "c514130f-c1f3-49c0-c0f7-b72f5d297380"
      },
      "execution_count": null,
      "outputs": [
        {
          "output_type": "stream",
          "name": "stdout",
          "text": [
            "[[[[[ 1  6 75  7]]]]]\n",
            "number of dimension :  5\n"
          ]
        }
      ]
    },
    {
      "cell_type": "markdown",
      "source": [
        "#indexing of array"
      ],
      "metadata": {
        "id": "uQTyKgYV7bdM"
      }
    },
    {
      "cell_type": "code",
      "source": [
        "#indexing of 1d array\n",
        "arr2 = np.array([1,2,3,4,5,6])\n",
        "print(arr2[2]) #its check the second position indexing start with 0 so print the 3"
      ],
      "metadata": {
        "colab": {
          "base_uri": "https://localhost:8080/"
        },
        "id": "LYjX7RT665bT",
        "outputId": "2f9fdc84-2876-425f-885a-33587b165590"
      },
      "execution_count": null,
      "outputs": [
        {
          "output_type": "stream",
          "name": "stdout",
          "text": [
            "3\n"
          ]
        }
      ]
    },
    {
      "cell_type": "markdown",
      "source": [
        "Question 46:\n",
        "\n",
        "create 1d araay and get the 3rd, 6th and 8th element from the creating array and add them"
      ],
      "metadata": {
        "id": "s_o4LP908HJO"
      }
    },
    {
      "cell_type": "code",
      "source": [
        "a = np.array([41, 32, 53, 86, 45, 26, 86, 43, 13, 65, 75])\n",
        "print(\"3rd element : \",a[2])\n",
        "print(\"6th element : \",a[5])\n",
        "print(\"8th element : \",a[7])\n",
        "print(\"total summ of the element is : \", a[2]+a[5]+a[7])"
      ],
      "metadata": {
        "colab": {
          "base_uri": "https://localhost:8080/"
        },
        "id": "BkeOLnOu71KV",
        "outputId": "cdf82e15-cfa2-4888-ab41-b0463e37658c"
      },
      "execution_count": null,
      "outputs": [
        {
          "output_type": "stream",
          "name": "stdout",
          "text": [
            "3rd element :  53\n",
            "6th element :  26\n",
            "8th element :  43\n",
            "total summ of the element is :  122\n"
          ]
        }
      ]
    },
    {
      "cell_type": "code",
      "source": [
        "#indexing of 2d array\n",
        "\n",
        "arr = np.array([[10, 20, 30, 40, 50],[11, 22, 33, 44, 55]])\n",
        "print(\"2nd row of 1st element: \",arr[1,0])"
      ],
      "metadata": {
        "colab": {
          "base_uri": "https://localhost:8080/"
        },
        "id": "bvn7HjWj9LcK",
        "outputId": "c04e96e8-a285-48fc-cc8b-17bae87ad434"
      },
      "execution_count": null,
      "outputs": [
        {
          "output_type": "stream",
          "name": "stdout",
          "text": [
            "2nd row of 1st element:  11\n"
          ]
        }
      ]
    },
    {
      "cell_type": "markdown",
      "source": [
        "Question 47:\n",
        "\n",
        "add the first element  of row 1st and last element of row second"
      ],
      "metadata": {
        "id": "-Yw_gvHM91Nk"
      }
    },
    {
      "cell_type": "code",
      "source": [
        "arr = np.array([[10, 20, 30, 40, 50],[11, 22, 33, 44, 55]])\n",
        "print(\"1st element of row 1st : \", arr[0,0])\n",
        "print(\"last element of row 2nd : \", arr[1,4])\n",
        "print(\"sum of the element : \",arr[0,0]+ arr[1,4] )"
      ],
      "metadata": {
        "colab": {
          "base_uri": "https://localhost:8080/"
        },
        "id": "FeIwzkVO-IJC",
        "outputId": "ef2e1065-403f-4952-f936-2fa6f336953d"
      },
      "execution_count": null,
      "outputs": [
        {
          "output_type": "stream",
          "name": "stdout",
          "text": [
            "1st element of row 1st :  10\n",
            "last element of row 2nd :  55\n",
            "sum of the element :  65\n"
          ]
        }
      ]
    },
    {
      "cell_type": "code",
      "source": [
        "#indexing of 3d array\n",
        "\n",
        "arr = np.array([[[1, 2, 3],[4, 5, 6]],[[7, 8, 9],[10, 11, 12]]])\n",
        "#access 6, 3, 7, 12\n",
        "print(\"acess for 6 : \",arr[0, 1, 2])\n",
        "print(\"acess for 3 : \",arr[0, 0, 2])\n",
        "print(\"acess for 7 : \",arr[1, 0, 0])\n",
        "print(\"acess for 12 : \",arr[1, 1, 2])"
      ],
      "metadata": {
        "colab": {
          "base_uri": "https://localhost:8080/"
        },
        "id": "4Nzkl9qx-uDL",
        "outputId": "93388de3-5367-4617-d3e8-a75b84230a49"
      },
      "execution_count": null,
      "outputs": [
        {
          "output_type": "stream",
          "name": "stdout",
          "text": [
            "acess for 6 :  6\n",
            "acess for 3 :  3\n",
            "acess for 7 :  7\n",
            "acess for 12 :  12\n"
          ]
        }
      ]
    },
    {
      "cell_type": "markdown",
      "source": [
        "#SLICING OF ARRAY"
      ],
      "metadata": {
        "id": "PQekf6yuNGS9"
      }
    },
    {
      "cell_type": "code",
      "source": [
        "#1d array slicing\n",
        "\n",
        "import numpy as np\n",
        "a = np.array([41, 32, 53, 86, 45, 26, 86, 43, 13, 65, 75])\n",
        "print(a[2:5]) # print 53 86 45\n",
        "\n",
        "#2d array slicing\n",
        "\n",
        "arr = np.array([[10, 20, 30, 40, 50],[11, 22, 33, 44, 55]])\n",
        "print(arr[1,0:]) #print all second row\n",
        "\n",
        "#3d array slicing\n",
        "\n",
        "arr1 = np.array([[[1, 2, 3],[4, 5, 6]],[[7, 8, 9],[10, 11, 12]]])\n",
        "print(arr1[0,1,1:])"
      ],
      "metadata": {
        "colab": {
          "base_uri": "https://localhost:8080/"
        },
        "id": "gwnXeeTqNOz-",
        "outputId": "fdb68421-ff90-4290-9ed7-d35d73fb24e0"
      },
      "execution_count": null,
      "outputs": [
        {
          "output_type": "stream",
          "name": "stdout",
          "text": [
            "[53 86 45]\n",
            "[11 22 33 44 55]\n",
            "[5 6]\n"
          ]
        }
      ]
    },
    {
      "cell_type": "code",
      "source": [
        "##Data Types in NumPy\n",
        "\n",
        "#NumPy has some extra data types, and refer to data types with one character, like i for integers,\n",
        "\n",
        "#i - integer\n",
        "\n",
        "#b - boolean\n",
        "\n",
        "#u - unsigned integer\n",
        "\n",
        "#f - float\n",
        "\n",
        "#C - complex float\n",
        "\n",
        "#m - timedelta\n",
        "\n",
        "#M - datetime\n",
        "\n",
        "#O - object\n",
        "\n",
        "#S - string\n",
        "\n",
        "#U - unicode string U\n",
        "\n",
        "#V - fixed chunk of memory for other type (void)"
      ],
      "metadata": {
        "id": "kKvfYfI2PMA2"
      },
      "execution_count": null,
      "outputs": []
    },
    {
      "cell_type": "markdown",
      "source": [
        "#checking the datatype of array    (name_of_array.dtype)not make the function"
      ],
      "metadata": {
        "id": "uEMRFXcPP5Il"
      }
    },
    {
      "cell_type": "code",
      "source": [
        "a = np.array([41, 32, 53, 86, 45, 26, 86, 43, 13, 65, 75])\n",
        "print(a.dtype)"
      ],
      "metadata": {
        "colab": {
          "base_uri": "https://localhost:8080/"
        },
        "id": "llvZqVTIQG2Q",
        "outputId": "84c96dfd-d9a9-44fe-c0bc-1cdd4f869f2c"
      },
      "execution_count": null,
      "outputs": [
        {
          "output_type": "stream",
          "name": "stdout",
          "text": [
            "int64\n"
          ]
        }
      ]
    },
    {
      "cell_type": "code",
      "source": [
        "a = np.array([\"sahil\",\"puja\",\"basanti\",\"varsha\"])\n",
        "print(a.dtype)"
      ],
      "metadata": {
        "colab": {
          "base_uri": "https://localhost:8080/"
        },
        "id": "md49yJu_Qkwb",
        "outputId": "979bf836-a531-4caa-9b49-93cd3ac9e8b0"
      },
      "execution_count": null,
      "outputs": [
        {
          "output_type": "stream",
          "name": "stdout",
          "text": [
            "<U7\n"
          ]
        }
      ]
    },
    {
      "cell_type": "markdown",
      "source": [
        "#creating array with define datatype"
      ],
      "metadata": {
        "id": "87wKfT0tRJfG"
      }
    },
    {
      "cell_type": "code",
      "source": [
        "a = np.array([41, 32, 53, 86, 45, 26, 86, 43, 13, 65, 75], dtype = \"S\")\n",
        "print(a.dtype)\n",
        "print(a)"
      ],
      "metadata": {
        "colab": {
          "base_uri": "https://localhost:8080/"
        },
        "id": "k1w0bA0yRN7V",
        "outputId": "94eda46a-7c21-401f-903c-99f65a6ee1d9"
      },
      "execution_count": null,
      "outputs": [
        {
          "output_type": "stream",
          "name": "stdout",
          "text": [
            "|S2\n",
            "[b'41' b'32' b'53' b'86' b'45' b'26' b'86' b'43' b'13' b'65' b'75']\n"
          ]
        }
      ]
    },
    {
      "cell_type": "code",
      "source": [
        "#create an array with datatype 4 bytes integer\n",
        "\n",
        "arr = np.array([1, 2, 3, 4], dtype = 'i4')\n",
        "print(arr.dtype)\n",
        "print(arr)"
      ],
      "metadata": {
        "colab": {
          "base_uri": "https://localhost:8080/"
        },
        "id": "vSOOixISRsQo",
        "outputId": "21ae46ed-c193-4217-f254-7fb4e42f558a"
      },
      "execution_count": null,
      "outputs": [
        {
          "output_type": "stream",
          "name": "stdout",
          "text": [
            "int32\n",
            "[1 2 3 4]\n"
          ]
        }
      ]
    },
    {
      "cell_type": "markdown",
      "source": [
        "#numpy array shape"
      ],
      "metadata": {
        "id": "kZ62bFwZSMEI"
      }
    },
    {
      "cell_type": "code",
      "source": [
        "arr = np.array([[10, 20, 30, 40, 50],[11, 22, 33, 44, 55]])\n",
        "print(arr.shape)"
      ],
      "metadata": {
        "colab": {
          "base_uri": "https://localhost:8080/"
        },
        "id": "79plyCLhSR0u",
        "outputId": "7d0e5f3f-08b3-4094-c7d1-5ea4dcb0f6e8"
      },
      "execution_count": null,
      "outputs": [
        {
          "output_type": "stream",
          "name": "stdout",
          "text": [
            "(2, 5)\n"
          ]
        }
      ]
    },
    {
      "cell_type": "code",
      "source": [
        "import numpy as np\n",
        "a = np.array([41, 32, 53, 86, 45, 26, 86, 43, 13, 65, 75])\n",
        "print(a.shape)"
      ],
      "metadata": {
        "colab": {
          "base_uri": "https://localhost:8080/"
        },
        "id": "mKgMhN2BTNbL",
        "outputId": "90d59054-4ddb-499f-ef8c-7e524d146715"
      },
      "execution_count": 1,
      "outputs": [
        {
          "output_type": "stream",
          "name": "stdout",
          "text": [
            "(11,)\n"
          ]
        }
      ]
    },
    {
      "cell_type": "code",
      "source": [
        "arr = np.array([[[1, 2, 3],[4, 5, 6]],[[7, 8, 9],[10, 11, 12]]])\n",
        "print(arr.shape)"
      ],
      "metadata": {
        "colab": {
          "base_uri": "https://localhost:8080/"
        },
        "id": "igD4LjPMUPVt",
        "outputId": "07606eac-9770-4b79-da3c-c3bcc9bdb151"
      },
      "execution_count": 2,
      "outputs": [
        {
          "output_type": "stream",
          "name": "stdout",
          "text": [
            "(2, 2, 3)\n"
          ]
        }
      ]
    },
    {
      "cell_type": "markdown",
      "source": [
        "# joining numpy array"
      ],
      "metadata": {
        "id": "JdDadg67UfRV"
      }
    },
    {
      "cell_type": "code",
      "source": [
        "arr1 = np.array([1, 2, 3])\n",
        "arr2 = np.array([4, 5, 6])\n",
        "arr = np.concatenate((arr1, arr2))\n",
        "print(arr)"
      ],
      "metadata": {
        "colab": {
          "base_uri": "https://localhost:8080/"
        },
        "id": "c1wgbWlOUjUX",
        "outputId": "96eef916-f423-4a39-d4af-31aff308fdfa"
      },
      "execution_count": 4,
      "outputs": [
        {
          "output_type": "stream",
          "name": "stdout",
          "text": [
            "[1 2 3 4 5 6]\n"
          ]
        }
      ]
    },
    {
      "cell_type": "code",
      "source": [
        "#join 2d array\n",
        "\n",
        "arr1 = np.array([[1, 2, 3],[7, 8, 9]])\n",
        "arr2 = np.array([[4, 5, 6],[10, 11, 12]])\n",
        "arr = np.concatenate((arr1, arr2), axis=1)\n",
        "print(arr)"
      ],
      "metadata": {
        "colab": {
          "base_uri": "https://localhost:8080/"
        },
        "id": "xqgBxmI5VLIB",
        "outputId": "459341bb-e53e-443d-a3f2-39b4d2c31873"
      },
      "execution_count": 5,
      "outputs": [
        {
          "output_type": "stream",
          "name": "stdout",
          "text": [
            "[[ 1  2  3  4  5  6]\n",
            " [ 7  8  9 10 11 12]]\n"
          ]
        }
      ]
    },
    {
      "cell_type": "code",
      "source": [
        "arr1 = np.array([[1, 2, 3],[7, 8, 9]])\n",
        "arr2 = np.array([[4, 5, 6],[10, 11, 12]])\n",
        "arr = np.concatenate((arr1, arr2), axis=0)\n",
        "print(arr)\n",
        "print(arr.shape)"
      ],
      "metadata": {
        "colab": {
          "base_uri": "https://localhost:8080/"
        },
        "id": "mleulvVBVufY",
        "outputId": "d9d80a6c-4c55-45e1-f3b8-1f1bafdbebe9"
      },
      "execution_count": 7,
      "outputs": [
        {
          "output_type": "stream",
          "name": "stdout",
          "text": [
            "[[ 1  2  3]\n",
            " [ 7  8  9]\n",
            " [ 4  5  6]\n",
            " [10 11 12]]\n",
            "(4, 3)\n"
          ]
        }
      ]
    },
    {
      "cell_type": "markdown",
      "source": [
        "#splitting numpy array"
      ],
      "metadata": {
        "id": "pSaXNc8dWMtB"
      }
    },
    {
      "cell_type": "code",
      "source": [
        "arr =np.array([1, 2, 3, 4, 5, 6])\n",
        "newarr = np.array_split(arr,3)\n",
        "print(newarr)"
      ],
      "metadata": {
        "colab": {
          "base_uri": "https://localhost:8080/"
        },
        "id": "rIVp_FxPWMJL",
        "outputId": "dbd8a5ac-95e6-428a-e87b-44563b6b379c"
      },
      "execution_count": 8,
      "outputs": [
        {
          "output_type": "stream",
          "name": "stdout",
          "text": [
            "[array([1, 2]), array([3, 4]), array([5, 6])]\n"
          ]
        }
      ]
    },
    {
      "cell_type": "code",
      "source": [
        "#splitting the array 4 part\n",
        "arr =np.array([1, 2, 3, 4, 5, 6])\n",
        "newarr = np.array_split(arr,4)\n",
        "print(newarr)"
      ],
      "metadata": {
        "colab": {
          "base_uri": "https://localhost:8080/"
        },
        "id": "gojWqfx7Wm2R",
        "outputId": "d154f5b0-c22d-4f30-d5c3-3aa8395e6c39"
      },
      "execution_count": 9,
      "outputs": [
        {
          "output_type": "stream",
          "name": "stdout",
          "text": [
            "[array([1, 2]), array([3, 4]), array([5]), array([6])]\n"
          ]
        }
      ]
    },
    {
      "cell_type": "code",
      "source": [
        "arr2 = np.array([[4, 5, 6],[10, 11, 12]])\n",
        "arr = np.array_split(arr2, 2)\n",
        "print(arr)"
      ],
      "metadata": {
        "colab": {
          "base_uri": "https://localhost:8080/"
        },
        "id": "HtLDfquiYyFT",
        "outputId": "e0ed6ec9-3374-4649-c0e8-1f9cc67afaae"
      },
      "execution_count": 16,
      "outputs": [
        {
          "output_type": "stream",
          "name": "stdout",
          "text": [
            "[array([[4, 5, 6]]), array([[10, 11, 12]])]\n"
          ]
        }
      ]
    },
    {
      "cell_type": "markdown",
      "source": [
        "#ravel and flatten\n",
        "convert multidimensional array into 1d array"
      ],
      "metadata": {
        "id": "uNYZxe25WxDV"
      }
    },
    {
      "cell_type": "code",
      "source": [
        "m = np.array([[[1, 2, 3],[4, 5, 6],[7, 8, 9]]])\n",
        "print(m)\n",
        "print(\"dimension is \",m.ndim)\n",
        "n = m.ravel()\n",
        "print(n)\n",
        "print(\"new array after applying the ravel and flatten\",n.ndim)"
      ],
      "metadata": {
        "colab": {
          "base_uri": "https://localhost:8080/"
        },
        "id": "sr_sbS6LW02A",
        "outputId": "25826282-f100-4191-be0f-9526a51c46ce"
      },
      "execution_count": 14,
      "outputs": [
        {
          "output_type": "stream",
          "name": "stdout",
          "text": [
            "[[[1 2 3]\n",
            "  [4 5 6]\n",
            "  [7 8 9]]]\n",
            "dimension is  3\n",
            "[1 2 3 4 5 6 7 8 9]\n",
            "new array after applying the ravel and flatten 1\n"
          ]
        }
      ]
    },
    {
      "cell_type": "code",
      "source": [
        "m = np.array([[[1, 2, 3],[4, 5, 6],[7, 8, 9]]])\n",
        "print(m)\n",
        "print(\"dimension is \",m.ndim)\n",
        "n = m.flatten()\n",
        "print(n)\n",
        "print(\"new array after applying the ravel and flatten\",n.ndim)"
      ],
      "metadata": {
        "colab": {
          "base_uri": "https://localhost:8080/"
        },
        "id": "IppIaJLgYbcB",
        "outputId": "56ebad87-3c1a-47bf-f975-dd270ab6e5d2"
      },
      "execution_count": 15,
      "outputs": [
        {
          "output_type": "stream",
          "name": "stdout",
          "text": [
            "[[[1 2 3]\n",
            "  [4 5 6]\n",
            "  [7 8 9]]]\n",
            "dimension is  3\n",
            "[1 2 3 4 5 6 7 8 9]\n",
            "new array after applying the ravel and flatten 1\n"
          ]
        }
      ]
    },
    {
      "cell_type": "markdown",
      "source": [
        "#unique function"
      ],
      "metadata": {
        "id": "9bCkWMVSZBuQ"
      }
    },
    {
      "cell_type": "code",
      "source": [
        "a =np.array([12, 13, 4, 6, 7, 3, 8, 10, 45, 12, 4, 6, 45])\n",
        "print(a)\n",
        "x= np.unique(a)\n",
        "print(x)"
      ],
      "metadata": {
        "colab": {
          "base_uri": "https://localhost:8080/"
        },
        "id": "jg4np6hlZFB9",
        "outputId": "8c4c3c61-dc9c-42b8-aa52-40f107016f1a"
      },
      "execution_count": 17,
      "outputs": [
        {
          "output_type": "stream",
          "name": "stdout",
          "text": [
            "[12 13  4  6  7  3  8 10 45 12  4  6 45]\n",
            "[ 3  4  6  7  8 10 12 13 45]\n"
          ]
        }
      ]
    },
    {
      "cell_type": "code",
      "source": [
        "a =np.array([12, 13, 4, 6, 7, 3, 8, 10, 45, 12, 4, 6, 45])\n",
        "print(a)\n",
        "x= np.unique(a, return_index = True)#index no. batayega\n",
        "print(x)"
      ],
      "metadata": {
        "colab": {
          "base_uri": "https://localhost:8080/"
        },
        "id": "gKQn8BEEZka2",
        "outputId": "90214f1d-77d8-4f38-a172-66e5d5e72688"
      },
      "execution_count": 18,
      "outputs": [
        {
          "output_type": "stream",
          "name": "stdout",
          "text": [
            "[12 13  4  6  7  3  8 10 45 12  4  6 45]\n",
            "(array([ 3,  4,  6,  7,  8, 10, 12, 13, 45]), array([5, 2, 3, 4, 6, 7, 0, 1, 8]))\n"
          ]
        }
      ]
    },
    {
      "cell_type": "code",
      "source": [
        "a =np.array([12, 13, 4, 6, 7, 3, 8, 10, 45, 12, 4, 6, 45])\n",
        "print(a)\n",
        "x= np.unique(a, return_index = True, return_counts = True)# index no. aur count kar kae batayega ki kon sa no. kitni baar aa raha\n",
        "print(x)"
      ],
      "metadata": {
        "colab": {
          "base_uri": "https://localhost:8080/"
        },
        "id": "OiA0FzaGZwx4",
        "outputId": "4c0502eb-6ea4-4145-ec5e-99fda4d33f93"
      },
      "execution_count": 19,
      "outputs": [
        {
          "output_type": "stream",
          "name": "stdout",
          "text": [
            "[12 13  4  6  7  3  8 10 45 12  4  6 45]\n",
            "(array([ 3,  4,  6,  7,  8, 10, 12, 13, 45]), array([5, 2, 3, 4, 6, 7, 0, 1, 8]), array([1, 2, 2, 1, 1, 1, 2, 1, 2]))\n"
          ]
        }
      ]
    },
    {
      "cell_type": "markdown",
      "source": [
        "#delete"
      ],
      "metadata": {
        "id": "xghqs_nJaTU2"
      }
    },
    {
      "cell_type": "code",
      "source": [
        "a = np.array([12, 34, 65, 30, 56, 56])\n",
        "d = np.delete(a,[4])#indexing position 4 ko delete kar dega\n",
        "print(d)"
      ],
      "metadata": {
        "colab": {
          "base_uri": "https://localhost:8080/"
        },
        "id": "V5sdrhitaWBt",
        "outputId": "0e949638-c629-45b1-af53-0ac680e09bc2"
      },
      "execution_count": 21,
      "outputs": [
        {
          "output_type": "stream",
          "name": "stdout",
          "text": [
            "[12 34 65 30 56]\n"
          ]
        }
      ]
    },
    {
      "cell_type": "code",
      "source": [
        "m = np.array([[1, 2, 3],[4, 5, 6],[7, 8, 9]])\n",
        "print(m)\n",
        "y= np.delete(m,1, axis = 0)\n",
        "print()\n",
        "print(y)"
      ],
      "metadata": {
        "colab": {
          "base_uri": "https://localhost:8080/"
        },
        "id": "o7iZVecrckAj",
        "outputId": "b2a5d269-88ac-4055-ecf5-b228ebe35a2c"
      },
      "execution_count": 24,
      "outputs": [
        {
          "output_type": "stream",
          "name": "stdout",
          "text": [
            "[[1 2 3]\n",
            " [4 5 6]\n",
            " [7 8 9]]\n",
            "\n",
            "[[1 2 3]\n",
            " [7 8 9]]\n"
          ]
        }
      ]
    },
    {
      "cell_type": "markdown",
      "source": [
        "#Pandas library"
      ],
      "metadata": {
        "id": "ihJJTL-2dO0g"
      }
    },
    {
      "cell_type": "code",
      "source": [],
      "metadata": {
        "id": "cP8-KeaidUvi"
      },
      "execution_count": null,
      "outputs": []
    }
  ],
  "metadata": {
    "colab": {
      "provenance": [],
      "authorship_tag": "ABX9TyOqqp/FaW4DlQ2jed3bI28v",
      "include_colab_link": true
    },
    "kernelspec": {
      "display_name": "Python 3",
      "name": "python3"
    },
    "language_info": {
      "name": "python"
    }
  },
  "nbformat": 4,
  "nbformat_minor": 0
}
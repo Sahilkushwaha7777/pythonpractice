{
  "cells": [
    {
      "cell_type": "markdown",
      "metadata": {
        "id": "view-in-github",
        "colab_type": "text"
      },
      "source": [
        "<a href=\"https://colab.research.google.com/github/Sahilkushwaha7777/pythonpractice/blob/main/Practicequestion.ipynb\" target=\"_parent\"><img src=\"https://colab.research.google.com/assets/colab-badge.svg\" alt=\"Open In Colab\"/></a>"
      ]
    },
    {
      "cell_type": "markdown",
      "metadata": {
        "id": "TUAl6OukKsHo"
      },
      "source": [
        "Question 1:\n",
        "\n",
        "Imagine you are working on a customer management system, and you have first name and last name of a customer storedas separate variable, you are developing a customer management system for a retail store, In your database, you have the first name and last name of a customer stored as seperate variable: first_name=\"john\" and last_name=\"Doe\". how would you concatenate these strings to form the full name \"john Doe\" for the customer's profile"
      ]
    },
    {
      "cell_type": "code",
      "execution_count": null,
      "metadata": {
        "colab": {
          "base_uri": "https://localhost:8080/"
        },
        "id": "zP-ERAuLKPuw",
        "outputId": "72375207-e4ce-4f3d-f605-40be2acbea30"
      },
      "outputs": [
        {
          "name": "stdout",
          "output_type": "stream",
          "text": [
            "john Doe\n"
          ]
        }
      ],
      "source": [
        "first_name= \"john\"\n",
        "last_name= \"Doe\"\n",
        "\n",
        "full_name= first_name+ \" \"+ last_name\n",
        "print(full_name)"
      ]
    },
    {
      "cell_type": "markdown",
      "metadata": {
        "id": "OCTAiqb1NYMc"
      },
      "source": [
        "Question 2:\n",
        "\n",
        "you have a variable with X with the value 5. How would you reassign X to have the value 10?"
      ]
    },
    {
      "cell_type": "code",
      "execution_count": null,
      "metadata": {
        "colab": {
          "base_uri": "https://localhost:8080/"
        },
        "id": "xDsvebVxNsNg",
        "outputId": "3e563110-14ce-4019-b37a-45a58415c5da"
      },
      "outputs": [
        {
          "name": "stdout",
          "output_type": "stream",
          "text": [
            "before reassign = 5\n",
            "after reassign = 10\n"
          ]
        }
      ],
      "source": [
        "x=5\n",
        "print(\"before reassign =\", x)\n",
        "\n",
        "x=10\n",
        "print(\"after reassign =\", x)\n"
      ]
    },
    {
      "cell_type": "markdown",
      "metadata": {
        "id": "3iUacHE6U5I4"
      },
      "source": [
        "Question 3:\n",
        "\n",
        "You have a data containing two record: \"quantity\" and \"price per unit\". how would you use arithmetic operator to calculate the total cost for each item , also calculate the total cost? product_1, quantity-5, price_per_unit-rs250, product_2, quantity - 25, price per unit -rs 656, product_3, quantity - 34, price_per_unit - rs274"
      ]
    },
    {
      "cell_type": "code",
      "execution_count": null,
      "metadata": {
        "colab": {
          "base_uri": "https://localhost:8080/"
        },
        "id": "QISCrfamWEXD",
        "outputId": "bc09d9d4-a0c2-493e-8bfb-7c1345117c70"
      },
      "outputs": [
        {
          "name": "stdout",
          "output_type": "stream",
          "text": [
            "total cost for product 1st : 1250 rs\n",
            "total cost for product 1st : 16400 rs\n",
            "total cost for product 1st : 9316 rs\n",
            "total cost custumer pay : 26966 rs\n"
          ]
        }
      ],
      "source": [
        "#product_1\n",
        "quantity = 5\n",
        "price_per_unit = 250\n",
        "product_1 = quantity * price_per_unit\n",
        "print(\"total cost for product 1st :\",product_1 ,\"rs\")\n",
        "\n",
        "#product_2\n",
        "quantity = 25\n",
        "price_per_unit = 656\n",
        "product_2 = quantity * price_per_unit\n",
        "print(\"total cost for product 1st :\",product_2 ,\"rs\")\n",
        "\n",
        "#product_3\n",
        "quantity = 34\n",
        "price_per_unit = 274\n",
        "product_3 = quantity * price_per_unit\n",
        "print(\"total cost for product 1st :\",product_3 ,\"rs\")\n",
        "\n",
        "\n",
        "print(\"total cost custumer pay :\", product_1 + product_2 + product_3 ,\"rs\")"
      ]
    },
    {
      "cell_type": "markdown",
      "metadata": {
        "id": "oPxP6vVVYDQc"
      },
      "source": [
        "Queation 4:\n",
        "\n",
        "In a finance based organisation, the task is to calculate the simple interest given the principal amount, interest rate, and time priod. the interst rate is 8%, the principal amount is Rs 15,00,000, and the time period is 3 years. Calculate the simple interest. also, the threshold amount is Rs 1,20,000. please check if the calculated interest is greater  or less than the threshold amount."
      ]
    },
    {
      "cell_type": "code",
      "execution_count": null,
      "metadata": {
        "colab": {
          "base_uri": "https://localhost:8080/"
        },
        "id": "FO8zEfNsZG0p",
        "outputId": "39a653ae-c183-4ef2-cbbb-aef1e48e9cc1"
      },
      "outputs": [
        {
          "name": "stdout",
          "output_type": "stream",
          "text": [
            "simple interest:  360000.0\n",
            "threshold amount less is True\n"
          ]
        }
      ],
      "source": [
        "interest_rate = 8\n",
        "principal_amount = 1500000\n",
        "time_period =3\n",
        "\n",
        "simple_interest = (interest_rate * principal_amount * time_period)/100\n",
        "\n",
        "print(\"simple interest: \", simple_interest)\n",
        "\n",
        "threshold_amount = 120000\n",
        "comparison = threshold_amount < simple_interest\n",
        "print(\"threshold amount less is\", comparison)"
      ]
    },
    {
      "cell_type": "markdown",
      "metadata": {
        "id": "xd6xfzncbu2_"
      },
      "source": [
        "Question 5:\n",
        "\n",
        "Write a python program to calculate the area of circle with a radius of 12cm"
      ]
    },
    {
      "cell_type": "code",
      "execution_count": null,
      "metadata": {
        "colab": {
          "base_uri": "https://localhost:8080/"
        },
        "id": "Du9UyZU0cFt4",
        "outputId": "f7814316-626c-4996-bb4d-6318b74cf2ca"
      },
      "outputs": [
        {
          "name": "stdout",
          "output_type": "stream",
          "text": [
            "area of circle :  452.15999999999997\n"
          ]
        }
      ],
      "source": [
        "pi = 3.14\n",
        "rad = 12\n",
        "print(\"area of circle : \", pi * rad * rad)"
      ]
    },
    {
      "cell_type": "markdown",
      "metadata": {
        "id": "LhU2c6aAIQ70"
      },
      "source": [
        "Question 6:\n",
        "\n",
        "In a game application , the player score is stored as afloating point number. however, for leaderboard display, you need to convert the score to an integer, How would you use the int() function to convert the player 's score from floating-point to integer format? pls solve this with code, player score = 1234.455"
      ]
    },
    {
      "cell_type": "code",
      "execution_count": null,
      "metadata": {
        "colab": {
          "base_uri": "https://localhost:8080/"
        },
        "id": "P19hdrNNJHIz",
        "outputId": "2a51a292-783c-48f6-e27b-c6d81858a5cb"
      },
      "outputs": [
        {
          "name": "stdout",
          "output_type": "stream",
          "text": [
            "the player score is 1234\n"
          ]
        }
      ],
      "source": [
        "player_score = 1234.455\n",
        "print(\"the player score is\", int(player_score))"
      ]
    },
    {
      "cell_type": "markdown",
      "metadata": {
        "id": "rSTDKgyvJn60"
      },
      "source": [
        "Question 7:\n",
        "\n",
        "In a customer relationship management (CRM) system for a retail company, you have a database containing customer record. How would you  use the len() function to find the total number of customers in the database, allowing the company to track its customer base?\n",
        "\n",
        "\n",
        "customer_database = [\n",
        "    (1, 'john', 'john@example.com'),\n",
        "    (2, 'ram', 'ram@example.com'),\n",
        "    (3, 'shyam', 'shyam@example.com')\n",
        "                ]"
      ]
    },
    {
      "cell_type": "code",
      "execution_count": null,
      "metadata": {
        "colab": {
          "base_uri": "https://localhost:8080/"
        },
        "id": "MNvn_85gLlR7",
        "outputId": "9c35f7d9-1417-440a-99df-57afc579536f"
      },
      "outputs": [
        {
          "name": "stdout",
          "output_type": "stream",
          "text": [
            "total number of customer is 3\n"
          ]
        }
      ],
      "source": [
        "customer_database = [\n",
        "    (1, 'john', 'john@example.com'),\n",
        "    (2, 'ram', 'ram@example.com'),\n",
        "    (3, 'shyam', 'shyam@example.com')\n",
        "     ]\n",
        "print(\"total number of customer is\",len(customer_database))"
      ]
    },
    {
      "cell_type": "markdown",
      "metadata": {
        "id": "gjhvGc2wMMzG"
      },
      "source": [
        "Question 8:\n",
        "\n",
        "In a finance based organisation, the task is to calculate the simple interest given the principal amount, interest rate, and time priod. the interst rate is 9.43567%, the principal amount is Rs 250,000, and the time period is 3 years. Calculate the simple interest. the final value should be an integer."
      ]
    },
    {
      "cell_type": "code",
      "execution_count": null,
      "metadata": {
        "colab": {
          "base_uri": "https://localhost:8080/"
        },
        "id": "yjtAQkAFMb1x",
        "outputId": "210c3fe7-6d9a-4bc5-8aef-f9f1fcdd3c0f"
      },
      "outputs": [
        {
          "name": "stdout",
          "output_type": "stream",
          "text": [
            "the simple interest is 70767\n"
          ]
        }
      ],
      "source": [
        "p_amount = 250000\n",
        "i_rate = 9.43567\n",
        "t_period = 3\n",
        "\n",
        "simple_interest = (p_amount * i_rate * t_period)/100\n",
        "print(\"the simple interest is\", int(simple_interest))"
      ]
    },
    {
      "cell_type": "markdown",
      "metadata": {
        "id": "Cqo67_FabMCk"
      },
      "source": [
        "Question 9:\n",
        "\n",
        "As part of your role in a data-driven project, you need to take input from the user for their age, weight, and height. However, there's an issue: the user has entered their age as a negative number. You need to correct the age of the user, and after correcting the age, calculate their Basal Metabolic Rate (BMR) using the Harris-Benedict equation for men. Ensure that the final answer of BMR is an integer.\n",
        "\n",
        "Basal Metabolic Rate (BMR):\n",
        "\n",
        "Formula (Harris-Benedict equation for men):\n",
        "\n",
        "BMR = 88.362 + (13.397 * weight in kg) + (4.799* height in cm) - (5.677 * age in years)"
      ]
    },
    {
      "cell_type": "code",
      "execution_count": null,
      "metadata": {
        "colab": {
          "base_uri": "https://localhost:8080/"
        },
        "id": "2a7gEV7HbTwi",
        "outputId": "078bdc2c-1b74-4226-b84a-63f602354b1d"
      },
      "outputs": [
        {
          "name": "stdout",
          "output_type": "stream",
          "text": [
            "enter your age in year : -20\n",
            "enter your weight in kg : 54\n",
            "enter your height in cm : 179\n",
            "BMR 1784\n"
          ]
        }
      ],
      "source": [
        "age=int(input(\"enter your age in year : \"))\n",
        "weight= int(input(\"enter your weight in kg : \"))\n",
        "height= int(input(\"enter your height in cm : \"))\n",
        "correct_age=abs(age)\n",
        "BMR = 88.362 + (13.397 * weight) + (4.799 * height) - (5.677 * age )\n",
        "print(\"BMR\",int(BMR))"
      ]
    },
    {
      "cell_type": "markdown",
      "metadata": {
        "id": "Sy9gN9PPflOX"
      },
      "source": [
        "Question 10:\n",
        "\n",
        "write a python code for hostel students, ask them to mention their course name and age. for 5 students and their avg age."
      ]
    },
    {
      "cell_type": "code",
      "execution_count": null,
      "metadata": {
        "colab": {
          "base_uri": "https://localhost:8080/"
        },
        "id": "zeqk4EbJf-vL",
        "outputId": "940931f6-c749-43ae-bd6a-bcd84bb0d09e"
      },
      "outputs": [
        {
          "name": "stdout",
          "output_type": "stream",
          "text": [
            "enter your name : sahil\n",
            "enter course name : sahil\n",
            "enter your age in year : 23\n",
            "enter your name : dshai\n",
            "enter course name : sdfgd\n",
            "enter your age in year :34\n",
            "enter your name : wddfs\n",
            "enter course name : sfd\n",
            "enter your age in year : 34\n",
            "enter your name : fdvds\n",
            "enter course name : fdvvds\n",
            "enter your age in year : 11\n",
            "enter your name : dscds\n",
            "enter course name : sd c\n",
            "enter your age in year : 30\n",
            "average age of 5 studen:  26.4\n"
          ]
        }
      ],
      "source": [
        "name1 = input(\"enter your name : \")\n",
        "course1 = input(\"enter course name : \")\n",
        "age1 = int(input(\"enter your age in year : \"))\n",
        "\n",
        "name2 = input(\"enter your name : \")\n",
        "course2 = input(\"enter course name : \")\n",
        "age2 = int(input(\"enter your age in year :\"))\n",
        "\n",
        "name3 = input(\"enter your name : \")\n",
        "course3 = input(\"enter course name : \")\n",
        "age3 = int(input(\"enter your age in year : \"))\n",
        "name4 = input(\"enter your name : \")\n",
        "course4 = input(\"enter course name : \")\n",
        "age4 = int(input(\"enter your age in year : \"))\n",
        "\n",
        "name5 = input(\"enter your name : \")\n",
        "course5 = input(\"enter course name : \")\n",
        "age5 = int(input(\"enter your age in year : \"))\n",
        "\n",
        "avg_age = (age1 + age2 + age3 + age4 +age5)/5\n",
        "print(\"average age of 5 studen: \", avg_age)"
      ]
    },
    {
      "cell_type": "markdown",
      "metadata": {
        "id": "8054DBKNtjmA"
      },
      "source": [
        "Question 11:\n",
        "\n",
        "You are developing a program for a math competition where participants need to solve mathematical expressions and provide the result.\n",
        "You want to use Python to automate the evaluation process.\n",
        "Here's how you could approach it:\n",
        "\n",
        "1) Take input from the participant to enter a mathematical expression\n",
        "\n",
        "2) evaluate the expression entered by the participant and obtain the result.\n",
        "\n",
        "3) Display the result to the participant."
      ]
    },
    {
      "cell_type": "code",
      "execution_count": null,
      "metadata": {
        "colab": {
          "base_uri": "https://localhost:8080/"
        },
        "id": "8ekEj2T6trf5",
        "outputId": "40a6d483-9dbf-44be-eee2-565f322f65aa"
      },
      "outputs": [
        {
          "name": "stdout",
          "output_type": "stream",
          "text": [
            "enter your mathematical expression : 2 * 7 + 10\n",
            "the result of expression is :  24\n",
            "partcipate END\n"
          ]
        }
      ],
      "source": [
        "math_expression = input(\"enter your mathematical expression : \")\n",
        "solve =  eval(math_expression)\n",
        "print(\"the result of expression is : \",solve)\n",
        "print(\"partcipate END\")"
      ]
    },
    {
      "cell_type": "markdown",
      "metadata": {
        "id": "KHpCX-hrvpSC"
      },
      "source": [
        "Question 12:\n",
        "\n",
        "Suppose you're analyzing a dataset containing information about house prices in a city. Each record includes details such as the house size (inquare feet), number of bedrooms, and price. You want to perform various calculations and manipulations on this dataset using Python.\n",
        "\n",
        "Answer the following questions:\n",
        "\n",
        "1) Ask the user 1 & 2 to enter house size, number of rooms they want and Check the data type user has entered\n",
        "\n",
        "2) Calculate the price of house, if per sq feet is Rs 5000.\n",
        "\n",
        "3) Threshold price is 75 lakh Rs, which user is paying the price above threshold price."
      ]
    },
    {
      "cell_type": "code",
      "execution_count": null,
      "metadata": {
        "colab": {
          "base_uri": "https://localhost:8080/"
        },
        "id": "zCyhB7exwA7r",
        "outputId": "64153952-5ca5-48aa-fe3b-7b1a996fd682"
      },
      "outputs": [
        {
          "name": "stdout",
          "output_type": "stream",
          "text": [
            "enter house size user_1 in sq_feet : 5000\n",
            "enter no. of room user_1 : 34\n",
            "housesize data type : <class 'float'>\n",
            "calculate price is 25000000.0\n",
            "the price is above the threshold price :  True\n",
            "enter house size user_2 in sq_feet : 300\n",
            "enter no. of room user_2 : 34\n",
            "no.of room data type : <class 'int'>\n",
            "calculate price is 1500000.0\n",
            "the price is above the threshold price :  False\n"
          ]
        }
      ],
      "source": [
        "#user_1\n",
        "\n",
        "house_size = float(input(\"enter house size user_1 in sq_feet : \"))\n",
        "no_of_room = int(input(\"enter no. of room user_1 : \"))\n",
        "print(\"housesize data type :\",type(house_size))\n",
        "calculate_price = house_size * 5000\n",
        "print(\"calculate price is\",calculate_price)\n",
        "threshold = 7500000\n",
        "check = calculate_price > threshold\n",
        "print(\"the price is above the threshold price : \",check)\n",
        "\n",
        "#user_2\n",
        "house_size_2 = float(input(\"enter house size user_2 in sq_feet : \"))\n",
        "no_of_room_2 = int(input(\"enter no. of room user_2 : \"))\n",
        "print(\"no.of room data type :\",type(no_of_room_2))\n",
        "calculate_price = house_size_2 * 5000\n",
        "print(\"calculate price is\",calculate_price)\n",
        "check = calculate_price > threshold\n",
        "print(\"the price is above the threshold price : \",check)"
      ]
    },
    {
      "cell_type": "markdown",
      "metadata": {
        "id": "0UhLSaQOo4AV"
      },
      "source": [
        "Question 13:\n",
        "\n",
        "You are working on a project to analyze stock market data. Create variables to store the stock symbol, current price, and percentage change in price. Then, calculate the new price after a 10% increase using arithmetic operators. Finally, prompt the user to enter their budget using the input() function, convert it to a float using the float() function, and compare it with the new price."
      ]
    },
    {
      "cell_type": "code",
      "execution_count": null,
      "metadata": {
        "colab": {
          "base_uri": "https://localhost:8080/"
        },
        "id": "eSvFU3MIp5Bo",
        "outputId": "3636d338-62bd-43c7-e24c-487c55f5cb86"
      },
      "outputs": [
        {
          "name": "stdout",
          "output_type": "stream",
          "text": [
            "current price is 100\n",
            "new price after :  110.00000000000001\n",
            "enter your budget : 344\n",
            "new price above the user budget :  False\n"
          ]
        }
      ],
      "source": [
        "stock_symbol = \"nifty\"\n",
        "current_price = 100\n",
        "chng_percentage = 10\n",
        "print(\"current price is\",current_price)\n",
        "\n",
        "new_price = (10/100+1)*current_price\n",
        "print(\"new price after : \",new_price)\n",
        "\n",
        "user_budget = input(\"enter your budget : \")\n",
        "abudget = float(user_budget)\n",
        "print(\"new price above the user budget : \",new_price >abudget)"
      ]
    },
    {
      "cell_type": "markdown",
      "metadata": {
        "id": "lIcTCruFsZo8"
      },
      "source": [
        "Question 14:\n",
        "\n",
        "You are working on a project to analyze weather data.\n",
        "\n",
        "Create variables to store the current temperature,\n",
        "the minimum temperature recorded, and the maximum temperature recorded.\n",
        "\n",
        "Determine whether the current temperature is within the range of the minimum and maximum temperatures\n",
        "recorded using logical operators"
      ]
    },
    {
      "cell_type": "code",
      "execution_count": null,
      "metadata": {
        "colab": {
          "base_uri": "https://localhost:8080/"
        },
        "id": "BnWKj6ewsoJ9",
        "outputId": "20a13d68-d6da-4635-da7d-6f1ee337ac9a"
      },
      "outputs": [
        {
          "name": "stdout",
          "output_type": "stream",
          "text": [
            "enter the current temperature is : 23\n",
            "the temperature in our range :  True\n"
          ]
        }
      ],
      "source": [
        "current_temp = int(input(\"enter the current temperature is : \"))\n",
        "minimum_temp = 15\n",
        "maximum_temp = 110\n",
        "\n",
        "check = minimum_temp < current_temp < maximum_temp\n",
        "\n",
        "print('the temperature in our range : ',check)"
      ]
    },
    {
      "cell_type": "markdown",
      "metadata": {
        "id": "fw18B9yvuWjd"
      },
      "source": [
        "Question 15:\n",
        "\n",
        "Develop a temperature converter in Python for a cold storage that converts temperatures between Celsius and Fahrenheit scales.\n",
        "\n",
        "The program should take a temperature value and a unit (C or F) as input. If the temperature is less than 15 degrees Celsius, inform the user\n",
        "\n",
        "that the temperature is not convenient. If the temperature is between 24 to 28 degrees Celsius, inform the user that the temperature is convenient."
      ]
    },
    {
      "cell_type": "code",
      "execution_count": null,
      "metadata": {
        "colab": {
          "base_uri": "https://localhost:8080/"
        },
        "id": "BcN8vcej7wEd",
        "outputId": "5e794977-c740-4716-dc1c-1c7c53492e55"
      },
      "outputs": [
        {
          "name": "stdout",
          "output_type": "stream",
          "text": [
            "enter the temperature : 12\n",
            "the temperature is not convenient\n"
          ]
        }
      ],
      "source": [
        "temp = float(input(\"enter the temperature : \"))\n",
        "if temp<15:\n",
        "  print(\"the temperature is not convenient\")\n",
        "if 24<=temp<=28:\n",
        "  print(\"the temperature is convenient\")"
      ]
    },
    {
      "cell_type": "markdown",
      "metadata": {
        "id": "Gl4qSk249Pg1"
      },
      "source": [
        "Question 15 :\n",
        "\n",
        "Write a program to check whether a person is eligible for voting or not"
      ]
    },
    {
      "cell_type": "code",
      "execution_count": null,
      "metadata": {
        "colab": {
          "base_uri": "https://localhost:8080/"
        },
        "id": "66enuqGF9XIY",
        "outputId": "4b22d9cf-b766-4ab8-8381-bbcb0cbf3877"
      },
      "outputs": [
        {
          "name": "stdout",
          "output_type": "stream",
          "text": [
            "enter your age : 12\n",
            "you are not eligible for vote\n"
          ]
        }
      ],
      "source": [
        "age = int(input(\"enter your age : \"))\n",
        "if age<18:\n",
        "  print(\"you are not eligible for vote\")\n",
        "else:\n",
        "  print(\"you are eligible for vote\")"
      ]
    },
    {
      "cell_type": "markdown",
      "metadata": {
        "id": "yMh-gwG-97qY"
      },
      "source": [
        "Question 16:\n",
        "\n",
        "You are tasked with developing a Python program to manage employee salaries for a company. Your program should calculate the net salary of each employee based on their base salary, deductions, and bonuses. Additionally, employees who have been with the company for more than 5 years are eligible for an additional loyalty bonus, 8% of salary. Deductions of tax will be 12%\n",
        "\n",
        "Write a Python script that prompts the user to input the following information for each employee:\n",
        "\n",
        "Base salary\n",
        "\n",
        "Years of service\n",
        "\n",
        "After calculating the net salary, the program should print a summary for each employee including their base salary, deductions, bonuses, loyalty bonus (if applicable), and net salary."
      ]
    },
    {
      "cell_type": "code",
      "execution_count": null,
      "metadata": {
        "colab": {
          "base_uri": "https://localhost:8080/"
        },
        "id": "NZyQP6Ku-D4r",
        "outputId": "871ef4bc-6ab9-4b56-c958-2499c4555a4a"
      },
      "outputs": [
        {
          "name": "stdout",
          "output_type": "stream",
          "text": [
            "enter the employe name :sahil kushwaha\n",
            "enter the base salary : 500000\n",
            "enter how many years to work this company :3\n",
            "employe name is  sahil kushwaha\n",
            "its base salary is  500000\n",
            " and loyalty bonus  0\n",
            "tax which applied on the salary 60000.0\n",
            "final in hand salary is  440000.0\n"
          ]
        }
      ],
      "source": [
        "employe = input(\"enter the employe name :\")\n",
        "base_salary = int(input(\"enter the base salary : \"))\n",
        "year = int(input(\"enter how many years to work this company :\"))\n",
        "if year > 5:\n",
        "  loyalty_bonus = (base_salary/100)*8\n",
        "  total_salary = base_salary + loyalty_bonus\n",
        "  tax = (total_salary/100)*12\n",
        "  net_salary = total_salary - tax\n",
        "else:\n",
        "  loyalty_bonus = 0\n",
        "  total_salary = base_salary + loyalty_bonus\n",
        "  tax = (total_salary/100)*12\n",
        "  net_salary = total_salary - tax\n",
        "print(\"employe name is \", employe)\n",
        "print(\"its base salary is \",base_salary)\n",
        "print(\" and loyalty bonus \",loyalty_bonus)\n",
        "print(\"tax which applied on the salary\" ,tax)\n",
        "print(\"final in hand salary is \", net_salary)"
      ]
    },
    {
      "cell_type": "markdown",
      "metadata": {
        "id": "9CYOBGm2-Wlg"
      },
      "source": [
        "Question 17:\n",
        "\n",
        "Write a Python program that prompts the user to input a city and displays the famous monument of that city.\n",
        "\n",
        "Mumbai: Gateway of India\n",
        "\n",
        "Kolkata: Victoria Memorial\n",
        "\n",
        "Chennai: Marina Beach\n",
        "\n",
        "Bangalore: Botanical Garden\n",
        "\n",
        "Pune: Shaniwar Wada\n",
        "\n",
        "Write a Python script to implement this functionality."
      ]
    },
    {
      "cell_type": "code",
      "execution_count": null,
      "metadata": {
        "colab": {
          "base_uri": "https://localhost:8080/"
        },
        "id": "63CX9dbn-dDF",
        "outputId": "caa913f0-351a-44a1-b452-312fbd5956e3"
      },
      "outputs": [
        {
          "name": "stdout",
          "output_type": "stream",
          "text": [
            "enter the no. which city you want to visit\n",
            "1 FOR Mumbai:\n",
            "2 FOR Kolkata:\n",
            "3 FOR Chennai:\n",
            "4 FOR Bangalore:\n",
            "5 FOR Pune: : 4\n",
            "-------------------------\n",
            "Bangalore: Botanical Garden\n"
          ]
        }
      ],
      "source": [
        "a = int(input(\"\"\"enter the no. which city you want to visit\n",
        "1 FOR Mumbai:\n",
        "2 FOR Kolkata:\n",
        "3 FOR Chennai:\n",
        "4 FOR Bangalore:\n",
        "5 FOR Pune: : \"\"\"))\n",
        "print(\"-------------------------\")\n",
        "if a == 1:\n",
        "  print(\"Mumbai: Gateway of India\")\n",
        "elif a==2:\n",
        "  print(\"Kolkata: Victoria Memorial\")\n",
        "elif a==3:\n",
        "  print(\"Chennai: Marina Beach\")\n",
        "elif a==4:\n",
        "  print(\"Bangalore: Botanical Garden\")\n",
        "elif a==5:\n",
        "  print(\"Pune: Shaniwar Wada\")\n",
        "else:\n",
        "  print(\"invalid entry\")"
      ]
    },
    {
      "cell_type": "markdown",
      "metadata": {
        "id": "TSkcXZsg-d5K"
      },
      "source": [
        "Question 18:\n",
        "\n",
        "Write a Python program to print all the even numbers between 1 and 50 using a while loop"
      ]
    },
    {
      "cell_type": "code",
      "execution_count": null,
      "metadata": {
        "colab": {
          "base_uri": "https://localhost:8080/"
        },
        "id": "8zKHBCmJ-jWi",
        "outputId": "450ef64b-9066-4625-dc64-fe1a93ea25fa"
      },
      "outputs": [
        {
          "name": "stdout",
          "output_type": "stream",
          "text": [
            "2\n",
            "4\n",
            "6\n",
            "8\n",
            "10\n",
            "12\n",
            "14\n",
            "16\n",
            "18\n",
            "20\n",
            "22\n",
            "24\n",
            "26\n",
            "28\n",
            "30\n",
            "32\n",
            "34\n",
            "36\n",
            "38\n",
            "40\n",
            "42\n",
            "44\n",
            "46\n",
            "48\n",
            "50\n"
          ]
        }
      ],
      "source": [
        "for i in range(1,51):\n",
        "  if(i%2==0):\n",
        "     print(i)"
      ]
    },
    {
      "cell_type": "markdown",
      "metadata": {
        "id": "xIXL_CBB-kAc"
      },
      "source": [
        "Question 19:\n",
        "\n",
        "You are tasked with validating user input for email addresses. Write a Python program that prompts the user to enter an email address. Use a while loop to iterate through the input and check if the email address contains an \"@\" symbol and a \".\" symbol. If the email address does not meet these criteria, print \"Invalid email address format. Please try again.\" Otherwise, print \"Email address validation passed"
      ]
    },
    {
      "cell_type": "code",
      "execution_count": null,
      "metadata": {
        "colab": {
          "base_uri": "https://localhost:8080/"
        },
        "id": "zwCfyGz3-q5K",
        "outputId": "4b394522-a554-47b6-d76c-01a527309319"
      },
      "outputs": [
        {
          "name": "stdout",
          "output_type": "stream",
          "text": [
            "enter your valid mailsahil@gamail.com\n",
            "email is valid\n"
          ]
        }
      ],
      "source": [
        "email = input(\"enter your valid mail\")\n",
        "if \"@\" in email and \".\" in email:\n",
        "  print(\"email is valid\")\n",
        "else:\n",
        "  print(\"email is not valid\")"
      ]
    },
    {
      "cell_type": "markdown",
      "metadata": {
        "id": "ebMpoKHm-rg1"
      },
      "source": [
        "Question 20:\n",
        "\n",
        "write a python program for print a table 1 to 10."
      ]
    },
    {
      "cell_type": "code",
      "execution_count": null,
      "metadata": {
        "colab": {
          "base_uri": "https://localhost:8080/"
        },
        "id": "uhqVmKbWN7Sm",
        "outputId": "58aad676-fb5f-4beb-f39b-5b49984a08d0"
      },
      "outputs": [
        {
          "name": "stdout",
          "output_type": "stream",
          "text": [
            "0 * 1 = 0\n",
            "0 * 2 = 0\n",
            "0 * 3 = 0\n",
            "0 * 4 = 0\n",
            "0 * 5 = 0\n",
            "0 * 6 = 0\n",
            "0 * 7 = 0\n",
            "0 * 8 = 0\n",
            "0 * 9 = 0\n",
            "0 * 10 = 0\n",
            "_________________\n",
            "1 * 1 = 1\n",
            "1 * 2 = 2\n",
            "1 * 3 = 3\n",
            "1 * 4 = 4\n",
            "1 * 5 = 5\n",
            "1 * 6 = 6\n",
            "1 * 7 = 7\n",
            "1 * 8 = 8\n",
            "1 * 9 = 9\n",
            "1 * 10 = 10\n",
            "_________________\n",
            "2 * 1 = 2\n",
            "2 * 2 = 4\n",
            "2 * 3 = 6\n",
            "2 * 4 = 8\n",
            "2 * 5 = 10\n",
            "2 * 6 = 12\n",
            "2 * 7 = 14\n",
            "2 * 8 = 16\n",
            "2 * 9 = 18\n",
            "2 * 10 = 20\n",
            "_________________\n",
            "3 * 1 = 3\n",
            "3 * 2 = 6\n",
            "3 * 3 = 9\n",
            "3 * 4 = 12\n",
            "3 * 5 = 15\n",
            "3 * 6 = 18\n",
            "3 * 7 = 21\n",
            "3 * 8 = 24\n",
            "3 * 9 = 27\n",
            "3 * 10 = 30\n",
            "_________________\n",
            "4 * 1 = 4\n",
            "4 * 2 = 8\n",
            "4 * 3 = 12\n",
            "4 * 4 = 16\n",
            "4 * 5 = 20\n",
            "4 * 6 = 24\n",
            "4 * 7 = 28\n",
            "4 * 8 = 32\n",
            "4 * 9 = 36\n",
            "4 * 10 = 40\n",
            "_________________\n",
            "5 * 1 = 5\n",
            "5 * 2 = 10\n",
            "5 * 3 = 15\n",
            "5 * 4 = 20\n",
            "5 * 5 = 25\n",
            "5 * 6 = 30\n",
            "5 * 7 = 35\n",
            "5 * 8 = 40\n",
            "5 * 9 = 45\n",
            "5 * 10 = 50\n",
            "_________________\n",
            "6 * 1 = 6\n",
            "6 * 2 = 12\n",
            "6 * 3 = 18\n",
            "6 * 4 = 24\n",
            "6 * 5 = 30\n",
            "6 * 6 = 36\n",
            "6 * 7 = 42\n",
            "6 * 8 = 48\n",
            "6 * 9 = 54\n",
            "6 * 10 = 60\n",
            "_________________\n",
            "7 * 1 = 7\n",
            "7 * 2 = 14\n",
            "7 * 3 = 21\n",
            "7 * 4 = 28\n",
            "7 * 5 = 35\n",
            "7 * 6 = 42\n",
            "7 * 7 = 49\n",
            "7 * 8 = 56\n",
            "7 * 9 = 63\n",
            "7 * 10 = 70\n",
            "_________________\n",
            "8 * 1 = 8\n",
            "8 * 2 = 16\n",
            "8 * 3 = 24\n",
            "8 * 4 = 32\n",
            "8 * 5 = 40\n",
            "8 * 6 = 48\n",
            "8 * 7 = 56\n",
            "8 * 8 = 64\n",
            "8 * 9 = 72\n",
            "8 * 10 = 80\n",
            "_________________\n",
            "9 * 1 = 9\n",
            "9 * 2 = 18\n",
            "9 * 3 = 27\n",
            "9 * 4 = 36\n",
            "9 * 5 = 45\n",
            "9 * 6 = 54\n",
            "9 * 7 = 63\n",
            "9 * 8 = 72\n",
            "9 * 9 = 81\n",
            "9 * 10 = 90\n",
            "_________________\n",
            "10 * 1 = 10\n",
            "10 * 2 = 20\n",
            "10 * 3 = 30\n",
            "10 * 4 = 40\n",
            "10 * 5 = 50\n",
            "10 * 6 = 60\n",
            "10 * 7 = 70\n",
            "10 * 8 = 80\n",
            "10 * 9 = 90\n",
            "10 * 10 = 100\n",
            "_________________\n"
          ]
        }
      ],
      "source": [
        "for i in range(11):\n",
        "  for j in range(1,11):\n",
        "    print(i,\"*\",j ,\"=\" ,i*j)\n",
        "  print(\"_________________\")"
      ]
    },
    {
      "cell_type": "markdown",
      "metadata": {
        "id": "EXhmBaapPI8c"
      },
      "source": [
        "Question 21:\n",
        "\n",
        "You are tasked with creating a program to assist shoppers in calculating their total bill at a grocery store. The store offers discounts based on the total purchase amount. Your task is to implement a Python program that takes the price of each item purchased and calculates the total bill, including any applicable discounts.\n",
        "\n",
        "The store offers the following discount rates based on the total purchase amount:\n",
        "\n",
        "If the total purchase amount is $100 or more, the customer receives a 10% discount.\n",
        "\n",
        "If the total purchase amount is between $50 and $99.99, the customer receives a 5% discount.\n",
        "If the total purchase amount is less than $50, no discount is applied.\n",
        "\n",
        "Write a Python program to prompt the user to enter the prices of the items they purchased. Use a for loop to iterate through the prices entered and calculate the subtotal. Apply the appropriate discount based on the total purchase amount using if-else statements. Finally, print out the subtotal, discount amount (if any), and the total bill after applying the discount."
      ]
    },
    {
      "cell_type": "code",
      "execution_count": null,
      "metadata": {
        "colab": {
          "base_uri": "https://localhost:8080/"
        },
        "id": "U78ez1J1Qe7e",
        "outputId": "d4d13702-600d-491e-8741-a1059ef30c70"
      },
      "outputs": [
        {
          "name": "stdout",
          "output_type": "stream",
          "text": [
            "enter the no. of item : 5\n",
            "enter the price of item : 123\n",
            "enter the price of item : 23\n",
            "enter the price of item : 2\n",
            "enter the price of item : 3\n",
            "enter the price of item : 3\n",
            "the total bill is : 154.0\n",
            "discount amount applied in your bill : 15.4\n",
            "final amount which you paid : 138.6\n"
          ]
        }
      ],
      "source": [
        "item = int(input(\"enter the no. of item : \"))\n",
        "total_bill = 0\n",
        "for i in range(item):\n",
        "  price = float(input(\"enter the price of item : \"))\n",
        "  total_bill = total_bill + price\n",
        "print(\"the total bill is :\", total_bill)\n",
        "if total_bill > 100:\n",
        "      discount = (total_bill/100)*10\n",
        "      total_bill -= discount\n",
        "      print(\"discount amount applied in your bill :\",discount)\n",
        "      print(\"final amount which you paid :\",total_bill)\n",
        "elif 50 <= total_bill and total_bill <= 99.99:\n",
        "      discount = (total_bill/100)*5\n",
        "      total_bill -= discount\n",
        "      print(\"discount amount applied in your bill :\",discount)\n",
        "      print(\"final amount which you paid :\",total_bill)\n",
        "else:\n",
        "  print(\"you are not applicable for discount\")\n",
        "  print(\"final amount which you paid :\",total_bill)"
      ]
    },
    {
      "cell_type": "markdown",
      "metadata": {
        "id": "wmBxSPUP3Wk6"
      },
      "source": [
        "Question 22:\n",
        "\n",
        "Write a user-defined function to process the exam scores and calculate the following statistics:\n",
        "\n",
        "The average exam score.\n",
        "The highest exam score.\n",
        "The lowest exam score.\n",
        "The number of students who passed the exam (assuming a passing score is 80 or above).\n",
        "The number of students who failed the exam.\n",
        "\n",
        "exam_scores = [85, 92, 78, 90, 88, 95, 82, 79, 87, 91]"
      ]
    },
    {
      "cell_type": "code",
      "execution_count": null,
      "metadata": {
        "id": "cZz-oOCV3fKH"
      },
      "outputs": [],
      "source": [
        "def exam(exam_score):\n",
        "  average = sum(exam_score)/len(exam_score)\n",
        "  highest = max(exam_score)\n",
        "  lowest = min(exam_score)\n",
        "  len_exam = len(exam_score)\n",
        "  passed = 0\n",
        "  for i in range(len_exam):\n",
        "    if exam_score[i]>=80:\n",
        "      passed = passed + 1\n",
        "  failed = len(exam_score) - passed\n",
        "  return average, highest, lowest, passed, failed"
      ]
    },
    {
      "cell_type": "code",
      "execution_count": null,
      "metadata": {
        "colab": {
          "base_uri": "https://localhost:8080/"
        },
        "id": "oysP37rq6nrs",
        "outputId": "326ba323-9987-489f-ac5c-22b9f7ea85f6"
      },
      "outputs": [
        {
          "name": "stdout",
          "output_type": "stream",
          "text": [
            "average score :  86.7\n",
            "highest score :  95\n",
            "lowest score :  78\n",
            "no. of student passed :  8\n",
            "no. of student failed :  2\n"
          ]
        }
      ],
      "source": [
        "\n",
        "exam_scores = [85, 92, 78, 90, 88, 95, 82, 79, 87, 91]\n",
        "average, highest, lowest, passed, failed = exam(exam_scores)\n",
        "print(\"average score : \",average)\n",
        "print(\"highest score : \",highest)\n",
        "print(\"lowest score : \",lowest)\n",
        "print(\"no. of student passed : \",passed)\n",
        "print(\"no. of student failed : \",failed)"
      ]
    },
    {
      "cell_type": "markdown",
      "metadata": {
        "id": "HYE8ei4RSTNF"
      },
      "source": [
        "Question 23:\n",
        "\n",
        "You are given a dataset of student grades and need to determine the grade distribution.\n",
        "\n",
        "Question: Write a Python function\n",
        "\n",
        "grade_distribution (grades) that takes a list of integers representing student grades (0-100). Use a loop to count the number of grades in each grade category:\n",
        "\n",
        "'Α' (90-100), 'B' (80-89), 'C' (70-79), 'D' (60-69), and 'F' (below 60).\n",
        "\n",
        "Use if-elif-else statements within the loop to categorize the grades.\n",
        "\n",
        "Return a dictionary with the counts of each grade category."
      ]
    },
    {
      "cell_type": "code",
      "execution_count": null,
      "metadata": {
        "id": "o0AqYR4balp7"
      },
      "outputs": [],
      "source": [
        "def grade_distribution(grades):\n",
        "  for grade in grades:\n",
        "    if grade >= 90 and grade <=100:\n",
        "      print(\"its student grade is : A\",grade)\n",
        "    elif grade >= 80 and grade <=89:\n",
        "      print(\"its student grade is : B\",grade)\n",
        "    elif grade >= 70 and grade <=79:\n",
        "      print(\"its student grade is : C\",grade)\n",
        "    elif grade >= 60 and grade <=69:\n",
        "      print(\"its student grade is : D\",grade)\n",
        "    elif grade < 60:\n",
        "      print(\"its student grade is : E\",grade)\n",
        "    else:\n",
        "      print(\"invalid entry\",grade)\n",
        "  return"
      ]
    },
    {
      "cell_type": "code",
      "execution_count": null,
      "metadata": {
        "colab": {
          "base_uri": "https://localhost:8080/"
        },
        "id": "s1TL1J1udd20",
        "outputId": "bf03e575-647b-4983-e466-b1eb56a97f1c"
      },
      "outputs": [
        {
          "name": "stdout",
          "output_type": "stream",
          "text": [
            "its student grade is : B 89\n",
            "its student grade is : E 34\n",
            "its student grade is : A 98\n",
            "its student grade is : E 43\n",
            "its student grade is : C 78\n",
            "its student grade is : A 98\n",
            "its student grade is : E 50\n",
            "its student grade is : A 90\n",
            "invalid entry 400\n"
          ]
        }
      ],
      "source": [
        "grades = [89,34,98,43,78,98,50,90,400]\n",
        "grade_distribution(grades)"
      ]
    },
    {
      "cell_type": "markdown",
      "metadata": {
        "id": "m0dkDMsvetDh"
      },
      "source": [
        "Question 24:\n",
        "\n",
        "You're creating a number guessing game where the computer generates a random number between 1 and 100, and the player has to guess it.\n",
        "\n",
        "Write Python code to generate a random number between 1 and 100. Use control flow statements and loops to allow the player to guess the number and provide feedback (too high, too low, or correct). Define a user-defined function to encapsulate the game logic and call this function to play the game."
      ]
    },
    {
      "cell_type": "code",
      "execution_count": null,
      "metadata": {
        "id": "fPACdHYYfyEx"
      },
      "outputs": [],
      "source": [
        "import random\n",
        "def game():\n",
        "  comp_no = random.randint(1, 100)\n",
        "  print(\"computer generated numbers : \",comp_no)\n",
        "  no__of_attempt = 0\n",
        "  user_no = None\n",
        "  while user_no != comp_no:\n",
        "\n",
        "    no__of_attempt +=1\n",
        "    user_no = int(input(\"enter the no. between 1 to 100 : \"))\n",
        "    if comp_no < user_no:\n",
        "         print(\"user no. is greater than computer number try again because you are selcted older girlfriend\")\n",
        "    elif comp_no > user_no:\n",
        "         print(\"user no. is less than computer number try again, because you have not a girlfriend\")\n",
        "    else:\n",
        "      print(\"congatulation you select right girlfriend party bro\")"
      ]
    },
    {
      "cell_type": "code",
      "execution_count": null,
      "metadata": {
        "colab": {
          "background_save": true,
          "base_uri": "https://localhost:8080/"
        },
        "id": "5uztGUHfpXKV",
        "outputId": "e48f6a69-5181-4ab7-aed1-ea44114acdd1"
      },
      "outputs": [
        {
          "name": "stdout",
          "output_type": "stream",
          "text": [
            "computer generated numbers :  2\n",
            "user no. is greater than computer number try again because you are selcted older girlfriend\n",
            "user no. is greater than computer number try again because you are selcted older girlfriend\n",
            "congatulation you select right girlfriend party bro\n"
          ]
        }
      ],
      "source": [
        "game()"
      ]
    },
    {
      "cell_type": "markdown",
      "metadata": {
        "id": "A7VVTkhgpBQZ"
      },
      "source": [
        "Question 25:\n",
        "\n",
        "You're tasked with creating a program\n",
        "to calculate the sum of squares of the first n natural numbers, where n is entered by the user.\n",
        "\n",
        "Write Python code to prompt the user to enter a positive integer n. Use a loop to calculate the sum of squares of the first n natural numbers. Define a user-defined function to encapsulate the sum of squares calculation logic and call this function with the user's input."
      ]
    },
    {
      "cell_type": "code",
      "execution_count": null,
      "metadata": {
        "id": "nfT2688tpG6k"
      },
      "outputs": [],
      "source": [
        "def sum_of_squares(n):\n",
        "  total = 0\n",
        "  for i in range(1,n+1):\n",
        "    square = i**2\n",
        "    total = total + square\n",
        "  print(\"the sum of squares of the first\",n, \"natural number is\",total)\n",
        "  return\n"
      ]
    },
    {
      "cell_type": "code",
      "execution_count": null,
      "metadata": {
        "colab": {
          "base_uri": "https://localhost:8080/"
        },
        "id": "0pywnIB7pzjg",
        "outputId": "867a55be-9ed2-4d7f-86d6-c47e1df26b0a"
      },
      "outputs": [
        {
          "name": "stdout",
          "output_type": "stream",
          "text": [
            "the sum of squares of the first 4 natural number is 30\n"
          ]
        }
      ],
      "source": [
        "sum_of_squares(4)"
      ]
    },
    {
      "cell_type": "markdown",
      "metadata": {
        "id": "F5UAov3dGs_2"
      },
      "source": [
        "Question 26:\n",
        "\n",
        "Write a Python function that takes a date string in the format \"YYYY-MM-DD\" and returns a tuple containing the year, month, and day as integers.\n",
        "\n",
        "Example Input: \"2024-05-28\"\n",
        "\n",
        "Expected Output: (2024, 5, 28)"
      ]
    },
    {
      "cell_type": "code",
      "execution_count": null,
      "metadata": {
        "colab": {
          "background_save": true
        },
        "id": "l6taU60lGwO2"
      },
      "outputs": [],
      "source": [
        "def date_s(date):\n",
        "  year = date[0:5]\n",
        "  month= date[6:8]\n",
        "  day = date[9:11]\n",
        "  print(year, month, day)\n",
        "  return year,month,day"
      ]
    },
    {
      "cell_type": "code",
      "execution_count": null,
      "metadata": {
        "id": "p9K12TiDHn49"
      },
      "outputs": [],
      "source": [
        "date = \"2025-12-20\"\n",
        "date_s(s)"
      ]
    },
    {
      "cell_type": "markdown",
      "metadata": {
        "id": "se293R2z-FsL"
      },
      "source": [
        "Question 27:\n",
        "\n",
        "Given the list scores = [55, 89, 76, 65, 93, 50, 72], write a Python expression to create a new list that contains only the scores that are above 70."
      ]
    },
    {
      "cell_type": "code",
      "execution_count": null,
      "metadata": {
        "colab": {
          "base_uri": "https://localhost:8080/"
        },
        "id": "t2gnQNQg-OBL",
        "outputId": "0eadc8ce-2f4f-47ad-9970-cc851f3445b7"
      },
      "outputs": [
        {
          "name": "stdout",
          "output_type": "stream",
          "text": [
            "[89, 76, 93, 72]\n"
          ]
        }
      ],
      "source": [
        "scores = [55, 89, 76, 65, 93, 50, 72]\n",
        "new_score = []\n",
        "for score in scores:\n",
        "  if score > 70:\n",
        "    new_score.append(score)\n",
        "  else:\n",
        "    pass\n",
        "print(new_score)"
      ]
    },
    {
      "cell_type": "markdown",
      "metadata": {
        "id": "SEx8ETwy_lvb"
      },
      "source": [
        "Question 28:\n",
        "\n",
        "Given the list data = [1, 2, 3, 4, 5, 6, 7, 8, 9, 10], write a Python expression to get the sum of the first five elements and another expression to reverse the entire list."
      ]
    },
    {
      "cell_type": "code",
      "execution_count": null,
      "metadata": {
        "colab": {
          "base_uri": "https://localhost:8080/"
        },
        "id": "XhdITpgO_r_Y",
        "outputId": "f5ae4319-0a56-49e1-b087-b25869bbeca9"
      },
      "outputs": [
        {
          "name": "stdout",
          "output_type": "stream",
          "text": [
            "sum of five starting element 15\n",
            "reverse of list [10, 9, 8, 7, 6, 5, 4, 3, 2, 1]\n"
          ]
        }
      ],
      "source": [
        "data = [1, 2, 3, 4, 5, 6, 7, 8, 9, 10]\n",
        "sum_of_five = sum(data[:5])\n",
        "data.reverse()\n",
        "print(\"sum of five starting element\",sum_of_five)\n",
        "print(\"reverse of list\",data)"
      ]
    },
    {
      "cell_type": "markdown",
      "metadata": {
        "id": "2kopldUK_rOK"
      },
      "source": [
        "Question 29:\n",
        "\n",
        "Given the list numbers = [1, 2, 3, 4, 5, 6, 7, 8, 9, 10],\n",
        "\n",
        "write Python expressions to:\n",
        "\n",
        "Create a new list with the first half and the second half swapped.\n",
        "Print the sum of the last three elements.\n",
        "\n",
        "input -numbers = [1, 2, 3, 4, 5, 6, 7, 8, 9, 10]\n",
        "\n",
        "output -\n",
        "\n",
        "[6, 7, 8, 9, 10, 1, 2, 3, 4, 5]\n",
        "\n",
        "27"
      ]
    },
    {
      "cell_type": "code",
      "execution_count": null,
      "metadata": {
        "colab": {
          "base_uri": "https://localhost:8080/"
        },
        "id": "5fwu4-CXA-BH",
        "outputId": "b47b4302-0264-44d5-a11e-3ecc58478745"
      },
      "outputs": [
        {
          "name": "stdout",
          "output_type": "stream",
          "text": [
            "[6, 7, 8, 9, 10, 1, 2, 3, 4, 5]\n",
            "[10, 9, 8, 7, 6]\n"
          ]
        }
      ],
      "source": [
        "numbers = [1, 2, 3, 4, 5, 6, 7, 8, 9, 10]\n",
        "half = int((len(numbers))/2)\n",
        "list1 = numbers[:half]\n",
        "list2 = numbers[half:]\n",
        "print(list2 + list1)\n",
        "list2.reverse()\n",
        "print(list2)"
      ]
    },
    {
      "cell_type": "markdown",
      "metadata": {
        "id": "KFzgSkuCDPpr"
      },
      "source": [
        "Question 30:\n",
        "\n",
        "Task: Data Cleaning\n",
        "\n",
        "You have a list responses containing responses\n",
        "\n",
        "from a survey. However, some responses are recorded\n",
        "\n",
        "as empty strings due to data entry errors.\n",
        "\n",
        "Your task is to remove these empty responses from the list.\n",
        "\n",
        "Write Python code to remove all\n",
        "\n",
        "empty responses from the responses list\n",
        "\n",
        "responses = [\"Yes\", \"\", \"No\", \"\", \"Maybe\", \"\", \"\", \"Yes\", \"No\",\"\"]"
      ]
    },
    {
      "cell_type": "code",
      "execution_count": null,
      "metadata": {
        "colab": {
          "base_uri": "https://localhost:8080/"
        },
        "id": "HE5slHdEDUy2",
        "outputId": "31709126-cf1d-473d-89c5-f5022f6a5b0d"
      },
      "outputs": [
        {
          "name": "stdout",
          "output_type": "stream",
          "text": [
            "clean :  ['Yes', 'No', 'Maybe', 'Yes', 'No']\n"
          ]
        }
      ],
      "source": [
        "responses = [\"Yes\", \"\", \"No\", \"\", \"Maybe\", \"\", \"\", \"Yes\", \"No\", \"\"]\n",
        "clean = []\n",
        "for response in responses:\n",
        "  if response != \"\":\n",
        "    clean.append(response)\n",
        "  else:\n",
        "    pass\n",
        "\n",
        "print(\"clean : \",clean)"
      ]
    },
    {
      "cell_type": "markdown",
      "metadata": {
        "id": "6ddipcpzELMg"
      },
      "source": [
        "Question 31:\n",
        "\n",
        "Data Analysis Scenario:\n",
        "\n",
        "You have two lists containing exam scores of students from two different classes.\n",
        "\n",
        "The lists are class1_scores and class2_scores.\n",
        "\n",
        "You need to analyze the performance\n",
        "\n",
        "of the classes by calculating the average score for each class.\n",
        "\n",
        "Write Python code to calculate the average score for each class.\n",
        "\n",
        "class1_scores = [85, 90, 88, 92, 78]\n",
        "\n",
        "class2_scores = [75, 82, 80, 85, 79]"
      ]
    },
    {
      "cell_type": "code",
      "execution_count": null,
      "metadata": {
        "colab": {
          "base_uri": "https://localhost:8080/"
        },
        "id": "s1N-5WUEEUyh",
        "outputId": "54aab0df-16d8-4c6c-eea9-32084dcf0968"
      },
      "outputs": [
        {
          "name": "stdout",
          "output_type": "stream",
          "text": [
            "average score of first class 86.6\n",
            "average score of first class 80.2\n"
          ]
        }
      ],
      "source": [
        "class1_scores = [85, 90, 88, 92, 78]\n",
        "\n",
        "class2_scores = [75, 82, 80, 85, 79]\n",
        "\n",
        "average1 = (sum(class1_scores))/len(class1_scores)\n",
        "average2 = (sum(class2_scores))/len(class2_scores)\n",
        "\n",
        "print(\"average score of first class\",average1)\n",
        "print(\"average score of first class\",average2)"
      ]
    },
    {
      "cell_type": "markdown",
      "metadata": {
        "id": "grD9XiIzFHfV"
      },
      "source": [
        "Question 32:\n",
        "\n",
        "Given two lists\n",
        "\n",
        "list1= [[1, 2], [3, 4], [5, 6]) and list2 = [[7, 8], [9, 10]],\n",
        "\n",
        "concatenate them into a single list of lists."
      ]
    },
    {
      "cell_type": "code",
      "execution_count": null,
      "metadata": {
        "colab": {
          "base_uri": "https://localhost:8080/"
        },
        "id": "5yCChLZNFNBm",
        "outputId": "0458cc5c-82aa-4046-c8bc-13a7632d4d46"
      },
      "outputs": [
        {
          "name": "stdout",
          "output_type": "stream",
          "text": [
            "[[1, 2], [3, 4], [5, 6], [7, 8], [9, 10]]\n"
          ]
        }
      ],
      "source": [
        "list1= [[1, 2], [3, 4], [5, 6]]\n",
        "list2 = [[7, 8], [9, 10]]\n",
        "print(list1 + list2)"
      ]
    },
    {
      "cell_type": "markdown",
      "metadata": {
        "id": "blNCYbcpFN9P"
      },
      "source": [
        "Question 33:\n",
        "\n",
        "Given a list of sentences sentences = [\"Hello, world!\", \"Python is awesome!\", \"I love coding!\"],\n",
        "\n",
        "join the sentences into a single string separated by newline characters.\n",
        "\n",
        "output\n",
        "\n",
        "Joined string with newline characters:\n",
        "\n",
        "Hello, world!\n",
        "\n",
        "Python is awesome!\n",
        "\n",
        "I love coding!"
      ]
    },
    {
      "cell_type": "code",
      "execution_count": null,
      "metadata": {
        "colab": {
          "base_uri": "https://localhost:8080/"
        },
        "id": "2oTLDuHQFXAH",
        "outputId": "30d03331-4c73-4d12-f790-aa40e8b7a534"
      },
      "outputs": [
        {
          "name": "stdout",
          "output_type": "stream",
          "text": [
            "Hello, world!\n",
            "Python is awesome!\n",
            "I love coding!\n"
          ]
        }
      ],
      "source": [
        "sentences = [\"Hello, world!\", \"Python is awesome!\", \"I love coding!\"]\n",
        "for i in sentences:\n",
        "  print(i)"
      ]
    },
    {
      "cell_type": "markdown",
      "metadata": {
        "id": "IUpBZ-0M_WPn"
      },
      "source": [
        "Question 34:\n",
        "\n",
        "a. Create a list named data_points containing integers\n",
        "\n",
        "representing data values: [10, 20, 30, 40, 50].\n",
        "\n",
        "b. Add the value 60 to the end of the list.\n",
        "\n",
        "c. Insert the value 5 at the beginning of the list.\n",
        "\n",
        "d. Remove the value 30 from the list.\n",
        "\n",
        "e. Print the modified list."
      ]
    },
    {
      "cell_type": "code",
      "execution_count": null,
      "metadata": {
        "colab": {
          "base_uri": "https://localhost:8080/"
        },
        "id": "jYD_eH03A6zZ",
        "outputId": "d16c5adf-60a7-4d36-badb-a841fe9621df"
      },
      "outputs": [
        {
          "name": "stdout",
          "output_type": "stream",
          "text": [
            "[5, 10, 20, 40, 50, 60]\n"
          ]
        }
      ],
      "source": [
        "data_points = [10, 20, 30, 40, 50]\n",
        "data_points.append(60)\n",
        "data_points.insert(0,5)\n",
        "data_points.remove(30)\n",
        "print(data_points)"
      ]
    },
    {
      "cell_type": "markdown",
      "metadata": {
        "id": "QE_GSy-D_enf"
      },
      "source": [
        "Question 35:\n",
        "\n",
        "Student Enrollment Status\n",
        "\n",
        "You are managing student enrollments for a course\n",
        "\n",
        "and want to determine their enrollment\n",
        "\n",
        "status based on their course credits. Create a program that:\n",
        "\n",
        "1) Asks the user to input the number of students.\n",
        "\n",
        "2 ) Asks the user to input the course credits for each student, storing them in a list.\n",
        "\n",
        "3) Determines the enrollment status for each student:\n",
        "\n",
        "\"Full-time\" if course credits are greater than or equal to 12.\n",
        "\n",
        "\"Part-time\" if course credits are less than 12.\n",
        "\n",
        "4) Prints out the enrollment status for each student."
      ]
    },
    {
      "cell_type": "code",
      "execution_count": null,
      "metadata": {
        "colab": {
          "base_uri": "https://localhost:8080/"
        },
        "id": "IdyznihyNf-i",
        "outputId": "a552af75-9201-46d7-d020-c815c93e73c3"
      },
      "outputs": [
        {
          "name": "stdout",
          "output_type": "stream",
          "text": [
            "enter no. of students : 5\n",
            "enter the credit score of student 23\n",
            "enter the credit score of student 11\n",
            "enter the credit score of student 7\n",
            "enter the credit score of student 34\n",
            "enter the credit score of student 65\n",
            "[23, 11, 7, 34, 65]\n",
            "full time :  [23, 34, 65]\n",
            "part time :  [11, 7]\n",
            "student 1 that _is23\n",
            "student 2 that _is11\n",
            "student 3 that _is7\n",
            "student 4 that _is34\n",
            "student 5 that _is65\n"
          ]
        }
      ],
      "source": [
        "no_of_student = int(input(\"enter no. of students : \"))\n",
        "student_credit = []\n",
        "for i in range(no_of_student):\n",
        "  credita = int(input(\"enter the credit score of student \"))\n",
        "  student_credit.append(credita)\n",
        "print(student_credit)\n",
        "full_time = []\n",
        "part_time = []\n",
        "for j in range(no_of_student):\n",
        "  if student_credit[j] >= 12:\n",
        "    full_time.append(student_credit[j])\n",
        "  else:\n",
        "    part_time.append(student_credit[j])\n",
        "print(\"full time : \",full_time)\n",
        "print(\"part time : \",part_time)\n",
        "for k in range(no_of_student):\n",
        "  print(f\"student {k+1} that _is{student_credit[k]}\")\n"
      ]
    },
    {
      "cell_type": "markdown",
      "metadata": {
        "id": "awS-WR9e_lFx"
      },
      "source": [
        "Question 36:\n",
        "\n",
        "Age Group Classification\n",
        "\n",
        "You are analyzing demographic data and want to classify people into different age groups. Create a program that:\n",
        "\n",
        "Asks the user to input the number of people.\n",
        "\n",
        "Asks the user to input the ages of each person, storing them in a list.\n",
        "\n",
        "Classifies each person into one of the following\n",
        "\n",
        "age groups: \"Child\" (age < 18), \"Adult\" (18 <= age < 65), or \"Senior\" (age >= 65).\n",
        "\n",
        "Prints out the number of people in each age group."
      ]
    },
    {
      "cell_type": "code",
      "execution_count": null,
      "metadata": {
        "colab": {
          "base_uri": "https://localhost:8080/"
        },
        "id": "XwWSHCGNo_lC",
        "outputId": "3e8a01cc-bd95-4660-db3d-bb7ef5288d60"
      },
      "outputs": [
        {
          "name": "stdout",
          "output_type": "stream",
          "text": [
            "enter the no. of people : 8\n",
            "enter the age of this person : 4\n",
            "enter the age of this person : 76\n",
            "enter the age of this person : 98\n",
            "enter the age of this person : 65\n",
            "enter the age of this person : 44\n",
            "enter the age of this person : 43\n",
            "enter the age of this person : 20\n",
            "enter the age of this person : 76\n",
            "age list [4, 76, 98, 65, 44, 43, 20, 76]\n",
            "child : 1\n",
            "adult : 3\n",
            "senior : 4\n"
          ]
        }
      ],
      "source": [
        "no_of_people = int(input(\"enter the no. of people : \"))\n",
        "age = []\n",
        "for i in range(no_of_people):\n",
        "  age_of_person = int(input(\"enter the age of this person : \"))\n",
        "  age.append(age_of_person)\n",
        "print(\"age list\",age)\n",
        "child = []\n",
        "adult = []\n",
        "senior = []\n",
        "for j in age:\n",
        "  if j < 18:\n",
        "    child.append(j)\n",
        "  elif 18<=j<65:\n",
        "    adult.append(j)\n",
        "  else:\n",
        "    senior.append(j)\n",
        "print(\"child :\",len(child))\n",
        "print(\"adult :\",len(adult))\n",
        "print(\"senior :\",len(senior))"
      ]
    },
    {
      "cell_type": "markdown",
      "metadata": {
        "id": "mYI9YtI1_q3k"
      },
      "source": [
        "Question 37:\n",
        "\n",
        "String Methods:\n",
        "\n",
        "a. Create a string variable sentence with any sentence of your choice.\n",
        "\n",
        "b. Convert the sentence to uppercase.\n",
        "\n",
        "c. Split the sentence into a list of words.\n",
        "\n",
        "d. Join the words in the list using a space as the separator.\n",
        "\n",
        "e. Print the modified sentence."
      ]
    },
    {
      "cell_type": "code",
      "execution_count": null,
      "metadata": {
        "colab": {
          "base_uri": "https://localhost:8080/"
        },
        "id": "rhLnUSe9sITQ",
        "outputId": "ceb81689-edd6-4ac4-ae08-ba9b4e4f8722"
      },
      "outputs": [
        {
          "name": "stdout",
          "output_type": "stream",
          "text": [
            "enter the words : sahil\n",
            "upper SAHIL\n",
            "['S', 'A', 'H', 'I', 'L']\n",
            "S_A_H_I_L\n"
          ]
        }
      ],
      "source": [
        "letter = input(\"enter the words : \")\n",
        "upper = letter.upper()\n",
        "print(\"upper\",upper)\n",
        "lst = []\n",
        "for i in upper:\n",
        "  lst.append(i)\n",
        "print(lst)\n",
        "join = \"_\".join(lst)\n",
        "print(join)"
      ]
    },
    {
      "cell_type": "markdown",
      "metadata": {
        "id": "X7_QdGhq_wUL"
      },
      "source": [
        "Question 38:\n",
        "\n",
        "List Sorting:\n",
        "\n",
        "a. Create a list named ages containing integers representing ages of individuals.\n",
        "\n",
        "b. Sort the list in ascending order.\n",
        "\n",
        "c. Sort the list in descending order.\n",
        "\n",
        "d. Print the sorted lists."
      ]
    },
    {
      "cell_type": "code",
      "execution_count": null,
      "metadata": {
        "colab": {
          "base_uri": "https://localhost:8080/"
        },
        "id": "-PKjo63gub9h",
        "outputId": "d75cc6cf-fbed-4eeb-edd8-0607657ef8cf"
      },
      "outputs": [
        {
          "name": "stdout",
          "output_type": "stream",
          "text": [
            "the list in ascending order :  [1, 3, 6, 12, 32, 34, 54, 87]\n",
            "the list in descending order :  [87, 54, 34, 32, 12, 6, 3, 1]\n"
          ]
        }
      ],
      "source": [
        "ages = [12,3,54,32,6,87,34,1]\n",
        "ages.sort()\n",
        "print(\"the list in ascending order : \",ages)\n",
        "ages.sort(reverse=True)\n",
        "print(\"the list in descending order : \",ages)\n"
      ]
    },
    {
      "cell_type": "markdown",
      "metadata": {
        "id": "phPKhqYeKgxf"
      },
      "source": [
        "Question 39:\n",
        "\n",
        "Define two sets students_passed_math and students_passed_science containing student IDs who passed Math and Science respectively. Write Python code to:\n",
        "\n",
        "1) Print the number of students who passed both Math and Science.\n",
        "\n",
        "2) Print the student IDs who passed only Math\n",
        "\n",
        "3) Print the student IDs who passed only Science\n",
        "\n",
        "4) Determine if students_passed_math is a subset of students_passed_science.\n",
        "\n",
        "5) Determine if students_passed_science is a superset of students_passed_math."
      ]
    },
    {
      "cell_type": "code",
      "execution_count": null,
      "metadata": {
        "colab": {
          "base_uri": "https://localhost:8080/"
        },
        "id": "1PiBwoXDKk6L",
        "outputId": "3fdcf3b5-64bc-4f4d-849f-13ce9b0c1355"
      },
      "outputs": [
        {
          "name": "stdout",
          "output_type": "stream",
          "text": [
            "the student IDs who passed only Math :  {101, 102, 103}\n",
            "the student IDs who passed only Science :  {106, 107, 108}\n",
            "False\n",
            "False\n"
          ]
        }
      ],
      "source": [
        "students_passed_math = {101,102,103,104,105}\n",
        "students_passed_science = {104,105,106,107,108}\n",
        "math= students_passed_math.difference(students_passed_science)\n",
        "print(\"the student IDs who passed only Math : \",math)\n",
        "science = students_passed_science.difference(students_passed_math)\n",
        "print(\"the student IDs who passed only Science : \", science)\n",
        "print(students_passed_math.issubset(students_passed_science))\n",
        "print(students_passed_science.issubset(students_passed_math))"
      ]
    },
    {
      "cell_type": "markdown",
      "metadata": {
        "id": "q3vjkyzIY9iR"
      },
      "source": [
        "Question 40:\n",
        "\n",
        "Imagine you are managing an inventory of products in a store.\n",
        "\n",
        "Create a Python program that initializes a dictionary\n",
        "\n",
        "to store the following information about products:\n",
        "\n",
        "\n",
        "Product ID as the key (an integer).\n",
        "\n",
        "Product name as the value (a string).\n",
        "\n",
        "Your program should:\n",
        "\n",
        "Create an empty dictionary.\n",
        "\n",
        "Prompt the user to enter details for at least 3 products.\n",
        "\n",
        "Populate the dictionary with the entered product IDs and names.\n",
        "\n",
        "Display the final dictionary containing all product IDs and names."
      ]
    },
    {
      "cell_type": "code",
      "execution_count": null,
      "metadata": {
        "colab": {
          "base_uri": "https://localhost:8080/"
        },
        "id": "tiURKaXGZDlq",
        "outputId": "391b3091-135d-45d2-b68d-b5b597a4eee9"
      },
      "outputs": [
        {
          "name": "stdout",
          "output_type": "stream",
          "text": [
            "enter the product ID : 1\n",
            "enter the product name : saag\n",
            "enter the product ID : 2\n",
            "enter the product name : pyasa\n",
            "enter the product ID : 3\n",
            "enter the product name : puja\n",
            "{1: 'saag', 2: 'pyasa', 3: 'puja'}\n"
          ]
        }
      ],
      "source": [
        "empty = { }\n",
        "for i in  range(3):\n",
        "  Product_ID = int(input(\"enter the product ID : \"))\n",
        "  Product_name = input(\"enter the product name : \")\n",
        "  empty[Product_ID] = Product_name\n",
        "print(empty)"
      ]
    },
    {
      "cell_type": "markdown",
      "metadata": {
        "id": "HRol8xFHORdu"
      },
      "source": [
        "Question 41:\n",
        "\n",
        "Create a dictionary book_ratings with the following initial data:\n",
        "\n",
        "'Python Programming': 4.5\n",
        "\n",
        "'Data Science Handbook': 4.8\n",
        "\n",
        "'Machine Learning Basics': 4.2\n",
        "\n",
        "Check if 'Python Programming' is in book_ratings.\n",
        "\n",
        "Print \"Found\" if it exists, otherwise print \"Not Found\".\n",
        "\n",
        "Use a method to get all keys from book_ratings and\n",
        "\n",
        "store them in a list titles.\n",
        "\n",
        "Print the list titles."
      ]
    },
    {
      "cell_type": "code",
      "execution_count": null,
      "metadata": {
        "colab": {
          "background_save": true
        },
        "id": "S3_QQyvMOi1g",
        "outputId": "aaa7e78e-f392-4263-e501-16c38c1900e6"
      },
      "outputs": [
        {
          "name": "stdout",
          "output_type": "stream",
          "text": [
            "found\n",
            "dict_keys(['Python Programming', 'Data Science Handbook', 'Machine Learning Basics'])\n"
          ]
        }
      ],
      "source": [
        "book_ratings = {\"Python Programming\": 4.5, \"Data Science Handbook\": 4.8, \"Machine Learning Basics\": 4.2}\n",
        "if  \"Python Programming\" in book_ratings:\n",
        "  print(\"found\")\n",
        "else:\n",
        "  print(\"not found\")\n",
        "\n"
      ]
    },
    {
      "cell_type": "markdown",
      "source": [
        "Question 42:\n",
        "\n",
        "Create a dictionary fruit_stock with the following items:\n",
        "\n",
        "'apple': 10\n",
        "\n",
        "'banana': 15\n",
        "\n",
        "'orange': 8\n",
        "\n",
        "'grape': 20\n",
        "\n",
        "Print each fruit along with its stock count\n",
        "\n",
        "in the format \"Fruit: Stock\" using a loop.\n",
        "\n",
        "OUTPUT\n",
        "\n",
        "Fruit: apple, Stock: 10\n",
        "\n",
        "Fruit: banana, Stock: 15\n",
        "\n",
        "Fruit: orange, Stock: 8\n",
        "\n",
        "Fruit: grape, Stock: 20"
      ],
      "metadata": {
        "id": "QsjFI3x2feeK"
      }
    },
    {
      "cell_type": "code",
      "source": [
        "fruit_stock = {\"apple\": 10, \"banana\": 15, \"orange\": 8, \"grape\": 20}\n",
        "for i in fruit_stock:\n",
        "  print(\"fruit\", i ,\"stock\",fruit_stock[i])"
      ],
      "metadata": {
        "colab": {
          "base_uri": "https://localhost:8080/"
        },
        "id": "Z6qB03wwff9p",
        "outputId": "9097c313-537e-42bc-88ed-286a4f4553ea"
      },
      "execution_count": null,
      "outputs": [
        {
          "output_type": "stream",
          "name": "stdout",
          "text": [
            "fruit apple stock 10\n",
            "fruit banana stock 15\n",
            "fruit orange stock 8\n",
            "fruit grape stock 20\n"
          ]
        }
      ]
    },
    {
      "cell_type": "markdown",
      "source": [
        "Question 43:\n",
        "\n",
        "Write a Python script to concatenate the following dictionaries to create a now one"
      ],
      "metadata": {
        "id": "S4pwEoaOfump"
      }
    },
    {
      "cell_type": "code",
      "source": [
        "my_dict1 = {101: \"sahil\", 102:\"arpit\"}\n",
        "my_dict2 = {103: \"rahil\", 104:\"narpit\"}\n",
        "my_dict1.update(my_dict2)\n",
        "print(my_dict1)"
      ],
      "metadata": {
        "colab": {
          "base_uri": "https://localhost:8080/"
        },
        "id": "a0tAMWYpf1Wr",
        "outputId": "28d54c53-51d7-42c4-f722-bd51e31575fc"
      },
      "execution_count": null,
      "outputs": [
        {
          "output_type": "stream",
          "name": "stdout",
          "text": [
            "{101: 'sahil', 102: 'arpit', 103: 'rahil', 104: 'narpit'}\n"
          ]
        }
      ]
    },
    {
      "cell_type": "markdown",
      "source": [
        "Question 44:\n",
        "\n",
        "Print a dictionary where the keys are numbers between 1 and 150 and the values are square of keys"
      ],
      "metadata": {
        "id": "P-P2dWsxf6Vr"
      }
    },
    {
      "cell_type": "code",
      "source": [
        "mydict = {}\n",
        "for i in range(1,151):\n",
        "  mydict[i] = i**2\n",
        "print(mydict)"
      ],
      "metadata": {
        "id": "d7YXA_BhgBPj",
        "colab": {
          "base_uri": "https://localhost:8080/"
        },
        "outputId": "872aa7fc-3733-45ec-a2dc-1eb7a0fcf480"
      },
      "execution_count": null,
      "outputs": [
        {
          "output_type": "stream",
          "name": "stdout",
          "text": [
            "{1: 1, 2: 4, 3: 9, 4: 16, 5: 25, 6: 36, 7: 49, 8: 64, 9: 81, 10: 100, 11: 121, 12: 144, 13: 169, 14: 196, 15: 225, 16: 256, 17: 289, 18: 324, 19: 361, 20: 400, 21: 441, 22: 484, 23: 529, 24: 576, 25: 625, 26: 676, 27: 729, 28: 784, 29: 841, 30: 900, 31: 961, 32: 1024, 33: 1089, 34: 1156, 35: 1225, 36: 1296, 37: 1369, 38: 1444, 39: 1521, 40: 1600, 41: 1681, 42: 1764, 43: 1849, 44: 1936, 45: 2025, 46: 2116, 47: 2209, 48: 2304, 49: 2401, 50: 2500, 51: 2601, 52: 2704, 53: 2809, 54: 2916, 55: 3025, 56: 3136, 57: 3249, 58: 3364, 59: 3481, 60: 3600, 61: 3721, 62: 3844, 63: 3969, 64: 4096, 65: 4225, 66: 4356, 67: 4489, 68: 4624, 69: 4761, 70: 4900, 71: 5041, 72: 5184, 73: 5329, 74: 5476, 75: 5625, 76: 5776, 77: 5929, 78: 6084, 79: 6241, 80: 6400, 81: 6561, 82: 6724, 83: 6889, 84: 7056, 85: 7225, 86: 7396, 87: 7569, 88: 7744, 89: 7921, 90: 8100, 91: 8281, 92: 8464, 93: 8649, 94: 8836, 95: 9025, 96: 9216, 97: 9409, 98: 9604, 99: 9801, 100: 10000, 101: 10201, 102: 10404, 103: 10609, 104: 10816, 105: 11025, 106: 11236, 107: 11449, 108: 11664, 109: 11881, 110: 12100, 111: 12321, 112: 12544, 113: 12769, 114: 12996, 115: 13225, 116: 13456, 117: 13689, 118: 13924, 119: 14161, 120: 14400, 121: 14641, 122: 14884, 123: 15129, 124: 15376, 125: 15625, 126: 15876, 127: 16129, 128: 16384, 129: 16641, 130: 16900, 131: 17161, 132: 17424, 133: 17689, 134: 17956, 135: 18225, 136: 18496, 137: 18769, 138: 19044, 139: 19321, 140: 19600, 141: 19881, 142: 20164, 143: 20449, 144: 20736, 145: 21025, 146: 21316, 147: 21609, 148: 21904, 149: 22201, 150: 22500}\n"
          ]
        }
      ]
    },
    {
      "cell_type": "markdown",
      "source": [
        "Question 45:\n",
        "\n",
        "Check whether a given key already exists in a dictionary."
      ],
      "metadata": {
        "id": "Xp0E1W1AgAKA"
      }
    },
    {
      "cell_type": "code",
      "source": [
        "my_dict1 = {101: \"sahil\", 102:\"arpit\"}\n",
        "print(101 in my_dict1)\n",
        "print(102 in my_dict1)\n",
        "print(103 in my_dict1)"
      ],
      "metadata": {
        "id": "UY0FjxT0gF3p",
        "colab": {
          "base_uri": "https://localhost:8080/"
        },
        "outputId": "2f46b285-98b7-4ef0-df22-59fa89818a2c"
      },
      "execution_count": null,
      "outputs": [
        {
          "output_type": "stream",
          "name": "stdout",
          "text": [
            "True\n",
            "True\n",
            "False\n"
          ]
        }
      ]
    },
    {
      "cell_type": "markdown",
      "source": [
        "# **oops**"
      ],
      "metadata": {
        "id": "bbMiXxPFzwIm"
      }
    },
    {
      "cell_type": "code",
      "source": [
        "class calculator:\n",
        "  def sum(self, a, b):\n",
        "      print(a+b)\n",
        "  def diff(self, a, b):\n",
        "      print(a-b)\n",
        "  def mult(self, a, b):\n",
        "      print(a*b)"
      ],
      "metadata": {
        "id": "GjoBkMq4z5Hx"
      },
      "execution_count": null,
      "outputs": []
    },
    {
      "cell_type": "code",
      "source": [
        "calc = calculator()"
      ],
      "metadata": {
        "id": "eXuI-7AJ0_lR"
      },
      "execution_count": null,
      "outputs": []
    },
    {
      "cell_type": "code",
      "source": [
        "calc.sum(11,12)\n",
        "calc.diff(12,11)\n",
        "calc.mult(11,11)"
      ],
      "metadata": {
        "colab": {
          "base_uri": "https://localhost:8080/"
        },
        "id": "ZChNeJbG1F4v",
        "outputId": "66960684-b2b9-4213-8c7e-4ee44eef9075"
      },
      "execution_count": null,
      "outputs": [
        {
          "output_type": "stream",
          "name": "stdout",
          "text": [
            "23\n",
            "1\n",
            "121\n"
          ]
        }
      ]
    },
    {
      "cell_type": "markdown",
      "source": [
        "oop is a way to organize  and structure code by using classes and object to represent real world entities\n",
        "\n",
        "class :- class is a blue print or template which define property(attrbute) of object\n",
        "\n",
        "object :- object is instance of class"
      ],
      "metadata": {
        "id": "vsE6elvk100d"
      }
    },
    {
      "cell_type": "code",
      "source": [
        "class car:\n",
        "  def start(self):\n",
        "    print(f\"the {self.color} {self.model} car is start\")\n",
        "\n",
        "#object creation and attribute set karna\n",
        "car1 = car()\n",
        "car1.model = \"honda\"\n",
        "car1.color = \"white\"\n",
        "\n",
        "car2 = car()\n",
        "car2.model = \"maruti\"\n",
        "car2.color = \"red\"\n",
        "\n",
        "# method call karna\n",
        "car1.start()\n",
        "car2.start()"
      ],
      "metadata": {
        "colab": {
          "base_uri": "https://localhost:8080/"
        },
        "id": "giZWbA-p2K1c",
        "outputId": "58f68547-8126-41e5-a2e2-5a87567ece81"
      },
      "execution_count": null,
      "outputs": [
        {
          "output_type": "stream",
          "name": "stdout",
          "text": [
            "the white honda car is start\n",
            "the red maruti car is start\n"
          ]
        }
      ]
    },
    {
      "cell_type": "markdown",
      "source": [
        "# **init function**"
      ],
      "metadata": {
        "id": "dU8Z72JZ3bSA"
      }
    },
    {
      "cell_type": "markdown",
      "source": [
        "init function ekspecial method hai jo class ka object create hone par automatic call hota hai is function ka kaam hai object ki initial property ko set karna aur is function ko construction bhi kehte hai."
      ],
      "metadata": {
        "id": "pYkkeY2B490H"
      }
    },
    {
      "cell_type": "code",
      "source": [
        "class car:\n",
        "  def __init__(self, model, color):\n",
        "    self.model = model\n",
        "    self.color = color\n",
        "\n",
        "  def start(self):\n",
        "    print(f\"The {self.color} {self.model} car is starting\")"
      ],
      "metadata": {
        "id": "lOYvLgoB5mk-"
      },
      "execution_count": null,
      "outputs": []
    },
    {
      "cell_type": "code",
      "source": [
        "car1 = car(\"BMW\",\"Black\")"
      ],
      "metadata": {
        "id": "HwZ8Sw904o-f"
      },
      "execution_count": null,
      "outputs": []
    },
    {
      "cell_type": "code",
      "source": [
        "car1.start()"
      ],
      "metadata": {
        "colab": {
          "base_uri": "https://localhost:8080/"
        },
        "id": "_iwlH9aq6ibD",
        "outputId": "748ad267-3516-409c-b1ba-544ec7ff6f87"
      },
      "execution_count": null,
      "outputs": [
        {
          "output_type": "stream",
          "name": "stdout",
          "text": [
            "The Black BMW car is starting\n"
          ]
        }
      ]
    },
    {
      "cell_type": "markdown",
      "source": [
        "# **Polymorphism** *means many forms*"
      ],
      "metadata": {
        "id": "DxvwiC_x7ewV"
      }
    },
    {
      "cell_type": "markdown",
      "source": [
        "polymorphism :-  1.compile time polymorphism,\n",
        "\n",
        " ----> function overloading\n",
        "\n",
        "  ---->operator overloading\n",
        "\n",
        "2.Run time polymorphism\n",
        "\n",
        "---->method overriding\n",
        "\n"
      ],
      "metadata": {
        "id": "VTd6daIP8Cbz"
      }
    },
    {
      "cell_type": "markdown",
      "source": [
        "#polymorphism with function"
      ],
      "metadata": {
        "id": "TO0T2Iaj-Am9"
      }
    },
    {
      "cell_type": "code",
      "source": [
        "class bird:\n",
        "  def fly(self):\n",
        "    print(\"bird is fly\")\n",
        "\n",
        "class airplane:\n",
        "  def fly(self):\n",
        "    print(\"airplane is fly\")"
      ],
      "metadata": {
        "id": "UyIlt19t7xh3"
      },
      "execution_count": null,
      "outputs": []
    },
    {
      "cell_type": "code",
      "source": [
        "Bird = bird()\n",
        "Airplane = airplane()"
      ],
      "metadata": {
        "id": "I_u-vmpT9kKn"
      },
      "execution_count": null,
      "outputs": []
    },
    {
      "cell_type": "code",
      "source": [
        "Bird.fly()\n",
        "Airplane.fly()"
      ],
      "metadata": {
        "colab": {
          "base_uri": "https://localhost:8080/"
        },
        "id": "4zezTNEN9tZH",
        "outputId": "a2d076e5-c607-4615-beff-ec43b6c9fb08"
      },
      "execution_count": null,
      "outputs": [
        {
          "output_type": "stream",
          "name": "stdout",
          "text": [
            "bird is fly\n",
            "airplane is fly\n"
          ]
        }
      ]
    },
    {
      "cell_type": "markdown",
      "source": [
        "#run time polymorphism - method over riding"
      ],
      "metadata": {
        "id": "J26tHDUU-GsK"
      }
    },
    {
      "cell_type": "markdown",
      "source": [
        "method overiding jab hota hai jab child class apne parent class ka method ko redefine karti hai.\n",
        "yeh ensure karta hai ki child classs ka method call ho jab object child class ka ho"
      ],
      "metadata": {
        "id": "Q6NyAoEl-THv"
      }
    },
    {
      "cell_type": "code",
      "source": [
        "#parent class\n",
        "class animal:\n",
        "  def make_sound(self):\n",
        "    print(\"animal make a sound\")\n",
        "\n",
        "#child class\n",
        "class dog(animal):\n",
        "  def make_sound(self):\n",
        "    print(\"dog bark\")\n",
        "\n",
        "#child class\n",
        "class cat(animal):\n",
        "  def make_sound(self):\n",
        "    print(\"cat meww\")"
      ],
      "metadata": {
        "id": "zgNBtWsL-2DC"
      },
      "execution_count": null,
      "outputs": []
    },
    {
      "cell_type": "code",
      "source": [
        "#object creation\n",
        "\n",
        "Animal = animal()\n",
        "Dog = dog()\n",
        "Cat = cat()"
      ],
      "metadata": {
        "id": "D2els4RnABUl"
      },
      "execution_count": null,
      "outputs": []
    },
    {
      "cell_type": "code",
      "source": [
        "Animal.make_sound()\n",
        "Dog.make_sound()\n",
        "Cat.make_sound()"
      ],
      "metadata": {
        "colab": {
          "base_uri": "https://localhost:8080/"
        },
        "id": "qTkHL8A2AURz",
        "outputId": "9f70f83a-cf32-43c7-bf62-07b816005a29"
      },
      "execution_count": null,
      "outputs": [
        {
          "output_type": "stream",
          "name": "stdout",
          "text": [
            "animal make a sound\n",
            "dog bark\n",
            "cat meww\n"
          ]
        }
      ]
    },
    {
      "cell_type": "markdown",
      "source": [
        "#compile time polymorphism - method overloading"
      ],
      "metadata": {
        "id": "6SJofVsK-1g1"
      }
    },
    {
      "cell_type": "markdown",
      "source": [
        "python mae method overloading dirct support nahi karta, lekin hum default argument ka use karke ek method ko  multiple tarike sae use kar sakte hai."
      ],
      "metadata": {
        "id": "U0TvvxpWAv1r"
      }
    },
    {
      "cell_type": "code",
      "source": [
        "class calculator:\n",
        "  def add(self, a,b, c=0):\n",
        "    print(a+b+c)"
      ],
      "metadata": {
        "id": "5VCBXEPbAuCT"
      },
      "execution_count": null,
      "outputs": []
    },
    {
      "cell_type": "code",
      "source": [
        "calc = calculator()"
      ],
      "metadata": {
        "id": "hNuTmeC4BUfJ"
      },
      "execution_count": null,
      "outputs": []
    },
    {
      "cell_type": "code",
      "source": [
        "calc.add(2,3)"
      ],
      "metadata": {
        "colab": {
          "base_uri": "https://localhost:8080/"
        },
        "id": "heU-8hyzBbCA",
        "outputId": "17e4dcf5-e0c7-40fd-d907-01b434944905"
      },
      "execution_count": null,
      "outputs": [
        {
          "output_type": "stream",
          "name": "stdout",
          "text": [
            "5\n"
          ]
        }
      ]
    },
    {
      "cell_type": "code",
      "source": [
        "calc.add(3,3,5)"
      ],
      "metadata": {
        "colab": {
          "base_uri": "https://localhost:8080/"
        },
        "id": "hCUeAqqcBqrA",
        "outputId": "5ca4fa58-476a-44aa-fcf4-52f8bf0284d6"
      },
      "execution_count": null,
      "outputs": [
        {
          "output_type": "stream",
          "name": "stdout",
          "text": [
            "11\n"
          ]
        }
      ]
    },
    {
      "cell_type": "markdown",
      "source": [
        "************"
      ],
      "metadata": {
        "id": "kCfyXMB1B3e2"
      }
    },
    {
      "cell_type": "markdown",
      "source": [
        "**Imagine** kariye ek software application jo different types of media files ko play karta hai jaise audio files aur video files. Hum ek MediaPlayer class create kar sakte hain jo play method ko define karega, aur phir AudioPlayer aur VideoPlayer classes inherit karengi MediaPlayer class ko aur play method ko override karengi apne specific behavior ke liye."
      ],
      "metadata": {
        "id": "2Kji9pjyCP-W"
      }
    },
    {
      "cell_type": "code",
      "source": [
        "class media_player:\n",
        "  def play(self):\n",
        "    print(\"playing media player\")\n",
        "\n",
        "class Audioplayer(media_player):\n",
        "  def play(self):\n",
        "    print(\"play the music\")\n",
        "\n",
        "class Videoplayer(media_player):\n",
        "  def play(self):\n",
        "    print(\"play the movie\")"
      ],
      "metadata": {
        "id": "AtJuP-IJB7PK"
      },
      "execution_count": null,
      "outputs": []
    },
    {
      "cell_type": "code",
      "source": [
        "media_player1 = media_player()\n",
        "audio = Audioplayer()\n",
        "vedio = Videoplayer()"
      ],
      "metadata": {
        "id": "hwLwJAT9DPZB"
      },
      "execution_count": null,
      "outputs": []
    },
    {
      "cell_type": "code",
      "source": [
        "media_player1.play()\n",
        "audio.play()\n",
        "vedio.play()"
      ],
      "metadata": {
        "colab": {
          "base_uri": "https://localhost:8080/"
        },
        "id": "xuq1YIa-DfuC",
        "outputId": "4c98701e-df9e-435c-9a75-4f3742852194"
      },
      "execution_count": null,
      "outputs": [
        {
          "output_type": "stream",
          "name": "stdout",
          "text": [
            "playing media player\n",
            "play the music\n",
            "play the movie\n"
          ]
        }
      ]
    },
    {
      "cell_type": "markdown",
      "source": [
        "#inheritance"
      ],
      "metadata": {
        "id": "_VBg49x5EGxt"
      }
    },
    {
      "cell_type": "code",
      "source": [
        "#single inheritance\n",
        "\n",
        "\n",
        "class parent:\n",
        "  def show(self):\n",
        "    print(\"this is parent class\")\n",
        "\n",
        "class child(parent):\n",
        "  def display(self):\n",
        "    print(\"this is child class\")"
      ],
      "metadata": {
        "id": "6m9uAVAGEKr7"
      },
      "execution_count": null,
      "outputs": []
    },
    {
      "cell_type": "code",
      "source": [
        "Child = child()"
      ],
      "metadata": {
        "id": "OQp2_0nO9_0B"
      },
      "execution_count": null,
      "outputs": []
    },
    {
      "cell_type": "code",
      "source": [
        "Child.show()\n",
        "Child.display()"
      ],
      "metadata": {
        "colab": {
          "base_uri": "https://localhost:8080/"
        },
        "id": "RRXqHHm1-Gbc",
        "outputId": "cb361417-0abe-44e3-942a-5d78c0ef204d"
      },
      "execution_count": null,
      "outputs": [
        {
          "output_type": "stream",
          "name": "stdout",
          "text": [
            "this is parent class\n",
            "this is child class\n"
          ]
        }
      ]
    },
    {
      "cell_type": "code",
      "source": [
        "#multiple inhritane\n",
        "\n",
        "class mother:\n",
        "  def show_mother(self):\n",
        "    print(\"this is mother class\")\n",
        "\n",
        "class father:\n",
        "  def show_father(self):\n",
        "    print(\"this is father class\")\n",
        "\n",
        "class Child(mother, father):\n",
        "  def show_child(self):\n",
        "    print(\"this is child class\")"
      ],
      "metadata": {
        "id": "l0uo-g7X-TyL"
      },
      "execution_count": null,
      "outputs": []
    },
    {
      "cell_type": "code",
      "source": [
        "child = Child()\n",
        "child.show_mother()\n",
        "child.show_father()\n",
        "child.show_child()"
      ],
      "metadata": {
        "colab": {
          "base_uri": "https://localhost:8080/"
        },
        "id": "nUFY1NdV-5dU",
        "outputId": "91c2f0c3-3886-4b0e-86da-2349fe7a1e66"
      },
      "execution_count": null,
      "outputs": [
        {
          "output_type": "stream",
          "name": "stdout",
          "text": [
            "this is mother class\n",
            "this is father class\n",
            "this is child class\n"
          ]
        }
      ]
    },
    {
      "cell_type": "code",
      "source": [
        "#multilevel inheritance\n",
        "\n",
        "class grandfather:\n",
        "  def show_gfather(self):\n",
        "    print(\"this is grand father class\")\n",
        "\n",
        "class parent(grandfather):\n",
        "  def show_parent(self):\n",
        "    print(\"this is parent class\")\n",
        "\n",
        "class Child(parent):\n",
        "  def show_child(self):\n",
        "    print(\"this is child class\")"
      ],
      "metadata": {
        "id": "F7JNv6CG_WGR"
      },
      "execution_count": null,
      "outputs": []
    },
    {
      "cell_type": "code",
      "source": [
        "child = Child()"
      ],
      "metadata": {
        "id": "b5LwR9_MAElw"
      },
      "execution_count": null,
      "outputs": []
    },
    {
      "cell_type": "code",
      "source": [
        "child.show_gfather()\n",
        "child.show_parent()\n",
        "child.show_child()"
      ],
      "metadata": {
        "colab": {
          "base_uri": "https://localhost:8080/"
        },
        "id": "GK50S20bALzM",
        "outputId": "d5e539c6-b178-4516-f86a-b378c85a27b0"
      },
      "execution_count": null,
      "outputs": [
        {
          "output_type": "stream",
          "name": "stdout",
          "text": [
            "this is grand father class\n",
            "this is parent class\n",
            "this is child class\n"
          ]
        }
      ]
    },
    {
      "cell_type": "code",
      "source": [
        "parent1 = parent()"
      ],
      "metadata": {
        "id": "f3wxiOxeAxED"
      },
      "execution_count": null,
      "outputs": []
    },
    {
      "cell_type": "code",
      "source": [
        "parent1.show_gfather()"
      ],
      "metadata": {
        "colab": {
          "base_uri": "https://localhost:8080/"
        },
        "id": "aUXq8x7xA1jg",
        "outputId": "e6b09805-1626-46ae-b781-786c5975f55d"
      },
      "execution_count": null,
      "outputs": [
        {
          "output_type": "stream",
          "name": "stdout",
          "text": [
            "this is grand father class\n"
          ]
        }
      ]
    },
    {
      "cell_type": "code",
      "source": [
        "#hierarichal inheritance\n",
        "\n",
        "class parent:\n",
        "  def show_parent(self):\n",
        "    print(\"this is parent\")\n",
        "\n",
        "class boy(parent):\n",
        "  def show_boy():\n",
        "    print(\"i am boy\")\n",
        "\n",
        "class girl(parent):\n",
        "  def show_girl():\n",
        "    print(\"i am girl\")"
      ],
      "metadata": {
        "id": "_JgaLe4oA-ir"
      },
      "execution_count": null,
      "outputs": []
    },
    {
      "cell_type": "code",
      "source": [
        "childb = boy()\n",
        "childg = girl()"
      ],
      "metadata": {
        "id": "Q-JUkb13Btb4"
      },
      "execution_count": null,
      "outputs": []
    },
    {
      "cell_type": "code",
      "source": [
        "childb.show_parent()\n",
        "childg.show_parent()"
      ],
      "metadata": {
        "colab": {
          "base_uri": "https://localhost:8080/"
        },
        "id": "bbQhQdJrB_lF",
        "outputId": "f73054af-4b52-4ab6-ef45-ca75685b880f"
      },
      "execution_count": null,
      "outputs": [
        {
          "output_type": "stream",
          "name": "stdout",
          "text": [
            "this is parent\n",
            "this is parent\n"
          ]
        }
      ]
    },
    {
      "cell_type": "markdown",
      "source": [
        "#Numpy"
      ],
      "metadata": {
        "id": "6AftCB9n1sFG"
      }
    },
    {
      "cell_type": "code",
      "source": [
        "import numpy as np"
      ],
      "metadata": {
        "id": "EzheDjHZ1v78"
      },
      "execution_count": null,
      "outputs": []
    },
    {
      "cell_type": "code",
      "source": [
        "arr = np.array([1, 2, 3, 4, 5])\n",
        "print(arr)\n",
        "print(type(arr))\n",
        "print(arr.ndim)  #check dimension of the array"
      ],
      "metadata": {
        "colab": {
          "base_uri": "https://localhost:8080/"
        },
        "id": "E-qbQy7q17O8",
        "outputId": "055e625e-538e-404f-a564-927481072ea4"
      },
      "execution_count": null,
      "outputs": [
        {
          "output_type": "stream",
          "name": "stdout",
          "text": [
            "[1 2 3 4 5]\n",
            "<class 'numpy.ndarray'>\n",
            "1\n"
          ]
        }
      ]
    },
    {
      "cell_type": "code",
      "source": [
        "arr = np.array((1, 2, 3, 4, 5))\n",
        "print(arr)\n",
        "print(type(arr))\n",
        "print(arr.ndim)"
      ],
      "metadata": {
        "colab": {
          "base_uri": "https://localhost:8080/"
        },
        "id": "UcZcsNRw2XxI",
        "outputId": "e244c1ac-160e-41f7-82bf-7c186b3bd179"
      },
      "execution_count": null,
      "outputs": [
        {
          "output_type": "stream",
          "name": "stdout",
          "text": [
            "[1 2 3 4 5]\n",
            "<class 'numpy.ndarray'>\n",
            "1\n"
          ]
        }
      ]
    },
    {
      "cell_type": "code",
      "source": [
        "#different dimensional array create\n",
        "\n",
        "#0 d array\n",
        "arr1 = np.array(23)\n",
        "print(arr1)\n",
        "print(arr1.ndim)"
      ],
      "metadata": {
        "colab": {
          "base_uri": "https://localhost:8080/"
        },
        "id": "56WEhKEh2dj7",
        "outputId": "d030af33-6438-4087-dc17-43fdd25506d2"
      },
      "execution_count": null,
      "outputs": [
        {
          "output_type": "stream",
          "name": "stdout",
          "text": [
            "23\n",
            "0\n"
          ]
        }
      ]
    },
    {
      "cell_type": "code",
      "source": [
        "#1d array\n",
        "arr2 = np.array([1,2,3,4,5,6])\n",
        "print(arr2)\n",
        "print(arr2.ndim)"
      ],
      "metadata": {
        "colab": {
          "base_uri": "https://localhost:8080/"
        },
        "id": "TkM-lEqx4nRF",
        "outputId": "12f5cbc7-0919-49da-9bf5-ffd5fca5ae87"
      },
      "execution_count": null,
      "outputs": [
        {
          "output_type": "stream",
          "name": "stdout",
          "text": [
            "[1 2 3 4 5 6]\n",
            "1\n"
          ]
        }
      ]
    },
    {
      "cell_type": "code",
      "source": [
        "#2d array\n",
        "arr3 = np.array([[1,2,3,4],[1.1,2.2,3.5,4.5]])\n",
        "print(arr3)\n",
        "print(arr3.ndim)"
      ],
      "metadata": {
        "colab": {
          "base_uri": "https://localhost:8080/"
        },
        "id": "uOBabEFh4qWN",
        "outputId": "a65f56a0-9bc2-4ea2-8f6f-9ea365b44660"
      },
      "execution_count": null,
      "outputs": [
        {
          "output_type": "stream",
          "name": "stdout",
          "text": [
            "[[1.  2.  3.  4. ]\n",
            " [1.1 2.2 3.5 4.5]]\n",
            "2\n"
          ]
        }
      ]
    },
    {
      "cell_type": "code",
      "source": [
        "#3d array\n",
        "arr4 = np.array([[[1,2,3,4],[8,7,6,5]],[[4,6,4,3],[8,6,4,5]]])\n",
        "print(arr4)\n",
        "print(arr4.ndim)"
      ],
      "metadata": {
        "colab": {
          "base_uri": "https://localhost:8080/"
        },
        "id": "MiX554oQ4vB6",
        "outputId": "611c0060-bfa1-41df-f60c-8660d54c332f"
      },
      "execution_count": null,
      "outputs": [
        {
          "output_type": "stream",
          "name": "stdout",
          "text": [
            "[[[1 2 3 4]\n",
            "  [8 7 6 5]]\n",
            "\n",
            " [[4 6 4 3]\n",
            "  [8 6 4 5]]]\n",
            "3\n"
          ]
        }
      ]
    },
    {
      "cell_type": "markdown",
      "source": [
        "------------\n",
        "create an array with 5 dimension and verify that it has 5 dimension:"
      ],
      "metadata": {
        "id": "95NV0nEn5mR_"
      }
    },
    {
      "cell_type": "code",
      "source": [
        "import numpy as np\n",
        "arr = np.array([1, 6, 75, 7], ndmin=5) #define the no. of dimension is 5(ndmin is an optional argument used when creating an array with numpy.array(). It specifies the minimum number of dimensions (axes) the resulting NumPy array should have)\n",
        "print(arr)\n",
        "print(\"number of dimension : \",arr.ndim)"
      ],
      "metadata": {
        "colab": {
          "base_uri": "https://localhost:8080/"
        },
        "id": "v-qUSfqp51r0",
        "outputId": "c514130f-c1f3-49c0-c0f7-b72f5d297380"
      },
      "execution_count": null,
      "outputs": [
        {
          "output_type": "stream",
          "name": "stdout",
          "text": [
            "[[[[[ 1  6 75  7]]]]]\n",
            "number of dimension :  5\n"
          ]
        }
      ]
    },
    {
      "cell_type": "markdown",
      "source": [
        "#indexing of array"
      ],
      "metadata": {
        "id": "uQTyKgYV7bdM"
      }
    },
    {
      "cell_type": "code",
      "source": [
        "#indexing of 1d array\n",
        "arr2 = np.array([1,2,3,4,5,6])\n",
        "print(arr2[2]) #its check the second position indexing start with 0 so print the 3"
      ],
      "metadata": {
        "colab": {
          "base_uri": "https://localhost:8080/"
        },
        "id": "LYjX7RT665bT",
        "outputId": "2f9fdc84-2876-425f-885a-33587b165590"
      },
      "execution_count": null,
      "outputs": [
        {
          "output_type": "stream",
          "name": "stdout",
          "text": [
            "3\n"
          ]
        }
      ]
    },
    {
      "cell_type": "markdown",
      "source": [
        "Question 46:\n",
        "\n",
        "create 1d araay and get the 3rd, 6th and 8th element from the creating array and add them"
      ],
      "metadata": {
        "id": "s_o4LP908HJO"
      }
    },
    {
      "cell_type": "code",
      "source": [
        "a = np.array([41, 32, 53, 86, 45, 26, 86, 43, 13, 65, 75])\n",
        "print(\"3rd element : \",a[2])\n",
        "print(\"6th element : \",a[5])\n",
        "print(\"8th element : \",a[7])\n",
        "print(\"total summ of the element is : \", a[2]+a[5]+a[7])"
      ],
      "metadata": {
        "colab": {
          "base_uri": "https://localhost:8080/"
        },
        "id": "BkeOLnOu71KV",
        "outputId": "cdf82e15-cfa2-4888-ab41-b0463e37658c"
      },
      "execution_count": null,
      "outputs": [
        {
          "output_type": "stream",
          "name": "stdout",
          "text": [
            "3rd element :  53\n",
            "6th element :  26\n",
            "8th element :  43\n",
            "total summ of the element is :  122\n"
          ]
        }
      ]
    },
    {
      "cell_type": "code",
      "source": [
        "#indexing of 2d array\n",
        "\n",
        "arr = np.array([[10, 20, 30, 40, 50],[11, 22, 33, 44, 55]])\n",
        "print(\"2nd row of 1st element: \",arr[1,0])"
      ],
      "metadata": {
        "colab": {
          "base_uri": "https://localhost:8080/"
        },
        "id": "bvn7HjWj9LcK",
        "outputId": "c04e96e8-a285-48fc-cc8b-17bae87ad434"
      },
      "execution_count": null,
      "outputs": [
        {
          "output_type": "stream",
          "name": "stdout",
          "text": [
            "2nd row of 1st element:  11\n"
          ]
        }
      ]
    },
    {
      "cell_type": "markdown",
      "source": [
        "Question 47:\n",
        "\n",
        "add the first element  of row 1st and last element of row second"
      ],
      "metadata": {
        "id": "-Yw_gvHM91Nk"
      }
    },
    {
      "cell_type": "code",
      "source": [
        "arr = np.array([[10, 20, 30, 40, 50],[11, 22, 33, 44, 55]])\n",
        "print(\"1st element of row 1st : \", arr[0,0])\n",
        "print(\"last element of row 2nd : \", arr[1,4])\n",
        "print(\"sum of the element : \",arr[0,0]+ arr[1,4] )"
      ],
      "metadata": {
        "colab": {
          "base_uri": "https://localhost:8080/"
        },
        "id": "FeIwzkVO-IJC",
        "outputId": "ef2e1065-403f-4952-f936-2fa6f336953d"
      },
      "execution_count": null,
      "outputs": [
        {
          "output_type": "stream",
          "name": "stdout",
          "text": [
            "1st element of row 1st :  10\n",
            "last element of row 2nd :  55\n",
            "sum of the element :  65\n"
          ]
        }
      ]
    },
    {
      "cell_type": "code",
      "source": [
        "#indexing of 3d array\n",
        "\n",
        "arr = np.array([[[1, 2, 3],[4, 5, 6]],[[7, 8, 9],[10, 11, 12]]])\n",
        "#access 6, 3, 7, 12\n",
        "print(\"acess for 6 : \",arr[0, 1, 2])\n",
        "print(\"acess for 3 : \",arr[0, 0, 2])\n",
        "print(\"acess for 7 : \",arr[1, 0, 0])\n",
        "print(\"acess for 12 : \",arr[1, 1, 2])"
      ],
      "metadata": {
        "colab": {
          "base_uri": "https://localhost:8080/"
        },
        "id": "4Nzkl9qx-uDL",
        "outputId": "93388de3-5367-4617-d3e8-a75b84230a49"
      },
      "execution_count": null,
      "outputs": [
        {
          "output_type": "stream",
          "name": "stdout",
          "text": [
            "acess for 6 :  6\n",
            "acess for 3 :  3\n",
            "acess for 7 :  7\n",
            "acess for 12 :  12\n"
          ]
        }
      ]
    },
    {
      "cell_type": "markdown",
      "source": [
        "#SLICING OF ARRAY"
      ],
      "metadata": {
        "id": "PQekf6yuNGS9"
      }
    },
    {
      "cell_type": "code",
      "source": [
        "#1d array slicing\n",
        "\n",
        "import numpy as np\n",
        "a = np.array([41, 32, 53, 86, 45, 26, 86, 43, 13, 65, 75])\n",
        "print(a[2:5]) # print 53 86 45\n",
        "\n",
        "#2d array slicing\n",
        "\n",
        "arr = np.array([[10, 20, 30, 40, 50],[11, 22, 33, 44, 55]])\n",
        "print(arr[1,0:]) #print all second row\n",
        "\n",
        "#3d array slicing\n",
        "\n",
        "arr1 = np.array([[[1, 2, 3],[4, 5, 6]],[[7, 8, 9],[10, 11, 12]]])\n",
        "print(arr1[0,1,1:])"
      ],
      "metadata": {
        "colab": {
          "base_uri": "https://localhost:8080/"
        },
        "id": "gwnXeeTqNOz-",
        "outputId": "fdb68421-ff90-4290-9ed7-d35d73fb24e0"
      },
      "execution_count": null,
      "outputs": [
        {
          "output_type": "stream",
          "name": "stdout",
          "text": [
            "[53 86 45]\n",
            "[11 22 33 44 55]\n",
            "[5 6]\n"
          ]
        }
      ]
    },
    {
      "cell_type": "code",
      "source": [
        "##Data Types in NumPy\n",
        "\n",
        "#NumPy has some extra data types, and refer to data types with one character, like i for integers,\n",
        "\n",
        "#i - integer\n",
        "\n",
        "#b - boolean\n",
        "\n",
        "#u - unsigned integer\n",
        "\n",
        "#f - float\n",
        "\n",
        "#C - complex float\n",
        "\n",
        "#m - timedelta\n",
        "\n",
        "#M - datetime\n",
        "\n",
        "#O - object\n",
        "\n",
        "#S - string\n",
        "\n",
        "#U - unicode string U\n",
        "\n",
        "#V - fixed chunk of memory for other type (void)"
      ],
      "metadata": {
        "id": "kKvfYfI2PMA2"
      },
      "execution_count": null,
      "outputs": []
    },
    {
      "cell_type": "markdown",
      "source": [
        "#checking the datatype of array    (name_of_array.dtype)not make the function"
      ],
      "metadata": {
        "id": "uEMRFXcPP5Il"
      }
    },
    {
      "cell_type": "code",
      "source": [
        "a = np.array([41, 32, 53, 86, 45, 26, 86, 43, 13, 65, 75])\n",
        "print(a.dtype)"
      ],
      "metadata": {
        "colab": {
          "base_uri": "https://localhost:8080/"
        },
        "id": "llvZqVTIQG2Q",
        "outputId": "84c96dfd-d9a9-44fe-c0bc-1cdd4f869f2c"
      },
      "execution_count": null,
      "outputs": [
        {
          "output_type": "stream",
          "name": "stdout",
          "text": [
            "int64\n"
          ]
        }
      ]
    },
    {
      "cell_type": "code",
      "source": [
        "a = np.array([\"sahil\",\"puja\",\"basanti\",\"varsha\"])\n",
        "print(a.dtype)"
      ],
      "metadata": {
        "colab": {
          "base_uri": "https://localhost:8080/"
        },
        "id": "md49yJu_Qkwb",
        "outputId": "979bf836-a531-4caa-9b49-93cd3ac9e8b0"
      },
      "execution_count": null,
      "outputs": [
        {
          "output_type": "stream",
          "name": "stdout",
          "text": [
            "<U7\n"
          ]
        }
      ]
    },
    {
      "cell_type": "markdown",
      "source": [
        "#creating array with define datatype"
      ],
      "metadata": {
        "id": "87wKfT0tRJfG"
      }
    },
    {
      "cell_type": "code",
      "source": [
        "a = np.array([41, 32, 53, 86, 45, 26, 86, 43, 13, 65, 75], dtype = \"S\")\n",
        "print(a.dtype)\n",
        "print(a)"
      ],
      "metadata": {
        "colab": {
          "base_uri": "https://localhost:8080/"
        },
        "id": "k1w0bA0yRN7V",
        "outputId": "94eda46a-7c21-401f-903c-99f65a6ee1d9"
      },
      "execution_count": null,
      "outputs": [
        {
          "output_type": "stream",
          "name": "stdout",
          "text": [
            "|S2\n",
            "[b'41' b'32' b'53' b'86' b'45' b'26' b'86' b'43' b'13' b'65' b'75']\n"
          ]
        }
      ]
    },
    {
      "cell_type": "code",
      "source": [
        "#create an array with datatype 4 bytes integer\n",
        "\n",
        "arr = np.array([1, 2, 3, 4], dtype = 'i4')\n",
        "print(arr.dtype)\n",
        "print(arr)"
      ],
      "metadata": {
        "colab": {
          "base_uri": "https://localhost:8080/"
        },
        "id": "vSOOixISRsQo",
        "outputId": "21ae46ed-c193-4217-f254-7fb4e42f558a"
      },
      "execution_count": null,
      "outputs": [
        {
          "output_type": "stream",
          "name": "stdout",
          "text": [
            "int32\n",
            "[1 2 3 4]\n"
          ]
        }
      ]
    },
    {
      "cell_type": "markdown",
      "source": [
        "#numpy array shape"
      ],
      "metadata": {
        "id": "kZ62bFwZSMEI"
      }
    },
    {
      "cell_type": "code",
      "source": [
        "arr = np.array([[10, 20, 30, 40, 50],[11, 22, 33, 44, 55]])\n",
        "print(arr.shape)"
      ],
      "metadata": {
        "colab": {
          "base_uri": "https://localhost:8080/"
        },
        "id": "79plyCLhSR0u",
        "outputId": "7d0e5f3f-08b3-4094-c7d1-5ea4dcb0f6e8"
      },
      "execution_count": null,
      "outputs": [
        {
          "output_type": "stream",
          "name": "stdout",
          "text": [
            "(2, 5)\n"
          ]
        }
      ]
    },
    {
      "cell_type": "code",
      "source": [
        "import numpy as np\n",
        "a = np.array([41, 32, 53, 86, 45, 26, 86, 43, 13, 65, 75])\n",
        "print(a.shape)"
      ],
      "metadata": {
        "colab": {
          "base_uri": "https://localhost:8080/"
        },
        "id": "mKgMhN2BTNbL",
        "outputId": "90d59054-4ddb-499f-ef8c-7e524d146715"
      },
      "execution_count": null,
      "outputs": [
        {
          "output_type": "stream",
          "name": "stdout",
          "text": [
            "(11,)\n"
          ]
        }
      ]
    },
    {
      "cell_type": "code",
      "source": [
        "arr = np.array([[[1, 2, 3],[4, 5, 6]],[[7, 8, 9],[10, 11, 12]]])\n",
        "print(arr.shape)"
      ],
      "metadata": {
        "colab": {
          "base_uri": "https://localhost:8080/"
        },
        "id": "igD4LjPMUPVt",
        "outputId": "07606eac-9770-4b79-da3c-c3bcc9bdb151"
      },
      "execution_count": null,
      "outputs": [
        {
          "output_type": "stream",
          "name": "stdout",
          "text": [
            "(2, 2, 3)\n"
          ]
        }
      ]
    },
    {
      "cell_type": "markdown",
      "source": [
        "# joining numpy array"
      ],
      "metadata": {
        "id": "JdDadg67UfRV"
      }
    },
    {
      "cell_type": "code",
      "source": [
        "arr1 = np.array([1, 2, 3])\n",
        "arr2 = np.array([4, 5, 6])\n",
        "arr = np.concatenate((arr1, arr2))\n",
        "print(arr)"
      ],
      "metadata": {
        "colab": {
          "base_uri": "https://localhost:8080/"
        },
        "id": "c1wgbWlOUjUX",
        "outputId": "96eef916-f423-4a39-d4af-31aff308fdfa"
      },
      "execution_count": null,
      "outputs": [
        {
          "output_type": "stream",
          "name": "stdout",
          "text": [
            "[1 2 3 4 5 6]\n"
          ]
        }
      ]
    },
    {
      "cell_type": "code",
      "source": [
        "#join 2d array\n",
        "\n",
        "arr1 = np.array([[1, 2, 3],[7, 8, 9]])\n",
        "arr2 = np.array([[4, 5, 6],[10, 11, 12]])\n",
        "arr = np.concatenate((arr1, arr2), axis=1)\n",
        "print(arr)"
      ],
      "metadata": {
        "colab": {
          "base_uri": "https://localhost:8080/"
        },
        "id": "xqgBxmI5VLIB",
        "outputId": "459341bb-e53e-443d-a3f2-39b4d2c31873"
      },
      "execution_count": null,
      "outputs": [
        {
          "output_type": "stream",
          "name": "stdout",
          "text": [
            "[[ 1  2  3  4  5  6]\n",
            " [ 7  8  9 10 11 12]]\n"
          ]
        }
      ]
    },
    {
      "cell_type": "code",
      "source": [
        "arr1 = np.array([[1, 2, 3],[7, 8, 9]])\n",
        "arr2 = np.array([[4, 5, 6],[10, 11, 12]])\n",
        "arr = np.concatenate((arr1, arr2), axis=0)\n",
        "print(arr)\n",
        "print(arr.shape)"
      ],
      "metadata": {
        "colab": {
          "base_uri": "https://localhost:8080/"
        },
        "id": "mleulvVBVufY",
        "outputId": "d9d80a6c-4c55-45e1-f3b8-1f1bafdbebe9"
      },
      "execution_count": null,
      "outputs": [
        {
          "output_type": "stream",
          "name": "stdout",
          "text": [
            "[[ 1  2  3]\n",
            " [ 7  8  9]\n",
            " [ 4  5  6]\n",
            " [10 11 12]]\n",
            "(4, 3)\n"
          ]
        }
      ]
    },
    {
      "cell_type": "markdown",
      "source": [
        "#splitting numpy array"
      ],
      "metadata": {
        "id": "pSaXNc8dWMtB"
      }
    },
    {
      "cell_type": "code",
      "source": [
        "arr =np.array([1, 2, 3, 4, 5, 6])\n",
        "newarr = np.array_split(arr,3)\n",
        "print(newarr)"
      ],
      "metadata": {
        "colab": {
          "base_uri": "https://localhost:8080/"
        },
        "id": "rIVp_FxPWMJL",
        "outputId": "dbd8a5ac-95e6-428a-e87b-44563b6b379c"
      },
      "execution_count": null,
      "outputs": [
        {
          "output_type": "stream",
          "name": "stdout",
          "text": [
            "[array([1, 2]), array([3, 4]), array([5, 6])]\n"
          ]
        }
      ]
    },
    {
      "cell_type": "code",
      "source": [
        "#splitting the array 4 part\n",
        "arr =np.array([1, 2, 3, 4, 5, 6])\n",
        "newarr = np.array_split(arr,4)\n",
        "print(newarr)"
      ],
      "metadata": {
        "colab": {
          "base_uri": "https://localhost:8080/"
        },
        "id": "gojWqfx7Wm2R",
        "outputId": "d154f5b0-c22d-4f30-d5c3-3aa8395e6c39"
      },
      "execution_count": null,
      "outputs": [
        {
          "output_type": "stream",
          "name": "stdout",
          "text": [
            "[array([1, 2]), array([3, 4]), array([5]), array([6])]\n"
          ]
        }
      ]
    },
    {
      "cell_type": "code",
      "source": [
        "arr2 = np.array([[4, 5, 6],[10, 11, 12]])\n",
        "arr = np.array_split(arr2, 2)\n",
        "print(arr)"
      ],
      "metadata": {
        "colab": {
          "base_uri": "https://localhost:8080/"
        },
        "id": "HtLDfquiYyFT",
        "outputId": "e0ed6ec9-3374-4649-c0e8-1f9cc67afaae"
      },
      "execution_count": null,
      "outputs": [
        {
          "output_type": "stream",
          "name": "stdout",
          "text": [
            "[array([[4, 5, 6]]), array([[10, 11, 12]])]\n"
          ]
        }
      ]
    },
    {
      "cell_type": "markdown",
      "source": [
        "#ravel and flatten\n",
        "convert multidimensional array into 1d array"
      ],
      "metadata": {
        "id": "uNYZxe25WxDV"
      }
    },
    {
      "cell_type": "code",
      "source": [
        "m = np.array([[[1, 2, 3],[4, 5, 6],[7, 8, 9]]])\n",
        "print(m)\n",
        "print(\"dimension is \",m.ndim)\n",
        "n = m.ravel()\n",
        "print(n)\n",
        "print(\"new array after applying the ravel and flatten\",n.ndim)"
      ],
      "metadata": {
        "colab": {
          "base_uri": "https://localhost:8080/"
        },
        "id": "sr_sbS6LW02A",
        "outputId": "25826282-f100-4191-be0f-9526a51c46ce"
      },
      "execution_count": null,
      "outputs": [
        {
          "output_type": "stream",
          "name": "stdout",
          "text": [
            "[[[1 2 3]\n",
            "  [4 5 6]\n",
            "  [7 8 9]]]\n",
            "dimension is  3\n",
            "[1 2 3 4 5 6 7 8 9]\n",
            "new array after applying the ravel and flatten 1\n"
          ]
        }
      ]
    },
    {
      "cell_type": "code",
      "source": [
        "m = np.array([[[1, 2, 3],[4, 5, 6],[7, 8, 9]]])\n",
        "print(m)\n",
        "print(\"dimension is \",m.ndim)\n",
        "n = m.flatten()\n",
        "print(n)\n",
        "print(\"new array after applying the ravel and flatten\",n.ndim)"
      ],
      "metadata": {
        "colab": {
          "base_uri": "https://localhost:8080/"
        },
        "id": "IppIaJLgYbcB",
        "outputId": "56ebad87-3c1a-47bf-f975-dd270ab6e5d2"
      },
      "execution_count": null,
      "outputs": [
        {
          "output_type": "stream",
          "name": "stdout",
          "text": [
            "[[[1 2 3]\n",
            "  [4 5 6]\n",
            "  [7 8 9]]]\n",
            "dimension is  3\n",
            "[1 2 3 4 5 6 7 8 9]\n",
            "new array after applying the ravel and flatten 1\n"
          ]
        }
      ]
    },
    {
      "cell_type": "markdown",
      "source": [
        "#unique function"
      ],
      "metadata": {
        "id": "9bCkWMVSZBuQ"
      }
    },
    {
      "cell_type": "code",
      "source": [
        "a =np.array([12, 13, 4, 6, 7, 3, 8, 10, 45, 12, 4, 6, 45])\n",
        "print(a)\n",
        "x= np.unique(a)\n",
        "print(x)"
      ],
      "metadata": {
        "colab": {
          "base_uri": "https://localhost:8080/"
        },
        "id": "jg4np6hlZFB9",
        "outputId": "8c4c3c61-dc9c-42b8-aa52-40f107016f1a"
      },
      "execution_count": null,
      "outputs": [
        {
          "output_type": "stream",
          "name": "stdout",
          "text": [
            "[12 13  4  6  7  3  8 10 45 12  4  6 45]\n",
            "[ 3  4  6  7  8 10 12 13 45]\n"
          ]
        }
      ]
    },
    {
      "cell_type": "code",
      "source": [
        "a =np.array([12, 13, 4, 6, 7, 3, 8, 10, 45, 12, 4, 6, 45])\n",
        "print(a)\n",
        "x= np.unique(a, return_index = True)#index no. batayega\n",
        "print(x)"
      ],
      "metadata": {
        "colab": {
          "base_uri": "https://localhost:8080/"
        },
        "id": "gKQn8BEEZka2",
        "outputId": "90214f1d-77d8-4f38-a172-66e5d5e72688"
      },
      "execution_count": null,
      "outputs": [
        {
          "output_type": "stream",
          "name": "stdout",
          "text": [
            "[12 13  4  6  7  3  8 10 45 12  4  6 45]\n",
            "(array([ 3,  4,  6,  7,  8, 10, 12, 13, 45]), array([5, 2, 3, 4, 6, 7, 0, 1, 8]))\n"
          ]
        }
      ]
    },
    {
      "cell_type": "code",
      "source": [
        "a =np.array([12, 13, 4, 6, 7, 3, 8, 10, 45, 12, 4, 6, 45])\n",
        "print(a)\n",
        "x= np.unique(a, return_index = True, return_counts = True)# index no. aur count kar kae batayega ki kon sa no. kitni baar aa raha\n",
        "print(x)"
      ],
      "metadata": {
        "colab": {
          "base_uri": "https://localhost:8080/"
        },
        "id": "OiA0FzaGZwx4",
        "outputId": "4c0502eb-6ea4-4145-ec5e-99fda4d33f93"
      },
      "execution_count": null,
      "outputs": [
        {
          "output_type": "stream",
          "name": "stdout",
          "text": [
            "[12 13  4  6  7  3  8 10 45 12  4  6 45]\n",
            "(array([ 3,  4,  6,  7,  8, 10, 12, 13, 45]), array([5, 2, 3, 4, 6, 7, 0, 1, 8]), array([1, 2, 2, 1, 1, 1, 2, 1, 2]))\n"
          ]
        }
      ]
    },
    {
      "cell_type": "markdown",
      "source": [
        "#delete"
      ],
      "metadata": {
        "id": "xghqs_nJaTU2"
      }
    },
    {
      "cell_type": "code",
      "source": [
        "a = np.array([12, 34, 65, 30, 56, 56])\n",
        "d = np.delete(a,[4])#indexing position 4 ko delete kar dega\n",
        "print(d)"
      ],
      "metadata": {
        "colab": {
          "base_uri": "https://localhost:8080/"
        },
        "id": "V5sdrhitaWBt",
        "outputId": "0e949638-c629-45b1-af53-0ac680e09bc2"
      },
      "execution_count": null,
      "outputs": [
        {
          "output_type": "stream",
          "name": "stdout",
          "text": [
            "[12 34 65 30 56]\n"
          ]
        }
      ]
    },
    {
      "cell_type": "code",
      "source": [
        "m = np.array([[1, 2, 3],[4, 5, 6],[7, 8, 9]])\n",
        "print(m)\n",
        "y= np.delete(m,1, axis = 0)\n",
        "print()\n",
        "print(y)"
      ],
      "metadata": {
        "colab": {
          "base_uri": "https://localhost:8080/"
        },
        "id": "o7iZVecrckAj",
        "outputId": "b2a5d269-88ac-4055-ecf5-b228ebe35a2c"
      },
      "execution_count": null,
      "outputs": [
        {
          "output_type": "stream",
          "name": "stdout",
          "text": [
            "[[1 2 3]\n",
            " [4 5 6]\n",
            " [7 8 9]]\n",
            "\n",
            "[[1 2 3]\n",
            " [7 8 9]]\n"
          ]
        }
      ]
    },
    {
      "cell_type": "markdown",
      "source": [
        "#Pandas library"
      ],
      "metadata": {
        "id": "ihJJTL-2dO0g"
      }
    },
    {
      "cell_type": "code",
      "source": [
        "import pandas as pd"
      ],
      "metadata": {
        "id": "cP8-KeaidUvi"
      },
      "execution_count": 1,
      "outputs": []
    },
    {
      "cell_type": "code",
      "source": [
        "df = pd.read_csv('https://raw.githubusercontent.com/datasciencedojo/datasets/master/titanic.csv')\n",
        "df"
      ],
      "metadata": {
        "colab": {
          "base_uri": "https://localhost:8080/",
          "height": 423
        },
        "id": "ym5r8OrcV89j",
        "outputId": "afd83e68-8f79-4555-ca92-fa94d7ffd15f"
      },
      "execution_count": 8,
      "outputs": [
        {
          "output_type": "execute_result",
          "data": {
            "text/plain": [
              "     PassengerId  Survived  Pclass  \\\n",
              "0              1         0       3   \n",
              "1              2         1       1   \n",
              "2              3         1       3   \n",
              "3              4         1       1   \n",
              "4              5         0       3   \n",
              "..           ...       ...     ...   \n",
              "886          887         0       2   \n",
              "887          888         1       1   \n",
              "888          889         0       3   \n",
              "889          890         1       1   \n",
              "890          891         0       3   \n",
              "\n",
              "                                                  Name     Sex   Age  SibSp  \\\n",
              "0                              Braund, Mr. Owen Harris    male  22.0      1   \n",
              "1    Cumings, Mrs. John Bradley (Florence Briggs Th...  female  38.0      1   \n",
              "2                               Heikkinen, Miss. Laina  female  26.0      0   \n",
              "3         Futrelle, Mrs. Jacques Heath (Lily May Peel)  female  35.0      1   \n",
              "4                             Allen, Mr. William Henry    male  35.0      0   \n",
              "..                                                 ...     ...   ...    ...   \n",
              "886                              Montvila, Rev. Juozas    male  27.0      0   \n",
              "887                       Graham, Miss. Margaret Edith  female  19.0      0   \n",
              "888           Johnston, Miss. Catherine Helen \"Carrie\"  female   NaN      1   \n",
              "889                              Behr, Mr. Karl Howell    male  26.0      0   \n",
              "890                                Dooley, Mr. Patrick    male  32.0      0   \n",
              "\n",
              "     Parch            Ticket     Fare Cabin Embarked  \n",
              "0        0         A/5 21171   7.2500   NaN        S  \n",
              "1        0          PC 17599  71.2833   C85        C  \n",
              "2        0  STON/O2. 3101282   7.9250   NaN        S  \n",
              "3        0            113803  53.1000  C123        S  \n",
              "4        0            373450   8.0500   NaN        S  \n",
              "..     ...               ...      ...   ...      ...  \n",
              "886      0            211536  13.0000   NaN        S  \n",
              "887      0            112053  30.0000   B42        S  \n",
              "888      2        W./C. 6607  23.4500   NaN        S  \n",
              "889      0            111369  30.0000  C148        C  \n",
              "890      0            370376   7.7500   NaN        Q  \n",
              "\n",
              "[891 rows x 12 columns]"
            ],
            "text/html": [
              "\n",
              "  <div id=\"df-c46b3f22-4eda-4ef2-a0e2-8ce7ed220aa1\" class=\"colab-df-container\">\n",
              "    <div>\n",
              "<style scoped>\n",
              "    .dataframe tbody tr th:only-of-type {\n",
              "        vertical-align: middle;\n",
              "    }\n",
              "\n",
              "    .dataframe tbody tr th {\n",
              "        vertical-align: top;\n",
              "    }\n",
              "\n",
              "    .dataframe thead th {\n",
              "        text-align: right;\n",
              "    }\n",
              "</style>\n",
              "<table border=\"1\" class=\"dataframe\">\n",
              "  <thead>\n",
              "    <tr style=\"text-align: right;\">\n",
              "      <th></th>\n",
              "      <th>PassengerId</th>\n",
              "      <th>Survived</th>\n",
              "      <th>Pclass</th>\n",
              "      <th>Name</th>\n",
              "      <th>Sex</th>\n",
              "      <th>Age</th>\n",
              "      <th>SibSp</th>\n",
              "      <th>Parch</th>\n",
              "      <th>Ticket</th>\n",
              "      <th>Fare</th>\n",
              "      <th>Cabin</th>\n",
              "      <th>Embarked</th>\n",
              "    </tr>\n",
              "  </thead>\n",
              "  <tbody>\n",
              "    <tr>\n",
              "      <th>0</th>\n",
              "      <td>1</td>\n",
              "      <td>0</td>\n",
              "      <td>3</td>\n",
              "      <td>Braund, Mr. Owen Harris</td>\n",
              "      <td>male</td>\n",
              "      <td>22.0</td>\n",
              "      <td>1</td>\n",
              "      <td>0</td>\n",
              "      <td>A/5 21171</td>\n",
              "      <td>7.2500</td>\n",
              "      <td>NaN</td>\n",
              "      <td>S</td>\n",
              "    </tr>\n",
              "    <tr>\n",
              "      <th>1</th>\n",
              "      <td>2</td>\n",
              "      <td>1</td>\n",
              "      <td>1</td>\n",
              "      <td>Cumings, Mrs. John Bradley (Florence Briggs Th...</td>\n",
              "      <td>female</td>\n",
              "      <td>38.0</td>\n",
              "      <td>1</td>\n",
              "      <td>0</td>\n",
              "      <td>PC 17599</td>\n",
              "      <td>71.2833</td>\n",
              "      <td>C85</td>\n",
              "      <td>C</td>\n",
              "    </tr>\n",
              "    <tr>\n",
              "      <th>2</th>\n",
              "      <td>3</td>\n",
              "      <td>1</td>\n",
              "      <td>3</td>\n",
              "      <td>Heikkinen, Miss. Laina</td>\n",
              "      <td>female</td>\n",
              "      <td>26.0</td>\n",
              "      <td>0</td>\n",
              "      <td>0</td>\n",
              "      <td>STON/O2. 3101282</td>\n",
              "      <td>7.9250</td>\n",
              "      <td>NaN</td>\n",
              "      <td>S</td>\n",
              "    </tr>\n",
              "    <tr>\n",
              "      <th>3</th>\n",
              "      <td>4</td>\n",
              "      <td>1</td>\n",
              "      <td>1</td>\n",
              "      <td>Futrelle, Mrs. Jacques Heath (Lily May Peel)</td>\n",
              "      <td>female</td>\n",
              "      <td>35.0</td>\n",
              "      <td>1</td>\n",
              "      <td>0</td>\n",
              "      <td>113803</td>\n",
              "      <td>53.1000</td>\n",
              "      <td>C123</td>\n",
              "      <td>S</td>\n",
              "    </tr>\n",
              "    <tr>\n",
              "      <th>4</th>\n",
              "      <td>5</td>\n",
              "      <td>0</td>\n",
              "      <td>3</td>\n",
              "      <td>Allen, Mr. William Henry</td>\n",
              "      <td>male</td>\n",
              "      <td>35.0</td>\n",
              "      <td>0</td>\n",
              "      <td>0</td>\n",
              "      <td>373450</td>\n",
              "      <td>8.0500</td>\n",
              "      <td>NaN</td>\n",
              "      <td>S</td>\n",
              "    </tr>\n",
              "    <tr>\n",
              "      <th>...</th>\n",
              "      <td>...</td>\n",
              "      <td>...</td>\n",
              "      <td>...</td>\n",
              "      <td>...</td>\n",
              "      <td>...</td>\n",
              "      <td>...</td>\n",
              "      <td>...</td>\n",
              "      <td>...</td>\n",
              "      <td>...</td>\n",
              "      <td>...</td>\n",
              "      <td>...</td>\n",
              "      <td>...</td>\n",
              "    </tr>\n",
              "    <tr>\n",
              "      <th>886</th>\n",
              "      <td>887</td>\n",
              "      <td>0</td>\n",
              "      <td>2</td>\n",
              "      <td>Montvila, Rev. Juozas</td>\n",
              "      <td>male</td>\n",
              "      <td>27.0</td>\n",
              "      <td>0</td>\n",
              "      <td>0</td>\n",
              "      <td>211536</td>\n",
              "      <td>13.0000</td>\n",
              "      <td>NaN</td>\n",
              "      <td>S</td>\n",
              "    </tr>\n",
              "    <tr>\n",
              "      <th>887</th>\n",
              "      <td>888</td>\n",
              "      <td>1</td>\n",
              "      <td>1</td>\n",
              "      <td>Graham, Miss. Margaret Edith</td>\n",
              "      <td>female</td>\n",
              "      <td>19.0</td>\n",
              "      <td>0</td>\n",
              "      <td>0</td>\n",
              "      <td>112053</td>\n",
              "      <td>30.0000</td>\n",
              "      <td>B42</td>\n",
              "      <td>S</td>\n",
              "    </tr>\n",
              "    <tr>\n",
              "      <th>888</th>\n",
              "      <td>889</td>\n",
              "      <td>0</td>\n",
              "      <td>3</td>\n",
              "      <td>Johnston, Miss. Catherine Helen \"Carrie\"</td>\n",
              "      <td>female</td>\n",
              "      <td>NaN</td>\n",
              "      <td>1</td>\n",
              "      <td>2</td>\n",
              "      <td>W./C. 6607</td>\n",
              "      <td>23.4500</td>\n",
              "      <td>NaN</td>\n",
              "      <td>S</td>\n",
              "    </tr>\n",
              "    <tr>\n",
              "      <th>889</th>\n",
              "      <td>890</td>\n",
              "      <td>1</td>\n",
              "      <td>1</td>\n",
              "      <td>Behr, Mr. Karl Howell</td>\n",
              "      <td>male</td>\n",
              "      <td>26.0</td>\n",
              "      <td>0</td>\n",
              "      <td>0</td>\n",
              "      <td>111369</td>\n",
              "      <td>30.0000</td>\n",
              "      <td>C148</td>\n",
              "      <td>C</td>\n",
              "    </tr>\n",
              "    <tr>\n",
              "      <th>890</th>\n",
              "      <td>891</td>\n",
              "      <td>0</td>\n",
              "      <td>3</td>\n",
              "      <td>Dooley, Mr. Patrick</td>\n",
              "      <td>male</td>\n",
              "      <td>32.0</td>\n",
              "      <td>0</td>\n",
              "      <td>0</td>\n",
              "      <td>370376</td>\n",
              "      <td>7.7500</td>\n",
              "      <td>NaN</td>\n",
              "      <td>Q</td>\n",
              "    </tr>\n",
              "  </tbody>\n",
              "</table>\n",
              "<p>891 rows × 12 columns</p>\n",
              "</div>\n",
              "    <div class=\"colab-df-buttons\">\n",
              "\n",
              "  <div class=\"colab-df-container\">\n",
              "    <button class=\"colab-df-convert\" onclick=\"convertToInteractive('df-c46b3f22-4eda-4ef2-a0e2-8ce7ed220aa1')\"\n",
              "            title=\"Convert this dataframe to an interactive table.\"\n",
              "            style=\"display:none;\">\n",
              "\n",
              "  <svg xmlns=\"http://www.w3.org/2000/svg\" height=\"24px\" viewBox=\"0 -960 960 960\">\n",
              "    <path d=\"M120-120v-720h720v720H120Zm60-500h600v-160H180v160Zm220 220h160v-160H400v160Zm0 220h160v-160H400v160ZM180-400h160v-160H180v160Zm440 0h160v-160H620v160ZM180-180h160v-160H180v160Zm440 0h160v-160H620v160Z\"/>\n",
              "  </svg>\n",
              "    </button>\n",
              "\n",
              "  <style>\n",
              "    .colab-df-container {\n",
              "      display:flex;\n",
              "      gap: 12px;\n",
              "    }\n",
              "\n",
              "    .colab-df-convert {\n",
              "      background-color: #E8F0FE;\n",
              "      border: none;\n",
              "      border-radius: 50%;\n",
              "      cursor: pointer;\n",
              "      display: none;\n",
              "      fill: #1967D2;\n",
              "      height: 32px;\n",
              "      padding: 0 0 0 0;\n",
              "      width: 32px;\n",
              "    }\n",
              "\n",
              "    .colab-df-convert:hover {\n",
              "      background-color: #E2EBFA;\n",
              "      box-shadow: 0px 1px 2px rgba(60, 64, 67, 0.3), 0px 1px 3px 1px rgba(60, 64, 67, 0.15);\n",
              "      fill: #174EA6;\n",
              "    }\n",
              "\n",
              "    .colab-df-buttons div {\n",
              "      margin-bottom: 4px;\n",
              "    }\n",
              "\n",
              "    [theme=dark] .colab-df-convert {\n",
              "      background-color: #3B4455;\n",
              "      fill: #D2E3FC;\n",
              "    }\n",
              "\n",
              "    [theme=dark] .colab-df-convert:hover {\n",
              "      background-color: #434B5C;\n",
              "      box-shadow: 0px 1px 3px 1px rgba(0, 0, 0, 0.15);\n",
              "      filter: drop-shadow(0px 1px 2px rgba(0, 0, 0, 0.3));\n",
              "      fill: #FFFFFF;\n",
              "    }\n",
              "  </style>\n",
              "\n",
              "    <script>\n",
              "      const buttonEl =\n",
              "        document.querySelector('#df-c46b3f22-4eda-4ef2-a0e2-8ce7ed220aa1 button.colab-df-convert');\n",
              "      buttonEl.style.display =\n",
              "        google.colab.kernel.accessAllowed ? 'block' : 'none';\n",
              "\n",
              "      async function convertToInteractive(key) {\n",
              "        const element = document.querySelector('#df-c46b3f22-4eda-4ef2-a0e2-8ce7ed220aa1');\n",
              "        const dataTable =\n",
              "          await google.colab.kernel.invokeFunction('convertToInteractive',\n",
              "                                                    [key], {});\n",
              "        if (!dataTable) return;\n",
              "\n",
              "        const docLinkHtml = 'Like what you see? Visit the ' +\n",
              "          '<a target=\"_blank\" href=https://colab.research.google.com/notebooks/data_table.ipynb>data table notebook</a>'\n",
              "          + ' to learn more about interactive tables.';\n",
              "        element.innerHTML = '';\n",
              "        dataTable['output_type'] = 'display_data';\n",
              "        await google.colab.output.renderOutput(dataTable, element);\n",
              "        const docLink = document.createElement('div');\n",
              "        docLink.innerHTML = docLinkHtml;\n",
              "        element.appendChild(docLink);\n",
              "      }\n",
              "    </script>\n",
              "  </div>\n",
              "\n",
              "\n",
              "    <div id=\"df-f011d865-492c-45df-adb0-1082666b0ef5\">\n",
              "      <button class=\"colab-df-quickchart\" onclick=\"quickchart('df-f011d865-492c-45df-adb0-1082666b0ef5')\"\n",
              "                title=\"Suggest charts\"\n",
              "                style=\"display:none;\">\n",
              "\n",
              "<svg xmlns=\"http://www.w3.org/2000/svg\" height=\"24px\"viewBox=\"0 0 24 24\"\n",
              "     width=\"24px\">\n",
              "    <g>\n",
              "        <path d=\"M19 3H5c-1.1 0-2 .9-2 2v14c0 1.1.9 2 2 2h14c1.1 0 2-.9 2-2V5c0-1.1-.9-2-2-2zM9 17H7v-7h2v7zm4 0h-2V7h2v10zm4 0h-2v-4h2v4z\"/>\n",
              "    </g>\n",
              "</svg>\n",
              "      </button>\n",
              "\n",
              "<style>\n",
              "  .colab-df-quickchart {\n",
              "      --bg-color: #E8F0FE;\n",
              "      --fill-color: #1967D2;\n",
              "      --hover-bg-color: #E2EBFA;\n",
              "      --hover-fill-color: #174EA6;\n",
              "      --disabled-fill-color: #AAA;\n",
              "      --disabled-bg-color: #DDD;\n",
              "  }\n",
              "\n",
              "  [theme=dark] .colab-df-quickchart {\n",
              "      --bg-color: #3B4455;\n",
              "      --fill-color: #D2E3FC;\n",
              "      --hover-bg-color: #434B5C;\n",
              "      --hover-fill-color: #FFFFFF;\n",
              "      --disabled-bg-color: #3B4455;\n",
              "      --disabled-fill-color: #666;\n",
              "  }\n",
              "\n",
              "  .colab-df-quickchart {\n",
              "    background-color: var(--bg-color);\n",
              "    border: none;\n",
              "    border-radius: 50%;\n",
              "    cursor: pointer;\n",
              "    display: none;\n",
              "    fill: var(--fill-color);\n",
              "    height: 32px;\n",
              "    padding: 0;\n",
              "    width: 32px;\n",
              "  }\n",
              "\n",
              "  .colab-df-quickchart:hover {\n",
              "    background-color: var(--hover-bg-color);\n",
              "    box-shadow: 0 1px 2px rgba(60, 64, 67, 0.3), 0 1px 3px 1px rgba(60, 64, 67, 0.15);\n",
              "    fill: var(--button-hover-fill-color);\n",
              "  }\n",
              "\n",
              "  .colab-df-quickchart-complete:disabled,\n",
              "  .colab-df-quickchart-complete:disabled:hover {\n",
              "    background-color: var(--disabled-bg-color);\n",
              "    fill: var(--disabled-fill-color);\n",
              "    box-shadow: none;\n",
              "  }\n",
              "\n",
              "  .colab-df-spinner {\n",
              "    border: 2px solid var(--fill-color);\n",
              "    border-color: transparent;\n",
              "    border-bottom-color: var(--fill-color);\n",
              "    animation:\n",
              "      spin 1s steps(1) infinite;\n",
              "  }\n",
              "\n",
              "  @keyframes spin {\n",
              "    0% {\n",
              "      border-color: transparent;\n",
              "      border-bottom-color: var(--fill-color);\n",
              "      border-left-color: var(--fill-color);\n",
              "    }\n",
              "    20% {\n",
              "      border-color: transparent;\n",
              "      border-left-color: var(--fill-color);\n",
              "      border-top-color: var(--fill-color);\n",
              "    }\n",
              "    30% {\n",
              "      border-color: transparent;\n",
              "      border-left-color: var(--fill-color);\n",
              "      border-top-color: var(--fill-color);\n",
              "      border-right-color: var(--fill-color);\n",
              "    }\n",
              "    40% {\n",
              "      border-color: transparent;\n",
              "      border-right-color: var(--fill-color);\n",
              "      border-top-color: var(--fill-color);\n",
              "    }\n",
              "    60% {\n",
              "      border-color: transparent;\n",
              "      border-right-color: var(--fill-color);\n",
              "    }\n",
              "    80% {\n",
              "      border-color: transparent;\n",
              "      border-right-color: var(--fill-color);\n",
              "      border-bottom-color: var(--fill-color);\n",
              "    }\n",
              "    90% {\n",
              "      border-color: transparent;\n",
              "      border-bottom-color: var(--fill-color);\n",
              "    }\n",
              "  }\n",
              "</style>\n",
              "\n",
              "      <script>\n",
              "        async function quickchart(key) {\n",
              "          const quickchartButtonEl =\n",
              "            document.querySelector('#' + key + ' button');\n",
              "          quickchartButtonEl.disabled = true;  // To prevent multiple clicks.\n",
              "          quickchartButtonEl.classList.add('colab-df-spinner');\n",
              "          try {\n",
              "            const charts = await google.colab.kernel.invokeFunction(\n",
              "                'suggestCharts', [key], {});\n",
              "          } catch (error) {\n",
              "            console.error('Error during call to suggestCharts:', error);\n",
              "          }\n",
              "          quickchartButtonEl.classList.remove('colab-df-spinner');\n",
              "          quickchartButtonEl.classList.add('colab-df-quickchart-complete');\n",
              "        }\n",
              "        (() => {\n",
              "          let quickchartButtonEl =\n",
              "            document.querySelector('#df-f011d865-492c-45df-adb0-1082666b0ef5 button');\n",
              "          quickchartButtonEl.style.display =\n",
              "            google.colab.kernel.accessAllowed ? 'block' : 'none';\n",
              "        })();\n",
              "      </script>\n",
              "    </div>\n",
              "\n",
              "  <div id=\"id_476e078a-9870-43cd-a0a5-61e2b01dc98b\">\n",
              "    <style>\n",
              "      .colab-df-generate {\n",
              "        background-color: #E8F0FE;\n",
              "        border: none;\n",
              "        border-radius: 50%;\n",
              "        cursor: pointer;\n",
              "        display: none;\n",
              "        fill: #1967D2;\n",
              "        height: 32px;\n",
              "        padding: 0 0 0 0;\n",
              "        width: 32px;\n",
              "      }\n",
              "\n",
              "      .colab-df-generate:hover {\n",
              "        background-color: #E2EBFA;\n",
              "        box-shadow: 0px 1px 2px rgba(60, 64, 67, 0.3), 0px 1px 3px 1px rgba(60, 64, 67, 0.15);\n",
              "        fill: #174EA6;\n",
              "      }\n",
              "\n",
              "      [theme=dark] .colab-df-generate {\n",
              "        background-color: #3B4455;\n",
              "        fill: #D2E3FC;\n",
              "      }\n",
              "\n",
              "      [theme=dark] .colab-df-generate:hover {\n",
              "        background-color: #434B5C;\n",
              "        box-shadow: 0px 1px 3px 1px rgba(0, 0, 0, 0.15);\n",
              "        filter: drop-shadow(0px 1px 2px rgba(0, 0, 0, 0.3));\n",
              "        fill: #FFFFFF;\n",
              "      }\n",
              "    </style>\n",
              "    <button class=\"colab-df-generate\" onclick=\"generateWithVariable('df')\"\n",
              "            title=\"Generate code using this dataframe.\"\n",
              "            style=\"display:none;\">\n",
              "\n",
              "  <svg xmlns=\"http://www.w3.org/2000/svg\" height=\"24px\"viewBox=\"0 0 24 24\"\n",
              "       width=\"24px\">\n",
              "    <path d=\"M7,19H8.4L18.45,9,17,7.55,7,17.6ZM5,21V16.75L18.45,3.32a2,2,0,0,1,2.83,0l1.4,1.43a1.91,1.91,0,0,1,.58,1.4,1.91,1.91,0,0,1-.58,1.4L9.25,21ZM18.45,9,17,7.55Zm-12,3A5.31,5.31,0,0,0,4.9,8.1,5.31,5.31,0,0,0,1,6.5,5.31,5.31,0,0,0,4.9,4.9,5.31,5.31,0,0,0,6.5,1,5.31,5.31,0,0,0,8.1,4.9,5.31,5.31,0,0,0,12,6.5,5.46,5.46,0,0,0,6.5,12Z\"/>\n",
              "  </svg>\n",
              "    </button>\n",
              "    <script>\n",
              "      (() => {\n",
              "      const buttonEl =\n",
              "        document.querySelector('#id_476e078a-9870-43cd-a0a5-61e2b01dc98b button.colab-df-generate');\n",
              "      buttonEl.style.display =\n",
              "        google.colab.kernel.accessAllowed ? 'block' : 'none';\n",
              "\n",
              "      buttonEl.onclick = () => {\n",
              "        google.colab.notebook.generateWithVariable('df');\n",
              "      }\n",
              "      })();\n",
              "    </script>\n",
              "  </div>\n",
              "\n",
              "    </div>\n",
              "  </div>\n"
            ],
            "application/vnd.google.colaboratory.intrinsic+json": {
              "type": "dataframe",
              "variable_name": "df",
              "summary": "{\n  \"name\": \"df\",\n  \"rows\": 891,\n  \"fields\": [\n    {\n      \"column\": \"PassengerId\",\n      \"properties\": {\n        \"dtype\": \"number\",\n        \"std\": 257,\n        \"min\": 1,\n        \"max\": 891,\n        \"num_unique_values\": 891,\n        \"samples\": [\n          710,\n          440,\n          841\n        ],\n        \"semantic_type\": \"\",\n        \"description\": \"\"\n      }\n    },\n    {\n      \"column\": \"Survived\",\n      \"properties\": {\n        \"dtype\": \"number\",\n        \"std\": 0,\n        \"min\": 0,\n        \"max\": 1,\n        \"num_unique_values\": 2,\n        \"samples\": [\n          1,\n          0\n        ],\n        \"semantic_type\": \"\",\n        \"description\": \"\"\n      }\n    },\n    {\n      \"column\": \"Pclass\",\n      \"properties\": {\n        \"dtype\": \"number\",\n        \"std\": 0,\n        \"min\": 1,\n        \"max\": 3,\n        \"num_unique_values\": 3,\n        \"samples\": [\n          3,\n          1\n        ],\n        \"semantic_type\": \"\",\n        \"description\": \"\"\n      }\n    },\n    {\n      \"column\": \"Name\",\n      \"properties\": {\n        \"dtype\": \"string\",\n        \"num_unique_values\": 891,\n        \"samples\": [\n          \"Moubarek, Master. Halim Gonios (\\\"William George\\\")\",\n          \"Kvillner, Mr. Johan Henrik Johannesson\"\n        ],\n        \"semantic_type\": \"\",\n        \"description\": \"\"\n      }\n    },\n    {\n      \"column\": \"Sex\",\n      \"properties\": {\n        \"dtype\": \"category\",\n        \"num_unique_values\": 2,\n        \"samples\": [\n          \"female\",\n          \"male\"\n        ],\n        \"semantic_type\": \"\",\n        \"description\": \"\"\n      }\n    },\n    {\n      \"column\": \"Age\",\n      \"properties\": {\n        \"dtype\": \"number\",\n        \"std\": 14.526497332334044,\n        \"min\": 0.42,\n        \"max\": 80.0,\n        \"num_unique_values\": 88,\n        \"samples\": [\n          0.75,\n          22.0\n        ],\n        \"semantic_type\": \"\",\n        \"description\": \"\"\n      }\n    },\n    {\n      \"column\": \"SibSp\",\n      \"properties\": {\n        \"dtype\": \"number\",\n        \"std\": 1,\n        \"min\": 0,\n        \"max\": 8,\n        \"num_unique_values\": 7,\n        \"samples\": [\n          1,\n          0\n        ],\n        \"semantic_type\": \"\",\n        \"description\": \"\"\n      }\n    },\n    {\n      \"column\": \"Parch\",\n      \"properties\": {\n        \"dtype\": \"number\",\n        \"std\": 0,\n        \"min\": 0,\n        \"max\": 6,\n        \"num_unique_values\": 7,\n        \"samples\": [\n          0,\n          1\n        ],\n        \"semantic_type\": \"\",\n        \"description\": \"\"\n      }\n    },\n    {\n      \"column\": \"Ticket\",\n      \"properties\": {\n        \"dtype\": \"string\",\n        \"num_unique_values\": 681,\n        \"samples\": [\n          \"11774\",\n          \"248740\"\n        ],\n        \"semantic_type\": \"\",\n        \"description\": \"\"\n      }\n    },\n    {\n      \"column\": \"Fare\",\n      \"properties\": {\n        \"dtype\": \"number\",\n        \"std\": 49.693428597180905,\n        \"min\": 0.0,\n        \"max\": 512.3292,\n        \"num_unique_values\": 248,\n        \"samples\": [\n          11.2417,\n          51.8625\n        ],\n        \"semantic_type\": \"\",\n        \"description\": \"\"\n      }\n    },\n    {\n      \"column\": \"Cabin\",\n      \"properties\": {\n        \"dtype\": \"category\",\n        \"num_unique_values\": 147,\n        \"samples\": [\n          \"D45\",\n          \"B49\"\n        ],\n        \"semantic_type\": \"\",\n        \"description\": \"\"\n      }\n    },\n    {\n      \"column\": \"Embarked\",\n      \"properties\": {\n        \"dtype\": \"category\",\n        \"num_unique_values\": 3,\n        \"samples\": [\n          \"S\",\n          \"C\"\n        ],\n        \"semantic_type\": \"\",\n        \"description\": \"\"\n      }\n    }\n  ]\n}"
            }
          },
          "metadata": {},
          "execution_count": 8
        }
      ]
    },
    {
      "cell_type": "code",
      "source": [
        "print(df.to_string())"
      ],
      "metadata": {
        "colab": {
          "base_uri": "https://localhost:8080/"
        },
        "id": "ZbDKiwbNYiwJ",
        "outputId": "d9856476-c999-4e5d-8410-ae3d2e38ec1b"
      },
      "execution_count": 9,
      "outputs": [
        {
          "output_type": "stream",
          "name": "stdout",
          "text": [
            "     PassengerId  Survived  Pclass                                                                                Name     Sex    Age  SibSp  Parch              Ticket      Fare            Cabin Embarked\n",
            "0              1         0       3                                                             Braund, Mr. Owen Harris    male  22.00      1      0           A/5 21171    7.2500              NaN        S\n",
            "1              2         1       1                                 Cumings, Mrs. John Bradley (Florence Briggs Thayer)  female  38.00      1      0            PC 17599   71.2833              C85        C\n",
            "2              3         1       3                                                              Heikkinen, Miss. Laina  female  26.00      0      0    STON/O2. 3101282    7.9250              NaN        S\n",
            "3              4         1       1                                        Futrelle, Mrs. Jacques Heath (Lily May Peel)  female  35.00      1      0              113803   53.1000             C123        S\n",
            "4              5         0       3                                                            Allen, Mr. William Henry    male  35.00      0      0              373450    8.0500              NaN        S\n",
            "5              6         0       3                                                                    Moran, Mr. James    male    NaN      0      0              330877    8.4583              NaN        Q\n",
            "6              7         0       1                                                             McCarthy, Mr. Timothy J    male  54.00      0      0               17463   51.8625              E46        S\n",
            "7              8         0       3                                                      Palsson, Master. Gosta Leonard    male   2.00      3      1              349909   21.0750              NaN        S\n",
            "8              9         1       3                                   Johnson, Mrs. Oscar W (Elisabeth Vilhelmina Berg)  female  27.00      0      2              347742   11.1333              NaN        S\n",
            "9             10         1       2                                                 Nasser, Mrs. Nicholas (Adele Achem)  female  14.00      1      0              237736   30.0708              NaN        C\n",
            "10            11         1       3                                                     Sandstrom, Miss. Marguerite Rut  female   4.00      1      1             PP 9549   16.7000               G6        S\n",
            "11            12         1       1                                                            Bonnell, Miss. Elizabeth  female  58.00      0      0              113783   26.5500             C103        S\n",
            "12            13         0       3                                                      Saundercock, Mr. William Henry    male  20.00      0      0           A/5. 2151    8.0500              NaN        S\n",
            "13            14         0       3                                                         Andersson, Mr. Anders Johan    male  39.00      1      5              347082   31.2750              NaN        S\n",
            "14            15         0       3                                                Vestrom, Miss. Hulda Amanda Adolfina  female  14.00      0      0              350406    7.8542              NaN        S\n",
            "15            16         1       2                                                    Hewlett, Mrs. (Mary D Kingcome)   female  55.00      0      0              248706   16.0000              NaN        S\n",
            "16            17         0       3                                                                Rice, Master. Eugene    male   2.00      4      1              382652   29.1250              NaN        Q\n",
            "17            18         1       2                                                        Williams, Mr. Charles Eugene    male    NaN      0      0              244373   13.0000              NaN        S\n",
            "18            19         0       3                             Vander Planke, Mrs. Julius (Emelia Maria Vandemoortele)  female  31.00      1      0              345763   18.0000              NaN        S\n",
            "19            20         1       3                                                             Masselmani, Mrs. Fatima  female    NaN      0      0                2649    7.2250              NaN        C\n",
            "20            21         0       2                                                                Fynney, Mr. Joseph J    male  35.00      0      0              239865   26.0000              NaN        S\n",
            "21            22         1       2                                                               Beesley, Mr. Lawrence    male  34.00      0      0              248698   13.0000              D56        S\n",
            "22            23         1       3                                                         McGowan, Miss. Anna \"Annie\"  female  15.00      0      0              330923    8.0292              NaN        Q\n",
            "23            24         1       1                                                        Sloper, Mr. William Thompson    male  28.00      0      0              113788   35.5000               A6        S\n",
            "24            25         0       3                                                       Palsson, Miss. Torborg Danira  female   8.00      3      1              349909   21.0750              NaN        S\n",
            "25            26         1       3                           Asplund, Mrs. Carl Oscar (Selma Augusta Emilia Johansson)  female  38.00      1      5              347077   31.3875              NaN        S\n",
            "26            27         0       3                                                             Emir, Mr. Farred Chehab    male    NaN      0      0                2631    7.2250              NaN        C\n",
            "27            28         0       1                                                      Fortune, Mr. Charles Alexander    male  19.00      3      2               19950  263.0000      C23 C25 C27        S\n",
            "28            29         1       3                                                       O'Dwyer, Miss. Ellen \"Nellie\"  female    NaN      0      0              330959    7.8792              NaN        Q\n",
            "29            30         0       3                                                                 Todoroff, Mr. Lalio    male    NaN      0      0              349216    7.8958              NaN        S\n",
            "30            31         0       1                                                            Uruchurtu, Don. Manuel E    male  40.00      0      0            PC 17601   27.7208              NaN        C\n",
            "31            32         1       1                                      Spencer, Mrs. William Augustus (Marie Eugenie)  female    NaN      1      0            PC 17569  146.5208              B78        C\n",
            "32            33         1       3                                                            Glynn, Miss. Mary Agatha  female    NaN      0      0              335677    7.7500              NaN        Q\n",
            "33            34         0       2                                                               Wheadon, Mr. Edward H    male  66.00      0      0          C.A. 24579   10.5000              NaN        S\n",
            "34            35         0       1                                                             Meyer, Mr. Edgar Joseph    male  28.00      1      0            PC 17604   82.1708              NaN        C\n",
            "35            36         0       1                                                      Holverson, Mr. Alexander Oskar    male  42.00      1      0              113789   52.0000              NaN        S\n",
            "36            37         1       3                                                                    Mamee, Mr. Hanna    male    NaN      0      0                2677    7.2292              NaN        C\n",
            "37            38         0       3                                                            Cann, Mr. Ernest Charles    male  21.00      0      0          A./5. 2152    8.0500              NaN        S\n",
            "38            39         0       3                                                  Vander Planke, Miss. Augusta Maria  female  18.00      2      0              345764   18.0000              NaN        S\n",
            "39            40         1       3                                                         Nicola-Yarred, Miss. Jamila  female  14.00      1      0                2651   11.2417              NaN        C\n",
            "40            41         0       3                                      Ahlin, Mrs. Johan (Johanna Persdotter Larsson)  female  40.00      1      0                7546    9.4750              NaN        S\n",
            "41            42         0       2                            Turpin, Mrs. William John Robert (Dorothy Ann Wonnacott)  female  27.00      1      0               11668   21.0000              NaN        S\n",
            "42            43         0       3                                                                 Kraeff, Mr. Theodor    male    NaN      0      0              349253    7.8958              NaN        C\n",
            "43            44         1       2                                            Laroche, Miss. Simonne Marie Anne Andree  female   3.00      1      2       SC/Paris 2123   41.5792              NaN        C\n",
            "44            45         1       3                                                       Devaney, Miss. Margaret Delia  female  19.00      0      0              330958    7.8792              NaN        Q\n",
            "45            46         0       3                                                            Rogers, Mr. William John    male    NaN      0      0     S.C./A.4. 23567    8.0500              NaN        S\n",
            "46            47         0       3                                                                   Lennon, Mr. Denis    male    NaN      1      0              370371   15.5000              NaN        Q\n",
            "47            48         1       3                                                           O'Driscoll, Miss. Bridget  female    NaN      0      0               14311    7.7500              NaN        Q\n",
            "48            49         0       3                                                                 Samaan, Mr. Youssef    male    NaN      2      0                2662   21.6792              NaN        C\n",
            "49            50         0       3                                       Arnold-Franchi, Mrs. Josef (Josefine Franchi)  female  18.00      1      0              349237   17.8000              NaN        S\n",
            "50            51         0       3                                                          Panula, Master. Juha Niilo    male   7.00      4      1             3101295   39.6875              NaN        S\n",
            "51            52         0       3                                                        Nosworthy, Mr. Richard Cater    male  21.00      0      0          A/4. 39886    7.8000              NaN        S\n",
            "52            53         1       1                                            Harper, Mrs. Henry Sleeper (Myna Haxtun)  female  49.00      1      0            PC 17572   76.7292              D33        C\n",
            "53            54         1       2                                  Faunthorpe, Mrs. Lizzie (Elizabeth Anne Wilkinson)  female  29.00      1      0                2926   26.0000              NaN        S\n",
            "54            55         0       1                                                      Ostby, Mr. Engelhart Cornelius    male  65.00      0      1              113509   61.9792              B30        C\n",
            "55            56         1       1                                                                   Woolner, Mr. Hugh    male    NaN      0      0               19947   35.5000              C52        S\n",
            "56            57         1       2                                                                   Rugg, Miss. Emily  female  21.00      0      0          C.A. 31026   10.5000              NaN        S\n",
            "57            58         0       3                                                                 Novel, Mr. Mansouer    male  28.50      0      0                2697    7.2292              NaN        C\n",
            "58            59         1       2                                                        West, Miss. Constance Mirium  female   5.00      1      2          C.A. 34651   27.7500              NaN        S\n",
            "59            60         0       3                                                  Goodwin, Master. William Frederick    male  11.00      5      2             CA 2144   46.9000              NaN        S\n",
            "60            61         0       3                                                               Sirayanian, Mr. Orsen    male  22.00      0      0                2669    7.2292              NaN        C\n",
            "61            62         1       1                                                                 Icard, Miss. Amelie  female  38.00      0      0              113572   80.0000              B28      NaN\n",
            "62            63         0       1                                                         Harris, Mr. Henry Birkhardt    male  45.00      1      0               36973   83.4750              C83        S\n",
            "63            64         0       3                                                               Skoog, Master. Harald    male   4.00      3      2              347088   27.9000              NaN        S\n",
            "64            65         0       1                                                               Stewart, Mr. Albert A    male    NaN      0      0            PC 17605   27.7208              NaN        C\n",
            "65            66         1       3                                                            Moubarek, Master. Gerios    male    NaN      1      1                2661   15.2458              NaN        C\n",
            "66            67         1       2                                                        Nye, Mrs. (Elizabeth Ramell)  female  29.00      0      0          C.A. 29395   10.5000              F33        S\n",
            "67            68         0       3                                                            Crease, Mr. Ernest James    male  19.00      0      0           S.P. 3464    8.1583              NaN        S\n",
            "68            69         1       3                                                     Andersson, Miss. Erna Alexandra  female  17.00      4      2             3101281    7.9250              NaN        S\n",
            "69            70         0       3                                                                   Kink, Mr. Vincenz    male  26.00      2      0              315151    8.6625              NaN        S\n",
            "70            71         0       2                                                          Jenkin, Mr. Stephen Curnow    male  32.00      0      0          C.A. 33111   10.5000              NaN        S\n",
            "71            72         0       3                                                          Goodwin, Miss. Lillian Amy  female  16.00      5      2             CA 2144   46.9000              NaN        S\n",
            "72            73         0       2                                                                Hood, Mr. Ambrose Jr    male  21.00      0      0        S.O.C. 14879   73.5000              NaN        S\n",
            "73            74         0       3                                                         Chronopoulos, Mr. Apostolos    male  26.00      1      0                2680   14.4542              NaN        C\n",
            "74            75         1       3                                                                       Bing, Mr. Lee    male  32.00      0      0                1601   56.4958              NaN        S\n",
            "75            76         0       3                                                             Moen, Mr. Sigurd Hansen    male  25.00      0      0              348123    7.6500            F G73        S\n",
            "76            77         0       3                                                                   Staneff, Mr. Ivan    male    NaN      0      0              349208    7.8958              NaN        S\n",
            "77            78         0       3                                                            Moutal, Mr. Rahamin Haim    male    NaN      0      0              374746    8.0500              NaN        S\n",
            "78            79         1       2                                                       Caldwell, Master. Alden Gates    male   0.83      0      2              248738   29.0000              NaN        S\n",
            "79            80         1       3                                                            Dowdell, Miss. Elizabeth  female  30.00      0      0              364516   12.4750              NaN        S\n",
            "80            81         0       3                                                                Waelens, Mr. Achille    male  22.00      0      0              345767    9.0000              NaN        S\n",
            "81            82         1       3                                                         Sheerlinck, Mr. Jan Baptist    male  29.00      0      0              345779    9.5000              NaN        S\n",
            "82            83         1       3                                                      McDermott, Miss. Brigdet Delia  female    NaN      0      0              330932    7.7875              NaN        Q\n",
            "83            84         0       1                                                             Carrau, Mr. Francisco M    male  28.00      0      0              113059   47.1000              NaN        S\n",
            "84            85         1       2                                                                 Ilett, Miss. Bertha  female  17.00      0      0          SO/C 14885   10.5000              NaN        S\n",
            "85            86         1       3                             Backstrom, Mrs. Karl Alfred (Maria Mathilda Gustafsson)  female  33.00      3      0             3101278   15.8500              NaN        S\n",
            "86            87         0       3                                                              Ford, Mr. William Neal    male  16.00      1      3          W./C. 6608   34.3750              NaN        S\n",
            "87            88         0       3                                                       Slocovski, Mr. Selman Francis    male    NaN      0      0     SOTON/OQ 392086    8.0500              NaN        S\n",
            "88            89         1       1                                                          Fortune, Miss. Mabel Helen  female  23.00      3      2               19950  263.0000      C23 C25 C27        S\n",
            "89            90         0       3                                                              Celotti, Mr. Francesco    male  24.00      0      0              343275    8.0500              NaN        S\n",
            "90            91         0       3                                                                Christmann, Mr. Emil    male  29.00      0      0              343276    8.0500              NaN        S\n",
            "91            92         0       3                                                          Andreasson, Mr. Paul Edvin    male  20.00      0      0              347466    7.8542              NaN        S\n",
            "92            93         0       1                                                         Chaffee, Mr. Herbert Fuller    male  46.00      1      0         W.E.P. 5734   61.1750              E31        S\n",
            "93            94         0       3                                                             Dean, Mr. Bertram Frank    male  26.00      1      2           C.A. 2315   20.5750              NaN        S\n",
            "94            95         0       3                                                                   Coxon, Mr. Daniel    male  59.00      0      0              364500    7.2500              NaN        S\n",
            "95            96         0       3                                                         Shorney, Mr. Charles Joseph    male    NaN      0      0              374910    8.0500              NaN        S\n",
            "96            97         0       1                                                           Goldschmidt, Mr. George B    male  71.00      0      0            PC 17754   34.6542               A5        C\n",
            "97            98         1       1                                                     Greenfield, Mr. William Bertram    male  23.00      0      1            PC 17759   63.3583          D10 D12        C\n",
            "98            99         1       2                                                Doling, Mrs. John T (Ada Julia Bone)  female  34.00      0      1              231919   23.0000              NaN        S\n",
            "99           100         0       2                                                                   Kantor, Mr. Sinai    male  34.00      1      0              244367   26.0000              NaN        S\n",
            "100          101         0       3                                                             Petranec, Miss. Matilda  female  28.00      0      0              349245    7.8958              NaN        S\n",
            "101          102         0       3                                                    Petroff, Mr. Pastcho (\"Pentcho\")    male    NaN      0      0              349215    7.8958              NaN        S\n",
            "102          103         0       1                                                           White, Mr. Richard Frasar    male  21.00      0      1               35281   77.2875              D26        S\n",
            "103          104         0       3                                                          Johansson, Mr. Gustaf Joel    male  33.00      0      0                7540    8.6542              NaN        S\n",
            "104          105         0       3                                                      Gustafsson, Mr. Anders Vilhelm    male  37.00      2      0             3101276    7.9250              NaN        S\n",
            "105          106         0       3                                                               Mionoff, Mr. Stoytcho    male  28.00      0      0              349207    7.8958              NaN        S\n",
            "106          107         1       3                                                    Salkjelsvik, Miss. Anna Kristine  female  21.00      0      0              343120    7.6500              NaN        S\n",
            "107          108         1       3                                                              Moss, Mr. Albert Johan    male    NaN      0      0              312991    7.7750              NaN        S\n",
            "108          109         0       3                                                                     Rekic, Mr. Tido    male  38.00      0      0              349249    7.8958              NaN        S\n",
            "109          110         1       3                                                                 Moran, Miss. Bertha  female    NaN      1      0              371110   24.1500              NaN        Q\n",
            "110          111         0       1                                                      Porter, Mr. Walter Chamberlain    male  47.00      0      0              110465   52.0000             C110        S\n",
            "111          112         0       3                                                                Zabour, Miss. Hileni  female  14.50      1      0                2665   14.4542              NaN        C\n",
            "112          113         0       3                                                              Barton, Mr. David John    male  22.00      0      0              324669    8.0500              NaN        S\n",
            "113          114         0       3                                                             Jussila, Miss. Katriina  female  20.00      1      0                4136    9.8250              NaN        S\n",
            "114          115         0       3                                                               Attalah, Miss. Malake  female  17.00      0      0                2627   14.4583              NaN        C\n",
            "115          116         0       3                                                               Pekoniemi, Mr. Edvard    male  21.00      0      0   STON/O 2. 3101294    7.9250              NaN        S\n",
            "116          117         0       3                                                                Connors, Mr. Patrick    male  70.50      0      0              370369    7.7500              NaN        Q\n",
            "117          118         0       2                                                     Turpin, Mr. William John Robert    male  29.00      1      0               11668   21.0000              NaN        S\n",
            "118          119         0       1                                                            Baxter, Mr. Quigg Edmond    male  24.00      0      1            PC 17558  247.5208          B58 B60        C\n",
            "119          120         0       3                                                   Andersson, Miss. Ellis Anna Maria  female   2.00      4      2              347082   31.2750              NaN        S\n",
            "120          121         0       2                                                         Hickman, Mr. Stanley George    male  21.00      2      0        S.O.C. 14879   73.5000              NaN        S\n",
            "121          122         0       3                                                          Moore, Mr. Leonard Charles    male    NaN      0      0           A4. 54510    8.0500              NaN        S\n",
            "122          123         0       2                                                                Nasser, Mr. Nicholas    male  32.50      1      0              237736   30.0708              NaN        C\n",
            "123          124         1       2                                                                 Webber, Miss. Susan  female  32.50      0      0               27267   13.0000             E101        S\n",
            "124          125         0       1                                                         White, Mr. Percival Wayland    male  54.00      0      1               35281   77.2875              D26        S\n",
            "125          126         1       3                                                        Nicola-Yarred, Master. Elias    male  12.00      1      0                2651   11.2417              NaN        C\n",
            "126          127         0       3                                                                 McMahon, Mr. Martin    male    NaN      0      0              370372    7.7500              NaN        Q\n",
            "127          128         1       3                                                           Madsen, Mr. Fridtjof Arne    male  24.00      0      0             C 17369    7.1417              NaN        S\n",
            "128          129         1       3                                                                   Peter, Miss. Anna  female    NaN      1      1                2668   22.3583            F E69        C\n",
            "129          130         0       3                                                                  Ekstrom, Mr. Johan    male  45.00      0      0              347061    6.9750              NaN        S\n",
            "130          131         0       3                                                                Drazenoic, Mr. Jozef    male  33.00      0      0              349241    7.8958              NaN        C\n",
            "131          132         0       3                                                      Coelho, Mr. Domingos Fernandeo    male  20.00      0      0  SOTON/O.Q. 3101307    7.0500              NaN        S\n",
            "132          133         0       3                                      Robins, Mrs. Alexander A (Grace Charity Laury)  female  47.00      1      0           A/5. 3337   14.5000              NaN        S\n",
            "133          134         1       2                                       Weisz, Mrs. Leopold (Mathilde Francoise Pede)  female  29.00      1      0              228414   26.0000              NaN        S\n",
            "134          135         0       2                                                      Sobey, Mr. Samuel James Hayden    male  25.00      0      0          C.A. 29178   13.0000              NaN        S\n",
            "135          136         0       2                                                                  Richard, Mr. Emile    male  23.00      0      0       SC/PARIS 2133   15.0458              NaN        C\n",
            "136          137         1       1                                                        Newsom, Miss. Helen Monypeny  female  19.00      0      2               11752   26.2833              D47        S\n",
            "137          138         0       1                                                         Futrelle, Mr. Jacques Heath    male  37.00      1      0              113803   53.1000             C123        S\n",
            "138          139         0       3                                                                 Osen, Mr. Olaf Elon    male  16.00      0      0                7534    9.2167              NaN        S\n",
            "139          140         0       1                                                                  Giglio, Mr. Victor    male  24.00      0      0            PC 17593   79.2000              B86        C\n",
            "140          141         0       3                                                       Boulos, Mrs. Joseph (Sultana)  female    NaN      0      2                2678   15.2458              NaN        C\n",
            "141          142         1       3                                                            Nysten, Miss. Anna Sofia  female  22.00      0      0              347081    7.7500              NaN        S\n",
            "142          143         1       3                                Hakkarainen, Mrs. Pekka Pietari (Elin Matilda Dolck)  female  24.00      1      0    STON/O2. 3101279   15.8500              NaN        S\n",
            "143          144         0       3                                                                 Burke, Mr. Jeremiah    male  19.00      0      0              365222    6.7500              NaN        Q\n",
            "144          145         0       2                                                          Andrew, Mr. Edgardo Samuel    male  18.00      0      0              231945   11.5000              NaN        S\n",
            "145          146         0       2                                                        Nicholls, Mr. Joseph Charles    male  19.00      1      1          C.A. 33112   36.7500              NaN        S\n",
            "146          147         1       3                                        Andersson, Mr. August Edvard (\"Wennerstrom\")    male  27.00      0      0              350043    7.7958              NaN        S\n",
            "147          148         0       3                                                    Ford, Miss. Robina Maggie \"Ruby\"  female   9.00      2      2          W./C. 6608   34.3750              NaN        S\n",
            "148          149         0       2                                            Navratil, Mr. Michel (\"Louis M Hoffman\")    male  36.50      0      2              230080   26.0000               F2        S\n",
            "149          150         0       2                                                   Byles, Rev. Thomas Roussel Davids    male  42.00      0      0              244310   13.0000              NaN        S\n",
            "150          151         0       2                                                          Bateman, Rev. Robert James    male  51.00      0      0         S.O.P. 1166   12.5250              NaN        S\n",
            "151          152         1       1                                                   Pears, Mrs. Thomas (Edith Wearne)  female  22.00      1      0              113776   66.6000               C2        S\n",
            "152          153         0       3                                                                    Meo, Mr. Alfonzo    male  55.50      0      0          A.5. 11206    8.0500              NaN        S\n",
            "153          154         0       3                                                     van Billiard, Mr. Austin Blyler    male  40.50      0      2            A/5. 851   14.5000              NaN        S\n",
            "154          155         0       3                                                               Olsen, Mr. Ole Martin    male    NaN      0      0           Fa 265302    7.3125              NaN        S\n",
            "155          156         0       1                                                         Williams, Mr. Charles Duane    male  51.00      0      1            PC 17597   61.3792              NaN        C\n",
            "156          157         1       3                                                    Gilnagh, Miss. Katherine \"Katie\"  female  16.00      0      0               35851    7.7333              NaN        Q\n",
            "157          158         0       3                                                                     Corn, Mr. Harry    male  30.00      0      0     SOTON/OQ 392090    8.0500              NaN        S\n",
            "158          159         0       3                                                                 Smiljanic, Mr. Mile    male    NaN      0      0              315037    8.6625              NaN        S\n",
            "159          160         0       3                                                          Sage, Master. Thomas Henry    male    NaN      8      2            CA. 2343   69.5500              NaN        S\n",
            "160          161         0       3                                                            Cribb, Mr. John Hatfield    male  44.00      0      1              371362   16.1000              NaN        S\n",
            "161          162         1       2                                  Watt, Mrs. James (Elizabeth \"Bessie\" Inglis Milne)  female  40.00      0      0          C.A. 33595   15.7500              NaN        S\n",
            "162          163         0       3                                                          Bengtsson, Mr. John Viktor    male  26.00      0      0              347068    7.7750              NaN        S\n",
            "163          164         0       3                                                                     Calic, Mr. Jovo    male  17.00      0      0              315093    8.6625              NaN        S\n",
            "164          165         0       3                                                        Panula, Master. Eino Viljami    male   1.00      4      1             3101295   39.6875              NaN        S\n",
            "165          166         1       3                                     Goldsmith, Master. Frank John William \"Frankie\"    male   9.00      0      2              363291   20.5250              NaN        S\n",
            "166          167         1       1                                              Chibnall, Mrs. (Edith Martha Bowerman)  female    NaN      0      1              113505   55.0000              E33        S\n",
            "167          168         0       3                                     Skoog, Mrs. William (Anna Bernhardina Karlsson)  female  45.00      1      4              347088   27.9000              NaN        S\n",
            "168          169         0       1                                                                 Baumann, Mr. John D    male    NaN      0      0            PC 17318   25.9250              NaN        S\n",
            "169          170         0       3                                                                       Ling, Mr. Lee    male  28.00      0      0                1601   56.4958              NaN        S\n",
            "170          171         0       1                                                           Van der hoef, Mr. Wyckoff    male  61.00      0      0              111240   33.5000              B19        S\n",
            "171          172         0       3                                                                Rice, Master. Arthur    male   4.00      4      1              382652   29.1250              NaN        Q\n",
            "172          173         1       3                                                        Johnson, Miss. Eleanor Ileen  female   1.00      1      1              347742   11.1333              NaN        S\n",
            "173          174         0       3                                                           Sivola, Mr. Antti Wilhelm    male  21.00      0      0   STON/O 2. 3101280    7.9250              NaN        S\n",
            "174          175         0       1                                                             Smith, Mr. James Clinch    male  56.00      0      0               17764   30.6958               A7        C\n",
            "175          176         0       3                                                              Klasen, Mr. Klas Albin    male  18.00      1      1              350404    7.8542              NaN        S\n",
            "176          177         0       3                                                       Lefebre, Master. Henry Forbes    male    NaN      3      1                4133   25.4667              NaN        S\n",
            "177          178         0       1                                                          Isham, Miss. Ann Elizabeth  female  50.00      0      0            PC 17595   28.7125              C49        C\n",
            "178          179         0       2                                                                  Hale, Mr. Reginald    male  30.00      0      0              250653   13.0000              NaN        S\n",
            "179          180         0       3                                                                 Leonard, Mr. Lionel    male  36.00      0      0                LINE    0.0000              NaN        S\n",
            "180          181         0       3                                                        Sage, Miss. Constance Gladys  female    NaN      8      2            CA. 2343   69.5500              NaN        S\n",
            "181          182         0       2                                                                    Pernot, Mr. Rene    male    NaN      0      0       SC/PARIS 2131   15.0500              NaN        C\n",
            "182          183         0       3                                               Asplund, Master. Clarence Gustaf Hugo    male   9.00      4      2              347077   31.3875              NaN        S\n",
            "183          184         1       2                                                           Becker, Master. Richard F    male   1.00      2      1              230136   39.0000               F4        S\n",
            "184          185         1       3                                                 Kink-Heilmann, Miss. Luise Gretchen  female   4.00      0      2              315153   22.0250              NaN        S\n",
            "185          186         0       1                                                               Rood, Mr. Hugh Roscoe    male    NaN      0      0              113767   50.0000              A32        S\n",
            "186          187         1       3                                     O'Brien, Mrs. Thomas (Johanna \"Hannah\" Godfrey)  female    NaN      1      0              370365   15.5000              NaN        Q\n",
            "187          188         1       1                                       Romaine, Mr. Charles Hallace (\"Mr C Rolmane\")    male  45.00      0      0              111428   26.5500              NaN        S\n",
            "188          189         0       3                                                                    Bourke, Mr. John    male  40.00      1      1              364849   15.5000              NaN        Q\n",
            "189          190         0       3                                                                 Turcin, Mr. Stjepan    male  36.00      0      0              349247    7.8958              NaN        S\n",
            "190          191         1       2                                                                 Pinsky, Mrs. (Rosa)  female  32.00      0      0              234604   13.0000              NaN        S\n",
            "191          192         0       2                                                               Carbines, Mr. William    male  19.00      0      0               28424   13.0000              NaN        S\n",
            "192          193         1       3                                     Andersen-Jensen, Miss. Carla Christine Nielsine  female  19.00      1      0              350046    7.8542              NaN        S\n",
            "193          194         1       2                                                          Navratil, Master. Michel M    male   3.00      1      1              230080   26.0000               F2        S\n",
            "194          195         1       1                                           Brown, Mrs. James Joseph (Margaret Tobin)  female  44.00      0      0            PC 17610   27.7208               B4        C\n",
            "195          196         1       1                                                                Lurette, Miss. Elise  female  58.00      0      0            PC 17569  146.5208              B80        C\n",
            "196          197         0       3                                                                 Mernagh, Mr. Robert    male    NaN      0      0              368703    7.7500              NaN        Q\n",
            "197          198         0       3                                                    Olsen, Mr. Karl Siegwart Andreas    male  42.00      0      1                4579    8.4042              NaN        S\n",
            "198          199         1       3                                                    Madigan, Miss. Margaret \"Maggie\"  female    NaN      0      0              370370    7.7500              NaN        Q\n",
            "199          200         0       2                                              Yrois, Miss. Henriette (\"Mrs Harbeck\")  female  24.00      0      0              248747   13.0000              NaN        S\n",
            "200          201         0       3                                                      Vande Walle, Mr. Nestor Cyriel    male  28.00      0      0              345770    9.5000              NaN        S\n",
            "201          202         0       3                                                                 Sage, Mr. Frederick    male    NaN      8      2            CA. 2343   69.5500              NaN        S\n",
            "202          203         0       3                                                          Johanson, Mr. Jakob Alfred    male  34.00      0      0             3101264    6.4958              NaN        S\n",
            "203          204         0       3                                                                Youseff, Mr. Gerious    male  45.50      0      0                2628    7.2250              NaN        C\n",
            "204          205         1       3                                                            Cohen, Mr. Gurshon \"Gus\"    male  18.00      0      0            A/5 3540    8.0500              NaN        S\n",
            "205          206         0       3                                                          Strom, Miss. Telma Matilda  female   2.00      0      1              347054   10.4625               G6        S\n",
            "206          207         0       3                                                          Backstrom, Mr. Karl Alfred    male  32.00      1      0             3101278   15.8500              NaN        S\n",
            "207          208         1       3                                                         Albimona, Mr. Nassef Cassem    male  26.00      0      0                2699   18.7875              NaN        C\n",
            "208          209         1       3                                                           Carr, Miss. Helen \"Ellen\"  female  16.00      0      0              367231    7.7500              NaN        Q\n",
            "209          210         1       1                                                                    Blank, Mr. Henry    male  40.00      0      0              112277   31.0000              A31        C\n",
            "210          211         0       3                                                                      Ali, Mr. Ahmed    male  24.00      0      0  SOTON/O.Q. 3101311    7.0500              NaN        S\n",
            "211          212         1       2                                                          Cameron, Miss. Clear Annie  female  35.00      0      0        F.C.C. 13528   21.0000              NaN        S\n",
            "212          213         0       3                                                              Perkin, Mr. John Henry    male  22.00      0      0           A/5 21174    7.2500              NaN        S\n",
            "213          214         0       2                                                         Givard, Mr. Hans Kristensen    male  30.00      0      0              250646   13.0000              NaN        S\n",
            "214          215         0       3                                                                 Kiernan, Mr. Philip    male    NaN      1      0              367229    7.7500              NaN        Q\n",
            "215          216         1       1                                                             Newell, Miss. Madeleine  female  31.00      1      0               35273  113.2750              D36        C\n",
            "216          217         1       3                                                              Honkanen, Miss. Eliina  female  27.00      0      0    STON/O2. 3101283    7.9250              NaN        S\n",
            "217          218         0       2                                                        Jacobsohn, Mr. Sidney Samuel    male  42.00      1      0              243847   27.0000              NaN        S\n",
            "218          219         1       1                                                               Bazzani, Miss. Albina  female  32.00      0      0               11813   76.2917              D15        C\n",
            "219          220         0       2                                                                  Harris, Mr. Walter    male  30.00      0      0           W/C 14208   10.5000              NaN        S\n",
            "220          221         1       3                                                      Sunderland, Mr. Victor Francis    male  16.00      0      0     SOTON/OQ 392089    8.0500              NaN        S\n",
            "221          222         0       2                                                                Bracken, Mr. James H    male  27.00      0      0              220367   13.0000              NaN        S\n",
            "222          223         0       3                                                             Green, Mr. George Henry    male  51.00      0      0               21440    8.0500              NaN        S\n",
            "223          224         0       3                                                                Nenkoff, Mr. Christo    male    NaN      0      0              349234    7.8958              NaN        S\n",
            "224          225         1       1                                                        Hoyt, Mr. Frederick Maxfield    male  38.00      1      0               19943   90.0000              C93        S\n",
            "225          226         0       3                                                        Berglund, Mr. Karl Ivar Sven    male  22.00      0      0             PP 4348    9.3500              NaN        S\n",
            "226          227         1       2                                                           Mellors, Mr. William John    male  19.00      0      0           SW/PP 751   10.5000              NaN        S\n",
            "227          228         0       3                                                     Lovell, Mr. John Hall (\"Henry\")    male  20.50      0      0           A/5 21173    7.2500              NaN        S\n",
            "228          229         0       2                                                           Fahlstrom, Mr. Arne Jonas    male  18.00      0      0              236171   13.0000              NaN        S\n",
            "229          230         0       3                                                             Lefebre, Miss. Mathilde  female    NaN      3      1                4133   25.4667              NaN        S\n",
            "230          231         1       1                                        Harris, Mrs. Henry Birkhardt (Irene Wallach)  female  35.00      1      0               36973   83.4750              C83        S\n",
            "231          232         0       3                                                            Larsson, Mr. Bengt Edvin    male  29.00      0      0              347067    7.7750              NaN        S\n",
            "232          233         0       2                                                           Sjostedt, Mr. Ernst Adolf    male  59.00      0      0              237442   13.5000              NaN        S\n",
            "233          234         1       3                                                      Asplund, Miss. Lillian Gertrud  female   5.00      4      2              347077   31.3875              NaN        S\n",
            "234          235         0       2                                                   Leyson, Mr. Robert William Norman    male  24.00      0      0          C.A. 29566   10.5000              NaN        S\n",
            "235          236         0       3                                                        Harknett, Miss. Alice Phoebe  female    NaN      0      0          W./C. 6609    7.5500              NaN        S\n",
            "236          237         0       2                                                                   Hold, Mr. Stephen    male  44.00      1      0               26707   26.0000              NaN        S\n",
            "237          238         1       2                                                    Collyer, Miss. Marjorie \"Lottie\"  female   8.00      0      2          C.A. 31921   26.2500              NaN        S\n",
            "238          239         0       2                                                     Pengelly, Mr. Frederick William    male  19.00      0      0               28665   10.5000              NaN        S\n",
            "239          240         0       2                                                              Hunt, Mr. George Henry    male  33.00      0      0          SCO/W 1585   12.2750              NaN        S\n",
            "240          241         0       3                                                               Zabour, Miss. Thamine  female    NaN      1      0                2665   14.4542              NaN        C\n",
            "241          242         1       3                                                      Murphy, Miss. Katherine \"Kate\"  female    NaN      1      0              367230   15.5000              NaN        Q\n",
            "242          243         0       2                                                     Coleridge, Mr. Reginald Charles    male  29.00      0      0         W./C. 14263   10.5000              NaN        S\n",
            "243          244         0       3                                                       Maenpaa, Mr. Matti Alexanteri    male  22.00      0      0   STON/O 2. 3101275    7.1250              NaN        S\n",
            "244          245         0       3                                                                Attalah, Mr. Sleiman    male  30.00      0      0                2694    7.2250              NaN        C\n",
            "245          246         0       1                                                         Minahan, Dr. William Edward    male  44.00      2      0               19928   90.0000              C78        Q\n",
            "246          247         0       3                                               Lindahl, Miss. Agda Thorilda Viktoria  female  25.00      0      0              347071    7.7750              NaN        S\n",
            "247          248         1       2                                                     Hamalainen, Mrs. William (Anna)  female  24.00      0      2              250649   14.5000              NaN        S\n",
            "248          249         1       1                                                       Beckwith, Mr. Richard Leonard    male  37.00      1      1               11751   52.5542              D35        S\n",
            "249          250         0       2                                                       Carter, Rev. Ernest Courtenay    male  54.00      1      0              244252   26.0000              NaN        S\n",
            "250          251         0       3                                                              Reed, Mr. James George    male    NaN      0      0              362316    7.2500              NaN        S\n",
            "251          252         0       3                                          Strom, Mrs. Wilhelm (Elna Matilda Persson)  female  29.00      1      1              347054   10.4625               G6        S\n",
            "252          253         0       1                                                           Stead, Mr. William Thomas    male  62.00      0      0              113514   26.5500              C87        S\n",
            "253          254         0       3                                                            Lobb, Mr. William Arthur    male  30.00      1      0           A/5. 3336   16.1000              NaN        S\n",
            "254          255         0       3                                            Rosblom, Mrs. Viktor (Helena Wilhelmina)  female  41.00      0      2              370129   20.2125              NaN        S\n",
            "255          256         1       3                                             Touma, Mrs. Darwis (Hanne Youssef Razi)  female  29.00      0      2                2650   15.2458              NaN        C\n",
            "256          257         1       1                                                      Thorne, Mrs. Gertrude Maybelle  female    NaN      0      0            PC 17585   79.2000              NaN        C\n",
            "257          258         1       1                                                                Cherry, Miss. Gladys  female  30.00      0      0              110152   86.5000              B77        S\n",
            "258          259         1       1                                                                    Ward, Miss. Anna  female  35.00      0      0            PC 17755  512.3292              NaN        C\n",
            "259          260         1       2                                                         Parrish, Mrs. (Lutie Davis)  female  50.00      0      1              230433   26.0000              NaN        S\n",
            "260          261         0       3                                                                   Smith, Mr. Thomas    male    NaN      0      0              384461    7.7500              NaN        Q\n",
            "261          262         1       3                                                   Asplund, Master. Edvin Rojj Felix    male   3.00      4      2              347077   31.3875              NaN        S\n",
            "262          263         0       1                                                                   Taussig, Mr. Emil    male  52.00      1      1              110413   79.6500              E67        S\n",
            "263          264         0       1                                                               Harrison, Mr. William    male  40.00      0      0              112059    0.0000              B94        S\n",
            "264          265         0       3                                                                  Henry, Miss. Delia  female    NaN      0      0              382649    7.7500              NaN        Q\n",
            "265          266         0       2                                                                   Reeves, Mr. David    male  36.00      0      0          C.A. 17248   10.5000              NaN        S\n",
            "266          267         0       3                                                           Panula, Mr. Ernesti Arvid    male  16.00      4      1             3101295   39.6875              NaN        S\n",
            "267          268         1       3                                                            Persson, Mr. Ernst Ulrik    male  25.00      1      0              347083    7.7750              NaN        S\n",
            "268          269         1       1                                       Graham, Mrs. William Thompson (Edith Junkins)  female  58.00      0      1            PC 17582  153.4625             C125        S\n",
            "269          270         1       1                                                              Bissette, Miss. Amelia  female  35.00      0      0            PC 17760  135.6333              C99        S\n",
            "270          271         0       1                                                               Cairns, Mr. Alexander    male    NaN      0      0              113798   31.0000              NaN        S\n",
            "271          272         1       3                                                        Tornquist, Mr. William Henry    male  25.00      0      0                LINE    0.0000              NaN        S\n",
            "272          273         1       2                                           Mellinger, Mrs. (Elizabeth Anne Maidment)  female  41.00      0      1              250644   19.5000              NaN        S\n",
            "273          274         0       1                                                               Natsch, Mr. Charles H    male  37.00      0      1            PC 17596   29.7000             C118        C\n",
            "274          275         1       3                                                          Healy, Miss. Hanora \"Nora\"  female    NaN      0      0              370375    7.7500              NaN        Q\n",
            "275          276         1       1                                                   Andrews, Miss. Kornelia Theodosia  female  63.00      1      0               13502   77.9583               D7        S\n",
            "276          277         0       3                                                   Lindblom, Miss. Augusta Charlotta  female  45.00      0      0              347073    7.7500              NaN        S\n",
            "277          278         0       2                                                         Parkes, Mr. Francis \"Frank\"    male    NaN      0      0              239853    0.0000              NaN        S\n",
            "278          279         0       3                                                                  Rice, Master. Eric    male   7.00      4      1              382652   29.1250              NaN        Q\n",
            "279          280         1       3                                                    Abbott, Mrs. Stanton (Rosa Hunt)  female  35.00      1      1           C.A. 2673   20.2500              NaN        S\n",
            "280          281         0       3                                                                    Duane, Mr. Frank    male  65.00      0      0              336439    7.7500              NaN        Q\n",
            "281          282         0       3                                                    Olsson, Mr. Nils Johan Goransson    male  28.00      0      0              347464    7.8542              NaN        S\n",
            "282          283         0       3                                                           de Pelsmaeker, Mr. Alfons    male  16.00      0      0              345778    9.5000              NaN        S\n",
            "283          284         1       3                                                          Dorking, Mr. Edward Arthur    male  19.00      0      0          A/5. 10482    8.0500              NaN        S\n",
            "284          285         0       1                                                          Smith, Mr. Richard William    male    NaN      0      0              113056   26.0000              A19        S\n",
            "285          286         0       3                                                                 Stankovic, Mr. Ivan    male  33.00      0      0              349239    8.6625              NaN        C\n",
            "286          287         1       3                                                             de Mulder, Mr. Theodore    male  30.00      0      0              345774    9.5000              NaN        S\n",
            "287          288         0       3                                                                Naidenoff, Mr. Penko    male  22.00      0      0              349206    7.8958              NaN        S\n",
            "288          289         1       2                                                                Hosono, Mr. Masabumi    male  42.00      0      0              237798   13.0000              NaN        S\n",
            "289          290         1       3                                                                Connolly, Miss. Kate  female  22.00      0      0              370373    7.7500              NaN        Q\n",
            "290          291         1       1                                                        Barber, Miss. Ellen \"Nellie\"  female  26.00      0      0               19877   78.8500              NaN        S\n",
            "291          292         1       1                                             Bishop, Mrs. Dickinson H (Helen Walton)  female  19.00      1      0               11967   91.0792              B49        C\n",
            "292          293         0       2                                                              Levy, Mr. Rene Jacques    male  36.00      0      0       SC/Paris 2163   12.8750                D        C\n",
            "293          294         0       3                                                                 Haas, Miss. Aloisia  female  24.00      0      0              349236    8.8500              NaN        S\n",
            "294          295         0       3                                                                    Mineff, Mr. Ivan    male  24.00      0      0              349233    7.8958              NaN        S\n",
            "295          296         0       1                                                                   Lewy, Mr. Ervin G    male    NaN      0      0            PC 17612   27.7208              NaN        C\n",
            "296          297         0       3                                                                  Hanna, Mr. Mansour    male  23.50      0      0                2693    7.2292              NaN        C\n",
            "297          298         0       1                                                        Allison, Miss. Helen Loraine  female   2.00      1      2              113781  151.5500          C22 C26        S\n",
            "298          299         1       1                                                               Saalfeld, Mr. Adolphe    male    NaN      0      0               19988   30.5000             C106        S\n",
            "299          300         1       1                                     Baxter, Mrs. James (Helene DeLaudeniere Chaput)  female  50.00      0      1            PC 17558  247.5208          B58 B60        C\n",
            "300          301         1       3                                            Kelly, Miss. Anna Katherine \"Annie Kate\"  female    NaN      0      0                9234    7.7500              NaN        Q\n",
            "301          302         1       3                                                                  McCoy, Mr. Bernard    male    NaN      2      0              367226   23.2500              NaN        Q\n",
            "302          303         0       3                                                     Johnson, Mr. William Cahoone Jr    male  19.00      0      0                LINE    0.0000              NaN        S\n",
            "303          304         1       2                                                                 Keane, Miss. Nora A  female    NaN      0      0              226593   12.3500             E101        Q\n",
            "304          305         0       3                                                   Williams, Mr. Howard Hugh \"Harry\"    male    NaN      0      0            A/5 2466    8.0500              NaN        S\n",
            "305          306         1       1                                                      Allison, Master. Hudson Trevor    male   0.92      1      2              113781  151.5500          C22 C26        S\n",
            "306          307         1       1                                                             Fleming, Miss. Margaret  female    NaN      0      0               17421  110.8833              NaN        C\n",
            "307          308         1       1  Penasco y Castellana, Mrs. Victor de Satode (Maria Josefa Perez de Soto y Vallejo)  female  17.00      1      0            PC 17758  108.9000              C65        C\n",
            "308          309         0       2                                                                 Abelson, Mr. Samuel    male  30.00      1      0           P/PP 3381   24.0000              NaN        C\n",
            "309          310         1       1                                                      Francatelli, Miss. Laura Mabel  female  30.00      0      0            PC 17485   56.9292              E36        C\n",
            "310          311         1       1                                                      Hays, Miss. Margaret Bechstein  female  24.00      0      0               11767   83.1583              C54        C\n",
            "311          312         1       1                                                          Ryerson, Miss. Emily Borie  female  18.00      2      2            PC 17608  262.3750  B57 B59 B63 B66        C\n",
            "312          313         0       2                                               Lahtinen, Mrs. William (Anna Sylfven)  female  26.00      1      1              250651   26.0000              NaN        S\n",
            "313          314         0       3                                                              Hendekovic, Mr. Ignjac    male  28.00      0      0              349243    7.8958              NaN        S\n",
            "314          315         0       2                                                                  Hart, Mr. Benjamin    male  43.00      1      1        F.C.C. 13529   26.2500              NaN        S\n",
            "315          316         1       3                                                     Nilsson, Miss. Helmina Josefina  female  26.00      0      0              347470    7.8542              NaN        S\n",
            "316          317         1       2                                                 Kantor, Mrs. Sinai (Miriam Sternin)  female  24.00      1      0              244367   26.0000              NaN        S\n",
            "317          318         0       2                                                                Moraweck, Dr. Ernest    male  54.00      0      0               29011   14.0000              NaN        S\n",
            "318          319         1       1                                                            Wick, Miss. Mary Natalie  female  31.00      0      2               36928  164.8667               C7        S\n",
            "319          320         1       1                            Spedden, Mrs. Frederic Oakley (Margaretta Corning Stone)  female  40.00      1      1               16966  134.5000              E34        C\n",
            "320          321         0       3                                                                  Dennis, Mr. Samuel    male  22.00      0      0           A/5 21172    7.2500              NaN        S\n",
            "321          322         0       3                                                                    Danoff, Mr. Yoto    male  27.00      0      0              349219    7.8958              NaN        S\n",
            "322          323         1       2                                                           Slayter, Miss. Hilda Mary  female  30.00      0      0              234818   12.3500              NaN        Q\n",
            "323          324         1       2                                 Caldwell, Mrs. Albert Francis (Sylvia Mae Harbaugh)  female  22.00      1      1              248738   29.0000              NaN        S\n",
            "324          325         0       3                                                            Sage, Mr. George John Jr    male    NaN      8      2            CA. 2343   69.5500              NaN        S\n",
            "325          326         1       1                                                            Young, Miss. Marie Grice  female  36.00      0      0            PC 17760  135.6333              C32        C\n",
            "326          327         0       3                                                           Nysveen, Mr. Johan Hansen    male  61.00      0      0              345364    6.2375              NaN        S\n",
            "327          328         1       2                                                             Ball, Mrs. (Ada E Hall)  female  36.00      0      0               28551   13.0000                D        S\n",
            "328          329         1       3                                      Goldsmith, Mrs. Frank John (Emily Alice Brown)  female  31.00      1      1              363291   20.5250              NaN        S\n",
            "329          330         1       1                                                        Hippach, Miss. Jean Gertrude  female  16.00      0      1              111361   57.9792              B18        C\n",
            "330          331         1       3                                                                  McCoy, Miss. Agnes  female    NaN      2      0              367226   23.2500              NaN        Q\n",
            "331          332         0       1                                                                 Partner, Mr. Austen    male  45.50      0      0              113043   28.5000             C124        S\n",
            "332          333         0       1                                                           Graham, Mr. George Edward    male  38.00      0      1            PC 17582  153.4625              C91        S\n",
            "333          334         0       3                                                     Vander Planke, Mr. Leo Edmondus    male  16.00      2      0              345764   18.0000              NaN        S\n",
            "334          335         1       1                                  Frauenthal, Mrs. Henry William (Clara Heinsheimer)  female    NaN      1      0            PC 17611  133.6500              NaN        S\n",
            "335          336         0       3                                                                  Denkoff, Mr. Mitto    male    NaN      0      0              349225    7.8958              NaN        S\n",
            "336          337         0       1                                                           Pears, Mr. Thomas Clinton    male  29.00      1      0              113776   66.6000               C2        S\n",
            "337          338         1       1                                                     Burns, Miss. Elizabeth Margaret  female  41.00      0      0               16966  134.5000              E40        C\n",
            "338          339         1       3                                                               Dahl, Mr. Karl Edwart    male  45.00      0      0                7598    8.0500              NaN        S\n",
            "339          340         0       1                                                        Blackwell, Mr. Stephen Weart    male  45.00      0      0              113784   35.5000                T        S\n",
            "340          341         1       2                                                      Navratil, Master. Edmond Roger    male   2.00      1      1              230080   26.0000               F2        S\n",
            "341          342         1       1                                                      Fortune, Miss. Alice Elizabeth  female  24.00      3      2               19950  263.0000      C23 C25 C27        S\n",
            "342          343         0       2                                                          Collander, Mr. Erik Gustaf    male  28.00      0      0              248740   13.0000              NaN        S\n",
            "343          344         0       2                                          Sedgwick, Mr. Charles Frederick Waddington    male  25.00      0      0              244361   13.0000              NaN        S\n",
            "344          345         0       2                                                             Fox, Mr. Stanley Hubert    male  36.00      0      0              229236   13.0000              NaN        S\n",
            "345          346         1       2                                                       Brown, Miss. Amelia \"Mildred\"  female  24.00      0      0              248733   13.0000              F33        S\n",
            "346          347         1       2                                                           Smith, Miss. Marion Elsie  female  40.00      0      0               31418   13.0000              NaN        S\n",
            "347          348         1       3                                           Davison, Mrs. Thomas Henry (Mary E Finck)  female    NaN      1      0              386525   16.1000              NaN        S\n",
            "348          349         1       3                                              Coutts, Master. William Loch \"William\"    male   3.00      1      1          C.A. 37671   15.9000              NaN        S\n",
            "349          350         0       3                                                                    Dimic, Mr. Jovan    male  42.00      0      0              315088    8.6625              NaN        S\n",
            "350          351         0       3                                                              Odahl, Mr. Nils Martin    male  23.00      0      0                7267    9.2250              NaN        S\n",
            "351          352         0       1                                              Williams-Lambert, Mr. Fletcher Fellows    male    NaN      0      0              113510   35.0000             C128        S\n",
            "352          353         0       3                                                                  Elias, Mr. Tannous    male  15.00      1      1                2695    7.2292              NaN        C\n",
            "353          354         0       3                                                           Arnold-Franchi, Mr. Josef    male  25.00      1      0              349237   17.8000              NaN        S\n",
            "354          355         0       3                                                                   Yousif, Mr. Wazli    male    NaN      0      0                2647    7.2250              NaN        C\n",
            "355          356         0       3                                                         Vanden Steen, Mr. Leo Peter    male  28.00      0      0              345783    9.5000              NaN        S\n",
            "356          357         1       1                                                         Bowerman, Miss. Elsie Edith  female  22.00      0      1              113505   55.0000              E33        S\n",
            "357          358         0       2                                                           Funk, Miss. Annie Clemmer  female  38.00      0      0              237671   13.0000              NaN        S\n",
            "358          359         1       3                                                                McGovern, Miss. Mary  female    NaN      0      0              330931    7.8792              NaN        Q\n",
            "359          360         1       3                                                   Mockler, Miss. Helen Mary \"Ellie\"  female    NaN      0      0              330980    7.8792              NaN        Q\n",
            "360          361         0       3                                                                  Skoog, Mr. Wilhelm    male  40.00      1      4              347088   27.9000              NaN        S\n",
            "361          362         0       2                                                           del Carlo, Mr. Sebastiano    male  29.00      1      0       SC/PARIS 2167   27.7208              NaN        C\n",
            "362          363         0       3                                                     Barbara, Mrs. (Catherine David)  female  45.00      0      1                2691   14.4542              NaN        C\n",
            "363          364         0       3                                                                     Asim, Mr. Adola    male  35.00      0      0  SOTON/O.Q. 3101310    7.0500              NaN        S\n",
            "364          365         0       3                                                                 O'Brien, Mr. Thomas    male    NaN      1      0              370365   15.5000              NaN        Q\n",
            "365          366         0       3                                                      Adahl, Mr. Mauritz Nils Martin    male  30.00      0      0              C 7076    7.2500              NaN        S\n",
            "366          367         1       1                                    Warren, Mrs. Frank Manley (Anna Sophia Atkinson)  female  60.00      1      0              110813   75.2500              D37        C\n",
            "367          368         1       3                                                      Moussa, Mrs. (Mantoura Boulos)  female    NaN      0      0                2626    7.2292              NaN        C\n",
            "368          369         1       3                                                                 Jermyn, Miss. Annie  female    NaN      0      0               14313    7.7500              NaN        Q\n",
            "369          370         1       1                                                       Aubart, Mme. Leontine Pauline  female  24.00      0      0            PC 17477   69.3000              B35        C\n",
            "370          371         1       1                                                         Harder, Mr. George Achilles    male  25.00      1      0               11765   55.4417              E50        C\n",
            "371          372         0       3                                                           Wiklund, Mr. Jakob Alfred    male  18.00      1      0             3101267    6.4958              NaN        S\n",
            "372          373         0       3                                                          Beavan, Mr. William Thomas    male  19.00      0      0              323951    8.0500              NaN        S\n",
            "373          374         0       1                                                                 Ringhini, Mr. Sante    male  22.00      0      0            PC 17760  135.6333              NaN        C\n",
            "374          375         0       3                                                          Palsson, Miss. Stina Viola  female   3.00      3      1              349909   21.0750              NaN        S\n",
            "375          376         1       1                                               Meyer, Mrs. Edgar Joseph (Leila Saks)  female    NaN      1      0            PC 17604   82.1708              NaN        C\n",
            "376          377         1       3                                                     Landergren, Miss. Aurora Adelia  female  22.00      0      0              C 7077    7.2500              NaN        S\n",
            "377          378         0       1                                                           Widener, Mr. Harry Elkins    male  27.00      0      2              113503  211.5000              C82        C\n",
            "378          379         0       3                                                                 Betros, Mr. Tannous    male  20.00      0      0                2648    4.0125              NaN        C\n",
            "379          380         0       3                                                         Gustafsson, Mr. Karl Gideon    male  19.00      0      0              347069    7.7750              NaN        S\n",
            "380          381         1       1                                                               Bidois, Miss. Rosalie  female  42.00      0      0            PC 17757  227.5250              NaN        C\n",
            "381          382         1       3                                                         Nakid, Miss. Maria (\"Mary\")  female   1.00      0      2                2653   15.7417              NaN        C\n",
            "382          383         0       3                                                                  Tikkanen, Mr. Juho    male  32.00      0      0   STON/O 2. 3101293    7.9250              NaN        S\n",
            "383          384         1       1                                 Holverson, Mrs. Alexander Oskar (Mary Aline Towner)  female  35.00      1      0              113789   52.0000              NaN        S\n",
            "384          385         0       3                                                              Plotcharsky, Mr. Vasil    male    NaN      0      0              349227    7.8958              NaN        S\n",
            "385          386         0       2                                                           Davies, Mr. Charles Henry    male  18.00      0      0        S.O.C. 14879   73.5000              NaN        S\n",
            "386          387         0       3                                                     Goodwin, Master. Sidney Leonard    male   1.00      5      2             CA 2144   46.9000              NaN        S\n",
            "387          388         1       2                                                                    Buss, Miss. Kate  female  36.00      0      0               27849   13.0000              NaN        S\n",
            "388          389         0       3                                                                Sadlier, Mr. Matthew    male    NaN      0      0              367655    7.7292              NaN        Q\n",
            "389          390         1       2                                                               Lehmann, Miss. Bertha  female  17.00      0      0             SC 1748   12.0000              NaN        C\n",
            "390          391         1       1                                                          Carter, Mr. William Ernest    male  36.00      1      2              113760  120.0000          B96 B98        S\n",
            "391          392         1       3                                                              Jansson, Mr. Carl Olof    male  21.00      0      0              350034    7.7958              NaN        S\n",
            "392          393         0       3                                                        Gustafsson, Mr. Johan Birger    male  28.00      2      0             3101277    7.9250              NaN        S\n",
            "393          394         1       1                                                              Newell, Miss. Marjorie  female  23.00      1      0               35273  113.2750              D36        C\n",
            "394          395         1       3                                 Sandstrom, Mrs. Hjalmar (Agnes Charlotta Bengtsson)  female  24.00      0      2             PP 9549   16.7000               G6        S\n",
            "395          396         0       3                                                                 Johansson, Mr. Erik    male  22.00      0      0              350052    7.7958              NaN        S\n",
            "396          397         0       3                                                                 Olsson, Miss. Elina  female  31.00      0      0              350407    7.8542              NaN        S\n",
            "397          398         0       2                                                             McKane, Mr. Peter David    male  46.00      0      0               28403   26.0000              NaN        S\n",
            "398          399         0       2                                                                    Pain, Dr. Alfred    male  23.00      0      0              244278   10.5000              NaN        S\n",
            "399          400         1       2                                                    Trout, Mrs. William H (Jessie L)  female  28.00      0      0              240929   12.6500              NaN        S\n",
            "400          401         1       3                                                                  Niskanen, Mr. Juha    male  39.00      0      0   STON/O 2. 3101289    7.9250              NaN        S\n",
            "401          402         0       3                                                                     Adams, Mr. John    male  26.00      0      0              341826    8.0500              NaN        S\n",
            "402          403         0       3                                                            Jussila, Miss. Mari Aina  female  21.00      1      0                4137    9.8250              NaN        S\n",
            "403          404         0       3                                                      Hakkarainen, Mr. Pekka Pietari    male  28.00      1      0    STON/O2. 3101279   15.8500              NaN        S\n",
            "404          405         0       3                                                             Oreskovic, Miss. Marija  female  20.00      0      0              315096    8.6625              NaN        S\n",
            "405          406         0       2                                                                  Gale, Mr. Shadrach    male  34.00      1      0               28664   21.0000              NaN        S\n",
            "406          407         0       3                                                    Widegren, Mr. Carl/Charles Peter    male  51.00      0      0              347064    7.7500              NaN        S\n",
            "407          408         1       2                                                      Richards, Master. William Rowe    male   3.00      1      1               29106   18.7500              NaN        S\n",
            "408          409         0       3                                                   Birkeland, Mr. Hans Martin Monsen    male  21.00      0      0              312992    7.7750              NaN        S\n",
            "409          410         0       3                                                                  Lefebre, Miss. Ida  female    NaN      3      1                4133   25.4667              NaN        S\n",
            "410          411         0       3                                                                  Sdycoff, Mr. Todor    male    NaN      0      0              349222    7.8958              NaN        S\n",
            "411          412         0       3                                                                     Hart, Mr. Henry    male    NaN      0      0              394140    6.8583              NaN        Q\n",
            "412          413         1       1                                                              Minahan, Miss. Daisy E  female  33.00      1      0               19928   90.0000              C78        Q\n",
            "413          414         0       2                                                      Cunningham, Mr. Alfred Fleming    male    NaN      0      0              239853    0.0000              NaN        S\n",
            "414          415         1       3                                                           Sundman, Mr. Johan Julian    male  44.00      0      0   STON/O 2. 3101269    7.9250              NaN        S\n",
            "415          416         0       3                                             Meek, Mrs. Thomas (Annie Louise Rowley)  female    NaN      0      0              343095    8.0500              NaN        S\n",
            "416          417         1       2                                     Drew, Mrs. James Vivian (Lulu Thorne Christian)  female  34.00      1      1               28220   32.5000              NaN        S\n",
            "417          418         1       2                                                       Silven, Miss. Lyyli Karoliina  female  18.00      0      2              250652   13.0000              NaN        S\n",
            "418          419         0       2                                                          Matthews, Mr. William John    male  30.00      0      0               28228   13.0000              NaN        S\n",
            "419          420         0       3                                                           Van Impe, Miss. Catharina  female  10.00      0      2              345773   24.1500              NaN        S\n",
            "420          421         0       3                                                              Gheorgheff, Mr. Stanio    male    NaN      0      0              349254    7.8958              NaN        C\n",
            "421          422         0       3                                                                 Charters, Mr. David    male  21.00      0      0          A/5. 13032    7.7333              NaN        Q\n",
            "422          423         0       3                                                                  Zimmerman, Mr. Leo    male  29.00      0      0              315082    7.8750              NaN        S\n",
            "423          424         0       3                              Danbom, Mrs. Ernst Gilbert (Anna Sigrid Maria Brogren)  female  28.00      1      1              347080   14.4000              NaN        S\n",
            "424          425         0       3                                                         Rosblom, Mr. Viktor Richard    male  18.00      1      1              370129   20.2125              NaN        S\n",
            "425          426         0       3                                                              Wiseman, Mr. Phillippe    male    NaN      0      0          A/4. 34244    7.2500              NaN        S\n",
            "426          427         1       2                                         Clarke, Mrs. Charles V (Ada Maria Winfield)  female  28.00      1      0                2003   26.0000              NaN        S\n",
            "427          428         1       2                 Phillips, Miss. Kate Florence (\"Mrs Kate Louise Phillips Marshall\")  female  19.00      0      0              250655   26.0000              NaN        S\n",
            "428          429         0       3                                                                    Flynn, Mr. James    male    NaN      0      0              364851    7.7500              NaN        Q\n",
            "429          430         1       3                                                  Pickard, Mr. Berk (Berk Trembisky)    male  32.00      0      0   SOTON/O.Q. 392078    8.0500              E10        S\n",
            "430          431         1       1                                           Bjornstrom-Steffansson, Mr. Mauritz Hakan    male  28.00      0      0              110564   26.5500              C52        S\n",
            "431          432         1       3                                   Thorneycroft, Mrs. Percival (Florence Kate White)  female    NaN      1      0              376564   16.1000              NaN        S\n",
            "432          433         1       2                                 Louch, Mrs. Charles Alexander (Alice Adelaide Slow)  female  42.00      1      0          SC/AH 3085   26.0000              NaN        S\n",
            "433          434         0       3                                                          Kallio, Mr. Nikolai Erland    male  17.00      0      0   STON/O 2. 3101274    7.1250              NaN        S\n",
            "434          435         0       1                                                           Silvey, Mr. William Baird    male  50.00      1      0               13507   55.9000              E44        S\n",
            "435          436         1       1                                                           Carter, Miss. Lucile Polk  female  14.00      1      2              113760  120.0000          B96 B98        S\n",
            "436          437         0       3                                                Ford, Miss. Doolina Margaret \"Daisy\"  female  21.00      2      2          W./C. 6608   34.3750              NaN        S\n",
            "437          438         1       2                                               Richards, Mrs. Sidney (Emily Hocking)  female  24.00      2      3               29106   18.7500              NaN        S\n",
            "438          439         0       1                                                                   Fortune, Mr. Mark    male  64.00      1      4               19950  263.0000      C23 C25 C27        S\n",
            "439          440         0       2                                              Kvillner, Mr. Johan Henrik Johannesson    male  31.00      0      0          C.A. 18723   10.5000              NaN        S\n",
            "440          441         1       2                                         Hart, Mrs. Benjamin (Esther Ada Bloomfield)  female  45.00      1      1        F.C.C. 13529   26.2500              NaN        S\n",
            "441          442         0       3                                                                     Hampe, Mr. Leon    male  20.00      0      0              345769    9.5000              NaN        S\n",
            "442          443         0       3                                                           Petterson, Mr. Johan Emil    male  25.00      1      0              347076    7.7750              NaN        S\n",
            "443          444         1       2                                                           Reynaldo, Ms. Encarnacion  female  28.00      0      0              230434   13.0000              NaN        S\n",
            "444          445         1       3                                                   Johannesen-Bratthammer, Mr. Bernt    male    NaN      0      0               65306    8.1125              NaN        S\n",
            "445          446         1       1                                                           Dodge, Master. Washington    male   4.00      0      2               33638   81.8583              A34        S\n",
            "446          447         1       2                                                   Mellinger, Miss. Madeleine Violet  female  13.00      0      1              250644   19.5000              NaN        S\n",
            "447          448         1       1                                                         Seward, Mr. Frederic Kimber    male  34.00      0      0              113794   26.5500              NaN        S\n",
            "448          449         1       3                                                      Baclini, Miss. Marie Catherine  female   5.00      2      1                2666   19.2583              NaN        C\n",
            "449          450         1       1                                                      Peuchen, Major. Arthur Godfrey    male  52.00      0      0              113786   30.5000             C104        S\n",
            "450          451         0       2                                                               West, Mr. Edwy Arthur    male  36.00      1      2          C.A. 34651   27.7500              NaN        S\n",
            "451          452         0       3                                                     Hagland, Mr. Ingvald Olai Olsen    male    NaN      1      0               65303   19.9667              NaN        S\n",
            "452          453         0       1                                                     Foreman, Mr. Benjamin Laventall    male  30.00      0      0              113051   27.7500             C111        C\n",
            "453          454         1       1                                                            Goldenberg, Mr. Samuel L    male  49.00      1      0               17453   89.1042              C92        C\n",
            "454          455         0       3                                                                 Peduzzi, Mr. Joseph    male    NaN      0      0            A/5 2817    8.0500              NaN        S\n",
            "455          456         1       3                                                                  Jalsevac, Mr. Ivan    male  29.00      0      0              349240    7.8958              NaN        C\n",
            "456          457         0       1                                                           Millet, Mr. Francis Davis    male  65.00      0      0               13509   26.5500              E38        S\n",
            "457          458         1       1                                                   Kenyon, Mrs. Frederick R (Marion)  female    NaN      1      0               17464   51.8625              D21        S\n",
            "458          459         1       2                                                                 Toomey, Miss. Ellen  female  50.00      0      0        F.C.C. 13531   10.5000              NaN        S\n",
            "459          460         0       3                                                               O'Connor, Mr. Maurice    male    NaN      0      0              371060    7.7500              NaN        Q\n",
            "460          461         1       1                                                                 Anderson, Mr. Harry    male  48.00      0      0               19952   26.5500              E12        S\n",
            "461          462         0       3                                                                 Morley, Mr. William    male  34.00      0      0              364506    8.0500              NaN        S\n",
            "462          463         0       1                                                                   Gee, Mr. Arthur H    male  47.00      0      0              111320   38.5000              E63        S\n",
            "463          464         0       2                                                        Milling, Mr. Jacob Christian    male  48.00      0      0              234360   13.0000              NaN        S\n",
            "464          465         0       3                                                                  Maisner, Mr. Simon    male    NaN      0      0            A/S 2816    8.0500              NaN        S\n",
            "465          466         0       3                                                     Goncalves, Mr. Manuel Estanslas    male  38.00      0      0  SOTON/O.Q. 3101306    7.0500              NaN        S\n",
            "466          467         0       2                                                               Campbell, Mr. William    male    NaN      0      0              239853    0.0000              NaN        S\n",
            "467          468         0       1                                                          Smart, Mr. John Montgomery    male  56.00      0      0              113792   26.5500              NaN        S\n",
            "468          469         0       3                                                                  Scanlan, Mr. James    male    NaN      0      0               36209    7.7250              NaN        Q\n",
            "469          470         1       3                                                       Baclini, Miss. Helene Barbara  female   0.75      2      1                2666   19.2583              NaN        C\n",
            "470          471         0       3                                                                   Keefe, Mr. Arthur    male    NaN      0      0              323592    7.2500              NaN        S\n",
            "471          472         0       3                                                                     Cacic, Mr. Luka    male  38.00      0      0              315089    8.6625              NaN        S\n",
            "472          473         1       2                                             West, Mrs. Edwy Arthur (Ada Mary Worth)  female  33.00      1      2          C.A. 34651   27.7500              NaN        S\n",
            "473          474         1       2                                        Jerwan, Mrs. Amin S (Marie Marthe Thuillard)  female  23.00      0      0     SC/AH Basle 541   13.7917                D        C\n",
            "474          475         0       3                                                         Strandberg, Miss. Ida Sofia  female  22.00      0      0                7553    9.8375              NaN        S\n",
            "475          476         0       1                                                         Clifford, Mr. George Quincy    male    NaN      0      0              110465   52.0000              A14        S\n",
            "476          477         0       2                                                             Renouf, Mr. Peter Henry    male  34.00      1      0               31027   21.0000              NaN        S\n",
            "477          478         0       3                                                           Braund, Mr. Lewis Richard    male  29.00      1      0                3460    7.0458              NaN        S\n",
            "478          479         0       3                                                           Karlsson, Mr. Nils August    male  22.00      0      0              350060    7.5208              NaN        S\n",
            "479          480         1       3                                                            Hirvonen, Miss. Hildur E  female   2.00      0      1             3101298   12.2875              NaN        S\n",
            "480          481         0       3                                                      Goodwin, Master. Harold Victor    male   9.00      5      2             CA 2144   46.9000              NaN        S\n",
            "481          482         0       2                                                    Frost, Mr. Anthony Wood \"Archie\"    male    NaN      0      0              239854    0.0000              NaN        S\n",
            "482          483         0       3                                                            Rouse, Mr. Richard Henry    male  50.00      0      0            A/5 3594    8.0500              NaN        S\n",
            "483          484         1       3                                                              Turkula, Mrs. (Hedwig)  female  63.00      0      0                4134    9.5875              NaN        S\n",
            "484          485         1       1                                                             Bishop, Mr. Dickinson H    male  25.00      1      0               11967   91.0792              B49        C\n",
            "485          486         0       3                                                              Lefebre, Miss. Jeannie  female    NaN      3      1                4133   25.4667              NaN        S\n",
            "486          487         1       1                                     Hoyt, Mrs. Frederick Maxfield (Jane Anne Forby)  female  35.00      1      0               19943   90.0000              C93        S\n",
            "487          488         0       1                                                             Kent, Mr. Edward Austin    male  58.00      0      0               11771   29.7000              B37        C\n",
            "488          489         0       3                                                       Somerton, Mr. Francis William    male  30.00      0      0          A.5. 18509    8.0500              NaN        S\n",
            "489          490         1       3                                               Coutts, Master. Eden Leslie \"Neville\"    male   9.00      1      1          C.A. 37671   15.9000              NaN        S\n",
            "490          491         0       3                                                Hagland, Mr. Konrad Mathias Reiersen    male    NaN      1      0               65304   19.9667              NaN        S\n",
            "491          492         0       3                                                                 Windelov, Mr. Einar    male  21.00      0      0    SOTON/OQ 3101317    7.2500              NaN        S\n",
            "492          493         0       1                                                          Molson, Mr. Harry Markland    male  55.00      0      0              113787   30.5000              C30        S\n",
            "493          494         0       1                                                             Artagaveytia, Mr. Ramon    male  71.00      0      0            PC 17609   49.5042              NaN        C\n",
            "494          495         0       3                                                          Stanley, Mr. Edward Roland    male  21.00      0      0           A/4 45380    8.0500              NaN        S\n",
            "495          496         0       3                                                               Yousseff, Mr. Gerious    male    NaN      0      0                2627   14.4583              NaN        C\n",
            "496          497         1       1                                                      Eustis, Miss. Elizabeth Mussey  female  54.00      1      0               36947   78.2667              D20        C\n",
            "497          498         0       3                                                     Shellard, Mr. Frederick William    male    NaN      0      0           C.A. 6212   15.1000              NaN        S\n",
            "498          499         0       1                                     Allison, Mrs. Hudson J C (Bessie Waldo Daniels)  female  25.00      1      2              113781  151.5500          C22 C26        S\n",
            "499          500         0       3                                                                  Svensson, Mr. Olof    male  24.00      0      0              350035    7.7958              NaN        S\n",
            "500          501         0       3                                                                    Calic, Mr. Petar    male  17.00      0      0              315086    8.6625              NaN        S\n",
            "501          502         0       3                                                                 Canavan, Miss. Mary  female  21.00      0      0              364846    7.7500              NaN        Q\n",
            "502          503         0       3                                                      O'Sullivan, Miss. Bridget Mary  female    NaN      0      0              330909    7.6292              NaN        Q\n",
            "503          504         0       3                                                      Laitinen, Miss. Kristina Sofia  female  37.00      0      0                4135    9.5875              NaN        S\n",
            "504          505         1       1                                                               Maioni, Miss. Roberta  female  16.00      0      0              110152   86.5000              B79        S\n",
            "505          506         0       1                                          Penasco y Castellana, Mr. Victor de Satode    male  18.00      1      0            PC 17758  108.9000              C65        C\n",
            "506          507         1       2                                       Quick, Mrs. Frederick Charles (Jane Richards)  female  33.00      0      2               26360   26.0000              NaN        S\n",
            "507          508         1       1                                       Bradley, Mr. George (\"George Arthur Brayton\")    male    NaN      0      0              111427   26.5500              NaN        S\n",
            "508          509         0       3                                                            Olsen, Mr. Henry Margido    male  28.00      0      0              C 4001   22.5250              NaN        S\n",
            "509          510         1       3                                                                      Lang, Mr. Fang    male  26.00      0      0                1601   56.4958              NaN        S\n",
            "510          511         1       3                                                            Daly, Mr. Eugene Patrick    male  29.00      0      0              382651    7.7500              NaN        Q\n",
            "511          512         0       3                                                                   Webber, Mr. James    male    NaN      0      0    SOTON/OQ 3101316    8.0500              NaN        S\n",
            "512          513         1       1                                                           McGough, Mr. James Robert    male  36.00      0      0            PC 17473   26.2875              E25        S\n",
            "513          514         1       1                                      Rothschild, Mrs. Martin (Elizabeth L. Barrett)  female  54.00      1      0            PC 17603   59.4000              NaN        C\n",
            "514          515         0       3                                                                   Coleff, Mr. Satio    male  24.00      0      0              349209    7.4958              NaN        S\n",
            "515          516         0       1                                                        Walker, Mr. William Anderson    male  47.00      0      0               36967   34.0208              D46        S\n",
            "516          517         1       2                                                        Lemore, Mrs. (Amelia Milley)  female  34.00      0      0          C.A. 34260   10.5000              F33        S\n",
            "517          518         0       3                                                                   Ryan, Mr. Patrick    male    NaN      0      0              371110   24.1500              NaN        Q\n",
            "518          519         1       2                                Angle, Mrs. William A (Florence \"Mary\" Agnes Hughes)  female  36.00      1      0              226875   26.0000              NaN        S\n",
            "519          520         0       3                                                                 Pavlovic, Mr. Stefo    male  32.00      0      0              349242    7.8958              NaN        S\n",
            "520          521         1       1                                                               Perreault, Miss. Anne  female  30.00      0      0               12749   93.5000              B73        S\n",
            "521          522         0       3                                                                     Vovk, Mr. Janko    male  22.00      0      0              349252    7.8958              NaN        S\n",
            "522          523         0       3                                                                  Lahoud, Mr. Sarkis    male    NaN      0      0                2624    7.2250              NaN        C\n",
            "523          524         1       1                                     Hippach, Mrs. Louis Albert (Ida Sophia Fischer)  female  44.00      0      1              111361   57.9792              B18        C\n",
            "524          525         0       3                                                                   Kassem, Mr. Fared    male    NaN      0      0                2700    7.2292              NaN        C\n",
            "525          526         0       3                                                                  Farrell, Mr. James    male  40.50      0      0              367232    7.7500              NaN        Q\n",
            "526          527         1       2                                                                Ridsdale, Miss. Lucy  female  50.00      0      0         W./C. 14258   10.5000              NaN        S\n",
            "527          528         0       1                                                                  Farthing, Mr. John    male    NaN      0      0            PC 17483  221.7792              C95        S\n",
            "528          529         0       3                                                           Salonen, Mr. Johan Werner    male  39.00      0      0             3101296    7.9250              NaN        S\n",
            "529          530         0       2                                                         Hocking, Mr. Richard George    male  23.00      2      1               29104   11.5000              NaN        S\n",
            "530          531         1       2                                                            Quick, Miss. Phyllis May  female   2.00      1      1               26360   26.0000              NaN        S\n",
            "531          532         0       3                                                                   Toufik, Mr. Nakli    male    NaN      0      0                2641    7.2292              NaN        C\n",
            "532          533         0       3                                                                Elias, Mr. Joseph Jr    male  17.00      1      1                2690    7.2292              NaN        C\n",
            "533          534         1       3                                              Peter, Mrs. Catherine (Catherine Rizk)  female    NaN      0      2                2668   22.3583              NaN        C\n",
            "534          535         0       3                                                                 Cacic, Miss. Marija  female  30.00      0      0              315084    8.6625              NaN        S\n",
            "535          536         1       2                                                              Hart, Miss. Eva Miriam  female   7.00      0      2        F.C.C. 13529   26.2500              NaN        S\n",
            "536          537         0       1                                                   Butt, Major. Archibald Willingham    male  45.00      0      0              113050   26.5500              B38        S\n",
            "537          538         1       1                                                                 LeRoy, Miss. Bertha  female  30.00      0      0            PC 17761  106.4250              NaN        C\n",
            "538          539         0       3                                                            Risien, Mr. Samuel Beard    male    NaN      0      0              364498   14.5000              NaN        S\n",
            "539          540         1       1                                                  Frolicher, Miss. Hedwig Margaritha  female  22.00      0      2               13568   49.5000              B39        C\n",
            "540          541         1       1                                                             Crosby, Miss. Harriet R  female  36.00      0      2           WE/P 5735   71.0000              B22        S\n",
            "541          542         0       3                                                Andersson, Miss. Ingeborg Constanzia  female   9.00      4      2              347082   31.2750              NaN        S\n",
            "542          543         0       3                                                   Andersson, Miss. Sigrid Elisabeth  female  11.00      4      2              347082   31.2750              NaN        S\n",
            "543          544         1       2                                                                   Beane, Mr. Edward    male  32.00      1      0                2908   26.0000              NaN        S\n",
            "544          545         0       1                                                          Douglas, Mr. Walter Donald    male  50.00      1      0            PC 17761  106.4250              C86        C\n",
            "545          546         0       1                                                        Nicholson, Mr. Arthur Ernest    male  64.00      0      0                 693   26.0000              NaN        S\n",
            "546          547         1       2                                                   Beane, Mrs. Edward (Ethel Clarke)  female  19.00      1      0                2908   26.0000              NaN        S\n",
            "547          548         1       2                                                          Padro y Manent, Mr. Julian    male    NaN      0      0       SC/PARIS 2146   13.8625              NaN        C\n",
            "548          549         0       3                                                           Goldsmith, Mr. Frank John    male  33.00      1      1              363291   20.5250              NaN        S\n",
            "549          550         1       2                                                      Davies, Master. John Morgan Jr    male   8.00      1      1          C.A. 33112   36.7500              NaN        S\n",
            "550          551         1       1                                                         Thayer, Mr. John Borland Jr    male  17.00      0      2               17421  110.8833              C70        C\n",
            "551          552         0       2                                                         Sharp, Mr. Percival James R    male  27.00      0      0              244358   26.0000              NaN        S\n",
            "552          553         0       3                                                                O'Brien, Mr. Timothy    male    NaN      0      0              330979    7.8292              NaN        Q\n",
            "553          554         1       3                                                   Leeni, Mr. Fahim (\"Philip Zenni\")    male  22.00      0      0                2620    7.2250              NaN        C\n",
            "554          555         1       3                                                                  Ohman, Miss. Velin  female  22.00      0      0              347085    7.7750              NaN        S\n",
            "555          556         0       1                                                                  Wright, Mr. George    male  62.00      0      0              113807   26.5500              NaN        S\n",
            "556          557         1       1                   Duff Gordon, Lady. (Lucille Christiana Sutherland) (\"Mrs Morgan\")  female  48.00      1      0               11755   39.6000              A16        C\n",
            "557          558         0       1                                                                 Robbins, Mr. Victor    male    NaN      0      0            PC 17757  227.5250              NaN        C\n",
            "558          559         1       1                                              Taussig, Mrs. Emil (Tillie Mandelbaum)  female  39.00      1      1              110413   79.6500              E67        S\n",
            "559          560         1       3                                        de Messemaeker, Mrs. Guillaume Joseph (Emma)  female  36.00      1      0              345572   17.4000              NaN        S\n",
            "560          561         0       3                                                            Morrow, Mr. Thomas Rowan    male    NaN      0      0              372622    7.7500              NaN        Q\n",
            "561          562         0       3                                                                   Sivic, Mr. Husein    male  40.00      0      0              349251    7.8958              NaN        S\n",
            "562          563         0       2                                                          Norman, Mr. Robert Douglas    male  28.00      0      0              218629   13.5000              NaN        S\n",
            "563          564         0       3                                                                   Simmons, Mr. John    male    NaN      0      0     SOTON/OQ 392082    8.0500              NaN        S\n",
            "564          565         0       3                                                      Meanwell, Miss. (Marion Ogden)  female    NaN      0      0   SOTON/O.Q. 392087    8.0500              NaN        S\n",
            "565          566         0       3                                                                Davies, Mr. Alfred J    male  24.00      2      0           A/4 48871   24.1500              NaN        S\n",
            "566          567         0       3                                                                Stoytcheff, Mr. Ilia    male  19.00      0      0              349205    7.8958              NaN        S\n",
            "567          568         0       3                                         Palsson, Mrs. Nils (Alma Cornelia Berglund)  female  29.00      0      4              349909   21.0750              NaN        S\n",
            "568          569         0       3                                                                 Doharr, Mr. Tannous    male    NaN      0      0                2686    7.2292              NaN        C\n",
            "569          570         1       3                                                                   Jonsson, Mr. Carl    male  32.00      0      0              350417    7.8542              NaN        S\n",
            "570          571         1       2                                                                  Harris, Mr. George    male  62.00      0      0         S.W./PP 752   10.5000              NaN        S\n",
            "571          572         1       1                                       Appleton, Mrs. Edward Dale (Charlotte Lamson)  female  53.00      2      0               11769   51.4792             C101        S\n",
            "572          573         1       1                                                    Flynn, Mr. John Irwin (\"Irving\")    male  36.00      0      0            PC 17474   26.3875              E25        S\n",
            "573          574         1       3                                                                   Kelly, Miss. Mary  female    NaN      0      0               14312    7.7500              NaN        Q\n",
            "574          575         0       3                                                        Rush, Mr. Alfred George John    male  16.00      0      0          A/4. 20589    8.0500              NaN        S\n",
            "575          576         0       3                                                                Patchett, Mr. George    male  19.00      0      0              358585   14.5000              NaN        S\n",
            "576          577         1       2                                                                Garside, Miss. Ethel  female  34.00      0      0              243880   13.0000              NaN        S\n",
            "577          578         1       1                                           Silvey, Mrs. William Baird (Alice Munger)  female  39.00      1      0               13507   55.9000              E44        S\n",
            "578          579         0       3                                                    Caram, Mrs. Joseph (Maria Elias)  female    NaN      1      0                2689   14.4583              NaN        C\n",
            "579          580         1       3                                                                 Jussila, Mr. Eiriik    male  32.00      0      0   STON/O 2. 3101286    7.9250              NaN        S\n",
            "580          581         1       2                                                         Christy, Miss. Julie Rachel  female  25.00      1      1              237789   30.0000              NaN        S\n",
            "581          582         1       1                                Thayer, Mrs. John Borland (Marian Longstreth Morris)  female  39.00      1      1               17421  110.8833              C68        C\n",
            "582          583         0       2                                                          Downton, Mr. William James    male  54.00      0      0               28403   26.0000              NaN        S\n",
            "583          584         0       1                                                                 Ross, Mr. John Hugo    male  36.00      0      0               13049   40.1250              A10        C\n",
            "584          585         0       3                                                                 Paulner, Mr. Uscher    male    NaN      0      0                3411    8.7125              NaN        C\n",
            "585          586         1       1                                                                 Taussig, Miss. Ruth  female  18.00      0      2              110413   79.6500              E68        S\n",
            "586          587         0       2                                                             Jarvis, Mr. John Denzil    male  47.00      0      0              237565   15.0000              NaN        S\n",
            "587          588         1       1                                                    Frolicher-Stehli, Mr. Maxmillian    male  60.00      1      1               13567   79.2000              B41        C\n",
            "588          589         0       3                                                               Gilinski, Mr. Eliezer    male  22.00      0      0               14973    8.0500              NaN        S\n",
            "589          590         0       3                                                                 Murdlin, Mr. Joseph    male    NaN      0      0          A./5. 3235    8.0500              NaN        S\n",
            "590          591         0       3                                                                Rintamaki, Mr. Matti    male  35.00      0      0   STON/O 2. 3101273    7.1250              NaN        S\n",
            "591          592         1       1                                     Stephenson, Mrs. Walter Bertram (Martha Eustis)  female  52.00      1      0               36947   78.2667              D20        C\n",
            "592          593         0       3                                                          Elsbury, Mr. William James    male  47.00      0      0            A/5 3902    7.2500              NaN        S\n",
            "593          594         0       3                                                                  Bourke, Miss. Mary  female    NaN      0      2              364848    7.7500              NaN        Q\n",
            "594          595         0       2                                                             Chapman, Mr. John Henry    male  37.00      1      0         SC/AH 29037   26.0000              NaN        S\n",
            "595          596         0       3                                                         Van Impe, Mr. Jean Baptiste    male  36.00      1      1              345773   24.1500              NaN        S\n",
            "596          597         1       2                                                          Leitch, Miss. Jessie Wills  female    NaN      0      0              248727   33.0000              NaN        S\n",
            "597          598         0       3                                                                 Johnson, Mr. Alfred    male  49.00      0      0                LINE    0.0000              NaN        S\n",
            "598          599         0       3                                                                   Boulos, Mr. Hanna    male    NaN      0      0                2664    7.2250              NaN        C\n",
            "599          600         1       1                                        Duff Gordon, Sir. Cosmo Edmund (\"Mr Morgan\")    male  49.00      1      0            PC 17485   56.9292              A20        C\n",
            "600          601         1       2                                 Jacobsohn, Mrs. Sidney Samuel (Amy Frances Christy)  female  24.00      2      1              243847   27.0000              NaN        S\n",
            "601          602         0       3                                                                Slabenoff, Mr. Petco    male    NaN      0      0              349214    7.8958              NaN        S\n",
            "602          603         0       1                                                           Harrington, Mr. Charles H    male    NaN      0      0              113796   42.4000              NaN        S\n",
            "603          604         0       3                                                           Torber, Mr. Ernst William    male  44.00      0      0              364511    8.0500              NaN        S\n",
            "604          605         1       1                                                     Homer, Mr. Harry (\"Mr E Haven\")    male  35.00      0      0              111426   26.5500              NaN        C\n",
            "605          606         0       3                                                       Lindell, Mr. Edvard Bengtsson    male  36.00      1      0              349910   15.5500              NaN        S\n",
            "606          607         0       3                                                                   Karaic, Mr. Milan    male  30.00      0      0              349246    7.8958              NaN        S\n",
            "607          608         1       1                                                         Daniel, Mr. Robert Williams    male  27.00      0      0              113804   30.5000              NaN        S\n",
            "608          609         1       2                               Laroche, Mrs. Joseph (Juliette Marie Louise Lafargue)  female  22.00      1      2       SC/Paris 2123   41.5792              NaN        C\n",
            "609          610         1       1                                                           Shutes, Miss. Elizabeth W  female  40.00      0      0            PC 17582  153.4625             C125        S\n",
            "610          611         0       3                           Andersson, Mrs. Anders Johan (Alfrida Konstantia Brogren)  female  39.00      1      5              347082   31.2750              NaN        S\n",
            "611          612         0       3                                                               Jardin, Mr. Jose Neto    male    NaN      0      0  SOTON/O.Q. 3101305    7.0500              NaN        S\n",
            "612          613         1       3                                                         Murphy, Miss. Margaret Jane  female    NaN      1      0              367230   15.5000              NaN        Q\n",
            "613          614         0       3                                                                    Horgan, Mr. John    male    NaN      0      0              370377    7.7500              NaN        Q\n",
            "614          615         0       3                                                     Brocklebank, Mr. William Alfred    male  35.00      0      0              364512    8.0500              NaN        S\n",
            "615          616         1       2                                                                 Herman, Miss. Alice  female  24.00      1      2              220845   65.0000              NaN        S\n",
            "616          617         0       3                                                           Danbom, Mr. Ernst Gilbert    male  34.00      1      1              347080   14.4000              NaN        S\n",
            "617          618         0       3                                     Lobb, Mrs. William Arthur (Cordelia K Stanlick)  female  26.00      1      0           A/5. 3336   16.1000              NaN        S\n",
            "618          619         1       2                                                         Becker, Miss. Marion Louise  female   4.00      2      1              230136   39.0000               F4        S\n",
            "619          620         0       2                                                                 Gavey, Mr. Lawrence    male  26.00      0      0               31028   10.5000              NaN        S\n",
            "620          621         0       3                                                                 Yasbeck, Mr. Antoni    male  27.00      1      0                2659   14.4542              NaN        C\n",
            "621          622         1       1                                                        Kimball, Mr. Edwin Nelson Jr    male  42.00      1      0               11753   52.5542              D19        S\n",
            "622          623         1       3                                                                    Nakid, Mr. Sahid    male  20.00      1      1                2653   15.7417              NaN        C\n",
            "623          624         0       3                                                         Hansen, Mr. Henry Damsgaard    male  21.00      0      0              350029    7.8542              NaN        S\n",
            "624          625         0       3                                                         Bowen, Mr. David John \"Dai\"    male  21.00      0      0               54636   16.1000              NaN        S\n",
            "625          626         0       1                                                               Sutton, Mr. Frederick    male  61.00      0      0               36963   32.3208              D50        S\n",
            "626          627         0       2                                                      Kirkland, Rev. Charles Leonard    male  57.00      0      0              219533   12.3500              NaN        Q\n",
            "627          628         1       1                                                       Longley, Miss. Gretchen Fiske  female  21.00      0      0               13502   77.9583               D9        S\n",
            "628          629         0       3                                                           Bostandyeff, Mr. Guentcho    male  26.00      0      0              349224    7.8958              NaN        S\n",
            "629          630         0       3                                                            O'Connell, Mr. Patrick D    male    NaN      0      0              334912    7.7333              NaN        Q\n",
            "630          631         1       1                                                Barkworth, Mr. Algernon Henry Wilson    male  80.00      0      0               27042   30.0000              A23        S\n",
            "631          632         0       3                                                         Lundahl, Mr. Johan Svensson    male  51.00      0      0              347743    7.0542              NaN        S\n",
            "632          633         1       1                                                           Stahelin-Maeglin, Dr. Max    male  32.00      0      0               13214   30.5000              B50        C\n",
            "633          634         0       1                                                       Parr, Mr. William Henry Marsh    male    NaN      0      0              112052    0.0000              NaN        S\n",
            "634          635         0       3                                                                  Skoog, Miss. Mabel  female   9.00      3      2              347088   27.9000              NaN        S\n",
            "635          636         1       2                                                                   Davis, Miss. Mary  female  28.00      0      0              237668   13.0000              NaN        S\n",
            "636          637         0       3                                                          Leinonen, Mr. Antti Gustaf    male  32.00      0      0   STON/O 2. 3101292    7.9250              NaN        S\n",
            "637          638         0       2                                                                 Collyer, Mr. Harvey    male  31.00      1      1          C.A. 31921   26.2500              NaN        S\n",
            "638          639         0       3                                              Panula, Mrs. Juha (Maria Emilia Ojala)  female  41.00      0      5             3101295   39.6875              NaN        S\n",
            "639          640         0       3                                                          Thorneycroft, Mr. Percival    male    NaN      1      0              376564   16.1000              NaN        S\n",
            "640          641         0       3                                                              Jensen, Mr. Hans Peder    male  20.00      0      0              350050    7.8542              NaN        S\n",
            "641          642         1       1                                                                Sagesser, Mlle. Emma  female  24.00      0      0            PC 17477   69.3000              B35        C\n",
            "642          643         0       3                                                       Skoog, Miss. Margit Elizabeth  female   2.00      3      2              347088   27.9000              NaN        S\n",
            "643          644         1       3                                                                     Foo, Mr. Choong    male    NaN      0      0                1601   56.4958              NaN        S\n",
            "644          645         1       3                                                              Baclini, Miss. Eugenie  female   0.75      2      1                2666   19.2583              NaN        C\n",
            "645          646         1       1                                                           Harper, Mr. Henry Sleeper    male  48.00      1      0            PC 17572   76.7292              D33        C\n",
            "646          647         0       3                                                                   Cor, Mr. Liudevit    male  19.00      0      0              349231    7.8958              NaN        S\n",
            "647          648         1       1                                                 Simonius-Blumer, Col. Oberst Alfons    male  56.00      0      0               13213   35.5000              A26        C\n",
            "648          649         0       3                                                                  Willey, Mr. Edward    male    NaN      0      0       S.O./P.P. 751    7.5500              NaN        S\n",
            "649          650         1       3                                                     Stanley, Miss. Amy Zillah Elsie  female  23.00      0      0            CA. 2314    7.5500              NaN        S\n",
            "650          651         0       3                                                                   Mitkoff, Mr. Mito    male    NaN      0      0              349221    7.8958              NaN        S\n",
            "651          652         1       2                                                                 Doling, Miss. Elsie  female  18.00      0      1              231919   23.0000              NaN        S\n",
            "652          653         0       3                                                      Kalvik, Mr. Johannes Halvorsen    male  21.00      0      0                8475    8.4333              NaN        S\n",
            "653          654         1       3                                                       O'Leary, Miss. Hanora \"Norah\"  female    NaN      0      0              330919    7.8292              NaN        Q\n",
            "654          655         0       3                                                        Hegarty, Miss. Hanora \"Nora\"  female  18.00      0      0              365226    6.7500              NaN        Q\n",
            "655          656         0       2                                                           Hickman, Mr. Leonard Mark    male  24.00      2      0        S.O.C. 14879   73.5000              NaN        S\n",
            "656          657         0       3                                                               Radeff, Mr. Alexander    male    NaN      0      0              349223    7.8958              NaN        S\n",
            "657          658         0       3                                                       Bourke, Mrs. John (Catherine)  female  32.00      1      1              364849   15.5000              NaN        Q\n",
            "658          659         0       2                                                        Eitemiller, Mr. George Floyd    male  23.00      0      0               29751   13.0000              NaN        S\n",
            "659          660         0       1                                                          Newell, Mr. Arthur Webster    male  58.00      0      2               35273  113.2750              D48        C\n",
            "660          661         1       1                                                       Frauenthal, Dr. Henry William    male  50.00      2      0            PC 17611  133.6500              NaN        S\n",
            "661          662         0       3                                                                   Badt, Mr. Mohamed    male  40.00      0      0                2623    7.2250              NaN        C\n",
            "662          663         0       1                                                          Colley, Mr. Edward Pomeroy    male  47.00      0      0                5727   25.5875              E58        S\n",
            "663          664         0       3                                                                    Coleff, Mr. Peju    male  36.00      0      0              349210    7.4958              NaN        S\n",
            "664          665         1       3                                                         Lindqvist, Mr. Eino William    male  20.00      1      0   STON/O 2. 3101285    7.9250              NaN        S\n",
            "665          666         0       2                                                                  Hickman, Mr. Lewis    male  32.00      2      0        S.O.C. 14879   73.5000              NaN        S\n",
            "666          667         0       2                                                         Butler, Mr. Reginald Fenton    male  25.00      0      0              234686   13.0000              NaN        S\n",
            "667          668         0       3                                                          Rommetvedt, Mr. Knud Paust    male    NaN      0      0              312993    7.7750              NaN        S\n",
            "668          669         0       3                                                                     Cook, Mr. Jacob    male  43.00      0      0            A/5 3536    8.0500              NaN        S\n",
            "669          670         1       1                                   Taylor, Mrs. Elmer Zebley (Juliet Cummins Wright)  female    NaN      1      0               19996   52.0000             C126        S\n",
            "670          671         1       2                       Brown, Mrs. Thomas William Solomon (Elizabeth Catherine Ford)  female  40.00      1      1               29750   39.0000              NaN        S\n",
            "671          672         0       1                                                              Davidson, Mr. Thornton    male  31.00      1      0          F.C. 12750   52.0000              B71        S\n",
            "672          673         0       2                                                         Mitchell, Mr. Henry Michael    male  70.00      0      0          C.A. 24580   10.5000              NaN        S\n",
            "673          674         1       2                                                               Wilhelms, Mr. Charles    male  31.00      0      0              244270   13.0000              NaN        S\n",
            "674          675         0       2                                                          Watson, Mr. Ennis Hastings    male    NaN      0      0              239856    0.0000              NaN        S\n",
            "675          676         0       3                                                      Edvardsson, Mr. Gustaf Hjalmar    male  18.00      0      0              349912    7.7750              NaN        S\n",
            "676          677         0       3                                                       Sawyer, Mr. Frederick Charles    male  24.50      0      0              342826    8.0500              NaN        S\n",
            "677          678         1       3                                                             Turja, Miss. Anna Sofia  female  18.00      0      0                4138    9.8417              NaN        S\n",
            "678          679         0       3                                             Goodwin, Mrs. Frederick (Augusta Tyler)  female  43.00      1      6             CA 2144   46.9000              NaN        S\n",
            "679          680         1       1                                                  Cardeza, Mr. Thomas Drake Martinez    male  36.00      0      1            PC 17755  512.3292      B51 B53 B55        C\n",
            "680          681         0       3                                                                 Peters, Miss. Katie  female    NaN      0      0              330935    8.1375              NaN        Q\n",
            "681          682         1       1                                                                  Hassab, Mr. Hammad    male  27.00      0      0            PC 17572   76.7292              D49        C\n",
            "682          683         0       3                                                         Olsvigen, Mr. Thor Anderson    male  20.00      0      0                6563    9.2250              NaN        S\n",
            "683          684         0       3                                                         Goodwin, Mr. Charles Edward    male  14.00      5      2             CA 2144   46.9000              NaN        S\n",
            "684          685         0       2                                                   Brown, Mr. Thomas William Solomon    male  60.00      1      1               29750   39.0000              NaN        S\n",
            "685          686         0       2                                              Laroche, Mr. Joseph Philippe Lemercier    male  25.00      1      2       SC/Paris 2123   41.5792              NaN        C\n",
            "686          687         0       3                                                            Panula, Mr. Jaako Arnold    male  14.00      4      1             3101295   39.6875              NaN        S\n",
            "687          688         0       3                                                                   Dakic, Mr. Branko    male  19.00      0      0              349228   10.1708              NaN        S\n",
            "688          689         0       3                                                     Fischer, Mr. Eberhard Thelander    male  18.00      0      0              350036    7.7958              NaN        S\n",
            "689          690         1       1                                                   Madill, Miss. Georgette Alexandra  female  15.00      0      1               24160  211.3375               B5        S\n",
            "690          691         1       1                                                             Dick, Mr. Albert Adrian    male  31.00      1      0               17474   57.0000              B20        S\n",
            "691          692         1       3                                                                  Karun, Miss. Manca  female   4.00      0      1              349256   13.4167              NaN        C\n",
            "692          693         1       3                                                                        Lam, Mr. Ali    male    NaN      0      0                1601   56.4958              NaN        S\n",
            "693          694         0       3                                                                    Saad, Mr. Khalil    male  25.00      0      0                2672    7.2250              NaN        C\n",
            "694          695         0       1                                                                     Weir, Col. John    male  60.00      0      0              113800   26.5500              NaN        S\n",
            "695          696         0       2                                                          Chapman, Mr. Charles Henry    male  52.00      0      0              248731   13.5000              NaN        S\n",
            "696          697         0       3                                                                    Kelly, Mr. James    male  44.00      0      0              363592    8.0500              NaN        S\n",
            "697          698         1       3                                                    Mullens, Miss. Katherine \"Katie\"  female    NaN      0      0               35852    7.7333              NaN        Q\n",
            "698          699         0       1                                                            Thayer, Mr. John Borland    male  49.00      1      1               17421  110.8833              C68        C\n",
            "699          700         0       3                                            Humblen, Mr. Adolf Mathias Nicolai Olsen    male  42.00      0      0              348121    7.6500            F G63        S\n",
            "700          701         1       1                                   Astor, Mrs. John Jacob (Madeleine Talmadge Force)  female  18.00      1      0            PC 17757  227.5250          C62 C64        C\n",
            "701          702         1       1                                                    Silverthorne, Mr. Spencer Victor    male  35.00      0      0            PC 17475   26.2875              E24        S\n",
            "702          703         0       3                                                               Barbara, Miss. Saiide  female  18.00      0      1                2691   14.4542              NaN        C\n",
            "703          704         0       3                                                               Gallagher, Mr. Martin    male  25.00      0      0               36864    7.7417              NaN        Q\n",
            "704          705         0       3                                                             Hansen, Mr. Henrik Juul    male  26.00      1      0              350025    7.8542              NaN        S\n",
            "705          706         0       2                                      Morley, Mr. Henry Samuel (\"Mr Henry Marshall\")    male  39.00      0      0              250655   26.0000              NaN        S\n",
            "706          707         1       2                                                       Kelly, Mrs. Florence \"Fannie\"  female  45.00      0      0              223596   13.5000              NaN        S\n",
            "707          708         1       1                                                   Calderhead, Mr. Edward Pennington    male  42.00      0      0            PC 17476   26.2875              E24        S\n",
            "708          709         1       1                                                                Cleaver, Miss. Alice  female  22.00      0      0              113781  151.5500              NaN        S\n",
            "709          710         1       3                                   Moubarek, Master. Halim Gonios (\"William George\")    male    NaN      1      1                2661   15.2458              NaN        C\n",
            "710          711         1       1                                    Mayne, Mlle. Berthe Antonine (\"Mrs de Villiers\")  female  24.00      0      0            PC 17482   49.5042              C90        C\n",
            "711          712         0       1                                                                  Klaber, Mr. Herman    male    NaN      0      0              113028   26.5500             C124        S\n",
            "712          713         1       1                                                            Taylor, Mr. Elmer Zebley    male  48.00      1      0               19996   52.0000             C126        S\n",
            "713          714         0       3                                                          Larsson, Mr. August Viktor    male  29.00      0      0                7545    9.4833              NaN        S\n",
            "714          715         0       2                                                               Greenberg, Mr. Samuel    male  52.00      0      0              250647   13.0000              NaN        S\n",
            "715          716         0       3                                          Soholt, Mr. Peter Andreas Lauritz Andersen    male  19.00      0      0              348124    7.6500            F G73        S\n",
            "716          717         1       1                                                       Endres, Miss. Caroline Louise  female  38.00      0      0            PC 17757  227.5250              C45        C\n",
            "717          718         1       2                                                 Troutt, Miss. Edwina Celia \"Winnie\"  female  27.00      0      0               34218   10.5000             E101        S\n",
            "718          719         0       3                                                                 McEvoy, Mr. Michael    male    NaN      0      0               36568   15.5000              NaN        Q\n",
            "719          720         0       3                                                        Johnson, Mr. Malkolm Joackim    male  33.00      0      0              347062    7.7750              NaN        S\n",
            "720          721         1       2                                                   Harper, Miss. Annie Jessie \"Nina\"  female   6.00      0      1              248727   33.0000              NaN        S\n",
            "721          722         0       3                                                           Jensen, Mr. Svend Lauritz    male  17.00      1      0              350048    7.0542              NaN        S\n",
            "722          723         0       2                                                        Gillespie, Mr. William Henry    male  34.00      0      0               12233   13.0000              NaN        S\n",
            "723          724         0       2                                                             Hodges, Mr. Henry Price    male  50.00      0      0              250643   13.0000              NaN        S\n",
            "724          725         1       1                                                       Chambers, Mr. Norman Campbell    male  27.00      1      0              113806   53.1000               E8        S\n",
            "725          726         0       3                                                                 Oreskovic, Mr. Luka    male  20.00      0      0              315094    8.6625              NaN        S\n",
            "726          727         1       2                                         Renouf, Mrs. Peter Henry (Lillian Jefferys)  female  30.00      3      0               31027   21.0000              NaN        S\n",
            "727          728         1       3                                                            Mannion, Miss. Margareth  female    NaN      0      0               36866    7.7375              NaN        Q\n",
            "728          729         0       2                                                     Bryhl, Mr. Kurt Arnold Gottfrid    male  25.00      1      0              236853   26.0000              NaN        S\n",
            "729          730         0       3                                                       Ilmakangas, Miss. Pieta Sofia  female  25.00      1      0    STON/O2. 3101271    7.9250              NaN        S\n",
            "730          731         1       1                                                       Allen, Miss. Elisabeth Walton  female  29.00      0      0               24160  211.3375               B5        S\n",
            "731          732         0       3                                                            Hassan, Mr. Houssein G N    male  11.00      0      0                2699   18.7875              NaN        C\n",
            "732          733         0       2                                                                Knight, Mr. Robert J    male    NaN      0      0              239855    0.0000              NaN        S\n",
            "733          734         0       2                                                          Berriman, Mr. William John    male  23.00      0      0               28425   13.0000              NaN        S\n",
            "734          735         0       2                                                        Troupiansky, Mr. Moses Aaron    male  23.00      0      0              233639   13.0000              NaN        S\n",
            "735          736         0       3                                                                Williams, Mr. Leslie    male  28.50      0      0               54636   16.1000              NaN        S\n",
            "736          737         0       3                                             Ford, Mrs. Edward (Margaret Ann Watson)  female  48.00      1      3          W./C. 6608   34.3750              NaN        S\n",
            "737          738         1       1                                                              Lesurer, Mr. Gustave J    male  35.00      0      0            PC 17755  512.3292             B101        C\n",
            "738          739         0       3                                                                  Ivanoff, Mr. Kanio    male    NaN      0      0              349201    7.8958              NaN        S\n",
            "739          740         0       3                                                                  Nankoff, Mr. Minko    male    NaN      0      0              349218    7.8958              NaN        S\n",
            "740          741         1       1                                                         Hawksford, Mr. Walter James    male    NaN      0      0               16988   30.0000              D45        S\n",
            "741          742         0       1                                                       Cavendish, Mr. Tyrell William    male  36.00      1      0               19877   78.8500              C46        S\n",
            "742          743         1       1                                               Ryerson, Miss. Susan Parker \"Suzette\"  female  21.00      2      2            PC 17608  262.3750  B57 B59 B63 B66        C\n",
            "743          744         0       3                                                                   McNamee, Mr. Neal    male  24.00      1      0              376566   16.1000              NaN        S\n",
            "744          745         1       3                                                                  Stranden, Mr. Juho    male  31.00      0      0   STON/O 2. 3101288    7.9250              NaN        S\n",
            "745          746         0       1                                                        Crosby, Capt. Edward Gifford    male  70.00      1      1           WE/P 5735   71.0000              B22        S\n",
            "746          747         0       3                                                         Abbott, Mr. Rossmore Edward    male  16.00      1      1           C.A. 2673   20.2500              NaN        S\n",
            "747          748         1       2                                                               Sinkkonen, Miss. Anna  female  30.00      0      0              250648   13.0000              NaN        S\n",
            "748          749         0       1                                                           Marvin, Mr. Daniel Warner    male  19.00      1      0              113773   53.1000              D30        S\n",
            "749          750         0       3                                                             Connaghton, Mr. Michael    male  31.00      0      0              335097    7.7500              NaN        Q\n",
            "750          751         1       2                                                                   Wells, Miss. Joan  female   4.00      1      1               29103   23.0000              NaN        S\n",
            "751          752         1       3                                                                 Moor, Master. Meier    male   6.00      0      1              392096   12.4750             E121        S\n",
            "752          753         0       3                                                    Vande Velde, Mr. Johannes Joseph    male  33.00      0      0              345780    9.5000              NaN        S\n",
            "753          754         0       3                                                                  Jonkoff, Mr. Lalio    male  23.00      0      0              349204    7.8958              NaN        S\n",
            "754          755         1       2                                                    Herman, Mrs. Samuel (Jane Laver)  female  48.00      1      2              220845   65.0000              NaN        S\n",
            "755          756         1       2                                                           Hamalainen, Master. Viljo    male   0.67      1      1              250649   14.5000              NaN        S\n",
            "756          757         0       3                                                        Carlsson, Mr. August Sigfrid    male  28.00      0      0              350042    7.7958              NaN        S\n",
            "757          758         0       2                                                            Bailey, Mr. Percy Andrew    male  18.00      0      0               29108   11.5000              NaN        S\n",
            "758          759         0       3                                                        Theobald, Mr. Thomas Leonard    male  34.00      0      0              363294    8.0500              NaN        S\n",
            "759          760         1       1                            Rothes, the Countess. of (Lucy Noel Martha Dyer-Edwards)  female  33.00      0      0              110152   86.5000              B77        S\n",
            "760          761         0       3                                                                  Garfirth, Mr. John    male    NaN      0      0              358585   14.5000              NaN        S\n",
            "761          762         0       3                                                      Nirva, Mr. Iisakki Antino Aijo    male  41.00      0      0    SOTON/O2 3101272    7.1250              NaN        S\n",
            "762          763         1       3                                                               Barah, Mr. Hanna Assi    male  20.00      0      0                2663    7.2292              NaN        C\n",
            "763          764         1       1                                           Carter, Mrs. William Ernest (Lucile Polk)  female  36.00      1      2              113760  120.0000          B96 B98        S\n",
            "764          765         0       3                                                              Eklund, Mr. Hans Linus    male  16.00      0      0              347074    7.7750              NaN        S\n",
            "765          766         1       1                                                Hogeboom, Mrs. John C (Anna Andrews)  female  51.00      1      0               13502   77.9583              D11        S\n",
            "766          767         0       1                                                           Brewe, Dr. Arthur Jackson    male    NaN      0      0              112379   39.6000              NaN        C\n",
            "767          768         0       3                                                                  Mangan, Miss. Mary  female  30.50      0      0              364850    7.7500              NaN        Q\n",
            "768          769         0       3                                                                 Moran, Mr. Daniel J    male    NaN      1      0              371110   24.1500              NaN        Q\n",
            "769          770         0       3                                                    Gronnestad, Mr. Daniel Danielsen    male  32.00      0      0                8471    8.3625              NaN        S\n",
            "770          771         0       3                                                              Lievens, Mr. Rene Aime    male  24.00      0      0              345781    9.5000              NaN        S\n",
            "771          772         0       3                                                             Jensen, Mr. Niels Peder    male  48.00      0      0              350047    7.8542              NaN        S\n",
            "772          773         0       2                                                                   Mack, Mrs. (Mary)  female  57.00      0      0         S.O./P.P. 3   10.5000              E77        S\n",
            "773          774         0       3                                                                     Elias, Mr. Dibo    male    NaN      0      0                2674    7.2250              NaN        C\n",
            "774          775         1       2                                               Hocking, Mrs. Elizabeth (Eliza Needs)  female  54.00      1      3               29105   23.0000              NaN        S\n",
            "775          776         0       3                                             Myhrman, Mr. Pehr Fabian Oliver Malkolm    male  18.00      0      0              347078    7.7500              NaN        S\n",
            "776          777         0       3                                                                    Tobin, Mr. Roger    male    NaN      0      0              383121    7.7500              F38        Q\n",
            "777          778         1       3                                                       Emanuel, Miss. Virginia Ethel  female   5.00      0      0              364516   12.4750              NaN        S\n",
            "778          779         0       3                                                             Kilgannon, Mr. Thomas J    male    NaN      0      0               36865    7.7375              NaN        Q\n",
            "779          780         1       1                               Robert, Mrs. Edward Scott (Elisabeth Walton McMillan)  female  43.00      0      1               24160  211.3375               B3        S\n",
            "780          781         1       3                                                                Ayoub, Miss. Banoura  female  13.00      0      0                2687    7.2292              NaN        C\n",
            "781          782         1       1                                           Dick, Mrs. Albert Adrian (Vera Gillespie)  female  17.00      1      0               17474   57.0000              B20        S\n",
            "782          783         0       1                                                              Long, Mr. Milton Clyde    male  29.00      0      0              113501   30.0000               D6        S\n",
            "783          784         0       3                                                              Johnston, Mr. Andrew G    male    NaN      1      2          W./C. 6607   23.4500              NaN        S\n",
            "784          785         0       3                                                                    Ali, Mr. William    male  25.00      0      0  SOTON/O.Q. 3101312    7.0500              NaN        S\n",
            "785          786         0       3                                                  Harmer, Mr. Abraham (David Lishin)    male  25.00      0      0              374887    7.2500              NaN        S\n",
            "786          787         1       3                                                           Sjoblom, Miss. Anna Sofia  female  18.00      0      0             3101265    7.4958              NaN        S\n",
            "787          788         0       3                                                           Rice, Master. George Hugh    male   8.00      4      1              382652   29.1250              NaN        Q\n",
            "788          789         1       3                                                          Dean, Master. Bertram Vere    male   1.00      1      2           C.A. 2315   20.5750              NaN        S\n",
            "789          790         0       1                                                            Guggenheim, Mr. Benjamin    male  46.00      0      0            PC 17593   79.2000          B82 B84        C\n",
            "790          791         0       3                                                            Keane, Mr. Andrew \"Andy\"    male    NaN      0      0               12460    7.7500              NaN        Q\n",
            "791          792         0       2                                                                 Gaskell, Mr. Alfred    male  16.00      0      0              239865   26.0000              NaN        S\n",
            "792          793         0       3                                                             Sage, Miss. Stella Anna  female    NaN      8      2            CA. 2343   69.5500              NaN        S\n",
            "793          794         0       1                                                            Hoyt, Mr. William Fisher    male    NaN      0      0            PC 17600   30.6958              NaN        C\n",
            "794          795         0       3                                                               Dantcheff, Mr. Ristiu    male  25.00      0      0              349203    7.8958              NaN        S\n",
            "795          796         0       2                                                                  Otter, Mr. Richard    male  39.00      0      0               28213   13.0000              NaN        S\n",
            "796          797         1       1                                                         Leader, Dr. Alice (Farnham)  female  49.00      0      0               17465   25.9292              D17        S\n",
            "797          798         1       3                                                                    Osman, Mrs. Mara  female  31.00      0      0              349244    8.6833              NaN        S\n",
            "798          799         0       3                                                        Ibrahim Shawah, Mr. Yousseff    male  30.00      0      0                2685    7.2292              NaN        C\n",
            "799          800         0       3                                Van Impe, Mrs. Jean Baptiste (Rosalie Paula Govaert)  female  30.00      1      1              345773   24.1500              NaN        S\n",
            "800          801         0       2                                                                Ponesell, Mr. Martin    male  34.00      0      0              250647   13.0000              NaN        S\n",
            "801          802         1       2                                         Collyer, Mrs. Harvey (Charlotte Annie Tate)  female  31.00      1      1          C.A. 31921   26.2500              NaN        S\n",
            "802          803         1       1                                                 Carter, Master. William Thornton II    male  11.00      1      2              113760  120.0000          B96 B98        S\n",
            "803          804         1       3                                                     Thomas, Master. Assad Alexander    male   0.42      0      1                2625    8.5167              NaN        C\n",
            "804          805         1       3                                                             Hedman, Mr. Oskar Arvid    male  27.00      0      0              347089    6.9750              NaN        S\n",
            "805          806         0       3                                                           Johansson, Mr. Karl Johan    male  31.00      0      0              347063    7.7750              NaN        S\n",
            "806          807         0       1                                                              Andrews, Mr. Thomas Jr    male  39.00      0      0              112050    0.0000              A36        S\n",
            "807          808         0       3                                                     Pettersson, Miss. Ellen Natalia  female  18.00      0      0              347087    7.7750              NaN        S\n",
            "808          809         0       2                                                                   Meyer, Mr. August    male  39.00      0      0              248723   13.0000              NaN        S\n",
            "809          810         1       1                                      Chambers, Mrs. Norman Campbell (Bertha Griggs)  female  33.00      1      0              113806   53.1000               E8        S\n",
            "810          811         0       3                                                              Alexander, Mr. William    male  26.00      0      0                3474    7.8875              NaN        S\n",
            "811          812         0       3                                                                   Lester, Mr. James    male  39.00      0      0           A/4 48871   24.1500              NaN        S\n",
            "812          813         0       2                                                           Slemen, Mr. Richard James    male  35.00      0      0               28206   10.5000              NaN        S\n",
            "813          814         0       3                                                  Andersson, Miss. Ebba Iris Alfrida  female   6.00      4      2              347082   31.2750              NaN        S\n",
            "814          815         0       3                                                          Tomlin, Mr. Ernest Portage    male  30.50      0      0              364499    8.0500              NaN        S\n",
            "815          816         0       1                                                                    Fry, Mr. Richard    male    NaN      0      0              112058    0.0000             B102        S\n",
            "816          817         0       3                                                        Heininen, Miss. Wendla Maria  female  23.00      0      0    STON/O2. 3101290    7.9250              NaN        S\n",
            "817          818         0       2                                                                  Mallet, Mr. Albert    male  31.00      1      1     S.C./PARIS 2079   37.0042              NaN        C\n",
            "818          819         0       3                                                    Holm, Mr. John Fredrik Alexander    male  43.00      0      0              C 7075    6.4500              NaN        S\n",
            "819          820         0       3                                                        Skoog, Master. Karl Thorsten    male  10.00      3      2              347088   27.9000              NaN        S\n",
            "820          821         1       1                                  Hays, Mrs. Charles Melville (Clara Jennings Gregg)  female  52.00      1      1               12749   93.5000              B69        S\n",
            "821          822         1       3                                                                   Lulic, Mr. Nikola    male  27.00      0      0              315098    8.6625              NaN        S\n",
            "822          823         0       1                                                     Reuchlin, Jonkheer. John George    male  38.00      0      0               19972    0.0000              NaN        S\n",
            "823          824         1       3                                                                  Moor, Mrs. (Beila)  female  27.00      0      1              392096   12.4750             E121        S\n",
            "824          825         0       3                                                        Panula, Master. Urho Abraham    male   2.00      4      1             3101295   39.6875              NaN        S\n",
            "825          826         0       3                                                                     Flynn, Mr. John    male    NaN      0      0              368323    6.9500              NaN        Q\n",
            "826          827         0       3                                                                        Lam, Mr. Len    male    NaN      0      0                1601   56.4958              NaN        S\n",
            "827          828         1       2                                                               Mallet, Master. Andre    male   1.00      0      2     S.C./PARIS 2079   37.0042              NaN        C\n",
            "828          829         1       3                                                        McCormack, Mr. Thomas Joseph    male    NaN      0      0              367228    7.7500              NaN        Q\n",
            "829          830         1       1                                           Stone, Mrs. George Nelson (Martha Evelyn)  female  62.00      0      0              113572   80.0000              B28      NaN\n",
            "830          831         1       3                                             Yasbeck, Mrs. Antoni (Selini Alexander)  female  15.00      1      0                2659   14.4542              NaN        C\n",
            "831          832         1       2                                                     Richards, Master. George Sibley    male   0.83      1      1               29106   18.7500              NaN        S\n",
            "832          833         0       3                                                                      Saad, Mr. Amin    male    NaN      0      0                2671    7.2292              NaN        C\n",
            "833          834         0       3                                                              Augustsson, Mr. Albert    male  23.00      0      0              347468    7.8542              NaN        S\n",
            "834          835         0       3                                                              Allum, Mr. Owen George    male  18.00      0      0                2223    8.3000              NaN        S\n",
            "835          836         1       1                                                         Compton, Miss. Sara Rebecca  female  39.00      1      1            PC 17756   83.1583              E49        C\n",
            "836          837         0       3                                                                    Pasic, Mr. Jakob    male  21.00      0      0              315097    8.6625              NaN        S\n",
            "837          838         0       3                                                                 Sirota, Mr. Maurice    male    NaN      0      0              392092    8.0500              NaN        S\n",
            "838          839         1       3                                                                     Chip, Mr. Chang    male  32.00      0      0                1601   56.4958              NaN        S\n",
            "839          840         1       1                                                                Marechal, Mr. Pierre    male    NaN      0      0               11774   29.7000              C47        C\n",
            "840          841         0       3                                                         Alhomaki, Mr. Ilmari Rudolf    male  20.00      0      0    SOTON/O2 3101287    7.9250              NaN        S\n",
            "841          842         0       2                                                            Mudd, Mr. Thomas Charles    male  16.00      0      0         S.O./P.P. 3   10.5000              NaN        S\n",
            "842          843         1       1                                                             Serepeca, Miss. Augusta  female  30.00      0      0              113798   31.0000              NaN        C\n",
            "843          844         0       3                                                          Lemberopolous, Mr. Peter L    male  34.50      0      0                2683    6.4375              NaN        C\n",
            "844          845         0       3                                                                 Culumovic, Mr. Jeso    male  17.00      0      0              315090    8.6625              NaN        S\n",
            "845          846         0       3                                                                 Abbing, Mr. Anthony    male  42.00      0      0           C.A. 5547    7.5500              NaN        S\n",
            "846          847         0       3                                                            Sage, Mr. Douglas Bullen    male    NaN      8      2            CA. 2343   69.5500              NaN        S\n",
            "847          848         0       3                                                                  Markoff, Mr. Marin    male  35.00      0      0              349213    7.8958              NaN        C\n",
            "848          849         0       2                                                                   Harper, Rev. John    male  28.00      0      1              248727   33.0000              NaN        S\n",
            "849          850         1       1                                        Goldenberg, Mrs. Samuel L (Edwiga Grabowska)  female    NaN      1      0               17453   89.1042              C92        C\n",
            "850          851         0       3                                             Andersson, Master. Sigvard Harald Elias    male   4.00      4      2              347082   31.2750              NaN        S\n",
            "851          852         0       3                                                                 Svensson, Mr. Johan    male  74.00      0      0              347060    7.7750              NaN        S\n",
            "852          853         0       3                                                             Boulos, Miss. Nourelain  female   9.00      1      1                2678   15.2458              NaN        C\n",
            "853          854         1       1                                                           Lines, Miss. Mary Conover  female  16.00      0      1            PC 17592   39.4000              D28        S\n",
            "854          855         0       2                                       Carter, Mrs. Ernest Courtenay (Lilian Hughes)  female  44.00      1      0              244252   26.0000              NaN        S\n",
            "855          856         1       3                                                          Aks, Mrs. Sam (Leah Rosen)  female  18.00      0      1              392091    9.3500              NaN        S\n",
            "856          857         1       1                                          Wick, Mrs. George Dennick (Mary Hitchcock)  female  45.00      1      1               36928  164.8667              NaN        S\n",
            "857          858         1       1                                                              Daly, Mr. Peter Denis     male  51.00      0      0              113055   26.5500              E17        S\n",
            "858          859         1       3                                               Baclini, Mrs. Solomon (Latifa Qurban)  female  24.00      0      3                2666   19.2583              NaN        C\n",
            "859          860         0       3                                                                    Razi, Mr. Raihed    male    NaN      0      0                2629    7.2292              NaN        C\n",
            "860          861         0       3                                                             Hansen, Mr. Claus Peter    male  41.00      2      0              350026   14.1083              NaN        S\n",
            "861          862         0       2                                                         Giles, Mr. Frederick Edward    male  21.00      1      0               28134   11.5000              NaN        S\n",
            "862          863         1       1                                 Swift, Mrs. Frederick Joel (Margaret Welles Barron)  female  48.00      0      0               17466   25.9292              D17        S\n",
            "863          864         0       3                                                   Sage, Miss. Dorothy Edith \"Dolly\"  female    NaN      8      2            CA. 2343   69.5500              NaN        S\n",
            "864          865         0       2                                                              Gill, Mr. John William    male  24.00      0      0              233866   13.0000              NaN        S\n",
            "865          866         1       2                                                            Bystrom, Mrs. (Karolina)  female  42.00      0      0              236852   13.0000              NaN        S\n",
            "866          867         1       2                                                        Duran y More, Miss. Asuncion  female  27.00      1      0       SC/PARIS 2149   13.8583              NaN        C\n",
            "867          868         0       1                                                Roebling, Mr. Washington Augustus II    male  31.00      0      0            PC 17590   50.4958              A24        S\n",
            "868          869         0       3                                                         van Melkebeke, Mr. Philemon    male    NaN      0      0              345777    9.5000              NaN        S\n",
            "869          870         1       3                                                     Johnson, Master. Harold Theodor    male   4.00      1      1              347742   11.1333              NaN        S\n",
            "870          871         0       3                                                                   Balkic, Mr. Cerin    male  26.00      0      0              349248    7.8958              NaN        S\n",
            "871          872         1       1                                    Beckwith, Mrs. Richard Leonard (Sallie Monypeny)  female  47.00      1      1               11751   52.5542              D35        S\n",
            "872          873         0       1                                                            Carlsson, Mr. Frans Olof    male  33.00      0      0                 695    5.0000      B51 B53 B55        S\n",
            "873          874         0       3                                                         Vander Cruyssen, Mr. Victor    male  47.00      0      0              345765    9.0000              NaN        S\n",
            "874          875         1       2                                               Abelson, Mrs. Samuel (Hannah Wizosky)  female  28.00      1      0           P/PP 3381   24.0000              NaN        C\n",
            "875          876         1       3                                                    Najib, Miss. Adele Kiamie \"Jane\"  female  15.00      0      0                2667    7.2250              NaN        C\n",
            "876          877         0       3                                                       Gustafsson, Mr. Alfred Ossian    male  20.00      0      0                7534    9.8458              NaN        S\n",
            "877          878         0       3                                                                Petroff, Mr. Nedelio    male  19.00      0      0              349212    7.8958              NaN        S\n",
            "878          879         0       3                                                                  Laleff, Mr. Kristo    male    NaN      0      0              349217    7.8958              NaN        S\n",
            "879          880         1       1                                       Potter, Mrs. Thomas Jr (Lily Alexenia Wilson)  female  56.00      0      1               11767   83.1583              C50        C\n",
            "880          881         1       2                                        Shelley, Mrs. William (Imanita Parrish Hall)  female  25.00      0      1              230433   26.0000              NaN        S\n",
            "881          882         0       3                                                                  Markun, Mr. Johann    male  33.00      0      0              349257    7.8958              NaN        S\n",
            "882          883         0       3                                                        Dahlberg, Miss. Gerda Ulrika  female  22.00      0      0                7552   10.5167              NaN        S\n",
            "883          884         0       2                                                       Banfield, Mr. Frederick James    male  28.00      0      0    C.A./SOTON 34068   10.5000              NaN        S\n",
            "884          885         0       3                                                              Sutehall, Mr. Henry Jr    male  25.00      0      0     SOTON/OQ 392076    7.0500              NaN        S\n",
            "885          886         0       3                                                Rice, Mrs. William (Margaret Norton)  female  39.00      0      5              382652   29.1250              NaN        Q\n",
            "886          887         0       2                                                               Montvila, Rev. Juozas    male  27.00      0      0              211536   13.0000              NaN        S\n",
            "887          888         1       1                                                        Graham, Miss. Margaret Edith  female  19.00      0      0              112053   30.0000              B42        S\n",
            "888          889         0       3                                            Johnston, Miss. Catherine Helen \"Carrie\"  female    NaN      1      2          W./C. 6607   23.4500              NaN        S\n",
            "889          890         1       1                                                               Behr, Mr. Karl Howell    male  26.00      0      0              111369   30.0000             C148        C\n",
            "890          891         0       3                                                                 Dooley, Mr. Patrick    male  32.00      0      0              370376    7.7500              NaN        Q\n"
          ]
        }
      ]
    },
    {
      "cell_type": "code",
      "source": [
        "df.head(10)"
      ],
      "metadata": {
        "colab": {
          "base_uri": "https://localhost:8080/",
          "height": 363
        },
        "id": "HzzUBK8PY1Fw",
        "outputId": "a3f5c885-19e5-4d47-94a3-a405b26abdca"
      },
      "execution_count": 14,
      "outputs": [
        {
          "output_type": "execute_result",
          "data": {
            "text/plain": [
              "   PassengerId  Survived  Pclass  \\\n",
              "0            1         0       3   \n",
              "1            2         1       1   \n",
              "2            3         1       3   \n",
              "3            4         1       1   \n",
              "4            5         0       3   \n",
              "5            6         0       3   \n",
              "6            7         0       1   \n",
              "7            8         0       3   \n",
              "8            9         1       3   \n",
              "9           10         1       2   \n",
              "\n",
              "                                                Name     Sex   Age  SibSp  \\\n",
              "0                            Braund, Mr. Owen Harris    male  22.0      1   \n",
              "1  Cumings, Mrs. John Bradley (Florence Briggs Th...  female  38.0      1   \n",
              "2                             Heikkinen, Miss. Laina  female  26.0      0   \n",
              "3       Futrelle, Mrs. Jacques Heath (Lily May Peel)  female  35.0      1   \n",
              "4                           Allen, Mr. William Henry    male  35.0      0   \n",
              "5                                   Moran, Mr. James    male   NaN      0   \n",
              "6                            McCarthy, Mr. Timothy J    male  54.0      0   \n",
              "7                     Palsson, Master. Gosta Leonard    male   2.0      3   \n",
              "8  Johnson, Mrs. Oscar W (Elisabeth Vilhelmina Berg)  female  27.0      0   \n",
              "9                Nasser, Mrs. Nicholas (Adele Achem)  female  14.0      1   \n",
              "\n",
              "   Parch            Ticket     Fare Cabin Embarked  \n",
              "0      0         A/5 21171   7.2500   NaN        S  \n",
              "1      0          PC 17599  71.2833   C85        C  \n",
              "2      0  STON/O2. 3101282   7.9250   NaN        S  \n",
              "3      0            113803  53.1000  C123        S  \n",
              "4      0            373450   8.0500   NaN        S  \n",
              "5      0            330877   8.4583   NaN        Q  \n",
              "6      0             17463  51.8625   E46        S  \n",
              "7      1            349909  21.0750   NaN        S  \n",
              "8      2            347742  11.1333   NaN        S  \n",
              "9      0            237736  30.0708   NaN        C  "
            ],
            "text/html": [
              "\n",
              "  <div id=\"df-cf3f3e6a-fe8b-4c9c-b76a-0122f9076aa5\" class=\"colab-df-container\">\n",
              "    <div>\n",
              "<style scoped>\n",
              "    .dataframe tbody tr th:only-of-type {\n",
              "        vertical-align: middle;\n",
              "    }\n",
              "\n",
              "    .dataframe tbody tr th {\n",
              "        vertical-align: top;\n",
              "    }\n",
              "\n",
              "    .dataframe thead th {\n",
              "        text-align: right;\n",
              "    }\n",
              "</style>\n",
              "<table border=\"1\" class=\"dataframe\">\n",
              "  <thead>\n",
              "    <tr style=\"text-align: right;\">\n",
              "      <th></th>\n",
              "      <th>PassengerId</th>\n",
              "      <th>Survived</th>\n",
              "      <th>Pclass</th>\n",
              "      <th>Name</th>\n",
              "      <th>Sex</th>\n",
              "      <th>Age</th>\n",
              "      <th>SibSp</th>\n",
              "      <th>Parch</th>\n",
              "      <th>Ticket</th>\n",
              "      <th>Fare</th>\n",
              "      <th>Cabin</th>\n",
              "      <th>Embarked</th>\n",
              "    </tr>\n",
              "  </thead>\n",
              "  <tbody>\n",
              "    <tr>\n",
              "      <th>0</th>\n",
              "      <td>1</td>\n",
              "      <td>0</td>\n",
              "      <td>3</td>\n",
              "      <td>Braund, Mr. Owen Harris</td>\n",
              "      <td>male</td>\n",
              "      <td>22.0</td>\n",
              "      <td>1</td>\n",
              "      <td>0</td>\n",
              "      <td>A/5 21171</td>\n",
              "      <td>7.2500</td>\n",
              "      <td>NaN</td>\n",
              "      <td>S</td>\n",
              "    </tr>\n",
              "    <tr>\n",
              "      <th>1</th>\n",
              "      <td>2</td>\n",
              "      <td>1</td>\n",
              "      <td>1</td>\n",
              "      <td>Cumings, Mrs. John Bradley (Florence Briggs Th...</td>\n",
              "      <td>female</td>\n",
              "      <td>38.0</td>\n",
              "      <td>1</td>\n",
              "      <td>0</td>\n",
              "      <td>PC 17599</td>\n",
              "      <td>71.2833</td>\n",
              "      <td>C85</td>\n",
              "      <td>C</td>\n",
              "    </tr>\n",
              "    <tr>\n",
              "      <th>2</th>\n",
              "      <td>3</td>\n",
              "      <td>1</td>\n",
              "      <td>3</td>\n",
              "      <td>Heikkinen, Miss. Laina</td>\n",
              "      <td>female</td>\n",
              "      <td>26.0</td>\n",
              "      <td>0</td>\n",
              "      <td>0</td>\n",
              "      <td>STON/O2. 3101282</td>\n",
              "      <td>7.9250</td>\n",
              "      <td>NaN</td>\n",
              "      <td>S</td>\n",
              "    </tr>\n",
              "    <tr>\n",
              "      <th>3</th>\n",
              "      <td>4</td>\n",
              "      <td>1</td>\n",
              "      <td>1</td>\n",
              "      <td>Futrelle, Mrs. Jacques Heath (Lily May Peel)</td>\n",
              "      <td>female</td>\n",
              "      <td>35.0</td>\n",
              "      <td>1</td>\n",
              "      <td>0</td>\n",
              "      <td>113803</td>\n",
              "      <td>53.1000</td>\n",
              "      <td>C123</td>\n",
              "      <td>S</td>\n",
              "    </tr>\n",
              "    <tr>\n",
              "      <th>4</th>\n",
              "      <td>5</td>\n",
              "      <td>0</td>\n",
              "      <td>3</td>\n",
              "      <td>Allen, Mr. William Henry</td>\n",
              "      <td>male</td>\n",
              "      <td>35.0</td>\n",
              "      <td>0</td>\n",
              "      <td>0</td>\n",
              "      <td>373450</td>\n",
              "      <td>8.0500</td>\n",
              "      <td>NaN</td>\n",
              "      <td>S</td>\n",
              "    </tr>\n",
              "    <tr>\n",
              "      <th>5</th>\n",
              "      <td>6</td>\n",
              "      <td>0</td>\n",
              "      <td>3</td>\n",
              "      <td>Moran, Mr. James</td>\n",
              "      <td>male</td>\n",
              "      <td>NaN</td>\n",
              "      <td>0</td>\n",
              "      <td>0</td>\n",
              "      <td>330877</td>\n",
              "      <td>8.4583</td>\n",
              "      <td>NaN</td>\n",
              "      <td>Q</td>\n",
              "    </tr>\n",
              "    <tr>\n",
              "      <th>6</th>\n",
              "      <td>7</td>\n",
              "      <td>0</td>\n",
              "      <td>1</td>\n",
              "      <td>McCarthy, Mr. Timothy J</td>\n",
              "      <td>male</td>\n",
              "      <td>54.0</td>\n",
              "      <td>0</td>\n",
              "      <td>0</td>\n",
              "      <td>17463</td>\n",
              "      <td>51.8625</td>\n",
              "      <td>E46</td>\n",
              "      <td>S</td>\n",
              "    </tr>\n",
              "    <tr>\n",
              "      <th>7</th>\n",
              "      <td>8</td>\n",
              "      <td>0</td>\n",
              "      <td>3</td>\n",
              "      <td>Palsson, Master. Gosta Leonard</td>\n",
              "      <td>male</td>\n",
              "      <td>2.0</td>\n",
              "      <td>3</td>\n",
              "      <td>1</td>\n",
              "      <td>349909</td>\n",
              "      <td>21.0750</td>\n",
              "      <td>NaN</td>\n",
              "      <td>S</td>\n",
              "    </tr>\n",
              "    <tr>\n",
              "      <th>8</th>\n",
              "      <td>9</td>\n",
              "      <td>1</td>\n",
              "      <td>3</td>\n",
              "      <td>Johnson, Mrs. Oscar W (Elisabeth Vilhelmina Berg)</td>\n",
              "      <td>female</td>\n",
              "      <td>27.0</td>\n",
              "      <td>0</td>\n",
              "      <td>2</td>\n",
              "      <td>347742</td>\n",
              "      <td>11.1333</td>\n",
              "      <td>NaN</td>\n",
              "      <td>S</td>\n",
              "    </tr>\n",
              "    <tr>\n",
              "      <th>9</th>\n",
              "      <td>10</td>\n",
              "      <td>1</td>\n",
              "      <td>2</td>\n",
              "      <td>Nasser, Mrs. Nicholas (Adele Achem)</td>\n",
              "      <td>female</td>\n",
              "      <td>14.0</td>\n",
              "      <td>1</td>\n",
              "      <td>0</td>\n",
              "      <td>237736</td>\n",
              "      <td>30.0708</td>\n",
              "      <td>NaN</td>\n",
              "      <td>C</td>\n",
              "    </tr>\n",
              "  </tbody>\n",
              "</table>\n",
              "</div>\n",
              "    <div class=\"colab-df-buttons\">\n",
              "\n",
              "  <div class=\"colab-df-container\">\n",
              "    <button class=\"colab-df-convert\" onclick=\"convertToInteractive('df-cf3f3e6a-fe8b-4c9c-b76a-0122f9076aa5')\"\n",
              "            title=\"Convert this dataframe to an interactive table.\"\n",
              "            style=\"display:none;\">\n",
              "\n",
              "  <svg xmlns=\"http://www.w3.org/2000/svg\" height=\"24px\" viewBox=\"0 -960 960 960\">\n",
              "    <path d=\"M120-120v-720h720v720H120Zm60-500h600v-160H180v160Zm220 220h160v-160H400v160Zm0 220h160v-160H400v160ZM180-400h160v-160H180v160Zm440 0h160v-160H620v160ZM180-180h160v-160H180v160Zm440 0h160v-160H620v160Z\"/>\n",
              "  </svg>\n",
              "    </button>\n",
              "\n",
              "  <style>\n",
              "    .colab-df-container {\n",
              "      display:flex;\n",
              "      gap: 12px;\n",
              "    }\n",
              "\n",
              "    .colab-df-convert {\n",
              "      background-color: #E8F0FE;\n",
              "      border: none;\n",
              "      border-radius: 50%;\n",
              "      cursor: pointer;\n",
              "      display: none;\n",
              "      fill: #1967D2;\n",
              "      height: 32px;\n",
              "      padding: 0 0 0 0;\n",
              "      width: 32px;\n",
              "    }\n",
              "\n",
              "    .colab-df-convert:hover {\n",
              "      background-color: #E2EBFA;\n",
              "      box-shadow: 0px 1px 2px rgba(60, 64, 67, 0.3), 0px 1px 3px 1px rgba(60, 64, 67, 0.15);\n",
              "      fill: #174EA6;\n",
              "    }\n",
              "\n",
              "    .colab-df-buttons div {\n",
              "      margin-bottom: 4px;\n",
              "    }\n",
              "\n",
              "    [theme=dark] .colab-df-convert {\n",
              "      background-color: #3B4455;\n",
              "      fill: #D2E3FC;\n",
              "    }\n",
              "\n",
              "    [theme=dark] .colab-df-convert:hover {\n",
              "      background-color: #434B5C;\n",
              "      box-shadow: 0px 1px 3px 1px rgba(0, 0, 0, 0.15);\n",
              "      filter: drop-shadow(0px 1px 2px rgba(0, 0, 0, 0.3));\n",
              "      fill: #FFFFFF;\n",
              "    }\n",
              "  </style>\n",
              "\n",
              "    <script>\n",
              "      const buttonEl =\n",
              "        document.querySelector('#df-cf3f3e6a-fe8b-4c9c-b76a-0122f9076aa5 button.colab-df-convert');\n",
              "      buttonEl.style.display =\n",
              "        google.colab.kernel.accessAllowed ? 'block' : 'none';\n",
              "\n",
              "      async function convertToInteractive(key) {\n",
              "        const element = document.querySelector('#df-cf3f3e6a-fe8b-4c9c-b76a-0122f9076aa5');\n",
              "        const dataTable =\n",
              "          await google.colab.kernel.invokeFunction('convertToInteractive',\n",
              "                                                    [key], {});\n",
              "        if (!dataTable) return;\n",
              "\n",
              "        const docLinkHtml = 'Like what you see? Visit the ' +\n",
              "          '<a target=\"_blank\" href=https://colab.research.google.com/notebooks/data_table.ipynb>data table notebook</a>'\n",
              "          + ' to learn more about interactive tables.';\n",
              "        element.innerHTML = '';\n",
              "        dataTable['output_type'] = 'display_data';\n",
              "        await google.colab.output.renderOutput(dataTable, element);\n",
              "        const docLink = document.createElement('div');\n",
              "        docLink.innerHTML = docLinkHtml;\n",
              "        element.appendChild(docLink);\n",
              "      }\n",
              "    </script>\n",
              "  </div>\n",
              "\n",
              "\n",
              "    <div id=\"df-91afe987-f9d8-4893-9d44-1ef0e28a1feb\">\n",
              "      <button class=\"colab-df-quickchart\" onclick=\"quickchart('df-91afe987-f9d8-4893-9d44-1ef0e28a1feb')\"\n",
              "                title=\"Suggest charts\"\n",
              "                style=\"display:none;\">\n",
              "\n",
              "<svg xmlns=\"http://www.w3.org/2000/svg\" height=\"24px\"viewBox=\"0 0 24 24\"\n",
              "     width=\"24px\">\n",
              "    <g>\n",
              "        <path d=\"M19 3H5c-1.1 0-2 .9-2 2v14c0 1.1.9 2 2 2h14c1.1 0 2-.9 2-2V5c0-1.1-.9-2-2-2zM9 17H7v-7h2v7zm4 0h-2V7h2v10zm4 0h-2v-4h2v4z\"/>\n",
              "    </g>\n",
              "</svg>\n",
              "      </button>\n",
              "\n",
              "<style>\n",
              "  .colab-df-quickchart {\n",
              "      --bg-color: #E8F0FE;\n",
              "      --fill-color: #1967D2;\n",
              "      --hover-bg-color: #E2EBFA;\n",
              "      --hover-fill-color: #174EA6;\n",
              "      --disabled-fill-color: #AAA;\n",
              "      --disabled-bg-color: #DDD;\n",
              "  }\n",
              "\n",
              "  [theme=dark] .colab-df-quickchart {\n",
              "      --bg-color: #3B4455;\n",
              "      --fill-color: #D2E3FC;\n",
              "      --hover-bg-color: #434B5C;\n",
              "      --hover-fill-color: #FFFFFF;\n",
              "      --disabled-bg-color: #3B4455;\n",
              "      --disabled-fill-color: #666;\n",
              "  }\n",
              "\n",
              "  .colab-df-quickchart {\n",
              "    background-color: var(--bg-color);\n",
              "    border: none;\n",
              "    border-radius: 50%;\n",
              "    cursor: pointer;\n",
              "    display: none;\n",
              "    fill: var(--fill-color);\n",
              "    height: 32px;\n",
              "    padding: 0;\n",
              "    width: 32px;\n",
              "  }\n",
              "\n",
              "  .colab-df-quickchart:hover {\n",
              "    background-color: var(--hover-bg-color);\n",
              "    box-shadow: 0 1px 2px rgba(60, 64, 67, 0.3), 0 1px 3px 1px rgba(60, 64, 67, 0.15);\n",
              "    fill: var(--button-hover-fill-color);\n",
              "  }\n",
              "\n",
              "  .colab-df-quickchart-complete:disabled,\n",
              "  .colab-df-quickchart-complete:disabled:hover {\n",
              "    background-color: var(--disabled-bg-color);\n",
              "    fill: var(--disabled-fill-color);\n",
              "    box-shadow: none;\n",
              "  }\n",
              "\n",
              "  .colab-df-spinner {\n",
              "    border: 2px solid var(--fill-color);\n",
              "    border-color: transparent;\n",
              "    border-bottom-color: var(--fill-color);\n",
              "    animation:\n",
              "      spin 1s steps(1) infinite;\n",
              "  }\n",
              "\n",
              "  @keyframes spin {\n",
              "    0% {\n",
              "      border-color: transparent;\n",
              "      border-bottom-color: var(--fill-color);\n",
              "      border-left-color: var(--fill-color);\n",
              "    }\n",
              "    20% {\n",
              "      border-color: transparent;\n",
              "      border-left-color: var(--fill-color);\n",
              "      border-top-color: var(--fill-color);\n",
              "    }\n",
              "    30% {\n",
              "      border-color: transparent;\n",
              "      border-left-color: var(--fill-color);\n",
              "      border-top-color: var(--fill-color);\n",
              "      border-right-color: var(--fill-color);\n",
              "    }\n",
              "    40% {\n",
              "      border-color: transparent;\n",
              "      border-right-color: var(--fill-color);\n",
              "      border-top-color: var(--fill-color);\n",
              "    }\n",
              "    60% {\n",
              "      border-color: transparent;\n",
              "      border-right-color: var(--fill-color);\n",
              "    }\n",
              "    80% {\n",
              "      border-color: transparent;\n",
              "      border-right-color: var(--fill-color);\n",
              "      border-bottom-color: var(--fill-color);\n",
              "    }\n",
              "    90% {\n",
              "      border-color: transparent;\n",
              "      border-bottom-color: var(--fill-color);\n",
              "    }\n",
              "  }\n",
              "</style>\n",
              "\n",
              "      <script>\n",
              "        async function quickchart(key) {\n",
              "          const quickchartButtonEl =\n",
              "            document.querySelector('#' + key + ' button');\n",
              "          quickchartButtonEl.disabled = true;  // To prevent multiple clicks.\n",
              "          quickchartButtonEl.classList.add('colab-df-spinner');\n",
              "          try {\n",
              "            const charts = await google.colab.kernel.invokeFunction(\n",
              "                'suggestCharts', [key], {});\n",
              "          } catch (error) {\n",
              "            console.error('Error during call to suggestCharts:', error);\n",
              "          }\n",
              "          quickchartButtonEl.classList.remove('colab-df-spinner');\n",
              "          quickchartButtonEl.classList.add('colab-df-quickchart-complete');\n",
              "        }\n",
              "        (() => {\n",
              "          let quickchartButtonEl =\n",
              "            document.querySelector('#df-91afe987-f9d8-4893-9d44-1ef0e28a1feb button');\n",
              "          quickchartButtonEl.style.display =\n",
              "            google.colab.kernel.accessAllowed ? 'block' : 'none';\n",
              "        })();\n",
              "      </script>\n",
              "    </div>\n",
              "\n",
              "    </div>\n",
              "  </div>\n"
            ],
            "application/vnd.google.colaboratory.intrinsic+json": {
              "type": "dataframe",
              "variable_name": "df",
              "summary": "{\n  \"name\": \"df\",\n  \"rows\": 891,\n  \"fields\": [\n    {\n      \"column\": \"PassengerId\",\n      \"properties\": {\n        \"dtype\": \"number\",\n        \"std\": 257,\n        \"min\": 1,\n        \"max\": 891,\n        \"num_unique_values\": 891,\n        \"samples\": [\n          710,\n          440,\n          841\n        ],\n        \"semantic_type\": \"\",\n        \"description\": \"\"\n      }\n    },\n    {\n      \"column\": \"Survived\",\n      \"properties\": {\n        \"dtype\": \"number\",\n        \"std\": 0,\n        \"min\": 0,\n        \"max\": 1,\n        \"num_unique_values\": 2,\n        \"samples\": [\n          1,\n          0\n        ],\n        \"semantic_type\": \"\",\n        \"description\": \"\"\n      }\n    },\n    {\n      \"column\": \"Pclass\",\n      \"properties\": {\n        \"dtype\": \"number\",\n        \"std\": 0,\n        \"min\": 1,\n        \"max\": 3,\n        \"num_unique_values\": 3,\n        \"samples\": [\n          3,\n          1\n        ],\n        \"semantic_type\": \"\",\n        \"description\": \"\"\n      }\n    },\n    {\n      \"column\": \"Name\",\n      \"properties\": {\n        \"dtype\": \"string\",\n        \"num_unique_values\": 891,\n        \"samples\": [\n          \"Moubarek, Master. Halim Gonios (\\\"William George\\\")\",\n          \"Kvillner, Mr. Johan Henrik Johannesson\"\n        ],\n        \"semantic_type\": \"\",\n        \"description\": \"\"\n      }\n    },\n    {\n      \"column\": \"Sex\",\n      \"properties\": {\n        \"dtype\": \"category\",\n        \"num_unique_values\": 2,\n        \"samples\": [\n          \"female\",\n          \"male\"\n        ],\n        \"semantic_type\": \"\",\n        \"description\": \"\"\n      }\n    },\n    {\n      \"column\": \"Age\",\n      \"properties\": {\n        \"dtype\": \"number\",\n        \"std\": 14.526497332334044,\n        \"min\": 0.42,\n        \"max\": 80.0,\n        \"num_unique_values\": 88,\n        \"samples\": [\n          0.75,\n          22.0\n        ],\n        \"semantic_type\": \"\",\n        \"description\": \"\"\n      }\n    },\n    {\n      \"column\": \"SibSp\",\n      \"properties\": {\n        \"dtype\": \"number\",\n        \"std\": 1,\n        \"min\": 0,\n        \"max\": 8,\n        \"num_unique_values\": 7,\n        \"samples\": [\n          1,\n          0\n        ],\n        \"semantic_type\": \"\",\n        \"description\": \"\"\n      }\n    },\n    {\n      \"column\": \"Parch\",\n      \"properties\": {\n        \"dtype\": \"number\",\n        \"std\": 0,\n        \"min\": 0,\n        \"max\": 6,\n        \"num_unique_values\": 7,\n        \"samples\": [\n          0,\n          1\n        ],\n        \"semantic_type\": \"\",\n        \"description\": \"\"\n      }\n    },\n    {\n      \"column\": \"Ticket\",\n      \"properties\": {\n        \"dtype\": \"string\",\n        \"num_unique_values\": 681,\n        \"samples\": [\n          \"11774\",\n          \"248740\"\n        ],\n        \"semantic_type\": \"\",\n        \"description\": \"\"\n      }\n    },\n    {\n      \"column\": \"Fare\",\n      \"properties\": {\n        \"dtype\": \"number\",\n        \"std\": 49.693428597180905,\n        \"min\": 0.0,\n        \"max\": 512.3292,\n        \"num_unique_values\": 248,\n        \"samples\": [\n          11.2417,\n          51.8625\n        ],\n        \"semantic_type\": \"\",\n        \"description\": \"\"\n      }\n    },\n    {\n      \"column\": \"Cabin\",\n      \"properties\": {\n        \"dtype\": \"category\",\n        \"num_unique_values\": 147,\n        \"samples\": [\n          \"D45\",\n          \"B49\"\n        ],\n        \"semantic_type\": \"\",\n        \"description\": \"\"\n      }\n    },\n    {\n      \"column\": \"Embarked\",\n      \"properties\": {\n        \"dtype\": \"category\",\n        \"num_unique_values\": 3,\n        \"samples\": [\n          \"S\",\n          \"C\"\n        ],\n        \"semantic_type\": \"\",\n        \"description\": \"\"\n      }\n    }\n  ]\n}"
            }
          },
          "metadata": {},
          "execution_count": 14
        }
      ]
    },
    {
      "cell_type": "code",
      "source": [
        "df.tail()#starting data dekhna hai to head function agar last data dekhna hai to tail function"
      ],
      "metadata": {
        "colab": {
          "base_uri": "https://localhost:8080/",
          "height": 206
        },
        "id": "utUPUqjTaAb2",
        "outputId": "7cf9e52d-3f73-42fd-dad7-2fbf79e26b70"
      },
      "execution_count": 15,
      "outputs": [
        {
          "output_type": "execute_result",
          "data": {
            "text/plain": [
              "     PassengerId  Survived  Pclass                                      Name  \\\n",
              "886          887         0       2                     Montvila, Rev. Juozas   \n",
              "887          888         1       1              Graham, Miss. Margaret Edith   \n",
              "888          889         0       3  Johnston, Miss. Catherine Helen \"Carrie\"   \n",
              "889          890         1       1                     Behr, Mr. Karl Howell   \n",
              "890          891         0       3                       Dooley, Mr. Patrick   \n",
              "\n",
              "        Sex   Age  SibSp  Parch      Ticket   Fare Cabin Embarked  \n",
              "886    male  27.0      0      0      211536  13.00   NaN        S  \n",
              "887  female  19.0      0      0      112053  30.00   B42        S  \n",
              "888  female   NaN      1      2  W./C. 6607  23.45   NaN        S  \n",
              "889    male  26.0      0      0      111369  30.00  C148        C  \n",
              "890    male  32.0      0      0      370376   7.75   NaN        Q  "
            ],
            "text/html": [
              "\n",
              "  <div id=\"df-283561fb-fbe6-4e81-9fd0-949e355079ef\" class=\"colab-df-container\">\n",
              "    <div>\n",
              "<style scoped>\n",
              "    .dataframe tbody tr th:only-of-type {\n",
              "        vertical-align: middle;\n",
              "    }\n",
              "\n",
              "    .dataframe tbody tr th {\n",
              "        vertical-align: top;\n",
              "    }\n",
              "\n",
              "    .dataframe thead th {\n",
              "        text-align: right;\n",
              "    }\n",
              "</style>\n",
              "<table border=\"1\" class=\"dataframe\">\n",
              "  <thead>\n",
              "    <tr style=\"text-align: right;\">\n",
              "      <th></th>\n",
              "      <th>PassengerId</th>\n",
              "      <th>Survived</th>\n",
              "      <th>Pclass</th>\n",
              "      <th>Name</th>\n",
              "      <th>Sex</th>\n",
              "      <th>Age</th>\n",
              "      <th>SibSp</th>\n",
              "      <th>Parch</th>\n",
              "      <th>Ticket</th>\n",
              "      <th>Fare</th>\n",
              "      <th>Cabin</th>\n",
              "      <th>Embarked</th>\n",
              "    </tr>\n",
              "  </thead>\n",
              "  <tbody>\n",
              "    <tr>\n",
              "      <th>886</th>\n",
              "      <td>887</td>\n",
              "      <td>0</td>\n",
              "      <td>2</td>\n",
              "      <td>Montvila, Rev. Juozas</td>\n",
              "      <td>male</td>\n",
              "      <td>27.0</td>\n",
              "      <td>0</td>\n",
              "      <td>0</td>\n",
              "      <td>211536</td>\n",
              "      <td>13.00</td>\n",
              "      <td>NaN</td>\n",
              "      <td>S</td>\n",
              "    </tr>\n",
              "    <tr>\n",
              "      <th>887</th>\n",
              "      <td>888</td>\n",
              "      <td>1</td>\n",
              "      <td>1</td>\n",
              "      <td>Graham, Miss. Margaret Edith</td>\n",
              "      <td>female</td>\n",
              "      <td>19.0</td>\n",
              "      <td>0</td>\n",
              "      <td>0</td>\n",
              "      <td>112053</td>\n",
              "      <td>30.00</td>\n",
              "      <td>B42</td>\n",
              "      <td>S</td>\n",
              "    </tr>\n",
              "    <tr>\n",
              "      <th>888</th>\n",
              "      <td>889</td>\n",
              "      <td>0</td>\n",
              "      <td>3</td>\n",
              "      <td>Johnston, Miss. Catherine Helen \"Carrie\"</td>\n",
              "      <td>female</td>\n",
              "      <td>NaN</td>\n",
              "      <td>1</td>\n",
              "      <td>2</td>\n",
              "      <td>W./C. 6607</td>\n",
              "      <td>23.45</td>\n",
              "      <td>NaN</td>\n",
              "      <td>S</td>\n",
              "    </tr>\n",
              "    <tr>\n",
              "      <th>889</th>\n",
              "      <td>890</td>\n",
              "      <td>1</td>\n",
              "      <td>1</td>\n",
              "      <td>Behr, Mr. Karl Howell</td>\n",
              "      <td>male</td>\n",
              "      <td>26.0</td>\n",
              "      <td>0</td>\n",
              "      <td>0</td>\n",
              "      <td>111369</td>\n",
              "      <td>30.00</td>\n",
              "      <td>C148</td>\n",
              "      <td>C</td>\n",
              "    </tr>\n",
              "    <tr>\n",
              "      <th>890</th>\n",
              "      <td>891</td>\n",
              "      <td>0</td>\n",
              "      <td>3</td>\n",
              "      <td>Dooley, Mr. Patrick</td>\n",
              "      <td>male</td>\n",
              "      <td>32.0</td>\n",
              "      <td>0</td>\n",
              "      <td>0</td>\n",
              "      <td>370376</td>\n",
              "      <td>7.75</td>\n",
              "      <td>NaN</td>\n",
              "      <td>Q</td>\n",
              "    </tr>\n",
              "  </tbody>\n",
              "</table>\n",
              "</div>\n",
              "    <div class=\"colab-df-buttons\">\n",
              "\n",
              "  <div class=\"colab-df-container\">\n",
              "    <button class=\"colab-df-convert\" onclick=\"convertToInteractive('df-283561fb-fbe6-4e81-9fd0-949e355079ef')\"\n",
              "            title=\"Convert this dataframe to an interactive table.\"\n",
              "            style=\"display:none;\">\n",
              "\n",
              "  <svg xmlns=\"http://www.w3.org/2000/svg\" height=\"24px\" viewBox=\"0 -960 960 960\">\n",
              "    <path d=\"M120-120v-720h720v720H120Zm60-500h600v-160H180v160Zm220 220h160v-160H400v160Zm0 220h160v-160H400v160ZM180-400h160v-160H180v160Zm440 0h160v-160H620v160ZM180-180h160v-160H180v160Zm440 0h160v-160H620v160Z\"/>\n",
              "  </svg>\n",
              "    </button>\n",
              "\n",
              "  <style>\n",
              "    .colab-df-container {\n",
              "      display:flex;\n",
              "      gap: 12px;\n",
              "    }\n",
              "\n",
              "    .colab-df-convert {\n",
              "      background-color: #E8F0FE;\n",
              "      border: none;\n",
              "      border-radius: 50%;\n",
              "      cursor: pointer;\n",
              "      display: none;\n",
              "      fill: #1967D2;\n",
              "      height: 32px;\n",
              "      padding: 0 0 0 0;\n",
              "      width: 32px;\n",
              "    }\n",
              "\n",
              "    .colab-df-convert:hover {\n",
              "      background-color: #E2EBFA;\n",
              "      box-shadow: 0px 1px 2px rgba(60, 64, 67, 0.3), 0px 1px 3px 1px rgba(60, 64, 67, 0.15);\n",
              "      fill: #174EA6;\n",
              "    }\n",
              "\n",
              "    .colab-df-buttons div {\n",
              "      margin-bottom: 4px;\n",
              "    }\n",
              "\n",
              "    [theme=dark] .colab-df-convert {\n",
              "      background-color: #3B4455;\n",
              "      fill: #D2E3FC;\n",
              "    }\n",
              "\n",
              "    [theme=dark] .colab-df-convert:hover {\n",
              "      background-color: #434B5C;\n",
              "      box-shadow: 0px 1px 3px 1px rgba(0, 0, 0, 0.15);\n",
              "      filter: drop-shadow(0px 1px 2px rgba(0, 0, 0, 0.3));\n",
              "      fill: #FFFFFF;\n",
              "    }\n",
              "  </style>\n",
              "\n",
              "    <script>\n",
              "      const buttonEl =\n",
              "        document.querySelector('#df-283561fb-fbe6-4e81-9fd0-949e355079ef button.colab-df-convert');\n",
              "      buttonEl.style.display =\n",
              "        google.colab.kernel.accessAllowed ? 'block' : 'none';\n",
              "\n",
              "      async function convertToInteractive(key) {\n",
              "        const element = document.querySelector('#df-283561fb-fbe6-4e81-9fd0-949e355079ef');\n",
              "        const dataTable =\n",
              "          await google.colab.kernel.invokeFunction('convertToInteractive',\n",
              "                                                    [key], {});\n",
              "        if (!dataTable) return;\n",
              "\n",
              "        const docLinkHtml = 'Like what you see? Visit the ' +\n",
              "          '<a target=\"_blank\" href=https://colab.research.google.com/notebooks/data_table.ipynb>data table notebook</a>'\n",
              "          + ' to learn more about interactive tables.';\n",
              "        element.innerHTML = '';\n",
              "        dataTable['output_type'] = 'display_data';\n",
              "        await google.colab.output.renderOutput(dataTable, element);\n",
              "        const docLink = document.createElement('div');\n",
              "        docLink.innerHTML = docLinkHtml;\n",
              "        element.appendChild(docLink);\n",
              "      }\n",
              "    </script>\n",
              "  </div>\n",
              "\n",
              "\n",
              "    <div id=\"df-ff07e5d1-4782-4974-99d4-d386b730c635\">\n",
              "      <button class=\"colab-df-quickchart\" onclick=\"quickchart('df-ff07e5d1-4782-4974-99d4-d386b730c635')\"\n",
              "                title=\"Suggest charts\"\n",
              "                style=\"display:none;\">\n",
              "\n",
              "<svg xmlns=\"http://www.w3.org/2000/svg\" height=\"24px\"viewBox=\"0 0 24 24\"\n",
              "     width=\"24px\">\n",
              "    <g>\n",
              "        <path d=\"M19 3H5c-1.1 0-2 .9-2 2v14c0 1.1.9 2 2 2h14c1.1 0 2-.9 2-2V5c0-1.1-.9-2-2-2zM9 17H7v-7h2v7zm4 0h-2V7h2v10zm4 0h-2v-4h2v4z\"/>\n",
              "    </g>\n",
              "</svg>\n",
              "      </button>\n",
              "\n",
              "<style>\n",
              "  .colab-df-quickchart {\n",
              "      --bg-color: #E8F0FE;\n",
              "      --fill-color: #1967D2;\n",
              "      --hover-bg-color: #E2EBFA;\n",
              "      --hover-fill-color: #174EA6;\n",
              "      --disabled-fill-color: #AAA;\n",
              "      --disabled-bg-color: #DDD;\n",
              "  }\n",
              "\n",
              "  [theme=dark] .colab-df-quickchart {\n",
              "      --bg-color: #3B4455;\n",
              "      --fill-color: #D2E3FC;\n",
              "      --hover-bg-color: #434B5C;\n",
              "      --hover-fill-color: #FFFFFF;\n",
              "      --disabled-bg-color: #3B4455;\n",
              "      --disabled-fill-color: #666;\n",
              "  }\n",
              "\n",
              "  .colab-df-quickchart {\n",
              "    background-color: var(--bg-color);\n",
              "    border: none;\n",
              "    border-radius: 50%;\n",
              "    cursor: pointer;\n",
              "    display: none;\n",
              "    fill: var(--fill-color);\n",
              "    height: 32px;\n",
              "    padding: 0;\n",
              "    width: 32px;\n",
              "  }\n",
              "\n",
              "  .colab-df-quickchart:hover {\n",
              "    background-color: var(--hover-bg-color);\n",
              "    box-shadow: 0 1px 2px rgba(60, 64, 67, 0.3), 0 1px 3px 1px rgba(60, 64, 67, 0.15);\n",
              "    fill: var(--button-hover-fill-color);\n",
              "  }\n",
              "\n",
              "  .colab-df-quickchart-complete:disabled,\n",
              "  .colab-df-quickchart-complete:disabled:hover {\n",
              "    background-color: var(--disabled-bg-color);\n",
              "    fill: var(--disabled-fill-color);\n",
              "    box-shadow: none;\n",
              "  }\n",
              "\n",
              "  .colab-df-spinner {\n",
              "    border: 2px solid var(--fill-color);\n",
              "    border-color: transparent;\n",
              "    border-bottom-color: var(--fill-color);\n",
              "    animation:\n",
              "      spin 1s steps(1) infinite;\n",
              "  }\n",
              "\n",
              "  @keyframes spin {\n",
              "    0% {\n",
              "      border-color: transparent;\n",
              "      border-bottom-color: var(--fill-color);\n",
              "      border-left-color: var(--fill-color);\n",
              "    }\n",
              "    20% {\n",
              "      border-color: transparent;\n",
              "      border-left-color: var(--fill-color);\n",
              "      border-top-color: var(--fill-color);\n",
              "    }\n",
              "    30% {\n",
              "      border-color: transparent;\n",
              "      border-left-color: var(--fill-color);\n",
              "      border-top-color: var(--fill-color);\n",
              "      border-right-color: var(--fill-color);\n",
              "    }\n",
              "    40% {\n",
              "      border-color: transparent;\n",
              "      border-right-color: var(--fill-color);\n",
              "      border-top-color: var(--fill-color);\n",
              "    }\n",
              "    60% {\n",
              "      border-color: transparent;\n",
              "      border-right-color: var(--fill-color);\n",
              "    }\n",
              "    80% {\n",
              "      border-color: transparent;\n",
              "      border-right-color: var(--fill-color);\n",
              "      border-bottom-color: var(--fill-color);\n",
              "    }\n",
              "    90% {\n",
              "      border-color: transparent;\n",
              "      border-bottom-color: var(--fill-color);\n",
              "    }\n",
              "  }\n",
              "</style>\n",
              "\n",
              "      <script>\n",
              "        async function quickchart(key) {\n",
              "          const quickchartButtonEl =\n",
              "            document.querySelector('#' + key + ' button');\n",
              "          quickchartButtonEl.disabled = true;  // To prevent multiple clicks.\n",
              "          quickchartButtonEl.classList.add('colab-df-spinner');\n",
              "          try {\n",
              "            const charts = await google.colab.kernel.invokeFunction(\n",
              "                'suggestCharts', [key], {});\n",
              "          } catch (error) {\n",
              "            console.error('Error during call to suggestCharts:', error);\n",
              "          }\n",
              "          quickchartButtonEl.classList.remove('colab-df-spinner');\n",
              "          quickchartButtonEl.classList.add('colab-df-quickchart-complete');\n",
              "        }\n",
              "        (() => {\n",
              "          let quickchartButtonEl =\n",
              "            document.querySelector('#df-ff07e5d1-4782-4974-99d4-d386b730c635 button');\n",
              "          quickchartButtonEl.style.display =\n",
              "            google.colab.kernel.accessAllowed ? 'block' : 'none';\n",
              "        })();\n",
              "      </script>\n",
              "    </div>\n",
              "\n",
              "    </div>\n",
              "  </div>\n"
            ],
            "application/vnd.google.colaboratory.intrinsic+json": {
              "type": "dataframe",
              "summary": "{\n  \"name\": \"df\",\n  \"rows\": 5,\n  \"fields\": [\n    {\n      \"column\": \"PassengerId\",\n      \"properties\": {\n        \"dtype\": \"number\",\n        \"std\": 1,\n        \"min\": 887,\n        \"max\": 891,\n        \"num_unique_values\": 5,\n        \"samples\": [\n          888,\n          891,\n          889\n        ],\n        \"semantic_type\": \"\",\n        \"description\": \"\"\n      }\n    },\n    {\n      \"column\": \"Survived\",\n      \"properties\": {\n        \"dtype\": \"number\",\n        \"std\": 0,\n        \"min\": 0,\n        \"max\": 1,\n        \"num_unique_values\": 2,\n        \"samples\": [\n          1,\n          0\n        ],\n        \"semantic_type\": \"\",\n        \"description\": \"\"\n      }\n    },\n    {\n      \"column\": \"Pclass\",\n      \"properties\": {\n        \"dtype\": \"number\",\n        \"std\": 1,\n        \"min\": 1,\n        \"max\": 3,\n        \"num_unique_values\": 3,\n        \"samples\": [\n          2,\n          1\n        ],\n        \"semantic_type\": \"\",\n        \"description\": \"\"\n      }\n    },\n    {\n      \"column\": \"Name\",\n      \"properties\": {\n        \"dtype\": \"string\",\n        \"num_unique_values\": 5,\n        \"samples\": [\n          \"Graham, Miss. Margaret Edith\",\n          \"Dooley, Mr. Patrick\"\n        ],\n        \"semantic_type\": \"\",\n        \"description\": \"\"\n      }\n    },\n    {\n      \"column\": \"Sex\",\n      \"properties\": {\n        \"dtype\": \"category\",\n        \"num_unique_values\": 2,\n        \"samples\": [\n          \"female\",\n          \"male\"\n        ],\n        \"semantic_type\": \"\",\n        \"description\": \"\"\n      }\n    },\n    {\n      \"column\": \"Age\",\n      \"properties\": {\n        \"dtype\": \"number\",\n        \"std\": 5.354126134736337,\n        \"min\": 19.0,\n        \"max\": 32.0,\n        \"num_unique_values\": 4,\n        \"samples\": [\n          19.0,\n          32.0\n        ],\n        \"semantic_type\": \"\",\n        \"description\": \"\"\n      }\n    },\n    {\n      \"column\": \"SibSp\",\n      \"properties\": {\n        \"dtype\": \"number\",\n        \"std\": 0,\n        \"min\": 0,\n        \"max\": 1,\n        \"num_unique_values\": 2,\n        \"samples\": [\n          1,\n          0\n        ],\n        \"semantic_type\": \"\",\n        \"description\": \"\"\n      }\n    },\n    {\n      \"column\": \"Parch\",\n      \"properties\": {\n        \"dtype\": \"number\",\n        \"std\": 0,\n        \"min\": 0,\n        \"max\": 2,\n        \"num_unique_values\": 2,\n        \"samples\": [\n          2,\n          0\n        ],\n        \"semantic_type\": \"\",\n        \"description\": \"\"\n      }\n    },\n    {\n      \"column\": \"Ticket\",\n      \"properties\": {\n        \"dtype\": \"string\",\n        \"num_unique_values\": 5,\n        \"samples\": [\n          \"112053\",\n          \"370376\"\n        ],\n        \"semantic_type\": \"\",\n        \"description\": \"\"\n      }\n    },\n    {\n      \"column\": \"Fare\",\n      \"properties\": {\n        \"dtype\": \"number\",\n        \"std\": 10.09253436952285,\n        \"min\": 7.75,\n        \"max\": 30.0,\n        \"num_unique_values\": 4,\n        \"samples\": [\n          30.0,\n          7.75\n        ],\n        \"semantic_type\": \"\",\n        \"description\": \"\"\n      }\n    },\n    {\n      \"column\": \"Cabin\",\n      \"properties\": {\n        \"dtype\": \"category\",\n        \"num_unique_values\": 2,\n        \"samples\": [\n          \"C148\",\n          \"B42\"\n        ],\n        \"semantic_type\": \"\",\n        \"description\": \"\"\n      }\n    },\n    {\n      \"column\": \"Embarked\",\n      \"properties\": {\n        \"dtype\": \"string\",\n        \"num_unique_values\": 3,\n        \"samples\": [\n          \"S\",\n          \"C\"\n        ],\n        \"semantic_type\": \"\",\n        \"description\": \"\"\n      }\n    }\n  ]\n}"
            }
          },
          "metadata": {},
          "execution_count": 15
        }
      ]
    },
    {
      "cell_type": "code",
      "source": [
        "df.dtypes  #kis type ka data hai yae batata hai"
      ],
      "metadata": {
        "colab": {
          "base_uri": "https://localhost:8080/",
          "height": 460
        },
        "id": "DJt7pO2CaYRf",
        "outputId": "0cfd8078-1700-4e66-84f7-8b8a007e13cb"
      },
      "execution_count": 17,
      "outputs": [
        {
          "output_type": "execute_result",
          "data": {
            "text/plain": [
              "PassengerId      int64\n",
              "Survived         int64\n",
              "Pclass           int64\n",
              "Name            object\n",
              "Sex             object\n",
              "Age            float64\n",
              "SibSp            int64\n",
              "Parch            int64\n",
              "Ticket          object\n",
              "Fare           float64\n",
              "Cabin           object\n",
              "Embarked        object\n",
              "dtype: object"
            ],
            "text/html": [
              "<div>\n",
              "<style scoped>\n",
              "    .dataframe tbody tr th:only-of-type {\n",
              "        vertical-align: middle;\n",
              "    }\n",
              "\n",
              "    .dataframe tbody tr th {\n",
              "        vertical-align: top;\n",
              "    }\n",
              "\n",
              "    .dataframe thead th {\n",
              "        text-align: right;\n",
              "    }\n",
              "</style>\n",
              "<table border=\"1\" class=\"dataframe\">\n",
              "  <thead>\n",
              "    <tr style=\"text-align: right;\">\n",
              "      <th></th>\n",
              "      <th>0</th>\n",
              "    </tr>\n",
              "  </thead>\n",
              "  <tbody>\n",
              "    <tr>\n",
              "      <th>PassengerId</th>\n",
              "      <td>int64</td>\n",
              "    </tr>\n",
              "    <tr>\n",
              "      <th>Survived</th>\n",
              "      <td>int64</td>\n",
              "    </tr>\n",
              "    <tr>\n",
              "      <th>Pclass</th>\n",
              "      <td>int64</td>\n",
              "    </tr>\n",
              "    <tr>\n",
              "      <th>Name</th>\n",
              "      <td>object</td>\n",
              "    </tr>\n",
              "    <tr>\n",
              "      <th>Sex</th>\n",
              "      <td>object</td>\n",
              "    </tr>\n",
              "    <tr>\n",
              "      <th>Age</th>\n",
              "      <td>float64</td>\n",
              "    </tr>\n",
              "    <tr>\n",
              "      <th>SibSp</th>\n",
              "      <td>int64</td>\n",
              "    </tr>\n",
              "    <tr>\n",
              "      <th>Parch</th>\n",
              "      <td>int64</td>\n",
              "    </tr>\n",
              "    <tr>\n",
              "      <th>Ticket</th>\n",
              "      <td>object</td>\n",
              "    </tr>\n",
              "    <tr>\n",
              "      <th>Fare</th>\n",
              "      <td>float64</td>\n",
              "    </tr>\n",
              "    <tr>\n",
              "      <th>Cabin</th>\n",
              "      <td>object</td>\n",
              "    </tr>\n",
              "    <tr>\n",
              "      <th>Embarked</th>\n",
              "      <td>object</td>\n",
              "    </tr>\n",
              "  </tbody>\n",
              "</table>\n",
              "</div><br><label><b>dtype:</b> object</label>"
            ]
          },
          "metadata": {},
          "execution_count": 17
        }
      ]
    }
  ],
  "metadata": {
    "colab": {
      "provenance": [],
      "authorship_tag": "ABX9TyMIsmpVthIHgvtl8YHxMqK7",
      "include_colab_link": true
    },
    "kernelspec": {
      "display_name": "Python 3",
      "name": "python3"
    },
    "language_info": {
      "name": "python"
    }
  },
  "nbformat": 4,
  "nbformat_minor": 0
}
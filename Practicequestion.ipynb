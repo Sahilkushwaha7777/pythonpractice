{
  "nbformat": 4,
  "nbformat_minor": 0,
  "metadata": {
    "colab": {
      "provenance": [],
      "authorship_tag": "ABX9TyPqhSr9Sa321cpq9Hoak/DG",
      "include_colab_link": true
    },
    "kernelspec": {
      "name": "python3",
      "display_name": "Python 3"
    },
    "language_info": {
      "name": "python"
    }
  },
  "cells": [
    {
      "cell_type": "markdown",
      "metadata": {
        "id": "view-in-github",
        "colab_type": "text"
      },
      "source": [
        "<a href=\"https://colab.research.google.com/github/Sahilkushwaha7777/pythonpractice/blob/main/Practicequestion.ipynb\" target=\"_parent\"><img src=\"https://colab.research.google.com/assets/colab-badge.svg\" alt=\"Open In Colab\"/></a>"
      ]
    },
    {
      "cell_type": "markdown",
      "source": [
        "Question 1:\n",
        "\n",
        "Imagine you are working on a customer management system, and you have first name and last name of a customer storedas separate variable, you are developing a customer management system for a retail store, In your database, you have the first name and last name of a customer stored as seperate variable: first_name=\"john\" and last_name=\"Doe\". how would you concatenate these strings to form the full name \"john Doe\" for the customer's profile"
      ],
      "metadata": {
        "id": "TUAl6OukKsHo"
      }
    },
    {
      "cell_type": "code",
      "execution_count": null,
      "metadata": {
        "colab": {
          "base_uri": "https://localhost:8080/"
        },
        "id": "zP-ERAuLKPuw",
        "outputId": "72375207-e4ce-4f3d-f605-40be2acbea30"
      },
      "outputs": [
        {
          "output_type": "stream",
          "name": "stdout",
          "text": [
            "john Doe\n"
          ]
        }
      ],
      "source": [
        "first_name= \"john\"\n",
        "last_name= \"Doe\"\n",
        "\n",
        "full_name= first_name+ \" \"+ last_name\n",
        "print(full_name)"
      ]
    },
    {
      "cell_type": "markdown",
      "source": [
        "Question 2:\n",
        "\n",
        "you have a variable with X with the value 5. How would you reassign X to have the value 10?"
      ],
      "metadata": {
        "id": "OCTAiqb1NYMc"
      }
    },
    {
      "cell_type": "code",
      "source": [
        "x=5\n",
        "print(\"before reassign =\", x)\n",
        "\n",
        "x=10\n",
        "print(\"after reassign =\", x)\n"
      ],
      "metadata": {
        "colab": {
          "base_uri": "https://localhost:8080/"
        },
        "id": "xDsvebVxNsNg",
        "outputId": "3e563110-14ce-4019-b37a-45a58415c5da"
      },
      "execution_count": null,
      "outputs": [
        {
          "output_type": "stream",
          "name": "stdout",
          "text": [
            "before reassign = 5\n",
            "after reassign = 10\n"
          ]
        }
      ]
    },
    {
      "cell_type": "markdown",
      "source": [
        "Question 3:\n",
        "\n",
        "You have a data containing two record: \"quantity\" and \"price per unit\". how would you use arithmetic operator to calculate the total cost for each item , also calculate the total cost? product_1, quantity-5, price_per_unit-rs250, product_2, quantity - 25, price per unit -rs 656, product_3, quantity - 34, price_per_unit - rs274"
      ],
      "metadata": {
        "id": "3iUacHE6U5I4"
      }
    },
    {
      "cell_type": "code",
      "source": [
        "#product_1\n",
        "quantity = 5\n",
        "price_per_unit = 250\n",
        "product_1 = quantity * price_per_unit\n",
        "print(\"total cost for product 1st :\",product_1 ,\"rs\")\n",
        "\n",
        "#product_2\n",
        "quantity = 25\n",
        "price_per_unit = 656\n",
        "product_2 = quantity * price_per_unit\n",
        "print(\"total cost for product 1st :\",product_2 ,\"rs\")\n",
        "\n",
        "#product_3\n",
        "quantity = 34\n",
        "price_per_unit = 274\n",
        "product_3 = quantity * price_per_unit\n",
        "print(\"total cost for product 1st :\",product_3 ,\"rs\")\n",
        "\n",
        "\n",
        "print(\"total cost custumer pay :\", product_1 + product_2 + product_3 ,\"rs\")"
      ],
      "metadata": {
        "colab": {
          "base_uri": "https://localhost:8080/"
        },
        "id": "QISCrfamWEXD",
        "outputId": "bc09d9d4-a0c2-493e-8bfb-7c1345117c70"
      },
      "execution_count": null,
      "outputs": [
        {
          "output_type": "stream",
          "name": "stdout",
          "text": [
            "total cost for product 1st : 1250 rs\n",
            "total cost for product 1st : 16400 rs\n",
            "total cost for product 1st : 9316 rs\n",
            "total cost custumer pay : 26966 rs\n"
          ]
        }
      ]
    },
    {
      "cell_type": "markdown",
      "source": [
        "Queation 4:\n",
        "\n",
        "In a finance based organisation, the task is to calculate the simple interest given the principal amount, interest rate, and time priod. the interst rate is 8%, the principal amount is Rs 15,00,000, and the time period is 3 years. Calculate the simple interest. also, the threshold amount is Rs 1,20,000. please check if the calculated interest is greater  or less than the threshold amount."
      ],
      "metadata": {
        "id": "oPxP6vVVYDQc"
      }
    },
    {
      "cell_type": "code",
      "source": [
        "interest_rate = 8\n",
        "principal_amount = 1500000\n",
        "time_period =3\n",
        "\n",
        "simple_interest = (interest_rate * principal_amount * time_period)/100\n",
        "\n",
        "print(\"simple interest: \", simple_interest)\n",
        "\n",
        "threshold_amount = 120000\n",
        "comparison = threshold_amount < simple_interest\n",
        "print(\"threshold amount less is\", comparison)"
      ],
      "metadata": {
        "colab": {
          "base_uri": "https://localhost:8080/"
        },
        "id": "FO8zEfNsZG0p",
        "outputId": "39a653ae-c183-4ef2-cbbb-aef1e48e9cc1"
      },
      "execution_count": null,
      "outputs": [
        {
          "output_type": "stream",
          "name": "stdout",
          "text": [
            "simple interest:  360000.0\n",
            "threshold amount less is True\n"
          ]
        }
      ]
    },
    {
      "cell_type": "markdown",
      "source": [
        "Question 5:\n",
        "\n",
        "Write a python program to calculate the area of circle with a radius of 12cm"
      ],
      "metadata": {
        "id": "xd6xfzncbu2_"
      }
    },
    {
      "cell_type": "code",
      "source": [
        "pi = 3.14\n",
        "rad = 12\n",
        "print(\"area of circle : \", pi * rad * rad)"
      ],
      "metadata": {
        "colab": {
          "base_uri": "https://localhost:8080/"
        },
        "id": "Du9UyZU0cFt4",
        "outputId": "f7814316-626c-4996-bb4d-6318b74cf2ca"
      },
      "execution_count": null,
      "outputs": [
        {
          "output_type": "stream",
          "name": "stdout",
          "text": [
            "area of circle :  452.15999999999997\n"
          ]
        }
      ]
    },
    {
      "cell_type": "markdown",
      "source": [
        "Question 6:\n",
        "\n",
        "In a game application , the player score is stored as afloating point number. however, for leaderboard display, you need to convert the score to an integer, How would you use the int() function to convert the player 's score from floating-point to integer format? pls solve this with code, player score = 1234.455"
      ],
      "metadata": {
        "id": "LhU2c6aAIQ70"
      }
    },
    {
      "cell_type": "code",
      "source": [
        "player_score = 1234.455\n",
        "print(\"the player score is\", int(player_score))"
      ],
      "metadata": {
        "colab": {
          "base_uri": "https://localhost:8080/"
        },
        "id": "P19hdrNNJHIz",
        "outputId": "2a51a292-783c-48f6-e27b-c6d81858a5cb"
      },
      "execution_count": null,
      "outputs": [
        {
          "output_type": "stream",
          "name": "stdout",
          "text": [
            "the player score is 1234\n"
          ]
        }
      ]
    },
    {
      "cell_type": "markdown",
      "source": [
        "Question 7:\n",
        "\n",
        "In a customer relationship management (CRM) system for a retail company, you have a database containing customer record. How would you  use the len() function to find the total number of customers in the database, allowing the company to track its customer base?\n",
        "\n",
        "\n",
        "customer_database = [\n",
        "    (1, 'john', 'john@example.com'),\n",
        "    (2, 'ram', 'ram@example.com'),\n",
        "    (3, 'shyam', 'shyam@example.com')\n",
        "                ]"
      ],
      "metadata": {
        "id": "rSTDKgyvJn60"
      }
    },
    {
      "cell_type": "code",
      "source": [
        "customer_database = [\n",
        "    (1, 'john', 'john@example.com'),\n",
        "    (2, 'ram', 'ram@example.com'),\n",
        "    (3, 'shyam', 'shyam@example.com')\n",
        "     ]\n",
        "print(\"total number of customer is\",len(customer_database))"
      ],
      "metadata": {
        "colab": {
          "base_uri": "https://localhost:8080/"
        },
        "id": "MNvn_85gLlR7",
        "outputId": "9c35f7d9-1417-440a-99df-57afc579536f"
      },
      "execution_count": null,
      "outputs": [
        {
          "output_type": "stream",
          "name": "stdout",
          "text": [
            "total number of customer is 3\n"
          ]
        }
      ]
    },
    {
      "cell_type": "markdown",
      "source": [
        "Question 8:\n",
        "\n",
        "In a finance based organisation, the task is to calculate the simple interest given the principal amount, interest rate, and time priod. the interst rate is 9.43567%, the principal amount is Rs 250,000, and the time period is 3 years. Calculate the simple interest. the final value should be an integer."
      ],
      "metadata": {
        "id": "gjhvGc2wMMzG"
      }
    },
    {
      "cell_type": "code",
      "source": [
        "p_amount = 250000\n",
        "i_rate = 9.43567\n",
        "t_period = 3\n",
        "\n",
        "simple_interest = (p_amount * i_rate * t_period)/100\n",
        "print(\"the simple interest is\", int(simple_interest))"
      ],
      "metadata": {
        "colab": {
          "base_uri": "https://localhost:8080/"
        },
        "id": "yjtAQkAFMb1x",
        "outputId": "210c3fe7-6d9a-4bc5-8aef-f9f1fcdd3c0f"
      },
      "execution_count": null,
      "outputs": [
        {
          "output_type": "stream",
          "name": "stdout",
          "text": [
            "the simple interest is 70767\n"
          ]
        }
      ]
    },
    {
      "cell_type": "markdown",
      "source": [
        "Question 9:\n",
        "\n",
        "As part of your role in a data-driven project, you need to take input from the user for their age, weight, and height. However, there's an issue: the user has entered their age as a negative number. You need to correct the age of the user, and after correcting the age, calculate their Basal Metabolic Rate (BMR) using the Harris-Benedict equation for men. Ensure that the final answer of BMR is an integer.\n",
        "\n",
        "Basal Metabolic Rate (BMR):\n",
        "\n",
        "Formula (Harris-Benedict equation for men):\n",
        "\n",
        "BMR = 88.362 + (13.397 * weight in kg) + (4.799* height in cm) - (5.677 * age in years)"
      ],
      "metadata": {
        "id": "Cqo67_FabMCk"
      }
    },
    {
      "cell_type": "code",
      "source": [
        "age=int(input(\"enter your age in year : \"))\n",
        "weight= int(input(\"enter your weight in kg : \"))\n",
        "height= int(input(\"enter your height in cm : \"))\n",
        "correct_age=abs(age)\n",
        "BMR = 88.362 + (13.397 * weight) + (4.799 * height) - (5.677 * age )\n",
        "print(\"BMR\",int(BMR))"
      ],
      "metadata": {
        "colab": {
          "base_uri": "https://localhost:8080/"
        },
        "id": "2a7gEV7HbTwi",
        "outputId": "078bdc2c-1b74-4226-b84a-63f602354b1d"
      },
      "execution_count": null,
      "outputs": [
        {
          "output_type": "stream",
          "name": "stdout",
          "text": [
            "enter your age in year : -20\n",
            "enter your weight in kg : 54\n",
            "enter your height in cm : 179\n",
            "BMR 1784\n"
          ]
        }
      ]
    },
    {
      "cell_type": "markdown",
      "source": [
        "Question 10:\n",
        "\n",
        "write a python code for hostel students, ask them to mention their course name and age. for 5 students and their avg age."
      ],
      "metadata": {
        "id": "Sy9gN9PPflOX"
      }
    },
    {
      "cell_type": "code",
      "source": [
        "name1 = input(\"enter your name : \")\n",
        "course1 = input(\"enter course name : \")\n",
        "age1 = int(input(\"enter your age in year : \"))\n",
        "\n",
        "name2 = input(\"enter your name : \")\n",
        "course2 = input(\"enter course name : \")\n",
        "age2 = int(input(\"enter your age in year :\"))\n",
        "\n",
        "name3 = input(\"enter your name : \")\n",
        "course3 = input(\"enter course name : \")\n",
        "age3 = int(input(\"enter your age in year : \"))\n",
        "name4 = input(\"enter your name : \")\n",
        "course4 = input(\"enter course name : \")\n",
        "age4 = int(input(\"enter your age in year : \"))\n",
        "\n",
        "name5 = input(\"enter your name : \")\n",
        "course5 = input(\"enter course name : \")\n",
        "age5 = int(input(\"enter your age in year : \"))\n",
        "\n",
        "avg_age = (age1 + age2 + age3 + age4 +age5)/5\n",
        "print(\"average age of 5 studen: \", avg_age)"
      ],
      "metadata": {
        "colab": {
          "base_uri": "https://localhost:8080/"
        },
        "id": "zeqk4EbJf-vL",
        "outputId": "940931f6-c749-43ae-bd6a-bcd84bb0d09e"
      },
      "execution_count": null,
      "outputs": [
        {
          "output_type": "stream",
          "name": "stdout",
          "text": [
            "enter your name : sahil\n",
            "enter course name : sahil\n",
            "enter your age in year : 23\n",
            "enter your name : dshai\n",
            "enter course name : sdfgd\n",
            "enter your age in year :34\n",
            "enter your name : wddfs\n",
            "enter course name : sfd\n",
            "enter your age in year : 34\n",
            "enter your name : fdvds\n",
            "enter course name : fdvvds\n",
            "enter your age in year : 11\n",
            "enter your name : dscds\n",
            "enter course name : sd c\n",
            "enter your age in year : 30\n",
            "average age of 5 studen:  26.4\n"
          ]
        }
      ]
    },
    {
      "cell_type": "markdown",
      "source": [
        "Question 11:\n",
        "\n",
        "You are developing a program for a math competition where participants need to solve mathematical expressions and provide the result.\n",
        "You want to use Python to automate the evaluation process.\n",
        "Here's how you could approach it:\n",
        "\n",
        "1) Take input from the participant to enter a mathematical expression\n",
        "\n",
        "2) evaluate the expression entered by the participant and obtain the result.\n",
        "\n",
        "3) Display the result to the participant."
      ],
      "metadata": {
        "id": "8054DBKNtjmA"
      }
    },
    {
      "cell_type": "code",
      "source": [
        "math_expression = input(\"enter your mathematical expression : \")\n",
        "solve =  eval(math_expression)\n",
        "print(\"the result of expression is : \",solve)\n",
        "print(\"partcipate END\")"
      ],
      "metadata": {
        "colab": {
          "base_uri": "https://localhost:8080/"
        },
        "id": "8ekEj2T6trf5",
        "outputId": "40a6d483-9dbf-44be-eee2-565f322f65aa"
      },
      "execution_count": null,
      "outputs": [
        {
          "output_type": "stream",
          "name": "stdout",
          "text": [
            "enter your mathematical expression : 2 * 7 + 10\n",
            "the result of expression is :  24\n",
            "partcipate END\n"
          ]
        }
      ]
    },
    {
      "cell_type": "markdown",
      "source": [
        "Question 12:\n",
        "\n",
        "Suppose you're analyzing a dataset containing information about house prices in a city. Each record includes details such as the house size (inquare feet), number of bedrooms, and price. You want to perform various calculations and manipulations on this dataset using Python.\n",
        "\n",
        "Answer the following questions:\n",
        "\n",
        "1) Ask the user 1 & 2 to enter house size, number of rooms they want and Check the data type user has entered\n",
        "\n",
        "2) Calculate the price of house, if per sq feet is Rs 5000.\n",
        "\n",
        "3) Threshold price is 75 lakh Rs, which user is paying the price above threshold price."
      ],
      "metadata": {
        "id": "KHpCX-hrvpSC"
      }
    },
    {
      "cell_type": "code",
      "source": [
        "#user_1\n",
        "\n",
        "house_size = float(input(\"enter house size user_1 in sq_feet : \"))\n",
        "no_of_room = int(input(\"enter no. of room user_1 : \"))\n",
        "print(\"housesize data type :\",type(house_size))\n",
        "calculate_price = house_size * 5000\n",
        "print(\"calculate price is\",calculate_price)\n",
        "threshold = 7500000\n",
        "check = calculate_price > threshold\n",
        "print(\"the price is above the threshold price : \",check)\n",
        "\n",
        "#user_2\n",
        "house_size_2 = float(input(\"enter house size user_2 in sq_feet : \"))\n",
        "no_of_room_2 = int(input(\"enter no. of room user_2 : \"))\n",
        "print(\"no.of room data type :\",type(no_of_room_2))\n",
        "calculate_price = house_size_2 * 5000\n",
        "print(\"calculate price is\",calculate_price)\n",
        "check = calculate_price > threshold\n",
        "print(\"the price is above the threshold price : \",check)"
      ],
      "metadata": {
        "colab": {
          "base_uri": "https://localhost:8080/"
        },
        "id": "zCyhB7exwA7r",
        "outputId": "64153952-5ca5-48aa-fe3b-7b1a996fd682"
      },
      "execution_count": null,
      "outputs": [
        {
          "output_type": "stream",
          "name": "stdout",
          "text": [
            "enter house size user_1 in sq_feet : 5000\n",
            "enter no. of room user_1 : 34\n",
            "housesize data type : <class 'float'>\n",
            "calculate price is 25000000.0\n",
            "the price is above the threshold price :  True\n",
            "enter house size user_2 in sq_feet : 300\n",
            "enter no. of room user_2 : 34\n",
            "no.of room data type : <class 'int'>\n",
            "calculate price is 1500000.0\n",
            "the price is above the threshold price :  False\n"
          ]
        }
      ]
    },
    {
      "cell_type": "markdown",
      "source": [
        "Question 13:\n",
        "\n",
        "You are working on a project to analyze stock market data. Create variables to store the stock symbol, current price, and percentage change in price. Then, calculate the new price after a 10% increase using arithmetic operators. Finally, prompt the user to enter their budget using the input() function, convert it to a float using the float() function, and compare it with the new price."
      ],
      "metadata": {
        "id": "0UhLSaQOo4AV"
      }
    },
    {
      "cell_type": "code",
      "source": [
        "stock_symbol = \"nifty\"\n",
        "current_price = 100\n",
        "chng_percentage = 10\n",
        "print(\"current price is\",current_price)\n",
        "\n",
        "new_price = (10/100+1)*current_price\n",
        "print(\"new price after : \",new_price)\n",
        "\n",
        "user_budget = input(\"enter your budget : \")\n",
        "abudget = float(user_budget)\n",
        "print(\"new price above the user budget : \",new_price >abudget)"
      ],
      "metadata": {
        "colab": {
          "base_uri": "https://localhost:8080/"
        },
        "id": "eSvFU3MIp5Bo",
        "outputId": "3636d338-62bd-43c7-e24c-487c55f5cb86"
      },
      "execution_count": null,
      "outputs": [
        {
          "output_type": "stream",
          "name": "stdout",
          "text": [
            "current price is 100\n",
            "new price after :  110.00000000000001\n",
            "enter your budget : 344\n",
            "new price above the user budget :  False\n"
          ]
        }
      ]
    },
    {
      "cell_type": "markdown",
      "source": [
        "Question 14:\n",
        "\n",
        "You are working on a project to analyze weather data.\n",
        "\n",
        "Create variables to store the current temperature,\n",
        "the minimum temperature recorded, and the maximum temperature recorded.\n",
        "\n",
        "Determine whether the current temperature is within the range of the minimum and maximum temperatures\n",
        "recorded using logical operators"
      ],
      "metadata": {
        "id": "lIcTCruFsZo8"
      }
    },
    {
      "cell_type": "code",
      "source": [
        "current_temp = int(input(\"enter the current temperature is : \"))\n",
        "minimum_temp = 15\n",
        "maximum_temp = 110\n",
        "\n",
        "check = minimum_temp < current_temp < maximum_temp\n",
        "\n",
        "print('the temperature in our range : ',check)"
      ],
      "metadata": {
        "colab": {
          "base_uri": "https://localhost:8080/"
        },
        "id": "BnWKj6ewsoJ9",
        "outputId": "20a13d68-d6da-4635-da7d-6f1ee337ac9a"
      },
      "execution_count": null,
      "outputs": [
        {
          "output_type": "stream",
          "name": "stdout",
          "text": [
            "enter the current temperature is : 23\n",
            "the temperature in our range :  True\n"
          ]
        }
      ]
    },
    {
      "cell_type": "markdown",
      "source": [
        "Question 15:\n",
        "\n",
        "Develop a temperature converter in Python for a cold storage that converts temperatures between Celsius and Fahrenheit scales.\n",
        "\n",
        "The program should take a temperature value and a unit (C or F) as input. If the temperature is less than 15 degrees Celsius, inform the user\n",
        "\n",
        "that the temperature is not convenient. If the temperature is between 24 to 28 degrees Celsius, inform the user that the temperature is convenient."
      ],
      "metadata": {
        "id": "fw18B9yvuWjd"
      }
    },
    {
      "cell_type": "code",
      "source": [
        "temp = float(input(\"enter the temperature : \"))\n",
        "if temp<15:\n",
        "  print(\"the temperature is not convenient\")\n",
        "if 24<=temp<=28:\n",
        "  print(\"the temperature is convenient\")"
      ],
      "metadata": {
        "colab": {
          "base_uri": "https://localhost:8080/"
        },
        "id": "BcN8vcej7wEd",
        "outputId": "5e794977-c740-4716-dc1c-1c7c53492e55"
      },
      "execution_count": null,
      "outputs": [
        {
          "output_type": "stream",
          "name": "stdout",
          "text": [
            "enter the temperature : 12\n",
            "the temperature is not convenient\n"
          ]
        }
      ]
    },
    {
      "cell_type": "markdown",
      "source": [
        "Question 15 :\n",
        "\n",
        "Write a program to check whether a person is eligible for voting or not"
      ],
      "metadata": {
        "id": "Gl4qSk249Pg1"
      }
    },
    {
      "cell_type": "code",
      "source": [
        "age = int(input(\"enter your age : \"))\n",
        "if age<18:\n",
        "  print(\"you are not eligible for vote\")\n",
        "else:\n",
        "  print(\"you are eligible for vote\")"
      ],
      "metadata": {
        "colab": {
          "base_uri": "https://localhost:8080/"
        },
        "id": "66enuqGF9XIY",
        "outputId": "4b22d9cf-b766-4ab8-8381-bbcb0cbf3877"
      },
      "execution_count": null,
      "outputs": [
        {
          "output_type": "stream",
          "name": "stdout",
          "text": [
            "enter your age : 12\n",
            "you are not eligible for vote\n"
          ]
        }
      ]
    },
    {
      "cell_type": "markdown",
      "source": [
        "Question 16:\n",
        "\n",
        "You are tasked with developing a Python program to manage employee salaries for a company. Your program should calculate the net salary of each employee based on their base salary, deductions, and bonuses. Additionally, employees who have been with the company for more than 5 years are eligible for an additional loyalty bonus, 8% of salary. Deductions of tax will be 12%\n",
        "\n",
        "Write a Python script that prompts the user to input the following information for each employee:\n",
        "\n",
        "Base salary\n",
        "\n",
        "Years of service\n",
        "\n",
        "After calculating the net salary, the program should print a summary for each employee including their base salary, deductions, bonuses, loyalty bonus (if applicable), and net salary."
      ],
      "metadata": {
        "id": "yMh-gwG-97qY"
      }
    },
    {
      "cell_type": "code",
      "source": [
        "employe = input(\"enter the employe name :\")\n",
        "base_salary = int(input(\"enter the base salary : \"))\n",
        "year = int(input(\"enter how many years to work this company :\"))\n",
        "if year > 5:\n",
        "  loyalty_bonus = (base_salary/100)*8\n",
        "  total_salary = base_salary + loyalty_bonus\n",
        "  tax = (total_salary/100)*12\n",
        "  net_salary = total_salary - tax\n",
        "else:\n",
        "  loyalty_bonus = 0\n",
        "  total_salary = base_salary + loyalty_bonus\n",
        "  tax = (total_salary/100)*12\n",
        "  net_salary = total_salary - tax\n",
        "print(\"employe name is \", employe)\n",
        "print(\"its base salary is \",base_salary)\n",
        "print(\" and loyalty bonus \",loyalty_bonus)\n",
        "print(\"tax which applied on the salary\" ,tax)\n",
        "print(\"final in hand salary is \", net_salary)"
      ],
      "metadata": {
        "colab": {
          "base_uri": "https://localhost:8080/"
        },
        "id": "NZyQP6Ku-D4r",
        "outputId": "871ef4bc-6ab9-4b56-c958-2499c4555a4a"
      },
      "execution_count": null,
      "outputs": [
        {
          "output_type": "stream",
          "name": "stdout",
          "text": [
            "enter the employe name :sahil kushwaha\n",
            "enter the base salary : 500000\n",
            "enter how many years to work this company :3\n",
            "employe name is  sahil kushwaha\n",
            "its base salary is  500000\n",
            " and loyalty bonus  0\n",
            "tax which applied on the salary 60000.0\n",
            "final in hand salary is  440000.0\n"
          ]
        }
      ]
    },
    {
      "cell_type": "markdown",
      "source": [
        "Question 17:\n",
        "\n",
        "Write a Python program that prompts the user to input a city and displays the famous monument of that city.\n",
        "\n",
        "Mumbai: Gateway of India\n",
        "\n",
        "Kolkata: Victoria Memorial\n",
        "\n",
        "Chennai: Marina Beach\n",
        "\n",
        "Bangalore: Botanical Garden\n",
        "\n",
        "Pune: Shaniwar Wada\n",
        "\n",
        "Write a Python script to implement this functionality."
      ],
      "metadata": {
        "id": "9CYOBGm2-Wlg"
      }
    },
    {
      "cell_type": "code",
      "source": [
        "a = int(input(\"\"\"enter the no. which city you want to visit\n",
        "1 FOR Mumbai:\n",
        "2 FOR Kolkata:\n",
        "3 FOR Chennai:\n",
        "4 FOR Bangalore:\n",
        "5 FOR Pune: : \"\"\"))\n",
        "print(\"-------------------------\")\n",
        "if a == 1:\n",
        "  print(\"Mumbai: Gateway of India\")\n",
        "elif a==2:\n",
        "  print(\"Kolkata: Victoria Memorial\")\n",
        "elif a==3:\n",
        "  print(\"Chennai: Marina Beach\")\n",
        "elif a==4:\n",
        "  print(\"Bangalore: Botanical Garden\")\n",
        "elif a==5:\n",
        "  print(\"Pune: Shaniwar Wada\")\n",
        "else:\n",
        "  print(\"invalid entry\")"
      ],
      "metadata": {
        "colab": {
          "base_uri": "https://localhost:8080/"
        },
        "id": "63CX9dbn-dDF",
        "outputId": "caa913f0-351a-44a1-b452-312fbd5956e3"
      },
      "execution_count": null,
      "outputs": [
        {
          "output_type": "stream",
          "name": "stdout",
          "text": [
            "enter the no. which city you want to visit\n",
            "1 FOR Mumbai:\n",
            "2 FOR Kolkata:\n",
            "3 FOR Chennai:\n",
            "4 FOR Bangalore:\n",
            "5 FOR Pune: : 4\n",
            "-------------------------\n",
            "Bangalore: Botanical Garden\n"
          ]
        }
      ]
    },
    {
      "cell_type": "markdown",
      "source": [
        "Question 18:\n",
        "\n",
        "Write a Python program to print all the even numbers between 1 and 50 using a while loop"
      ],
      "metadata": {
        "id": "TSkcXZsg-d5K"
      }
    },
    {
      "cell_type": "code",
      "source": [
        "for i in range(1,51):\n",
        "  if(i%2==0):\n",
        "     print(i)"
      ],
      "metadata": {
        "colab": {
          "base_uri": "https://localhost:8080/"
        },
        "id": "8zKHBCmJ-jWi",
        "outputId": "450ef64b-9066-4625-dc64-fe1a93ea25fa"
      },
      "execution_count": null,
      "outputs": [
        {
          "output_type": "stream",
          "name": "stdout",
          "text": [
            "2\n",
            "4\n",
            "6\n",
            "8\n",
            "10\n",
            "12\n",
            "14\n",
            "16\n",
            "18\n",
            "20\n",
            "22\n",
            "24\n",
            "26\n",
            "28\n",
            "30\n",
            "32\n",
            "34\n",
            "36\n",
            "38\n",
            "40\n",
            "42\n",
            "44\n",
            "46\n",
            "48\n",
            "50\n"
          ]
        }
      ]
    },
    {
      "cell_type": "markdown",
      "source": [
        "Question 19:\n",
        "\n",
        "You are tasked with validating user input for email addresses. Write a Python program that prompts the user to enter an email address. Use a while loop to iterate through the input and check if the email address contains an \"@\" symbol and a \".\" symbol. If the email address does not meet these criteria, print \"Invalid email address format. Please try again.\" Otherwise, print \"Email address validation passed"
      ],
      "metadata": {
        "id": "xIXL_CBB-kAc"
      }
    },
    {
      "cell_type": "code",
      "source": [
        "email = input(\"enter your valid mail\")\n",
        "if \"@\" in email and \".\" in email:\n",
        "  print(\"email is valid\")\n",
        "else:\n",
        "  print(\"email is not valid\")"
      ],
      "metadata": {
        "colab": {
          "base_uri": "https://localhost:8080/"
        },
        "id": "zwCfyGz3-q5K",
        "outputId": "4b394522-a554-47b6-d76c-01a527309319"
      },
      "execution_count": null,
      "outputs": [
        {
          "output_type": "stream",
          "name": "stdout",
          "text": [
            "enter your valid mailsahil@gamail.com\n",
            "email is valid\n"
          ]
        }
      ]
    },
    {
      "cell_type": "markdown",
      "source": [
        "Question 20:\n",
        "\n",
        "write a python program for print a table 1 to 10."
      ],
      "metadata": {
        "id": "ebMpoKHm-rg1"
      }
    },
    {
      "cell_type": "code",
      "source": [
        "for i in range(11):\n",
        "  for j in range(1,11):\n",
        "    print(i,\"*\",j ,\"=\" ,i*j)\n",
        "  print(\"_________________\")"
      ],
      "metadata": {
        "colab": {
          "base_uri": "https://localhost:8080/"
        },
        "id": "uhqVmKbWN7Sm",
        "outputId": "58aad676-fb5f-4beb-f39b-5b49984a08d0"
      },
      "execution_count": null,
      "outputs": [
        {
          "output_type": "stream",
          "name": "stdout",
          "text": [
            "0 * 1 = 0\n",
            "0 * 2 = 0\n",
            "0 * 3 = 0\n",
            "0 * 4 = 0\n",
            "0 * 5 = 0\n",
            "0 * 6 = 0\n",
            "0 * 7 = 0\n",
            "0 * 8 = 0\n",
            "0 * 9 = 0\n",
            "0 * 10 = 0\n",
            "_________________\n",
            "1 * 1 = 1\n",
            "1 * 2 = 2\n",
            "1 * 3 = 3\n",
            "1 * 4 = 4\n",
            "1 * 5 = 5\n",
            "1 * 6 = 6\n",
            "1 * 7 = 7\n",
            "1 * 8 = 8\n",
            "1 * 9 = 9\n",
            "1 * 10 = 10\n",
            "_________________\n",
            "2 * 1 = 2\n",
            "2 * 2 = 4\n",
            "2 * 3 = 6\n",
            "2 * 4 = 8\n",
            "2 * 5 = 10\n",
            "2 * 6 = 12\n",
            "2 * 7 = 14\n",
            "2 * 8 = 16\n",
            "2 * 9 = 18\n",
            "2 * 10 = 20\n",
            "_________________\n",
            "3 * 1 = 3\n",
            "3 * 2 = 6\n",
            "3 * 3 = 9\n",
            "3 * 4 = 12\n",
            "3 * 5 = 15\n",
            "3 * 6 = 18\n",
            "3 * 7 = 21\n",
            "3 * 8 = 24\n",
            "3 * 9 = 27\n",
            "3 * 10 = 30\n",
            "_________________\n",
            "4 * 1 = 4\n",
            "4 * 2 = 8\n",
            "4 * 3 = 12\n",
            "4 * 4 = 16\n",
            "4 * 5 = 20\n",
            "4 * 6 = 24\n",
            "4 * 7 = 28\n",
            "4 * 8 = 32\n",
            "4 * 9 = 36\n",
            "4 * 10 = 40\n",
            "_________________\n",
            "5 * 1 = 5\n",
            "5 * 2 = 10\n",
            "5 * 3 = 15\n",
            "5 * 4 = 20\n",
            "5 * 5 = 25\n",
            "5 * 6 = 30\n",
            "5 * 7 = 35\n",
            "5 * 8 = 40\n",
            "5 * 9 = 45\n",
            "5 * 10 = 50\n",
            "_________________\n",
            "6 * 1 = 6\n",
            "6 * 2 = 12\n",
            "6 * 3 = 18\n",
            "6 * 4 = 24\n",
            "6 * 5 = 30\n",
            "6 * 6 = 36\n",
            "6 * 7 = 42\n",
            "6 * 8 = 48\n",
            "6 * 9 = 54\n",
            "6 * 10 = 60\n",
            "_________________\n",
            "7 * 1 = 7\n",
            "7 * 2 = 14\n",
            "7 * 3 = 21\n",
            "7 * 4 = 28\n",
            "7 * 5 = 35\n",
            "7 * 6 = 42\n",
            "7 * 7 = 49\n",
            "7 * 8 = 56\n",
            "7 * 9 = 63\n",
            "7 * 10 = 70\n",
            "_________________\n",
            "8 * 1 = 8\n",
            "8 * 2 = 16\n",
            "8 * 3 = 24\n",
            "8 * 4 = 32\n",
            "8 * 5 = 40\n",
            "8 * 6 = 48\n",
            "8 * 7 = 56\n",
            "8 * 8 = 64\n",
            "8 * 9 = 72\n",
            "8 * 10 = 80\n",
            "_________________\n",
            "9 * 1 = 9\n",
            "9 * 2 = 18\n",
            "9 * 3 = 27\n",
            "9 * 4 = 36\n",
            "9 * 5 = 45\n",
            "9 * 6 = 54\n",
            "9 * 7 = 63\n",
            "9 * 8 = 72\n",
            "9 * 9 = 81\n",
            "9 * 10 = 90\n",
            "_________________\n",
            "10 * 1 = 10\n",
            "10 * 2 = 20\n",
            "10 * 3 = 30\n",
            "10 * 4 = 40\n",
            "10 * 5 = 50\n",
            "10 * 6 = 60\n",
            "10 * 7 = 70\n",
            "10 * 8 = 80\n",
            "10 * 9 = 90\n",
            "10 * 10 = 100\n",
            "_________________\n"
          ]
        }
      ]
    },
    {
      "cell_type": "markdown",
      "source": [
        "Question 21:\n",
        "\n",
        "You are tasked with creating a program to assist shoppers in calculating their total bill at a grocery store. The store offers discounts based on the total purchase amount. Your task is to implement a Python program that takes the price of each item purchased and calculates the total bill, including any applicable discounts.\n",
        "\n",
        "The store offers the following discount rates based on the total purchase amount:\n",
        "\n",
        "If the total purchase amount is $100 or more, the customer receives a 10% discount.\n",
        "\n",
        "If the total purchase amount is between $50 and $99.99, the customer receives a 5% discount.\n",
        "If the total purchase amount is less than $50, no discount is applied.\n",
        "\n",
        "Write a Python program to prompt the user to enter the prices of the items they purchased. Use a for loop to iterate through the prices entered and calculate the subtotal. Apply the appropriate discount based on the total purchase amount using if-else statements. Finally, print out the subtotal, discount amount (if any), and the total bill after applying the discount."
      ],
      "metadata": {
        "id": "EXhmBaapPI8c"
      }
    },
    {
      "cell_type": "code",
      "source": [
        "item = int(input(\"enter the no. of item : \"))\n",
        "total_bill = 0\n",
        "for i in range(item):\n",
        "  price = float(input(\"enter the price of item : \"))\n",
        "  total_bill = total_bill + price\n",
        "print(\"the total bill is :\", total_bill)\n",
        "if total_bill > 100:\n",
        "      discount = (total_bill/100)*10\n",
        "      total_bill -= discount\n",
        "      print(\"discount amount applied in your bill :\",discount)\n",
        "      print(\"final amount which you paid :\",total_bill)\n",
        "elif 50 <= total_bill and total_bill <= 99.99:\n",
        "      discount = (total_bill/100)*5\n",
        "      total_bill -= discount\n",
        "      print(\"discount amount applied in your bill :\",discount)\n",
        "      print(\"final amount which you paid :\",total_bill)\n",
        "else:\n",
        "  print(\"you are not applicable for discount\")\n",
        "  print(\"final amount which you paid :\",total_bill)"
      ],
      "metadata": {
        "id": "U78ez1J1Qe7e",
        "colab": {
          "base_uri": "https://localhost:8080/"
        },
        "outputId": "d4d13702-600d-491e-8741-a1059ef30c70"
      },
      "execution_count": null,
      "outputs": [
        {
          "output_type": "stream",
          "name": "stdout",
          "text": [
            "enter the no. of item : 5\n",
            "enter the price of item : 123\n",
            "enter the price of item : 23\n",
            "enter the price of item : 2\n",
            "enter the price of item : 3\n",
            "enter the price of item : 3\n",
            "the total bill is : 154.0\n",
            "discount amount applied in your bill : 15.4\n",
            "final amount which you paid : 138.6\n"
          ]
        }
      ]
    },
    {
      "cell_type": "markdown",
      "source": [
        "Question 22:\n",
        "\n",
        "Write a user-defined function to process the exam scores and calculate the following statistics:\n",
        "\n",
        "The average exam score.\n",
        "The highest exam score.\n",
        "The lowest exam score.\n",
        "The number of students who passed the exam (assuming a passing score is 80 or above).\n",
        "The number of students who failed the exam.\n",
        "\n",
        "exam_scores = [85, 92, 78, 90, 88, 95, 82, 79, 87, 91]"
      ],
      "metadata": {
        "id": "wmBxSPUP3Wk6"
      }
    },
    {
      "cell_type": "code",
      "source": [
        "def exam(exam_score):\n",
        "  average = sum(exam_score)/len(exam_score)\n",
        "  highest = max(exam_score)\n",
        "  lowest = min(exam_score)\n",
        "  len_exam = len(exam_score)\n",
        "  passed = 0\n",
        "  for i in range(len_exam):\n",
        "    if exam_score[i]>=80:\n",
        "      passed = passed + 1\n",
        "  failed = len(exam_score) - passed\n",
        "  return average, highest, lowest, passed, failed"
      ],
      "metadata": {
        "id": "cZz-oOCV3fKH"
      },
      "execution_count": null,
      "outputs": []
    },
    {
      "cell_type": "code",
      "source": [
        "\n",
        "exam_scores = [85, 92, 78, 90, 88, 95, 82, 79, 87, 91]\n",
        "average, highest, lowest, passed, failed = exam(exam_scores)\n",
        "print(\"average score : \",average)\n",
        "print(\"highest score : \",highest)\n",
        "print(\"lowest score : \",lowest)\n",
        "print(\"no. of student passed : \",passed)\n",
        "print(\"no. of student failed : \",failed)"
      ],
      "metadata": {
        "colab": {
          "base_uri": "https://localhost:8080/"
        },
        "id": "oysP37rq6nrs",
        "outputId": "326ba323-9987-489f-ac5c-22b9f7ea85f6"
      },
      "execution_count": null,
      "outputs": [
        {
          "output_type": "stream",
          "name": "stdout",
          "text": [
            "average score :  86.7\n",
            "highest score :  95\n",
            "lowest score :  78\n",
            "no. of student passed :  8\n",
            "no. of student failed :  2\n"
          ]
        }
      ]
    },
    {
      "cell_type": "markdown",
      "source": [
        "Question 23:\n",
        "\n",
        "You are given a dataset of student grades and need to determine the grade distribution.\n",
        "\n",
        "Question: Write a Python function\n",
        "\n",
        "grade_distribution (grades) that takes a list of integers representing student grades (0-100). Use a loop to count the number of grades in each grade category:\n",
        "\n",
        "'Α' (90-100), 'B' (80-89), 'C' (70-79), 'D' (60-69), and 'F' (below 60).\n",
        "\n",
        "Use if-elif-else statements within the loop to categorize the grades.\n",
        "\n",
        "Return a dictionary with the counts of each grade category."
      ],
      "metadata": {
        "id": "HYE8ei4RSTNF"
      }
    },
    {
      "cell_type": "code",
      "source": [
        "def grade_distribution(grades):\n",
        "  for grade in grades:\n",
        "    if grade >= 90 and grade <=100:\n",
        "      print(\"its student grade is : A\")\n",
        "    elif grade >= 80 and grade <=89:\n",
        "      print(\"its student grade is : B\")\n",
        "    elif grade >= 70 and grade <=79:\n",
        "      print(\"its student grade is : C\")\n",
        "    elif grade >= 60 and grade <=69:\n",
        "      print(\"its student grade is : D\")\n",
        "    elif grade < 60:\n",
        "      print(\"its student grade is : E\")\n",
        "    else:\n",
        "      print(\"invalid entry\")\n",
        "  return"
      ],
      "metadata": {
        "id": "o0AqYR4balp7"
      },
      "execution_count": 3,
      "outputs": []
    },
    {
      "cell_type": "code",
      "source": [
        "grades = [89,34,98,43,78,98,50,90]\n",
        "grade_distribution(grades)"
      ],
      "metadata": {
        "colab": {
          "base_uri": "https://localhost:8080/"
        },
        "id": "s1TL1J1udd20",
        "outputId": "65f27751-6a22-4762-b35c-f59c2b771f33"
      },
      "execution_count": 4,
      "outputs": [
        {
          "output_type": "stream",
          "name": "stdout",
          "text": [
            "its student grade is : B\n",
            "its student grade is : E\n",
            "its student grade is : A\n",
            "its student grade is : E\n",
            "its student grade is : C\n",
            "its student grade is : A\n",
            "its student grade is : E\n",
            "its student grade is : A\n"
          ]
        }
      ]
    },
    {
      "cell_type": "markdown",
      "source": [],
      "metadata": {
        "id": "m0dkDMsvetDh"
      }
    }
  ]
}
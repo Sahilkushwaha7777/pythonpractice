{
  "nbformat": 4,
  "nbformat_minor": 0,
  "metadata": {
    "colab": {
      "provenance": [],
      "authorship_tag": "ABX9TyPHlK93cE+iBPXa4IXW0Sog",
      "include_colab_link": true
    },
    "kernelspec": {
      "name": "python3",
      "display_name": "Python 3"
    },
    "language_info": {
      "name": "python"
    }
  },
  "cells": [
    {
      "cell_type": "markdown",
      "metadata": {
        "id": "view-in-github",
        "colab_type": "text"
      },
      "source": [
        "<a href=\"https://colab.research.google.com/github/Sahilkushwaha7777/pythonpractice/blob/main/Practicequestion.ipynb\" target=\"_parent\"><img src=\"https://colab.research.google.com/assets/colab-badge.svg\" alt=\"Open In Colab\"/></a>"
      ]
    },
    {
      "cell_type": "markdown",
      "source": [
        "Question 1:\n",
        "\n",
        "Imagine you are working on a customer management system, and you have first name and last name of a customer storedas separate variable, you are developing a customer management system for a retail store, In your database, you have the first name and last name of a customer stored as seperate variable: first_name=\"john\" and last_name=\"Doe\". how would you concatenate these strings to form the full name \"john Doe\" for the customer's profile"
      ],
      "metadata": {
        "id": "TUAl6OukKsHo"
      }
    },
    {
      "cell_type": "code",
      "execution_count": null,
      "metadata": {
        "colab": {
          "base_uri": "https://localhost:8080/"
        },
        "id": "zP-ERAuLKPuw",
        "outputId": "72375207-e4ce-4f3d-f605-40be2acbea30"
      },
      "outputs": [
        {
          "output_type": "stream",
          "name": "stdout",
          "text": [
            "john Doe\n"
          ]
        }
      ],
      "source": [
        "first_name= \"john\"\n",
        "last_name= \"Doe\"\n",
        "\n",
        "full_name= first_name+ \" \"+ last_name\n",
        "print(full_name)\n"
      ]
    },
    {
      "cell_type": "markdown",
      "source": [
        "Question 2:\n",
        "\n",
        "you have a variable with X with the value 5. How would you reassign X to have the value 10?"
      ],
      "metadata": {
        "id": "OCTAiqb1NYMc"
      }
    },
    {
      "cell_type": "code",
      "source": [
        "x=5\n",
        "print(\"before reassign =\", x)\n",
        "\n",
        "x=10\n",
        "print(\"after reassign =\", x)\n"
      ],
      "metadata": {
        "colab": {
          "base_uri": "https://localhost:8080/"
        },
        "id": "xDsvebVxNsNg",
        "outputId": "3e563110-14ce-4019-b37a-45a58415c5da"
      },
      "execution_count": 1,
      "outputs": [
        {
          "output_type": "stream",
          "name": "stdout",
          "text": [
            "before reassign = 5\n",
            "after reassign = 10\n"
          ]
        }
      ]
    },
    {
      "cell_type": "markdown",
      "source": [
        "Question 3:\n",
        "\n",
        "You have a data containing two record: \"quantity\" and \"price per unit\". how would you use arithmetic operator to calculate the total cost for each item , also calculate the total cost? product_1, quantity-5, price_per_unit-rs250, product_2, quantity - 25, price per unit -rs 656, product_3, quantity - 34, price_per_unit - rs274"
      ],
      "metadata": {
        "id": "3iUacHE6U5I4"
      }
    },
    {
      "cell_type": "code",
      "source": [
        "#product_1\n",
        "quantity = 5\n",
        "price_per_unit = 250\n",
        "product_1 = quantity * price_per_unit\n",
        "print(\"total cost for product 1st :\",product_1 ,\"rs\")\n",
        "\n",
        "#product_2\n",
        "quantity = 25\n",
        "price_per_unit = 656\n",
        "product_2 = quantity * price_per_unit\n",
        "print(\"total cost for product 1st :\",product_2 ,\"rs\")\n",
        "\n",
        "#product_3\n",
        "quantity = 34\n",
        "price_per_unit = 274\n",
        "product_3 = quantity * price_per_unit\n",
        "print(\"total cost for product 1st :\",product_3 ,\"rs\")\n",
        "\n",
        "\n",
        "print(\"total cost custumer pay :\", product_1 + product_2 + product_3 ,\"rs\")"
      ],
      "metadata": {
        "colab": {
          "base_uri": "https://localhost:8080/"
        },
        "id": "QISCrfamWEXD",
        "outputId": "bc09d9d4-a0c2-493e-8bfb-7c1345117c70"
      },
      "execution_count": 4,
      "outputs": [
        {
          "output_type": "stream",
          "name": "stdout",
          "text": [
            "total cost for product 1st : 1250 rs\n",
            "total cost for product 1st : 16400 rs\n",
            "total cost for product 1st : 9316 rs\n",
            "total cost custumer pay : 26966 rs\n"
          ]
        }
      ]
    },
    {
      "cell_type": "markdown",
      "source": [
        "Queation 4:\n",
        "\n",
        "In a finance based organisation, the task is to calculate the simple interest given the principal amount, interest rate, and time priod. the interst rate is 8%, the principal amount is Rs 15,00,000, and the time period is 3 years. Calculate the simple interest. also, the threshold amount is Rs 1,20,000. please check if the calculated interest is greater  or less than the threshold amount."
      ],
      "metadata": {
        "id": "oPxP6vVVYDQc"
      }
    },
    {
      "cell_type": "code",
      "source": [
        "interest_rate = 8\n",
        "principal_amount = 1500000\n",
        "time_period =3\n",
        "\n",
        "simple_interest = (interest_rate * principal_amount * time_period)/100\n",
        "\n",
        "print(\"simple interest: \", simple_interest)\n",
        "\n",
        "threshold_amount = 120000\n",
        "comparison = threshold_amount < simple_interest\n",
        "print(\"threshold amount less is\", comparison)"
      ],
      "metadata": {
        "colab": {
          "base_uri": "https://localhost:8080/"
        },
        "id": "FO8zEfNsZG0p",
        "outputId": "39a653ae-c183-4ef2-cbbb-aef1e48e9cc1"
      },
      "execution_count": 8,
      "outputs": [
        {
          "output_type": "stream",
          "name": "stdout",
          "text": [
            "simple interest:  360000.0\n",
            "threshold amount less is True\n"
          ]
        }
      ]
    },
    {
      "cell_type": "markdown",
      "source": [
        "Question 5:\n",
        "\n",
        "Write a python program to calculate the area of circle with a radius of 12cm"
      ],
      "metadata": {
        "id": "xd6xfzncbu2_"
      }
    },
    {
      "cell_type": "code",
      "source": [
        "pi = 3.14\n",
        "rad = 12\n",
        "print(\"area of circle : \", pi * rad * rad)"
      ],
      "metadata": {
        "colab": {
          "base_uri": "https://localhost:8080/"
        },
        "id": "Du9UyZU0cFt4",
        "outputId": "f7814316-626c-4996-bb4d-6318b74cf2ca"
      },
      "execution_count": 9,
      "outputs": [
        {
          "output_type": "stream",
          "name": "stdout",
          "text": [
            "area of circle :  452.15999999999997\n"
          ]
        }
      ]
    }
  ]
}
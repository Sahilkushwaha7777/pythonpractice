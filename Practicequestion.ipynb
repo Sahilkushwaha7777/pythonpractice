{
  "nbformat": 4,
  "nbformat_minor": 0,
  "metadata": {
    "colab": {
      "provenance": [],
      "authorship_tag": "ABX9TyP4a4mKNSbRk0V0Mp5jeaYp",
      "include_colab_link": true
    },
    "kernelspec": {
      "name": "python3",
      "display_name": "Python 3"
    },
    "language_info": {
      "name": "python"
    }
  },
  "cells": [
    {
      "cell_type": "markdown",
      "metadata": {
        "id": "view-in-github",
        "colab_type": "text"
      },
      "source": [
        "<a href=\"https://colab.research.google.com/github/Sahilkushwaha7777/pythonpractice/blob/main/Practicequestion.ipynb\" target=\"_parent\"><img src=\"https://colab.research.google.com/assets/colab-badge.svg\" alt=\"Open In Colab\"/></a>"
      ]
    },
    {
      "cell_type": "markdown",
      "source": [
        "Question 1:\n",
        "\n",
        "Imagine you are working on a customer management system, and you have first name and last name of a customer storedas separate variable, you are developing a customer management system for a retail store, In your database, you have the first name and last name of a customer stored as seperate variable: first_name=\"john\" and last_name=\"Doe\". how would you concatenate these strings to form the full name \"john Doe\" for the customer's profile"
      ],
      "metadata": {
        "id": "TUAl6OukKsHo"
      }
    },
    {
      "cell_type": "code",
      "execution_count": 2,
      "metadata": {
        "colab": {
          "base_uri": "https://localhost:8080/"
        },
        "id": "zP-ERAuLKPuw",
        "outputId": "72375207-e4ce-4f3d-f605-40be2acbea30"
      },
      "outputs": [
        {
          "output_type": "stream",
          "name": "stdout",
          "text": [
            "john Doe\n"
          ]
        }
      ],
      "source": [
        "first_name= \"john\"\n",
        "last_name= \"Doe\"\n",
        "\n",
        "full_name= first_name+ \" \"+ last_name\n",
        "print(full_name)\n"
      ]
    }
  ]
}
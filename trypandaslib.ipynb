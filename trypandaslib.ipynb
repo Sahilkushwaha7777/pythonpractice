{
  "nbformat": 4,
  "nbformat_minor": 0,
  "metadata": {
    "colab": {
      "provenance": [],
      "authorship_tag": "ABX9TyP8TJvENupWJ8G1bKLGGz8T",
      "include_colab_link": true
    },
    "kernelspec": {
      "name": "python3",
      "display_name": "Python 3"
    },
    "language_info": {
      "name": "python"
    }
  },
  "cells": [
    {
      "cell_type": "markdown",
      "metadata": {
        "id": "view-in-github",
        "colab_type": "text"
      },
      "source": [
        "<a href=\"https://colab.research.google.com/github/Sahilkushwaha7777/pythonpractice/blob/main/trypandaslib.ipynb\" target=\"_parent\"><img src=\"https://colab.research.google.com/assets/colab-badge.svg\" alt=\"Open In Colab\"/></a>"
      ]
    },
    {
      "cell_type": "code",
      "execution_count": 4,
      "metadata": {
        "colab": {
          "base_uri": "https://localhost:8080/"
        },
        "id": "u2JKJddjARgv",
        "outputId": "0ff89387-23a9-4f65-876e-90827868241a"
      },
      "outputs": [
        {
          "output_type": "stream",
          "name": "stdout",
          "text": [
            "series = \n",
            " 0     50\n",
            "1    100\n",
            "2    150\n",
            "3    200\n",
            "4    250\n",
            "5    300\n",
            "dtype: int64\n"
          ]
        }
      ],
      "source": [
        "import pandas as pd\n",
        "\n",
        "mylist = [50, 100, 150, 200, 250, 300]\n",
        "\n",
        "res = pd.Series(mylist)\n",
        "\n",
        "print(\"series = \\n\", res)"
      ]
    }
  ]
}